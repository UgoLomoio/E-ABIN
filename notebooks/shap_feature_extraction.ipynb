{
 "cells": [
  {
   "cell_type": "code",
   "execution_count": 64,
   "id": "959b3f28-d19a-4ab8-ac25-93cdc8123f66",
   "metadata": {},
   "outputs": [],
   "source": [
    "import sys\n",
    "import os\n",
    "sys.path.append(os.path.dirname(os.getcwd()))\n",
    "cwd = os.getcwd()\n",
    "sep = os.sep\n",
    "\n",
    "# Now you can import\n",
    "from adin.ml import baselineComparison, train_test_split, models_roc_curves, create_results_df, explain_model\n",
    "from adin.dl import plot_cm"
   ]
  },
  {
   "cell_type": "code",
   "execution_count": 66,
   "id": "bad5b542-b335-45a5-8532-958571ff86f3",
   "metadata": {},
   "outputs": [
    {
     "name": "stdout",
     "output_type": "stream",
     "text": [
      "SETTING DETERMINISTIC MODE FOR REPRODUCIBILITY, SEED: 0\n"
     ]
    }
   ],
   "source": [
    "import torch \n",
    "from adin.utils import set_seed \n",
    "\n",
    "def set_deterministic(seed):\n",
    "    global current_seed\n",
    "    global is_deterministic\n",
    "\n",
    "    #FOR REPRODUCIBILITY:\n",
    "    print(f\"SETTING DETERMINISTIC MODE FOR REPRODUCIBILITY, SEED: {seed}\")\n",
    "    os.environ[\"CUBLAS_WORKSPACE_CONFIG\"]=\":16:8\"\n",
    "    torch.use_deterministic_algorithms(True)\n",
    "    set_seed(seed)\n",
    "    current_seed = seed \n",
    "    is_deterministic = True\n",
    "\n",
    "set_deterministic(0)"
   ]
  },
  {
   "cell_type": "code",
   "execution_count": 4,
   "id": "9e2ec801-6586-41c3-b536-46556f553dee",
   "metadata": {},
   "outputs": [
    {
     "data": {
      "text/plain": [
       "<adin.ml_config.ML_config at 0x1fcfa38d130>"
      ]
     },
     "execution_count": 4,
     "metadata": {},
     "output_type": "execute_result"
    }
   ],
   "source": [
    "from adin import ml_config\n",
    "ml_params = ml_config.ML_config(\"lbfgs\", \"l2\", 100, \"linear\", 1.0, 5, \"euclidean\", 100, -1, -1, 2, 0.7, 5)\n",
    "ml_params"
   ]
  },
  {
   "cell_type": "code",
   "execution_count": 5,
   "id": "6e4cbe7a-aefc-4f26-8bad-7034238c7e7c",
   "metadata": {},
   "outputs": [
    {
     "data": {
      "text/plain": [
       "'C:\\\\Users\\\\Utente\\\\Desktop\\\\E-ABIN\\\\'"
      ]
     },
     "execution_count": 5,
     "metadata": {},
     "output_type": "execute_result"
    }
   ],
   "source": [
    "pardir = cwd.split(sep)[:-1]\n",
    "pardir_str = \"\"\n",
    "for elem in pardir:\n",
    "    pardir_str += elem + sep \n",
    "pardir = pardir_str\n",
    "pardir"
   ]
  },
  {
   "cell_type": "code",
   "execution_count": 6,
   "id": "0c67fd2c-196c-4f52-9adf-44b8fecbf6a4",
   "metadata": {},
   "outputs": [
    {
     "data": {
      "text/html": [
       "<div>\n",
       "<style scoped>\n",
       "    .dataframe tbody tr th:only-of-type {\n",
       "        vertical-align: middle;\n",
       "    }\n",
       "\n",
       "    .dataframe tbody tr th {\n",
       "        vertical-align: top;\n",
       "    }\n",
       "\n",
       "    .dataframe thead th {\n",
       "        text-align: right;\n",
       "    }\n",
       "</style>\n",
       "<table border=\"1\" class=\"dataframe\">\n",
       "  <thead>\n",
       "    <tr style=\"text-align: right;\">\n",
       "      <th></th>\n",
       "      <th>DDR1 /// MIR4640</th>\n",
       "      <th>RFC2</th>\n",
       "      <th>HSPA6</th>\n",
       "      <th>PAX8</th>\n",
       "      <th>GUCA1A</th>\n",
       "      <th>MIR5193 /// UBA7</th>\n",
       "      <th>THRA</th>\n",
       "      <th>PTPN21</th>\n",
       "      <th>CCL5</th>\n",
       "      <th>CYP2E1</th>\n",
       "      <th>...</th>\n",
       "      <th>ACTB.3</th>\n",
       "      <th>ACTB.4</th>\n",
       "      <th>GAPDH.3</th>\n",
       "      <th>GAPDH.4</th>\n",
       "      <th>GAPDH.5</th>\n",
       "      <th>STAT1.2</th>\n",
       "      <th>STAT1.3</th>\n",
       "      <th>STAT1.4</th>\n",
       "      <th>STAT1.5</th>\n",
       "      <th>Target</th>\n",
       "    </tr>\n",
       "  </thead>\n",
       "  <tbody>\n",
       "    <tr>\n",
       "      <th>GSM153404</th>\n",
       "      <td>114.5</td>\n",
       "      <td>64.4</td>\n",
       "      <td>206.3</td>\n",
       "      <td>507.0</td>\n",
       "      <td>34.5</td>\n",
       "      <td>135.3</td>\n",
       "      <td>75.1</td>\n",
       "      <td>4.6</td>\n",
       "      <td>780.1</td>\n",
       "      <td>5.2</td>\n",
       "      <td>...</td>\n",
       "      <td>3407.2</td>\n",
       "      <td>4776.4</td>\n",
       "      <td>1892.7</td>\n",
       "      <td>1484.3</td>\n",
       "      <td>1296.1</td>\n",
       "      <td>454.3</td>\n",
       "      <td>15.3</td>\n",
       "      <td>177.3</td>\n",
       "      <td>137.1</td>\n",
       "      <td>1</td>\n",
       "    </tr>\n",
       "    <tr>\n",
       "      <th>GSM153405</th>\n",
       "      <td>105.1</td>\n",
       "      <td>58.4</td>\n",
       "      <td>179.8</td>\n",
       "      <td>497.8</td>\n",
       "      <td>18.0</td>\n",
       "      <td>139.1</td>\n",
       "      <td>51.2</td>\n",
       "      <td>13.7</td>\n",
       "      <td>492.4</td>\n",
       "      <td>24.5</td>\n",
       "      <td>...</td>\n",
       "      <td>3677.0</td>\n",
       "      <td>4820.1</td>\n",
       "      <td>2634.1</td>\n",
       "      <td>2158.4</td>\n",
       "      <td>2082.6</td>\n",
       "      <td>442.2</td>\n",
       "      <td>18.8</td>\n",
       "      <td>205.7</td>\n",
       "      <td>147.0</td>\n",
       "      <td>0</td>\n",
       "    </tr>\n",
       "    <tr>\n",
       "      <th>GSM153406</th>\n",
       "      <td>145.7</td>\n",
       "      <td>52.5</td>\n",
       "      <td>192.0</td>\n",
       "      <td>346.3</td>\n",
       "      <td>40.1</td>\n",
       "      <td>163.8</td>\n",
       "      <td>72.0</td>\n",
       "      <td>38.3</td>\n",
       "      <td>1121.6</td>\n",
       "      <td>36.8</td>\n",
       "      <td>...</td>\n",
       "      <td>2890.4</td>\n",
       "      <td>4234.6</td>\n",
       "      <td>2830.6</td>\n",
       "      <td>2603.0</td>\n",
       "      <td>2255.6</td>\n",
       "      <td>349.8</td>\n",
       "      <td>33.4</td>\n",
       "      <td>213.6</td>\n",
       "      <td>125.4</td>\n",
       "      <td>0</td>\n",
       "    </tr>\n",
       "    <tr>\n",
       "      <th>GSM153407</th>\n",
       "      <td>168.7</td>\n",
       "      <td>45.4</td>\n",
       "      <td>263.6</td>\n",
       "      <td>430.7</td>\n",
       "      <td>40.5</td>\n",
       "      <td>183.9</td>\n",
       "      <td>54.7</td>\n",
       "      <td>7.2</td>\n",
       "      <td>1436.6</td>\n",
       "      <td>34.8</td>\n",
       "      <td>...</td>\n",
       "      <td>2283.4</td>\n",
       "      <td>4947.5</td>\n",
       "      <td>3824.0</td>\n",
       "      <td>1825.5</td>\n",
       "      <td>2658.9</td>\n",
       "      <td>223.5</td>\n",
       "      <td>8.5</td>\n",
       "      <td>104.1</td>\n",
       "      <td>88.5</td>\n",
       "      <td>1</td>\n",
       "    </tr>\n",
       "    <tr>\n",
       "      <th>GSM153408</th>\n",
       "      <td>94.3</td>\n",
       "      <td>51.3</td>\n",
       "      <td>211.9</td>\n",
       "      <td>485.5</td>\n",
       "      <td>22.8</td>\n",
       "      <td>138.9</td>\n",
       "      <td>83.0</td>\n",
       "      <td>5.2</td>\n",
       "      <td>1499.3</td>\n",
       "      <td>33.8</td>\n",
       "      <td>...</td>\n",
       "      <td>2862.8</td>\n",
       "      <td>3899.9</td>\n",
       "      <td>2843.0</td>\n",
       "      <td>2450.5</td>\n",
       "      <td>2165.9</td>\n",
       "      <td>587.1</td>\n",
       "      <td>42.9</td>\n",
       "      <td>324.3</td>\n",
       "      <td>156.8</td>\n",
       "      <td>1</td>\n",
       "    </tr>\n",
       "  </tbody>\n",
       "</table>\n",
       "<p>5 rows × 21226 columns</p>\n",
       "</div>"
      ],
      "text/plain": [
       "           DDR1 /// MIR4640  RFC2  HSPA6   PAX8  GUCA1A  MIR5193 /// UBA7  \\\n",
       "GSM153404             114.5  64.4  206.3  507.0    34.5             135.3   \n",
       "GSM153405             105.1  58.4  179.8  497.8    18.0             139.1   \n",
       "GSM153406             145.7  52.5  192.0  346.3    40.1             163.8   \n",
       "GSM153407             168.7  45.4  263.6  430.7    40.5             183.9   \n",
       "GSM153408              94.3  51.3  211.9  485.5    22.8             138.9   \n",
       "\n",
       "           THRA  PTPN21    CCL5  CYP2E1  ...  ACTB.3  ACTB.4  GAPDH.3  \\\n",
       "GSM153404  75.1     4.6   780.1     5.2  ...  3407.2  4776.4   1892.7   \n",
       "GSM153405  51.2    13.7   492.4    24.5  ...  3677.0  4820.1   2634.1   \n",
       "GSM153406  72.0    38.3  1121.6    36.8  ...  2890.4  4234.6   2830.6   \n",
       "GSM153407  54.7     7.2  1436.6    34.8  ...  2283.4  4947.5   3824.0   \n",
       "GSM153408  83.0     5.2  1499.3    33.8  ...  2862.8  3899.9   2843.0   \n",
       "\n",
       "           GAPDH.4  GAPDH.5  STAT1.2  STAT1.3  STAT1.4  STAT1.5  Target  \n",
       "GSM153404   1484.3   1296.1    454.3     15.3    177.3    137.1       1  \n",
       "GSM153405   2158.4   2082.6    442.2     18.8    205.7    147.0       0  \n",
       "GSM153406   2603.0   2255.6    349.8     33.4    213.6    125.4       0  \n",
       "GSM153407   1825.5   2658.9    223.5      8.5    104.1     88.5       1  \n",
       "GSM153408   2450.5   2165.9    587.1     42.9    324.3    156.8       1  \n",
       "\n",
       "[5 rows x 21226 columns]"
      ]
     },
     "execution_count": 6,
     "metadata": {},
     "output_type": "execute_result"
    }
   ],
   "source": [
    "import pandas as pd \n",
    "\n",
    "dataset_path = pardir + \"use_case\" + sep + \"data\" + sep + \"parkinson\"\n",
    "datapath = dataset_path + sep + \"preprocessed_data.csv\"\n",
    "df = pd.read_csv(datapath, index_col = 0)\n",
    "df.head()"
   ]
  },
  {
   "cell_type": "code",
   "execution_count": 7,
   "id": "5ecf6d3f-11a7-41f3-90da-74a20e6cd445",
   "metadata": {},
   "outputs": [
    {
     "name": "stdout",
     "output_type": "stream",
     "text": [
      "Loading train/test split from disk...\n"
     ]
    },
    {
     "data": {
      "text/plain": [
       "((31, 21225), (74, 21225))"
      ]
     },
     "execution_count": 7,
     "metadata": {},
     "output_type": "execute_result"
    }
   ],
   "source": [
    "X_train, X_test, y_train, y_test = train_test_split(df, dataset_path, test_size = 0.7, target_name = 'Target')\n",
    "X_train.shape, X_test.shape"
   ]
  },
  {
   "cell_type": "code",
   "execution_count": 8,
   "id": "c7a9e1ac-3b93-4f3c-bd4a-98b971d00057",
   "metadata": {},
   "outputs": [
    {
     "name": "stdout",
     "output_type": "stream",
     "text": [
      "Number of splits for cross-validation: 5\n",
      "Unique classes in target: {np.int64(0): np.int64(16), np.int64(1): np.int64(15)}\n",
      "Cross-validation splits:  5\n",
      "Performing grid search for hyperparameter tuning...\n",
      "Grid search for LR...\n",
      "Performing grid search for LR with parameters: {'solver': ['liblinear', 'saga'], 'penalty': ['l2', 'l1', None], 'max_iter': [100, 200, 300]}\n"
     ]
    },
    {
     "name": "stderr",
     "output_type": "stream",
     "text": [
      "D:\\anaconda3\\envs\\eabin12\\Lib\\site-packages\\sklearn\\model_selection\\_validation.py:516: FitFailedWarning:\n",
      "\n",
      "\n",
      "15 fits failed out of a total of 90.\n",
      "The score on these train-test partitions for these parameters will be set to nan.\n",
      "If these failures are not expected, you can try to debug them by setting error_score='raise'.\n",
      "\n",
      "Below are more details about the failures:\n",
      "--------------------------------------------------------------------------------\n",
      "15 fits failed with the following error:\n",
      "Traceback (most recent call last):\n",
      "  File \"D:\\anaconda3\\envs\\eabin12\\Lib\\site-packages\\sklearn\\model_selection\\_validation.py\", line 859, in _fit_and_score\n",
      "    estimator.fit(X_train, y_train, **fit_params)\n",
      "  File \"D:\\anaconda3\\envs\\eabin12\\Lib\\site-packages\\sklearn\\base.py\", line 1365, in wrapper\n",
      "    return fit_method(estimator, *args, **kwargs)\n",
      "           ^^^^^^^^^^^^^^^^^^^^^^^^^^^^^^^^^^^^^^\n",
      "  File \"D:\\anaconda3\\envs\\eabin12\\Lib\\site-packages\\sklearn\\linear_model\\_logistic.py\", line 1218, in fit\n",
      "    solver = _check_solver(self.solver, self.penalty, self.dual)\n",
      "             ^^^^^^^^^^^^^^^^^^^^^^^^^^^^^^^^^^^^^^^^^^^^^^^^^^^\n",
      "  File \"D:\\anaconda3\\envs\\eabin12\\Lib\\site-packages\\sklearn\\linear_model\\_logistic.py\", line 77, in _check_solver\n",
      "    raise ValueError(\"penalty=None is not supported for the liblinear solver\")\n",
      "ValueError: penalty=None is not supported for the liblinear solver\n",
      "\n",
      "\n",
      "D:\\anaconda3\\envs\\eabin12\\Lib\\site-packages\\sklearn\\model_selection\\_search.py:1135: UserWarning:\n",
      "\n",
      "One or more of the test scores are non-finite: [0.51111111 0.33333333 0.44444444 0.33333333        nan 0.35\n",
      " 0.51111111 0.38888889 0.37777778 0.38888889        nan 0.38888889\n",
      " 0.51111111 0.41111111 0.37777778 0.43333333        nan 0.41111111]\n",
      "\n"
     ]
    },
    {
     "name": "stdout",
     "output_type": "stream",
     "text": [
      "Best parameters: {'max_iter': 100, 'penalty': 'l2', 'solver': 'liblinear'}\n",
      "Best score: 0.5111\n",
      "Best model for LR: LogisticRegression(class_weight='balanced', solver='liblinear')\n",
      "Grid search for KNN...\n",
      "Performing grid search for KNN with parameters: {'n_neighbors': [3, 5, 7], 'metric': ['euclidean', 'manhattan']}\n",
      "Best parameters: {'metric': 'manhattan', 'n_neighbors': 3}\n",
      "Best score: 0.6722\n",
      "Best model for KNN: KNeighborsClassifier(metric='manhattan', n_neighbors=3)\n",
      "Grid search for DT...\n",
      "Performing grid search for DT with parameters: {'max_depth': [None, 5, 10], 'min_samples_split': [2, 5, 10]}\n",
      "Best parameters: {'max_depth': 5, 'min_samples_split': 2}\n",
      "Best score: 0.5250\n",
      "Best model for DT: DecisionTreeClassifier(class_weight='balanced', max_depth=5)\n",
      "Grid search for SVM...\n",
      "Performing grid search for SVM with parameters: {'kernel': ['linear', 'rbf'], 'C': [0.1, 1, 10]}\n",
      "Best parameters: {'C': 10, 'kernel': 'rbf'}\n",
      "Best score: 0.5333\n",
      "Best model for SVM: SVC(C=10, class_weight='balanced', probability=True)\n",
      "Grid search for RF...\n",
      "Performing grid search for RF with parameters: {'n_estimators': [50, 100, 200], 'max_depth': [None, 5, 10]}\n",
      "Best parameters: {'max_depth': 10, 'n_estimators': 50}\n",
      "Best score: 0.5361\n",
      "Best model for RF: RandomForestClassifier(class_weight='balanced', max_depth=10, n_estimators=50)\n",
      "LR: 0.5722 (0.1356)\n",
      "KNN: 0.6389 (0.0657)\n",
      "DT: 0.5583 (0.2577)\n",
      "SVM: 0.3833 (0.1575)\n",
      "RF: 0.5111 (0.2708)\n",
      "LR [0.41666666666666663, 0.4444444444444444, 0.6666666666666666, 0.7777777777777778, 0.5555555555555556]\n",
      "KNN [0.75, 0.6111111111111112, 0.5555555555555556, 0.6666666666666666, 0.6111111111111112]\n",
      "DT [0.29166666666666663, 0.6666666666666667, 1.0, 0.3333333333333333, 0.5]\n",
      "SVM [0.5833333333333333, 0.5555555555555556, 0.33333333333333337, 0.22222222222222224, 0.22222222222222224]\n",
      "RF [0.6666666666666666, 0.0, 0.5, 0.6111111111111112, 0.7777777777777778]\n",
      "Best model: KNN with roc_auc: 0.6389\n"
     ]
    }
   ],
   "source": [
    "# WITHOUT FEATURE EXTRACTION \n",
    "models_tuple, fig_roc, fig_box = baselineComparison(X_train, y_train, params = ml_params, grid_search=True)"
   ]
  },
  {
   "cell_type": "code",
   "execution_count": 9,
   "id": "bbbafb82-6787-4308-9a07-6902895776ce",
   "metadata": {},
   "outputs": [
    {
     "data": {
      "text/html": [
       "<div>\n",
       "<style scoped>\n",
       "    .dataframe tbody tr th:only-of-type {\n",
       "        vertical-align: middle;\n",
       "    }\n",
       "\n",
       "    .dataframe tbody tr th {\n",
       "        vertical-align: top;\n",
       "    }\n",
       "\n",
       "    .dataframe thead th {\n",
       "        text-align: right;\n",
       "    }\n",
       "</style>\n",
       "<table border=\"1\" class=\"dataframe\">\n",
       "  <thead>\n",
       "    <tr style=\"text-align: right;\">\n",
       "      <th></th>\n",
       "      <th>Model Name</th>\n",
       "      <th>Accuracy</th>\n",
       "      <th>F1</th>\n",
       "      <th>Sensitivity</th>\n",
       "      <th>Specificity</th>\n",
       "      <th>AUC score</th>\n",
       "      <th>Precision</th>\n",
       "    </tr>\n",
       "  </thead>\n",
       "  <tbody>\n",
       "    <tr>\n",
       "      <th>3</th>\n",
       "      <td>SVM</td>\n",
       "      <td>36.49</td>\n",
       "      <td>0.37</td>\n",
       "      <td>40.00</td>\n",
       "      <td>33.33</td>\n",
       "      <td>0.62</td>\n",
       "      <td>35.00</td>\n",
       "    </tr>\n",
       "    <tr>\n",
       "      <th>0</th>\n",
       "      <td>LR</td>\n",
       "      <td>55.41</td>\n",
       "      <td>0.57</td>\n",
       "      <td>62.86</td>\n",
       "      <td>48.72</td>\n",
       "      <td>0.56</td>\n",
       "      <td>52.38</td>\n",
       "    </tr>\n",
       "    <tr>\n",
       "      <th>4</th>\n",
       "      <td>RF</td>\n",
       "      <td>50.00</td>\n",
       "      <td>0.52</td>\n",
       "      <td>57.14</td>\n",
       "      <td>43.59</td>\n",
       "      <td>0.52</td>\n",
       "      <td>47.62</td>\n",
       "    </tr>\n",
       "    <tr>\n",
       "      <th>1</th>\n",
       "      <td>KNN</td>\n",
       "      <td>44.59</td>\n",
       "      <td>0.48</td>\n",
       "      <td>54.29</td>\n",
       "      <td>35.90</td>\n",
       "      <td>0.45</td>\n",
       "      <td>43.18</td>\n",
       "    </tr>\n",
       "    <tr>\n",
       "      <th>2</th>\n",
       "      <td>DT</td>\n",
       "      <td>44.59</td>\n",
       "      <td>0.41</td>\n",
       "      <td>40.00</td>\n",
       "      <td>48.72</td>\n",
       "      <td>0.44</td>\n",
       "      <td>41.18</td>\n",
       "    </tr>\n",
       "  </tbody>\n",
       "</table>\n",
       "</div>"
      ],
      "text/plain": [
       "  Model Name  Accuracy    F1  Sensitivity  Specificity  AUC score  Precision\n",
       "3        SVM     36.49  0.37        40.00        33.33       0.62      35.00\n",
       "0         LR     55.41  0.57        62.86        48.72       0.56      52.38\n",
       "4         RF     50.00  0.52        57.14        43.59       0.52      47.62\n",
       "1        KNN     44.59  0.48        54.29        35.90       0.45      43.18\n",
       "2         DT     44.59  0.41        40.00        48.72       0.44      41.18"
      ]
     },
     "execution_count": 9,
     "metadata": {},
     "output_type": "execute_result"
    }
   ],
   "source": [
    "from sklearn.metrics import confusion_matrix \n",
    "\n",
    "models = {}\n",
    "for model_name, model in models_tuple:\n",
    "    models[model_name] = model\n",
    "       \n",
    "df_result = create_results_df(models, X_test, y_test)\n",
    "df_result"
   ]
  },
  {
   "cell_type": "code",
   "execution_count": 10,
   "id": "da8bcdd8-5b43-41af-bdfe-03f2d66c8747",
   "metadata": {},
   "outputs": [
    {
     "data": {
      "application/vnd.plotly.v1+json": {
       "config": {
        "plotlyServerURL": "https://plot.ly"
       },
       "data": [
        {
         "line": {
          "color": "red",
          "dash": "dash"
         },
         "mode": "lines",
         "name": "Random",
         "showlegend": false,
         "type": "scatter",
         "x": [
          0,
          1
         ],
         "y": [
          0,
          1
         ]
        },
        {
         "line": {
          "color": "green",
          "width": 2
         },
         "mode": "lines",
         "name": "LR (AUC = 0.56117)",
         "type": "scatter",
         "x": {
          "bdata": "AAAAAAAAAAAapEEapEGaPxqkQRqkQZo/FDuxEzuxwz8UO7ETO7HDP5dv+ZZv+cY/l2/5lm/5xj8apEEapEHKPxqkQRqkQco/ntiJndiJzT+e2Imd2InNP5AGaZAGadA/kAZpkAZp0D8UO7ETO7HTPxQ7sRM7sdM/VVVVVVVV1T9VVVVVVVXVP5dv+ZZv+dY/l2/5lm/51j/ZiZ3YiZ3YP9mJndiJndg/GqRBGqRB2j8apEEapEHaP5AGaZAGaeA/kAZpkAZp4D/SIA3SIA3iP9IgDdIgDeI/8y3f8i3f4j/zLd/yLd/iPzVIgzRIg+Q/NUiDNEiD5D92Yid2YifmP3ZiJ3ZiJ+Y/l2/5lm/55j+Xb/mWb/nmP/mWb/mWb+k/+ZZv+ZZv6T8apEEapEHqPxqkQRqkQeo/XL7lW77l6z9cvuVbvuXrP9/yLd/yLe8/3/It3/It7z8AAAAAAADwPw==",
          "dtype": "f8"
         },
         "y": {
          "bdata": "AAAAAAAAAAAAAAAAAAAAAB3UQR3UQZ0/HdRBHdRBnT8d1EEd1EGtPx3UQR3UQa0/HdRBHdRBvT8d1EEd1EG9PxZf8RVf8cU/Fl/xFV/xxT8WX/EVX/HVPxZf8RVf8dU/mpmZmZmZ2T+amZmZmZnZP9u2bdu2bds/27Zt27Zt2z8d1EEd1EHdPx3UQR3UQd0/X/EVX/EV3z9f8RVf8RXfP1AHdVAHdeA/UAd1UAd14D8zMzMzMzPjPzMzMzMzM+M/dVAHdVAH5T91UAd1UAflPxZf8RVf8eU/Fl/xFV/x5T9YfMVXfMXnP1h8xVd8xec/mpmZmZmZ6T+amZmZmZnpPzuogzqog+o/O6iDOqiD6j/btm3btm3rP9u2bdu2bes/fMVXfMVX7D98xVd8xVfsPx3UQR3UQe0/HdRBHdRB7T++4iu+4ivuP77iK77iK+4/AAAAAAAA8D8AAAAAAADwPw==",
          "dtype": "f8"
         }
        },
        {
         "line": {
          "color": "black",
          "width": 2
         },
         "mode": "lines",
         "name": "KNN (AUC = 0.44908)",
         "type": "scatter",
         "x": {
          "bdata": "AAAAAAAAAAAapEEapEHKPzVIgzRIg+Q/fcu3fMu37D8AAAAAAADwPw==",
          "dtype": "f8"
         },
         "y": {
          "bdata": "AAAAAAAAAACSJEmSJEnCP/EVX/EVX+E/HdRBHdRB7T8AAAAAAADwPw==",
          "dtype": "f8"
         }
        },
        {
         "line": {
          "color": "cyan",
          "width": 2
         },
         "mode": "lines",
         "name": "DT (AUC = 0.44359)",
         "type": "scatter",
         "x": {
          "bdata": "AAAAAAAAAACQBmmQBmngPwAAAAAAAPA/",
          "dtype": "f8"
         },
         "y": {
          "bdata": "AAAAAAAAAACamZmZmZnZPwAAAAAAAPA/",
          "dtype": "f8"
         }
        },
        {
         "line": {
          "color": "orange",
          "width": 2
         },
         "mode": "lines",
         "name": "SVM (AUC = 0.62491)",
         "type": "scatter",
         "x": {
          "bdata": "AAAAAAAAAAAapEEapEGaPxqkQRqkQZo/FDuxEzuxsz8UO7ETO7GzPxqkQRqkQbo/GqRBGqRBuj+QBmmQBmnAP5AGaZAGacA/FDuxEzuxwz8UO7ETO7HDP5dv+ZZv+cY/l2/5lm/5xj+QBmmQBmnQP5AGaZAGadA/FDuxEzux0z8UO7ETO7HTP1VVVVVVVdU/VVVVVVVV1T9cvuVbvuXbP1y+5Vu+5ds/3/It3/It3z/f8i3f8i3fP5AGaZAGaeA/kAZpkAZp4D81SIM0SIPkPzVIgzRIg+Q/VVVVVVVV5T9VVVVVVVXlP3ZiJ3ZiJ+Y/dmIndmIn5j+Xb/mWb/nmP5dv+ZZv+eY/O7ETO7ET6z87sRM7sRPrP1y+5Vu+5es/XL7lW77l6z99y7d8y7fsP33Lt3zLt+w/AAAAAAAA8D8=",
          "dtype": "f8"
         },
         "y": {
          "bdata": "AAAAAAAAAAAAAAAAAAAAAB3UQR3UQZ0/HdRBHdRBnT+SJEmSJEnCP5IkSZIkScI/Fl/xFV/xxT8WX/EVX/HFP5qZmZmZmck/mpmZmZmZyT+amZmZmZnZP5qZmZmZmdk/HdRBHdRB3T8d1EEd1EHdP1AHdVAHdeA/UAd1UAd14D/xFV/xFV/hP/EVX/EVX+E/MzMzMzMz4z8zMzMzMzPjP3VQB3VQB+U/dVAHdVAH5T8WX/EVX/HlPxZf8RVf8eU/t23btm3b5j+3bdu2bdvmP/mKr/iKr+g/+Yqv+Iqv6D+amZmZmZnpP5qZmZmZmek/O6iDOqiD6j87qIM6qIPqP9u2bdu2bes/27Zt27Zt6z98xVd8xVfsP3zFV3zFV+w/HdRBHdRB7T8d1EEd1EHtPwAAAAAAAPA/AAAAAAAA8D8=",
          "dtype": "f8"
         }
        },
        {
         "line": {
          "color": "blue",
          "width": 2
         },
         "mode": "lines",
         "name": "RF (AUC = 0.52271)",
         "type": "scatter",
         "x": {
          "bdata": "AAAAAAAAAAAAAAAAAAAAAAAAAAAAAAAAFDuxEzuxsz8apEEapEG6PxQ7sRM7scM/kAZpkAZp0D/ZiZ3YiZ3YP9IgDdIgDeI/NUiDNEiD5D/ZiZ3YiZ3oP/mWb/mWb+k/XL7lW77l6z++5Vu+5VvuP77lW77lW+4/AAAAAAAA8D8=",
          "dtype": "f8"
         },
         "y": {
          "bdata": "AAAAAAAAAAAd1EEd1EGdPx3UQR3UQa0/Fl/xFV/xtT+SJEmSJEnCPxZf8RVf8cU/UAd1UAd10D8d1EEd1EHdP5IkSZIkSeI/Fl/xFV/x5T/5iq/4iq/oPzuogzqog+o/fMVXfMVX7D98xVd8xVfsP77iK77iK+4/AAAAAAAA8D8=",
          "dtype": "f8"
         }
        }
       ],
       "layout": {
        "font": {
         "color": "black",
         "family": "Arial",
         "size": 20,
         "weight": "bold"
        },
        "height": 270,
        "legend": {
         "font": {
          "size": 22
         }
        },
        "showlegend": true,
        "template": {
         "data": {
          "bar": [
           {
            "error_x": {
             "color": "#2a3f5f"
            },
            "error_y": {
             "color": "#2a3f5f"
            },
            "marker": {
             "line": {
              "color": "white",
              "width": 0.5
             },
             "pattern": {
              "fillmode": "overlay",
              "size": 10,
              "solidity": 0.2
             }
            },
            "type": "bar"
           }
          ],
          "barpolar": [
           {
            "marker": {
             "line": {
              "color": "white",
              "width": 0.5
             },
             "pattern": {
              "fillmode": "overlay",
              "size": 10,
              "solidity": 0.2
             }
            },
            "type": "barpolar"
           }
          ],
          "carpet": [
           {
            "aaxis": {
             "endlinecolor": "#2a3f5f",
             "gridcolor": "#C8D4E3",
             "linecolor": "#C8D4E3",
             "minorgridcolor": "#C8D4E3",
             "startlinecolor": "#2a3f5f"
            },
            "baxis": {
             "endlinecolor": "#2a3f5f",
             "gridcolor": "#C8D4E3",
             "linecolor": "#C8D4E3",
             "minorgridcolor": "#C8D4E3",
             "startlinecolor": "#2a3f5f"
            },
            "type": "carpet"
           }
          ],
          "choropleth": [
           {
            "colorbar": {
             "outlinewidth": 0,
             "ticks": ""
            },
            "type": "choropleth"
           }
          ],
          "contour": [
           {
            "colorbar": {
             "outlinewidth": 0,
             "ticks": ""
            },
            "colorscale": [
             [
              0,
              "#0d0887"
             ],
             [
              0.1111111111111111,
              "#46039f"
             ],
             [
              0.2222222222222222,
              "#7201a8"
             ],
             [
              0.3333333333333333,
              "#9c179e"
             ],
             [
              0.4444444444444444,
              "#bd3786"
             ],
             [
              0.5555555555555556,
              "#d8576b"
             ],
             [
              0.6666666666666666,
              "#ed7953"
             ],
             [
              0.7777777777777778,
              "#fb9f3a"
             ],
             [
              0.8888888888888888,
              "#fdca26"
             ],
             [
              1,
              "#f0f921"
             ]
            ],
            "type": "contour"
           }
          ],
          "contourcarpet": [
           {
            "colorbar": {
             "outlinewidth": 0,
             "ticks": ""
            },
            "type": "contourcarpet"
           }
          ],
          "heatmap": [
           {
            "colorbar": {
             "outlinewidth": 0,
             "ticks": ""
            },
            "colorscale": [
             [
              0,
              "#0d0887"
             ],
             [
              0.1111111111111111,
              "#46039f"
             ],
             [
              0.2222222222222222,
              "#7201a8"
             ],
             [
              0.3333333333333333,
              "#9c179e"
             ],
             [
              0.4444444444444444,
              "#bd3786"
             ],
             [
              0.5555555555555556,
              "#d8576b"
             ],
             [
              0.6666666666666666,
              "#ed7953"
             ],
             [
              0.7777777777777778,
              "#fb9f3a"
             ],
             [
              0.8888888888888888,
              "#fdca26"
             ],
             [
              1,
              "#f0f921"
             ]
            ],
            "type": "heatmap"
           }
          ],
          "histogram": [
           {
            "marker": {
             "pattern": {
              "fillmode": "overlay",
              "size": 10,
              "solidity": 0.2
             }
            },
            "type": "histogram"
           }
          ],
          "histogram2d": [
           {
            "colorbar": {
             "outlinewidth": 0,
             "ticks": ""
            },
            "colorscale": [
             [
              0,
              "#0d0887"
             ],
             [
              0.1111111111111111,
              "#46039f"
             ],
             [
              0.2222222222222222,
              "#7201a8"
             ],
             [
              0.3333333333333333,
              "#9c179e"
             ],
             [
              0.4444444444444444,
              "#bd3786"
             ],
             [
              0.5555555555555556,
              "#d8576b"
             ],
             [
              0.6666666666666666,
              "#ed7953"
             ],
             [
              0.7777777777777778,
              "#fb9f3a"
             ],
             [
              0.8888888888888888,
              "#fdca26"
             ],
             [
              1,
              "#f0f921"
             ]
            ],
            "type": "histogram2d"
           }
          ],
          "histogram2dcontour": [
           {
            "colorbar": {
             "outlinewidth": 0,
             "ticks": ""
            },
            "colorscale": [
             [
              0,
              "#0d0887"
             ],
             [
              0.1111111111111111,
              "#46039f"
             ],
             [
              0.2222222222222222,
              "#7201a8"
             ],
             [
              0.3333333333333333,
              "#9c179e"
             ],
             [
              0.4444444444444444,
              "#bd3786"
             ],
             [
              0.5555555555555556,
              "#d8576b"
             ],
             [
              0.6666666666666666,
              "#ed7953"
             ],
             [
              0.7777777777777778,
              "#fb9f3a"
             ],
             [
              0.8888888888888888,
              "#fdca26"
             ],
             [
              1,
              "#f0f921"
             ]
            ],
            "type": "histogram2dcontour"
           }
          ],
          "mesh3d": [
           {
            "colorbar": {
             "outlinewidth": 0,
             "ticks": ""
            },
            "type": "mesh3d"
           }
          ],
          "parcoords": [
           {
            "line": {
             "colorbar": {
              "outlinewidth": 0,
              "ticks": ""
             }
            },
            "type": "parcoords"
           }
          ],
          "pie": [
           {
            "automargin": true,
            "type": "pie"
           }
          ],
          "scatter": [
           {
            "fillpattern": {
             "fillmode": "overlay",
             "size": 10,
             "solidity": 0.2
            },
            "type": "scatter"
           }
          ],
          "scatter3d": [
           {
            "line": {
             "colorbar": {
              "outlinewidth": 0,
              "ticks": ""
             }
            },
            "marker": {
             "colorbar": {
              "outlinewidth": 0,
              "ticks": ""
             }
            },
            "type": "scatter3d"
           }
          ],
          "scattercarpet": [
           {
            "marker": {
             "colorbar": {
              "outlinewidth": 0,
              "ticks": ""
             }
            },
            "type": "scattercarpet"
           }
          ],
          "scattergeo": [
           {
            "marker": {
             "colorbar": {
              "outlinewidth": 0,
              "ticks": ""
             }
            },
            "type": "scattergeo"
           }
          ],
          "scattergl": [
           {
            "marker": {
             "colorbar": {
              "outlinewidth": 0,
              "ticks": ""
             }
            },
            "type": "scattergl"
           }
          ],
          "scattermap": [
           {
            "marker": {
             "colorbar": {
              "outlinewidth": 0,
              "ticks": ""
             }
            },
            "type": "scattermap"
           }
          ],
          "scattermapbox": [
           {
            "marker": {
             "colorbar": {
              "outlinewidth": 0,
              "ticks": ""
             }
            },
            "type": "scattermapbox"
           }
          ],
          "scatterpolar": [
           {
            "marker": {
             "colorbar": {
              "outlinewidth": 0,
              "ticks": ""
             }
            },
            "type": "scatterpolar"
           }
          ],
          "scatterpolargl": [
           {
            "marker": {
             "colorbar": {
              "outlinewidth": 0,
              "ticks": ""
             }
            },
            "type": "scatterpolargl"
           }
          ],
          "scatterternary": [
           {
            "marker": {
             "colorbar": {
              "outlinewidth": 0,
              "ticks": ""
             }
            },
            "type": "scatterternary"
           }
          ],
          "surface": [
           {
            "colorbar": {
             "outlinewidth": 0,
             "ticks": ""
            },
            "colorscale": [
             [
              0,
              "#0d0887"
             ],
             [
              0.1111111111111111,
              "#46039f"
             ],
             [
              0.2222222222222222,
              "#7201a8"
             ],
             [
              0.3333333333333333,
              "#9c179e"
             ],
             [
              0.4444444444444444,
              "#bd3786"
             ],
             [
              0.5555555555555556,
              "#d8576b"
             ],
             [
              0.6666666666666666,
              "#ed7953"
             ],
             [
              0.7777777777777778,
              "#fb9f3a"
             ],
             [
              0.8888888888888888,
              "#fdca26"
             ],
             [
              1,
              "#f0f921"
             ]
            ],
            "type": "surface"
           }
          ],
          "table": [
           {
            "cells": {
             "fill": {
              "color": "#EBF0F8"
             },
             "line": {
              "color": "white"
             }
            },
            "header": {
             "fill": {
              "color": "#C8D4E3"
             },
             "line": {
              "color": "white"
             }
            },
            "type": "table"
           }
          ]
         },
         "layout": {
          "annotationdefaults": {
           "arrowcolor": "#2a3f5f",
           "arrowhead": 0,
           "arrowwidth": 1
          },
          "autotypenumbers": "strict",
          "coloraxis": {
           "colorbar": {
            "outlinewidth": 0,
            "ticks": ""
           }
          },
          "colorscale": {
           "diverging": [
            [
             0,
             "#8e0152"
            ],
            [
             0.1,
             "#c51b7d"
            ],
            [
             0.2,
             "#de77ae"
            ],
            [
             0.3,
             "#f1b6da"
            ],
            [
             0.4,
             "#fde0ef"
            ],
            [
             0.5,
             "#f7f7f7"
            ],
            [
             0.6,
             "#e6f5d0"
            ],
            [
             0.7,
             "#b8e186"
            ],
            [
             0.8,
             "#7fbc41"
            ],
            [
             0.9,
             "#4d9221"
            ],
            [
             1,
             "#276419"
            ]
           ],
           "sequential": [
            [
             0,
             "#0d0887"
            ],
            [
             0.1111111111111111,
             "#46039f"
            ],
            [
             0.2222222222222222,
             "#7201a8"
            ],
            [
             0.3333333333333333,
             "#9c179e"
            ],
            [
             0.4444444444444444,
             "#bd3786"
            ],
            [
             0.5555555555555556,
             "#d8576b"
            ],
            [
             0.6666666666666666,
             "#ed7953"
            ],
            [
             0.7777777777777778,
             "#fb9f3a"
            ],
            [
             0.8888888888888888,
             "#fdca26"
            ],
            [
             1,
             "#f0f921"
            ]
           ],
           "sequentialminus": [
            [
             0,
             "#0d0887"
            ],
            [
             0.1111111111111111,
             "#46039f"
            ],
            [
             0.2222222222222222,
             "#7201a8"
            ],
            [
             0.3333333333333333,
             "#9c179e"
            ],
            [
             0.4444444444444444,
             "#bd3786"
            ],
            [
             0.5555555555555556,
             "#d8576b"
            ],
            [
             0.6666666666666666,
             "#ed7953"
            ],
            [
             0.7777777777777778,
             "#fb9f3a"
            ],
            [
             0.8888888888888888,
             "#fdca26"
            ],
            [
             1,
             "#f0f921"
            ]
           ]
          },
          "colorway": [
           "#636efa",
           "#EF553B",
           "#00cc96",
           "#ab63fa",
           "#FFA15A",
           "#19d3f3",
           "#FF6692",
           "#B6E880",
           "#FF97FF",
           "#FECB52"
          ],
          "font": {
           "color": "#2a3f5f"
          },
          "geo": {
           "bgcolor": "white",
           "lakecolor": "white",
           "landcolor": "white",
           "showlakes": true,
           "showland": true,
           "subunitcolor": "#C8D4E3"
          },
          "hoverlabel": {
           "align": "left"
          },
          "hovermode": "closest",
          "mapbox": {
           "style": "light"
          },
          "paper_bgcolor": "white",
          "plot_bgcolor": "white",
          "polar": {
           "angularaxis": {
            "gridcolor": "#EBF0F8",
            "linecolor": "#EBF0F8",
            "ticks": ""
           },
           "bgcolor": "white",
           "radialaxis": {
            "gridcolor": "#EBF0F8",
            "linecolor": "#EBF0F8",
            "ticks": ""
           }
          },
          "scene": {
           "xaxis": {
            "backgroundcolor": "white",
            "gridcolor": "#DFE8F3",
            "gridwidth": 2,
            "linecolor": "#EBF0F8",
            "showbackground": true,
            "ticks": "",
            "zerolinecolor": "#EBF0F8"
           },
           "yaxis": {
            "backgroundcolor": "white",
            "gridcolor": "#DFE8F3",
            "gridwidth": 2,
            "linecolor": "#EBF0F8",
            "showbackground": true,
            "ticks": "",
            "zerolinecolor": "#EBF0F8"
           },
           "zaxis": {
            "backgroundcolor": "white",
            "gridcolor": "#DFE8F3",
            "gridwidth": 2,
            "linecolor": "#EBF0F8",
            "showbackground": true,
            "ticks": "",
            "zerolinecolor": "#EBF0F8"
           }
          },
          "shapedefaults": {
           "line": {
            "color": "#2a3f5f"
           }
          },
          "ternary": {
           "aaxis": {
            "gridcolor": "#DFE8F3",
            "linecolor": "#A2B1C6",
            "ticks": ""
           },
           "baxis": {
            "gridcolor": "#DFE8F3",
            "linecolor": "#A2B1C6",
            "ticks": ""
           },
           "bgcolor": "white",
           "caxis": {
            "gridcolor": "#DFE8F3",
            "linecolor": "#A2B1C6",
            "ticks": ""
           }
          },
          "title": {
           "x": 0.05
          },
          "xaxis": {
           "automargin": true,
           "gridcolor": "#EBF0F8",
           "linecolor": "#EBF0F8",
           "ticks": "",
           "title": {
            "standoff": 15
           },
           "zerolinecolor": "#EBF0F8",
           "zerolinewidth": 2
          },
          "yaxis": {
           "automargin": true,
           "gridcolor": "#EBF0F8",
           "linecolor": "#EBF0F8",
           "ticks": "",
           "title": {
            "standoff": 15
           },
           "zerolinecolor": "#EBF0F8",
           "zerolinewidth": 2
          }
         }
        },
        "title": {
         "font": {
          "size": 30
         },
         "text": "ROC Curve on the test set"
        },
        "width": 640,
        "xaxis": {
         "range": [
          0,
          1
         ],
         "title": {
          "font": {
           "size": 25
          },
          "text": "False Positive Rate"
         }
        },
        "yaxis": {
         "range": [
          0,
          1.05
         ],
         "title": {
          "font": {
           "size": 25
          },
          "text": "True Positive Rate"
         }
        }
       }
      },
      "image/png": "[encoded data removed]"
     },
     "metadata": {},
     "output_type": "display_data"
    }
   ],
   "source": [
    "columns = [{'name': col, 'id': col} for col in df_result.columns]\n",
    "data = df_result.to_dict(orient='records')\n",
    "fig_roc_test, _, _ = models_roc_curves(models_tuple, X_test, y_test)\n",
    "fig_roc_test"
   ]
  },
  {
   "cell_type": "code",
   "execution_count": 11,
   "id": "bdc69785-9f9b-45f5-8185-9681a356bf8b",
   "metadata": {},
   "outputs": [
    {
     "name": "stdout",
     "output_type": "stream",
     "text": [
      "Index(['DDR1 /// MIR4640', 'RFC2', 'HSPA6', 'PAX8', 'GUCA1A',\n",
      "       'MIR5193 /// UBA7', 'THRA', 'PTPN21', 'CCL5', 'CYP2E1',\n",
      "       ...\n",
      "       'ACTB.2', 'ACTB.3', 'ACTB.4', 'GAPDH.3', 'GAPDH.4', 'GAPDH.5',\n",
      "       'STAT1.2', 'STAT1.3', 'STAT1.4', 'STAT1.5'],\n",
      "      dtype='object', length=21225)\n"
     ]
    }
   ],
   "source": [
    "if \"Target\" in df.columns:\n",
    "    df.drop(\"Target\", axis = 1, inplace = True)\n",
    "genes = df.columns\n",
    "print(genes)"
   ]
  },
  {
   "cell_type": "code",
   "execution_count": 12,
   "id": "ecfd977d-a374-4cfb-82ee-7e891ba3bb6c",
   "metadata": {},
   "outputs": [
    {
     "name": "stdout",
     "output_type": "stream",
     "text": [
      "[[17 22]\n",
      " [15 20]]\n"
     ]
    },
    {
     "data": {
      "application/vnd.plotly.v1+json": {
       "config": {
        "plotlyServerURL": "https://plot.ly"
       },
       "data": [
        {
         "orientation": "h",
         "type": "bar",
         "x": {
          "bdata": "2mnnONexkT8swMiJOeOGP995fIN0zYI/wQ2iDVW3gj+cYV3qPY6CP7E9TbCzQoI/nOFw2RgPgj82RoxmLNeBPyHtoj8KsYE/IxzzCzFVgT8=",
          "dtype": "f8"
         },
         "y": [
          "VDR.2",
          "CLCNKA /// CLCNKB",
          "LOC101060373 /// NOMO1 /// NOMO2 /// NOMO3",
          "IFI27",
          "FBXW2",
          "ZSCAN12.1",
          "ST3GAL4",
          "CDH8.1",
          "MAPK8IP3.1",
          "IVNS1ABP"
         ]
        }
       ],
       "layout": {
        "font": {
         "color": "black",
         "family": "Arial",
         "size": 20,
         "weight": "bold"
        },
        "legend": {
         "font": {
          "size": 22
         }
        },
        "template": {
         "data": {
          "bar": [
           {
            "error_x": {
             "color": "#2a3f5f"
            },
            "error_y": {
             "color": "#2a3f5f"
            },
            "marker": {
             "line": {
              "color": "#E5ECF6",
              "width": 0.5
             },
             "pattern": {
              "fillmode": "overlay",
              "size": 10,
              "solidity": 0.2
             }
            },
            "type": "bar"
           }
          ],
          "barpolar": [
           {
            "marker": {
             "line": {
              "color": "#E5ECF6",
              "width": 0.5
             },
             "pattern": {
              "fillmode": "overlay",
              "size": 10,
              "solidity": 0.2
             }
            },
            "type": "barpolar"
           }
          ],
          "carpet": [
           {
            "aaxis": {
             "endlinecolor": "#2a3f5f",
             "gridcolor": "white",
             "linecolor": "white",
             "minorgridcolor": "white",
             "startlinecolor": "#2a3f5f"
            },
            "baxis": {
             "endlinecolor": "#2a3f5f",
             "gridcolor": "white",
             "linecolor": "white",
             "minorgridcolor": "white",
             "startlinecolor": "#2a3f5f"
            },
            "type": "carpet"
           }
          ],
          "choropleth": [
           {
            "colorbar": {
             "outlinewidth": 0,
             "ticks": ""
            },
            "type": "choropleth"
           }
          ],
          "contour": [
           {
            "colorbar": {
             "outlinewidth": 0,
             "ticks": ""
            },
            "colorscale": [
             [
              0,
              "#0d0887"
             ],
             [
              0.1111111111111111,
              "#46039f"
             ],
             [
              0.2222222222222222,
              "#7201a8"
             ],
             [
              0.3333333333333333,
              "#9c179e"
             ],
             [
              0.4444444444444444,
              "#bd3786"
             ],
             [
              0.5555555555555556,
              "#d8576b"
             ],
             [
              0.6666666666666666,
              "#ed7953"
             ],
             [
              0.7777777777777778,
              "#fb9f3a"
             ],
             [
              0.8888888888888888,
              "#fdca26"
             ],
             [
              1,
              "#f0f921"
             ]
            ],
            "type": "contour"
           }
          ],
          "contourcarpet": [
           {
            "colorbar": {
             "outlinewidth": 0,
             "ticks": ""
            },
            "type": "contourcarpet"
           }
          ],
          "heatmap": [
           {
            "colorbar": {
             "outlinewidth": 0,
             "ticks": ""
            },
            "colorscale": [
             [
              0,
              "#0d0887"
             ],
             [
              0.1111111111111111,
              "#46039f"
             ],
             [
              0.2222222222222222,
              "#7201a8"
             ],
             [
              0.3333333333333333,
              "#9c179e"
             ],
             [
              0.4444444444444444,
              "#bd3786"
             ],
             [
              0.5555555555555556,
              "#d8576b"
             ],
             [
              0.6666666666666666,
              "#ed7953"
             ],
             [
              0.7777777777777778,
              "#fb9f3a"
             ],
             [
              0.8888888888888888,
              "#fdca26"
             ],
             [
              1,
              "#f0f921"
             ]
            ],
            "type": "heatmap"
           }
          ],
          "histogram": [
           {
            "marker": {
             "pattern": {
              "fillmode": "overlay",
              "size": 10,
              "solidity": 0.2
             }
            },
            "type": "histogram"
           }
          ],
          "histogram2d": [
           {
            "colorbar": {
             "outlinewidth": 0,
             "ticks": ""
            },
            "colorscale": [
             [
              0,
              "#0d0887"
             ],
             [
              0.1111111111111111,
              "#46039f"
             ],
             [
              0.2222222222222222,
              "#7201a8"
             ],
             [
              0.3333333333333333,
              "#9c179e"
             ],
             [
              0.4444444444444444,
              "#bd3786"
             ],
             [
              0.5555555555555556,
              "#d8576b"
             ],
             [
              0.6666666666666666,
              "#ed7953"
             ],
             [
              0.7777777777777778,
              "#fb9f3a"
             ],
             [
              0.8888888888888888,
              "#fdca26"
             ],
             [
              1,
              "#f0f921"
             ]
            ],
            "type": "histogram2d"
           }
          ],
          "histogram2dcontour": [
           {
            "colorbar": {
             "outlinewidth": 0,
             "ticks": ""
            },
            "colorscale": [
             [
              0,
              "#0d0887"
             ],
             [
              0.1111111111111111,
              "#46039f"
             ],
             [
              0.2222222222222222,
              "#7201a8"
             ],
             [
              0.3333333333333333,
              "#9c179e"
             ],
             [
              0.4444444444444444,
              "#bd3786"
             ],
             [
              0.5555555555555556,
              "#d8576b"
             ],
             [
              0.6666666666666666,
              "#ed7953"
             ],
             [
              0.7777777777777778,
              "#fb9f3a"
             ],
             [
              0.8888888888888888,
              "#fdca26"
             ],
             [
              1,
              "#f0f921"
             ]
            ],
            "type": "histogram2dcontour"
           }
          ],
          "mesh3d": [
           {
            "colorbar": {
             "outlinewidth": 0,
             "ticks": ""
            },
            "type": "mesh3d"
           }
          ],
          "parcoords": [
           {
            "line": {
             "colorbar": {
              "outlinewidth": 0,
              "ticks": ""
             }
            },
            "type": "parcoords"
           }
          ],
          "pie": [
           {
            "automargin": true,
            "type": "pie"
           }
          ],
          "scatter": [
           {
            "fillpattern": {
             "fillmode": "overlay",
             "size": 10,
             "solidity": 0.2
            },
            "type": "scatter"
           }
          ],
          "scatter3d": [
           {
            "line": {
             "colorbar": {
              "outlinewidth": 0,
              "ticks": ""
             }
            },
            "marker": {
             "colorbar": {
              "outlinewidth": 0,
              "ticks": ""
             }
            },
            "type": "scatter3d"
           }
          ],
          "scattercarpet": [
           {
            "marker": {
             "colorbar": {
              "outlinewidth": 0,
              "ticks": ""
             }
            },
            "type": "scattercarpet"
           }
          ],
          "scattergeo": [
           {
            "marker": {
             "colorbar": {
              "outlinewidth": 0,
              "ticks": ""
             }
            },
            "type": "scattergeo"
           }
          ],
          "scattergl": [
           {
            "marker": {
             "colorbar": {
              "outlinewidth": 0,
              "ticks": ""
             }
            },
            "type": "scattergl"
           }
          ],
          "scattermap": [
           {
            "marker": {
             "colorbar": {
              "outlinewidth": 0,
              "ticks": ""
             }
            },
            "type": "scattermap"
           }
          ],
          "scattermapbox": [
           {
            "marker": {
             "colorbar": {
              "outlinewidth": 0,
              "ticks": ""
             }
            },
            "type": "scattermapbox"
           }
          ],
          "scatterpolar": [
           {
            "marker": {
             "colorbar": {
              "outlinewidth": 0,
              "ticks": ""
             }
            },
            "type": "scatterpolar"
           }
          ],
          "scatterpolargl": [
           {
            "marker": {
             "colorbar": {
              "outlinewidth": 0,
              "ticks": ""
             }
            },
            "type": "scatterpolargl"
           }
          ],
          "scatterternary": [
           {
            "marker": {
             "colorbar": {
              "outlinewidth": 0,
              "ticks": ""
             }
            },
            "type": "scatterternary"
           }
          ],
          "surface": [
           {
            "colorbar": {
             "outlinewidth": 0,
             "ticks": ""
            },
            "colorscale": [
             [
              0,
              "#0d0887"
             ],
             [
              0.1111111111111111,
              "#46039f"
             ],
             [
              0.2222222222222222,
              "#7201a8"
             ],
             [
              0.3333333333333333,
              "#9c179e"
             ],
             [
              0.4444444444444444,
              "#bd3786"
             ],
             [
              0.5555555555555556,
              "#d8576b"
             ],
             [
              0.6666666666666666,
              "#ed7953"
             ],
             [
              0.7777777777777778,
              "#fb9f3a"
             ],
             [
              0.8888888888888888,
              "#fdca26"
             ],
             [
              1,
              "#f0f921"
             ]
            ],
            "type": "surface"
           }
          ],
          "table": [
           {
            "cells": {
             "fill": {
              "color": "#EBF0F8"
             },
             "line": {
              "color": "white"
             }
            },
            "header": {
             "fill": {
              "color": "#C8D4E3"
             },
             "line": {
              "color": "white"
             }
            },
            "type": "table"
           }
          ]
         },
         "layout": {
          "annotationdefaults": {
           "arrowcolor": "#2a3f5f",
           "arrowhead": 0,
           "arrowwidth": 1
          },
          "autotypenumbers": "strict",
          "coloraxis": {
           "colorbar": {
            "outlinewidth": 0,
            "ticks": ""
           }
          },
          "colorscale": {
           "diverging": [
            [
             0,
             "#8e0152"
            ],
            [
             0.1,
             "#c51b7d"
            ],
            [
             0.2,
             "#de77ae"
            ],
            [
             0.3,
             "#f1b6da"
            ],
            [
             0.4,
             "#fde0ef"
            ],
            [
             0.5,
             "#f7f7f7"
            ],
            [
             0.6,
             "#e6f5d0"
            ],
            [
             0.7,
             "#b8e186"
            ],
            [
             0.8,
             "#7fbc41"
            ],
            [
             0.9,
             "#4d9221"
            ],
            [
             1,
             "#276419"
            ]
           ],
           "sequential": [
            [
             0,
             "#0d0887"
            ],
            [
             0.1111111111111111,
             "#46039f"
            ],
            [
             0.2222222222222222,
             "#7201a8"
            ],
            [
             0.3333333333333333,
             "#9c179e"
            ],
            [
             0.4444444444444444,
             "#bd3786"
            ],
            [
             0.5555555555555556,
             "#d8576b"
            ],
            [
             0.6666666666666666,
             "#ed7953"
            ],
            [
             0.7777777777777778,
             "#fb9f3a"
            ],
            [
             0.8888888888888888,
             "#fdca26"
            ],
            [
             1,
             "#f0f921"
            ]
           ],
           "sequentialminus": [
            [
             0,
             "#0d0887"
            ],
            [
             0.1111111111111111,
             "#46039f"
            ],
            [
             0.2222222222222222,
             "#7201a8"
            ],
            [
             0.3333333333333333,
             "#9c179e"
            ],
            [
             0.4444444444444444,
             "#bd3786"
            ],
            [
             0.5555555555555556,
             "#d8576b"
            ],
            [
             0.6666666666666666,
             "#ed7953"
            ],
            [
             0.7777777777777778,
             "#fb9f3a"
            ],
            [
             0.8888888888888888,
             "#fdca26"
            ],
            [
             1,
             "#f0f921"
            ]
           ]
          },
          "colorway": [
           "#636efa",
           "#EF553B",
           "#00cc96",
           "#ab63fa",
           "#FFA15A",
           "#19d3f3",
           "#FF6692",
           "#B6E880",
           "#FF97FF",
           "#FECB52"
          ],
          "font": {
           "color": "#2a3f5f"
          },
          "geo": {
           "bgcolor": "white",
           "lakecolor": "white",
           "landcolor": "#E5ECF6",
           "showlakes": true,
           "showland": true,
           "subunitcolor": "white"
          },
          "hoverlabel": {
           "align": "left"
          },
          "hovermode": "closest",
          "mapbox": {
           "style": "light"
          },
          "paper_bgcolor": "white",
          "plot_bgcolor": "#E5ECF6",
          "polar": {
           "angularaxis": {
            "gridcolor": "white",
            "linecolor": "white",
            "ticks": ""
           },
           "bgcolor": "#E5ECF6",
           "radialaxis": {
            "gridcolor": "white",
            "linecolor": "white",
            "ticks": ""
           }
          },
          "scene": {
           "xaxis": {
            "backgroundcolor": "#E5ECF6",
            "gridcolor": "white",
            "gridwidth": 2,
            "linecolor": "white",
            "showbackground": true,
            "ticks": "",
            "zerolinecolor": "white"
           },
           "yaxis": {
            "backgroundcolor": "#E5ECF6",
            "gridcolor": "white",
            "gridwidth": 2,
            "linecolor": "white",
            "showbackground": true,
            "ticks": "",
            "zerolinecolor": "white"
           },
           "zaxis": {
            "backgroundcolor": "#E5ECF6",
            "gridcolor": "white",
            "gridwidth": 2,
            "linecolor": "white",
            "showbackground": true,
            "ticks": "",
            "zerolinecolor": "white"
           }
          },
          "shapedefaults": {
           "line": {
            "color": "#2a3f5f"
           }
          },
          "ternary": {
           "aaxis": {
            "gridcolor": "white",
            "linecolor": "white",
            "ticks": ""
           },
           "baxis": {
            "gridcolor": "white",
            "linecolor": "white",
            "ticks": ""
           },
           "bgcolor": "#E5ECF6",
           "caxis": {
            "gridcolor": "white",
            "linecolor": "white",
            "ticks": ""
           }
          },
          "title": {
           "x": 0.05
          },
          "xaxis": {
           "automargin": true,
           "gridcolor": "white",
           "linecolor": "white",
           "ticks": "",
           "title": {
            "standoff": 15
           },
           "zerolinecolor": "white",
           "zerolinewidth": 2
          },
          "yaxis": {
           "automargin": true,
           "gridcolor": "white",
           "linecolor": "white",
           "ticks": "",
           "title": {
            "standoff": 15
           },
           "zerolinecolor": "white",
           "zerolinewidth": 2
          }
         }
        },
        "title": {
         "font": {
          "size": 30
         },
         "text": "Top 10 Most Important Genes Based on SHAP Values"
        },
        "xaxis": {
         "title": {
          "font": {
           "size": 25
          },
          "text": "Mean Absolute SHAP Value"
         }
        },
        "yaxis": {
         "title": {
          "font": {
           "size": 25
          },
          "text": "Gene"
         }
        }
       }
      },
      "image/png": "[encoded data removed]"
     },
     "metadata": {},
     "output_type": "display_data"
    }
   ],
   "source": [
    "best_modelname = \"RF\"\n",
    "best_model = models[best_modelname]\n",
    "preds = best_model.predict(X_test)\n",
    "classes = {0: \"Normal\", 1: \"Anomalous\"}\n",
    "cm = confusion_matrix(y_test, preds)\n",
    "print(cm)\n",
    "fig_exp, shap_values = explain_model(best_model, best_modelname, X_train, genes, return_shap = True)\n",
    "fig_exp"
   ]
  },
  {
   "cell_type": "code",
   "execution_count": null,
   "id": "0078c0b9-d0fd-4d02-8fe4-dc2c1de7ac0e",
   "metadata": {},
   "outputs": [],
   "source": []
  },
  {
   "cell_type": "code",
   "execution_count": 90,
   "id": "21b36388-80b6-4add-9fa6-6b3f532c37eb",
   "metadata": {},
   "outputs": [],
   "source": [
    "#"
   ]
  },
  {
   "cell_type": "code",
   "execution_count": 67,
   "id": "588b31f8-a7ab-44f3-a7c1-95799aa6c0aa",
   "metadata": {},
   "outputs": [
    {
     "name": "stdout",
     "output_type": "stream",
     "text": [
      "SETTING DETERMINISTIC MODE FOR REPRODUCIBILITY, SEED: 0\n"
     ]
    },
    {
     "data": {
      "text/plain": [
       "((31, 10), (74, 10))"
      ]
     },
     "execution_count": 67,
     "metadata": {},
     "output_type": "execute_result"
    }
   ],
   "source": [
    "import numpy as np \n",
    "set_deterministic(0)\n",
    "k = 20\n",
    "top_genes = shap_values[\"Gene\"].values[:k]\n",
    "idxs = []\n",
    "for gene in top_genes:\n",
    "    idx = np.argwhere(genes == gene)\n",
    "    idxs.append(idx[0][0])\n",
    "idxs = np.array(idxs)\n",
    "X_train_shap = X_train[:, idxs]\n",
    "X_test_shap = X_test[:, idxs]\n",
    "X_train_shap.shape, X_test_shap.shape"
   ]
  },
  {
   "cell_type": "code",
   "execution_count": 68,
   "id": "9f503aed-515e-42b0-b63f-7d2d67777d33",
   "metadata": {},
   "outputs": [
    {
     "name": "stdout",
     "output_type": "stream",
     "text": [
      "Number of splits for cross-validation: 5\n",
      "Unique classes in target: {np.int64(0): np.int64(16), np.int64(1): np.int64(15)}\n",
      "Cross-validation splits:  5\n",
      "Performing grid search for hyperparameter tuning...\n",
      "Grid search for LR...\n",
      "Performing grid search for LR with parameters: {'solver': ['liblinear', 'saga'], 'penalty': ['l2', 'l1', None], 'max_iter': [100, 200, 300]}\n"
     ]
    },
    {
     "name": "stderr",
     "output_type": "stream",
     "text": [
      "D:\\anaconda3\\envs\\eabin12\\Lib\\site-packages\\sklearn\\model_selection\\_validation.py:516: FitFailedWarning:\n",
      "\n",
      "\n",
      "15 fits failed out of a total of 90.\n",
      "The score on these train-test partitions for these parameters will be set to nan.\n",
      "If these failures are not expected, you can try to debug them by setting error_score='raise'.\n",
      "\n",
      "Below are more details about the failures:\n",
      "--------------------------------------------------------------------------------\n",
      "15 fits failed with the following error:\n",
      "Traceback (most recent call last):\n",
      "  File \"D:\\anaconda3\\envs\\eabin12\\Lib\\site-packages\\sklearn\\model_selection\\_validation.py\", line 859, in _fit_and_score\n",
      "    estimator.fit(X_train, y_train, **fit_params)\n",
      "  File \"D:\\anaconda3\\envs\\eabin12\\Lib\\site-packages\\sklearn\\base.py\", line 1365, in wrapper\n",
      "    return fit_method(estimator, *args, **kwargs)\n",
      "           ^^^^^^^^^^^^^^^^^^^^^^^^^^^^^^^^^^^^^^\n",
      "  File \"D:\\anaconda3\\envs\\eabin12\\Lib\\site-packages\\sklearn\\linear_model\\_logistic.py\", line 1218, in fit\n",
      "    solver = _check_solver(self.solver, self.penalty, self.dual)\n",
      "             ^^^^^^^^^^^^^^^^^^^^^^^^^^^^^^^^^^^^^^^^^^^^^^^^^^^\n",
      "  File \"D:\\anaconda3\\envs\\eabin12\\Lib\\site-packages\\sklearn\\linear_model\\_logistic.py\", line 77, in _check_solver\n",
      "    raise ValueError(\"penalty=None is not supported for the liblinear solver\")\n",
      "ValueError: penalty=None is not supported for the liblinear solver\n",
      "\n",
      "\n",
      "D:\\anaconda3\\envs\\eabin12\\Lib\\site-packages\\sklearn\\model_selection\\_search.py:1135: UserWarning:\n",
      "\n",
      "One or more of the test scores are non-finite: [0.87222222 0.91111111 0.87222222 0.91111111        nan 0.91111111\n",
      " 0.87222222 0.91111111 0.87222222 0.91111111        nan 0.91111111\n",
      " 0.87222222 0.89444444 0.87222222 0.89444444        nan 0.89444444]\n",
      "\n",
      "D:\\anaconda3\\envs\\eabin12\\Lib\\site-packages\\sklearn\\linear_model\\_sag.py:348: ConvergenceWarning:\n",
      "\n",
      "The max_iter was reached which means the coef_ did not converge\n",
      "\n"
     ]
    },
    {
     "name": "stdout",
     "output_type": "stream",
     "text": [
      "Best parameters: {'max_iter': 100, 'penalty': 'l2', 'solver': 'saga'}\n",
      "Best score: 0.9111\n",
      "Best model for LR: LogisticRegression(class_weight='balanced', solver='saga')\n",
      "Grid search for KNN...\n",
      "Performing grid search for KNN with parameters: {'n_neighbors': [3, 5, 7], 'metric': ['euclidean', 'manhattan']}\n",
      "Best parameters: {'metric': 'manhattan', 'n_neighbors': 5}\n",
      "Best score: 0.8028\n",
      "Best model for KNN: KNeighborsClassifier(metric='manhattan')\n",
      "Grid search for DT...\n",
      "Performing grid search for DT with parameters: {'max_depth': [None, 5, 10], 'min_samples_split': [2, 5, 10]}\n",
      "Best parameters: {'max_depth': 5, 'min_samples_split': 5}\n",
      "Best score: 0.7333\n",
      "Best model for DT: DecisionTreeClassifier(class_weight='balanced', max_depth=5,\n",
      "                       min_samples_split=5)\n",
      "Grid search for SVM...\n",
      "Performing grid search for SVM with parameters: {'kernel': ['linear', 'rbf'], 'C': [0.1, 1, 10]}\n",
      "Best parameters: {'C': 0.1, 'kernel': 'linear'}\n",
      "Best score: 0.8500\n",
      "Best model for SVM: SVC(C=0.1, class_weight='balanced', kernel='linear', probability=True)\n",
      "Grid search for RF...\n",
      "Performing grid search for RF with parameters: {'n_estimators': [50, 100, 200], 'max_depth': [None, 5, 10]}\n",
      "Best parameters: {'max_depth': None, 'n_estimators': 100}\n",
      "Best score: 0.8444\n",
      "Best model for RF: RandomForestClassifier(class_weight='balanced')\n"
     ]
    },
    {
     "name": "stderr",
     "output_type": "stream",
     "text": [
      "D:\\anaconda3\\envs\\eabin12\\Lib\\site-packages\\sklearn\\linear_model\\_sag.py:348: ConvergenceWarning:\n",
      "\n",
      "The max_iter was reached which means the coef_ did not converge\n",
      "\n",
      "D:\\anaconda3\\envs\\eabin12\\Lib\\site-packages\\sklearn\\linear_model\\_sag.py:348: ConvergenceWarning:\n",
      "\n",
      "The max_iter was reached which means the coef_ did not converge\n",
      "\n",
      "D:\\anaconda3\\envs\\eabin12\\Lib\\site-packages\\sklearn\\linear_model\\_sag.py:348: ConvergenceWarning:\n",
      "\n",
      "The max_iter was reached which means the coef_ did not converge\n",
      "\n",
      "D:\\anaconda3\\envs\\eabin12\\Lib\\site-packages\\sklearn\\linear_model\\_sag.py:348: ConvergenceWarning:\n",
      "\n",
      "The max_iter was reached which means the coef_ did not converge\n",
      "\n",
      "D:\\anaconda3\\envs\\eabin12\\Lib\\site-packages\\sklearn\\linear_model\\_sag.py:348: ConvergenceWarning:\n",
      "\n",
      "The max_iter was reached which means the coef_ did not converge\n",
      "\n"
     ]
    },
    {
     "name": "stdout",
     "output_type": "stream",
     "text": [
      "LR: 0.8167 (0.1160)\n",
      "KNN: 0.8306 (0.1099)\n",
      "DT: 0.7667 (0.2494)\n",
      "SVM: 0.7833 (0.1319)\n",
      "RF: 0.8667 (0.1633)\n",
      "LR [0.75, 0.888888888888889, 0.7777777777777778, 1.0, 0.6666666666666667]\n",
      "KNN [0.875, 1.0, 0.7777777777777778, 0.8333333333333333, 0.6666666666666667]\n",
      "DT [1.0, 1.0, 0.8333333333333333, 0.6666666666666667, 0.33333333333333337]\n",
      "SVM [0.5833333333333334, 0.888888888888889, 0.888888888888889, 0.888888888888889, 0.6666666666666667]\n",
      "RF [1.0, 1.0, 0.6666666666666666, 1.0, 0.6666666666666667]\n",
      "Best model: RF with roc_auc: 0.8667\n"
     ]
    }
   ],
   "source": [
    "# WITH FEATURE EXTRACTION \n",
    "models_tuple_shap, fig_roc, fig_box = baselineComparison(X_train_shap, y_train, params = ml_params, grid_search=True)"
   ]
  },
  {
   "cell_type": "code",
   "execution_count": 69,
   "id": "5c3dd87c-8d11-4c5a-b083-52f877e843fe",
   "metadata": {},
   "outputs": [
    {
     "data": {
      "text/html": [
       "<div>\n",
       "<style scoped>\n",
       "    .dataframe tbody tr th:only-of-type {\n",
       "        vertical-align: middle;\n",
       "    }\n",
       "\n",
       "    .dataframe tbody tr th {\n",
       "        vertical-align: top;\n",
       "    }\n",
       "\n",
       "    .dataframe thead th {\n",
       "        text-align: right;\n",
       "    }\n",
       "</style>\n",
       "<table border=\"1\" class=\"dataframe\">\n",
       "  <thead>\n",
       "    <tr style=\"text-align: right;\">\n",
       "      <th></th>\n",
       "      <th>Model Name</th>\n",
       "      <th>Accuracy</th>\n",
       "      <th>F1</th>\n",
       "      <th>Sensitivity</th>\n",
       "      <th>Specificity</th>\n",
       "      <th>AUC score</th>\n",
       "      <th>Precision</th>\n",
       "    </tr>\n",
       "  </thead>\n",
       "  <tbody>\n",
       "    <tr>\n",
       "      <th>4</th>\n",
       "      <td>RF</td>\n",
       "      <td>63.51</td>\n",
       "      <td>0.62</td>\n",
       "      <td>62.86</td>\n",
       "      <td>64.10</td>\n",
       "      <td>0.74</td>\n",
       "      <td>61.11</td>\n",
       "    </tr>\n",
       "    <tr>\n",
       "      <th>0</th>\n",
       "      <td>LR</td>\n",
       "      <td>67.57</td>\n",
       "      <td>0.66</td>\n",
       "      <td>65.71</td>\n",
       "      <td>69.23</td>\n",
       "      <td>0.70</td>\n",
       "      <td>65.71</td>\n",
       "    </tr>\n",
       "    <tr>\n",
       "      <th>2</th>\n",
       "      <td>DT</td>\n",
       "      <td>64.86</td>\n",
       "      <td>0.67</td>\n",
       "      <td>74.29</td>\n",
       "      <td>56.41</td>\n",
       "      <td>0.65</td>\n",
       "      <td>60.47</td>\n",
       "    </tr>\n",
       "    <tr>\n",
       "      <th>1</th>\n",
       "      <td>KNN</td>\n",
       "      <td>58.11</td>\n",
       "      <td>0.60</td>\n",
       "      <td>65.71</td>\n",
       "      <td>51.28</td>\n",
       "      <td>0.63</td>\n",
       "      <td>54.76</td>\n",
       "    </tr>\n",
       "    <tr>\n",
       "      <th>3</th>\n",
       "      <td>SVM</td>\n",
       "      <td>58.11</td>\n",
       "      <td>0.63</td>\n",
       "      <td>74.29</td>\n",
       "      <td>43.59</td>\n",
       "      <td>0.61</td>\n",
       "      <td>54.17</td>\n",
       "    </tr>\n",
       "  </tbody>\n",
       "</table>\n",
       "</div>"
      ],
      "text/plain": [
       "  Model Name  Accuracy    F1  Sensitivity  Specificity  AUC score  Precision\n",
       "4         RF     63.51  0.62        62.86        64.10       0.74      61.11\n",
       "0         LR     67.57  0.66        65.71        69.23       0.70      65.71\n",
       "2         DT     64.86  0.67        74.29        56.41       0.65      60.47\n",
       "1        KNN     58.11  0.60        65.71        51.28       0.63      54.76\n",
       "3        SVM     58.11  0.63        74.29        43.59       0.61      54.17"
      ]
     },
     "execution_count": 69,
     "metadata": {},
     "output_type": "execute_result"
    }
   ],
   "source": [
    "models_shap = {}\n",
    "for model_name, model in models_tuple_shap:\n",
    "    models_shap[model_name] = model\n",
    "       \n",
    "df_result_shap = create_results_df(models_shap, X_test_shap, y_test)\n",
    "df_result_shap"
   ]
  },
  {
   "cell_type": "code",
   "execution_count": null,
   "id": "28dbec5c-2a07-49c5-9bee-a49b47dbd5ee",
   "metadata": {},
   "outputs": [],
   "source": []
  }
 ],
 "metadata": {
  "kernelspec": {
   "display_name": "eabin12",
   "language": "python",
   "name": "eabin12"
  },
  "language_info": {
   "codemirror_mode": {
    "name": "ipython",
    "version": 3
   },
   "file_extension": ".py",
   "mimetype": "text/x-python",
   "name": "python",
   "nbconvert_exporter": "python",
   "pygments_lexer": "ipython3",
   "version": "3.12.11"
  }
 },
 "nbformat": 4,
 "nbformat_minor": 5
}
