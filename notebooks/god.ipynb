{
 "cells": [
  {
   "cell_type": "code",
   "execution_count": 1,
   "metadata": {
    "colab": {
     "base_uri": "https://localhost:8080/"
    },
    "executionInfo": {
     "elapsed": 518,
     "status": "ok",
     "timestamp": 1726489091359,
     "user": {
      "displayName": "Ugo Lomoio",
      "userId": "00301874906270436685"
     },
     "user_tz": -120
    },
    "id": "fEpy-U1MleJp",
    "outputId": "51e3c2cd-0362-42ca-ee12-1f982c9a2f2f"
   },
   "outputs": [
    {
     "name": "stdout",
     "output_type": "stream",
     "text": [
      "Python 3.10.15\n"
     ]
    }
   ],
   "source": [
    "!python --version"
   ]
  },
  {
   "cell_type": "code",
   "execution_count": 2,
   "metadata": {},
   "outputs": [
    {
     "data": {
      "text/plain": [
       "0"
      ]
     },
     "execution_count": 2,
     "metadata": {},
     "output_type": "execute_result"
    }
   ],
   "source": [
    "import gc\n",
    "gc.collect()"
   ]
  },
  {
   "cell_type": "code",
   "execution_count": 3,
   "metadata": {
    "executionInfo": {
     "elapsed": 2,
     "status": "ok",
     "timestamp": 1726489091935,
     "user": {
      "displayName": "Ugo Lomoio",
      "userId": "00301874906270436685"
     },
     "user_tz": -120
    },
    "id": "bBHXxv9Pt5km"
   },
   "outputs": [],
   "source": [
    "in_colab = False"
   ]
  },
  {
   "cell_type": "code",
   "execution_count": 4,
   "metadata": {
    "colab": {
     "base_uri": "https://localhost:8080/"
    },
    "executionInfo": {
     "elapsed": 5059,
     "status": "ok",
     "timestamp": 1726489096992,
     "user": {
      "displayName": "Ugo Lomoio",
      "userId": "00301874906270436685"
     },
     "user_tz": -120
    },
    "id": "F-72JPpeuApI",
    "outputId": "39d6be49-2ab2-4b8c-eed0-178561feefbf"
   },
   "outputs": [],
   "source": [
    "if in_colab:\n",
    "\n",
    "  from google.colab import drive\n",
    "  drive.mount(\"/content/drive/\", force_remount = True)"
   ]
  },
  {
   "cell_type": "code",
   "execution_count": 5,
   "metadata": {
    "colab": {
     "base_uri": "https://localhost:8080/"
    },
    "executionInfo": {
     "elapsed": 5780,
     "status": "ok",
     "timestamp": 1726489102770,
     "user": {
      "displayName": "Ugo Lomoio",
      "userId": "00301874906270436685"
     },
     "user_tz": -120
    },
    "id": "LaUgwdEO7m2x",
    "outputId": "6c22ff76-7d72-4af8-c2dd-8b0fe8789bf8"
   },
   "outputs": [],
   "source": [
    "if in_colab:\n",
    "  !pip install torch==2.3.0 torchvision==0.18.0 torchaudio==2.3.0 #-f https://download.pytorch.org/whl/cu121"
   ]
  },
  {
   "cell_type": "code",
   "execution_count": 6,
   "metadata": {
    "colab": {
     "base_uri": "https://localhost:8080/"
    },
    "executionInfo": {
     "elapsed": 4557,
     "status": "ok",
     "timestamp": 1726489107318,
     "user": {
      "displayName": "Ugo Lomoio",
      "userId": "00301874906270436685"
     },
     "user_tz": -120
    },
    "id": "w3mBgxEEUybD",
    "outputId": "e42a02dc-9286-4063-8716-9adbecdc1582"
   },
   "outputs": [],
   "source": [
    "if in_colab:\n",
    "  !pip install pyg_lib torch_scatter torch_sparse torch_cluster torch_spline_conv -f https://data.pyg.org/whl/torch-2.3.0+cpu.html#torch-2.3.0+cu121.html"
   ]
  },
  {
   "cell_type": "code",
   "execution_count": 7,
   "metadata": {
    "colab": {
     "base_uri": "https://localhost:8080/"
    },
    "executionInfo": {
     "elapsed": 8140,
     "status": "ok",
     "timestamp": 1726489115450,
     "user": {
      "displayName": "Ugo Lomoio",
      "userId": "00301874906270436685"
     },
     "user_tz": -120
    },
    "id": "itdjbrRe8BXv",
    "outputId": "5bc2f9b5-75ee-4bb9-ad9c-6070abcf80dd"
   },
   "outputs": [],
   "source": [
    "if in_colab:\n",
    "  !pip install torch_geometric"
   ]
  },
  {
   "cell_type": "code",
   "execution_count": 8,
   "metadata": {
    "colab": {
     "base_uri": "https://localhost:8080/"
    },
    "executionInfo": {
     "elapsed": 4455,
     "status": "ok",
     "timestamp": 1726489119866,
     "user": {
      "displayName": "Ugo Lomoio",
      "userId": "00301874906270436685"
     },
     "user_tz": -120
    },
    "id": "LSAU75x8WVtl",
    "outputId": "e02693cf-f1e2-429f-b0e6-2d2c3fe4030f"
   },
   "outputs": [],
   "source": [
    "if in_colab:\n",
    "  import locale\n",
    "  def getpreferredencoding(do_setlocale = True):\n",
    "      return \"UTF-8\"\n",
    "  locale.getpreferredencoding = getpreferredencoding\n",
    "  !pip install pygod"
   ]
  },
  {
   "cell_type": "code",
   "execution_count": 9,
   "metadata": {
    "colab": {
     "base_uri": "https://localhost:8080/",
     "height": 36
    },
    "executionInfo": {
     "elapsed": 2211,
     "status": "ok",
     "timestamp": 1726489122074,
     "user": {
      "displayName": "Ugo Lomoio",
      "userId": "00301874906270436685"
     },
     "user_tz": -120
    },
    "id": "Qypthif66dRz",
    "outputId": "c1bab72a-70e2-42c4-d6ee-abe4c5779ee3"
   },
   "outputs": [
    {
     "data": {
      "text/plain": [
       "'2.4.0+cu121'"
      ]
     },
     "execution_count": 9,
     "metadata": {},
     "output_type": "execute_result"
    }
   ],
   "source": [
    "import torch\n",
    "torch.__version__"
   ]
  },
  {
   "cell_type": "code",
   "execution_count": 10,
   "metadata": {
    "colab": {
     "base_uri": "https://localhost:8080/"
    },
    "executionInfo": {
     "elapsed": 5535,
     "status": "ok",
     "timestamp": 1726489127606,
     "user": {
      "displayName": "Ugo Lomoio",
      "userId": "00301874906270436685"
     },
     "user_tz": -120
    },
    "id": "PkwPeSplR8Jx",
    "outputId": "d42cf8d1-5831-4952-dce0-085d6992f6e0"
   },
   "outputs": [
    {
     "name": "stdout",
     "output_type": "stream",
     "text": [
      "False\n"
     ]
    }
   ],
   "source": [
    "import torch_geometric\n",
    "print(torch_geometric.typing.WITH_PYG_LIB)"
   ]
  },
  {
   "cell_type": "code",
   "execution_count": 11,
   "metadata": {
    "colab": {
     "base_uri": "https://localhost:8080/"
    },
    "executionInfo": {
     "elapsed": 43,
     "status": "ok",
     "timestamp": 1726489127606,
     "user": {
      "displayName": "Ugo Lomoio",
      "userId": "00301874906270436685"
     },
     "user_tz": -120
    },
    "id": "u7tDFrcvuNau",
    "outputId": "3e8651a9-b28c-46d9-f77e-864209e6c922"
   },
   "outputs": [],
   "source": [
    "if in_colab:\n",
    "  %cd \"/content/drive/MyDrive/Colab Notebooks/GraphOutlierDetection\" #HERE CHANGE YOUR PATH"
   ]
  },
  {
   "cell_type": "code",
   "execution_count": 12,
   "metadata": {
    "colab": {
     "base_uri": "https://localhost:8080/"
    },
    "executionInfo": {
     "elapsed": 42,
     "status": "ok",
     "timestamp": 1726489127606,
     "user": {
      "displayName": "Ugo Lomoio",
      "userId": "00301874906270436685"
     },
     "user_tz": -120
    },
    "id": "w_26dN459uQ5",
    "outputId": "308a0a6c-8985-45d9-936f-65ff95bf2660"
   },
   "outputs": [
    {
     "name": "stdout",
     "output_type": "stream",
     "text": [
      "LICENSE    god.ipynb\t\t\t      requirementstorch.txt\n",
      "README.md  god_isn.ipynb\t\t      requirementstorchcuda.txt\n",
      "adin\t   graph_temporal_trajectories.ipynb  saved_models\n",
      "assets\t   main.py\t\t\t      use_case\n",
      "gaan.pt    requirements.txt\t\t      wsl2_rapids.txt\n",
      "gnn.ipynb  requirementscuda.txt\n"
     ]
    }
   ],
   "source": [
    "!dir"
   ]
  },
  {
   "cell_type": "code",
   "execution_count": 13,
   "metadata": {
    "colab": {
     "base_uri": "https://localhost:8080/",
     "height": 36
    },
    "executionInfo": {
     "elapsed": 37,
     "status": "ok",
     "timestamp": 1726489127606,
     "user": {
      "displayName": "Ugo Lomoio",
      "userId": "00301874906270436685"
     },
     "user_tz": -120
    },
    "id": "vxPQnrvTt38b",
    "outputId": "0e71fe3c-711d-4a1a-d53e-a0e1c1f070f1"
   },
   "outputs": [
    {
     "data": {
      "text/plain": [
       "'/mnt/c/Users/ugo-c/Desktop/ADIN/Dataset/'"
      ]
     },
     "execution_count": 13,
     "metadata": {},
     "output_type": "execute_result"
    }
   ],
   "source": [
    "import os\n",
    "cwd = os.getcwd()\n",
    "sep = os.sep\n",
    "datapath = cwd + sep + \"Dataset\" + sep\n",
    "datapath"
   ]
  },
  {
   "cell_type": "code",
   "execution_count": 14,
   "metadata": {
    "executionInfo": {
     "elapsed": 32,
     "status": "ok",
     "timestamp": 1726489127606,
     "user": {
      "displayName": "Ugo Lomoio",
      "userId": "00301874906270436685"
     },
     "user_tz": -120
    },
    "id": "AU0f6v3hfdLO"
   },
   "outputs": [],
   "source": [
    "expr_filename = cwd + sep + \"use_case\"+sep+\"data\"+sep+\"bladder_cancer\"+sep+\"gene_expression_data_preprocessed.csv\"\n",
    "#expr_filename = cwd + sep + \"use_case\"+sep+\"data\"+sep+\"celiac\"+sep+\"preprocessed_data.csv\"\n",
    "output = cwd + sep + \"ouput.png\""
   ]
  },
  {
   "cell_type": "code",
   "execution_count": 15,
   "metadata": {
    "colab": {
     "base_uri": "https://localhost:8080/",
     "height": 851
    },
    "executionInfo": {
     "elapsed": 3156,
     "status": "ok",
     "timestamp": 1726489130731,
     "user": {
      "displayName": "Ugo Lomoio",
      "userId": "00301874906270436685"
     },
     "user_tz": -120
    },
    "id": "5S1HX5ACqC3N",
    "outputId": "284e6b66-d017-4345-d973-52e7ef425cde"
   },
   "outputs": [
    {
     "data": {
      "text/html": [
       "<div>\n",
       "<style scoped>\n",
       "    .dataframe tbody tr th:only-of-type {\n",
       "        vertical-align: middle;\n",
       "    }\n",
       "\n",
       "    .dataframe tbody tr th {\n",
       "        vertical-align: top;\n",
       "    }\n",
       "\n",
       "    .dataframe thead th {\n",
       "        text-align: right;\n",
       "    }\n",
       "</style>\n",
       "<table border=\"1\" class=\"dataframe\">\n",
       "  <thead>\n",
       "    <tr style=\"text-align: right;\">\n",
       "      <th></th>\n",
       "      <th>ATP2A1</th>\n",
       "      <th>SLMAP</th>\n",
       "      <th>MEOX2</th>\n",
       "      <th>HOXD3</th>\n",
       "      <th>ZNF398</th>\n",
       "      <th>PANX1</th>\n",
       "      <th>COX8C</th>\n",
       "      <th>IMPA2</th>\n",
       "      <th>TTC8</th>\n",
       "      <th>FLJ35816</th>\n",
       "      <th>...</th>\n",
       "      <th>ZFP2.1</th>\n",
       "      <th>CST9L.1</th>\n",
       "      <th>C11orf24.1</th>\n",
       "      <th>QPRT.1</th>\n",
       "      <th>LEPRE1.1</th>\n",
       "      <th>GNAS.29</th>\n",
       "      <th>RPN1.1</th>\n",
       "      <th>CYB5A.1</th>\n",
       "      <th>AP1S1.1</th>\n",
       "      <th>Target</th>\n",
       "    </tr>\n",
       "  </thead>\n",
       "  <tbody>\n",
       "    <tr>\n",
       "      <th>GSM928410</th>\n",
       "      <td>0.663336</td>\n",
       "      <td>0.529598</td>\n",
       "      <td>0.162563</td>\n",
       "      <td>0.383908</td>\n",
       "      <td>0.096852</td>\n",
       "      <td>0.137029</td>\n",
       "      <td>0.971139</td>\n",
       "      <td>0.039016</td>\n",
       "      <td>0.029115</td>\n",
       "      <td>0.530092</td>\n",
       "      <td>...</td>\n",
       "      <td>0.174781</td>\n",
       "      <td>0.759511</td>\n",
       "      <td>0.103661</td>\n",
       "      <td>0.200964</td>\n",
       "      <td>0.200289</td>\n",
       "      <td>0.397994</td>\n",
       "      <td>0.031667</td>\n",
       "      <td>0.116547</td>\n",
       "      <td>0.061299</td>\n",
       "      <td>0</td>\n",
       "    </tr>\n",
       "    <tr>\n",
       "      <th>GSM928411</th>\n",
       "      <td>0.732851</td>\n",
       "      <td>0.637804</td>\n",
       "      <td>0.087245</td>\n",
       "      <td>0.364565</td>\n",
       "      <td>0.100989</td>\n",
       "      <td>0.104867</td>\n",
       "      <td>0.968545</td>\n",
       "      <td>0.046063</td>\n",
       "      <td>0.035143</td>\n",
       "      <td>0.592064</td>\n",
       "      <td>...</td>\n",
       "      <td>0.094503</td>\n",
       "      <td>0.747333</td>\n",
       "      <td>0.085542</td>\n",
       "      <td>0.224168</td>\n",
       "      <td>0.103062</td>\n",
       "      <td>0.376746</td>\n",
       "      <td>0.028174</td>\n",
       "      <td>0.069490</td>\n",
       "      <td>0.101310</td>\n",
       "      <td>0</td>\n",
       "    </tr>\n",
       "    <tr>\n",
       "      <th>GSM928412</th>\n",
       "      <td>0.731909</td>\n",
       "      <td>0.467229</td>\n",
       "      <td>0.151392</td>\n",
       "      <td>0.410514</td>\n",
       "      <td>0.105380</td>\n",
       "      <td>0.118404</td>\n",
       "      <td>0.961028</td>\n",
       "      <td>0.043965</td>\n",
       "      <td>0.031300</td>\n",
       "      <td>0.554694</td>\n",
       "      <td>...</td>\n",
       "      <td>0.110763</td>\n",
       "      <td>0.764336</td>\n",
       "      <td>0.102852</td>\n",
       "      <td>0.236077</td>\n",
       "      <td>0.155706</td>\n",
       "      <td>0.383049</td>\n",
       "      <td>0.019629</td>\n",
       "      <td>0.077901</td>\n",
       "      <td>0.089061</td>\n",
       "      <td>0</td>\n",
       "    </tr>\n",
       "    <tr>\n",
       "      <th>GSM928413</th>\n",
       "      <td>0.756482</td>\n",
       "      <td>0.712974</td>\n",
       "      <td>0.125020</td>\n",
       "      <td>0.438931</td>\n",
       "      <td>0.072189</td>\n",
       "      <td>0.117990</td>\n",
       "      <td>0.971448</td>\n",
       "      <td>0.044214</td>\n",
       "      <td>0.031502</td>\n",
       "      <td>0.587456</td>\n",
       "      <td>...</td>\n",
       "      <td>0.052426</td>\n",
       "      <td>0.775798</td>\n",
       "      <td>0.109610</td>\n",
       "      <td>0.217205</td>\n",
       "      <td>0.176550</td>\n",
       "      <td>0.412991</td>\n",
       "      <td>0.034196</td>\n",
       "      <td>0.062415</td>\n",
       "      <td>0.061597</td>\n",
       "      <td>0</td>\n",
       "    </tr>\n",
       "    <tr>\n",
       "      <th>GSM928414</th>\n",
       "      <td>0.627336</td>\n",
       "      <td>0.374188</td>\n",
       "      <td>0.072009</td>\n",
       "      <td>0.564686</td>\n",
       "      <td>0.083819</td>\n",
       "      <td>0.094375</td>\n",
       "      <td>0.968190</td>\n",
       "      <td>0.028884</td>\n",
       "      <td>0.018645</td>\n",
       "      <td>0.596519</td>\n",
       "      <td>...</td>\n",
       "      <td>0.043576</td>\n",
       "      <td>0.792672</td>\n",
       "      <td>0.094405</td>\n",
       "      <td>0.219325</td>\n",
       "      <td>0.125886</td>\n",
       "      <td>0.396564</td>\n",
       "      <td>0.021866</td>\n",
       "      <td>0.046562</td>\n",
       "      <td>0.043234</td>\n",
       "      <td>0</td>\n",
       "    </tr>\n",
       "    <tr>\n",
       "      <th>GSM928415</th>\n",
       "      <td>0.668793</td>\n",
       "      <td>0.394460</td>\n",
       "      <td>0.122008</td>\n",
       "      <td>0.392940</td>\n",
       "      <td>0.084649</td>\n",
       "      <td>0.105771</td>\n",
       "      <td>0.973028</td>\n",
       "      <td>0.041213</td>\n",
       "      <td>0.023148</td>\n",
       "      <td>0.579087</td>\n",
       "      <td>...</td>\n",
       "      <td>0.113668</td>\n",
       "      <td>0.757963</td>\n",
       "      <td>0.079168</td>\n",
       "      <td>0.245785</td>\n",
       "      <td>0.117861</td>\n",
       "      <td>0.300823</td>\n",
       "      <td>0.027338</td>\n",
       "      <td>0.049083</td>\n",
       "      <td>0.084346</td>\n",
       "      <td>0</td>\n",
       "    </tr>\n",
       "    <tr>\n",
       "      <th>GSM928416</th>\n",
       "      <td>0.426092</td>\n",
       "      <td>0.256789</td>\n",
       "      <td>0.158605</td>\n",
       "      <td>0.744571</td>\n",
       "      <td>0.093180</td>\n",
       "      <td>0.117594</td>\n",
       "      <td>0.971882</td>\n",
       "      <td>0.050376</td>\n",
       "      <td>0.049978</td>\n",
       "      <td>0.508073</td>\n",
       "      <td>...</td>\n",
       "      <td>0.052173</td>\n",
       "      <td>0.777005</td>\n",
       "      <td>0.084534</td>\n",
       "      <td>0.231139</td>\n",
       "      <td>0.226753</td>\n",
       "      <td>0.396463</td>\n",
       "      <td>0.028637</td>\n",
       "      <td>0.082773</td>\n",
       "      <td>0.045241</td>\n",
       "      <td>1</td>\n",
       "    </tr>\n",
       "    <tr>\n",
       "      <th>GSM928417</th>\n",
       "      <td>0.543068</td>\n",
       "      <td>0.161934</td>\n",
       "      <td>0.095487</td>\n",
       "      <td>0.781442</td>\n",
       "      <td>0.045247</td>\n",
       "      <td>0.119621</td>\n",
       "      <td>0.964217</td>\n",
       "      <td>0.040574</td>\n",
       "      <td>0.030213</td>\n",
       "      <td>0.378127</td>\n",
       "      <td>...</td>\n",
       "      <td>0.051021</td>\n",
       "      <td>0.745892</td>\n",
       "      <td>0.098363</td>\n",
       "      <td>0.204016</td>\n",
       "      <td>0.191636</td>\n",
       "      <td>0.173303</td>\n",
       "      <td>0.014033</td>\n",
       "      <td>0.053147</td>\n",
       "      <td>0.035183</td>\n",
       "      <td>1</td>\n",
       "    </tr>\n",
       "    <tr>\n",
       "      <th>GSM928418</th>\n",
       "      <td>0.806099</td>\n",
       "      <td>0.783551</td>\n",
       "      <td>0.182352</td>\n",
       "      <td>0.764526</td>\n",
       "      <td>0.086602</td>\n",
       "      <td>0.122421</td>\n",
       "      <td>0.963932</td>\n",
       "      <td>0.043778</td>\n",
       "      <td>0.030160</td>\n",
       "      <td>0.501038</td>\n",
       "      <td>...</td>\n",
       "      <td>0.060801</td>\n",
       "      <td>0.801456</td>\n",
       "      <td>0.091301</td>\n",
       "      <td>0.217928</td>\n",
       "      <td>0.198903</td>\n",
       "      <td>0.358943</td>\n",
       "      <td>0.028659</td>\n",
       "      <td>0.058941</td>\n",
       "      <td>0.042113</td>\n",
       "      <td>1</td>\n",
       "    </tr>\n",
       "    <tr>\n",
       "      <th>GSM928419</th>\n",
       "      <td>0.535368</td>\n",
       "      <td>0.125626</td>\n",
       "      <td>0.101444</td>\n",
       "      <td>0.811086</td>\n",
       "      <td>0.027037</td>\n",
       "      <td>0.069629</td>\n",
       "      <td>0.970158</td>\n",
       "      <td>0.032499</td>\n",
       "      <td>0.022672</td>\n",
       "      <td>0.557364</td>\n",
       "      <td>...</td>\n",
       "      <td>0.042587</td>\n",
       "      <td>0.790621</td>\n",
       "      <td>0.065476</td>\n",
       "      <td>0.230631</td>\n",
       "      <td>0.131507</td>\n",
       "      <td>0.407219</td>\n",
       "      <td>0.016708</td>\n",
       "      <td>0.056320</td>\n",
       "      <td>0.027419</td>\n",
       "      <td>1</td>\n",
       "    </tr>\n",
       "    <tr>\n",
       "      <th>GSM928420</th>\n",
       "      <td>0.703619</td>\n",
       "      <td>0.676400</td>\n",
       "      <td>0.111034</td>\n",
       "      <td>0.846040</td>\n",
       "      <td>0.037037</td>\n",
       "      <td>0.118240</td>\n",
       "      <td>0.978038</td>\n",
       "      <td>0.029411</td>\n",
       "      <td>0.024753</td>\n",
       "      <td>0.489507</td>\n",
       "      <td>...</td>\n",
       "      <td>0.031715</td>\n",
       "      <td>0.524165</td>\n",
       "      <td>0.073408</td>\n",
       "      <td>0.158885</td>\n",
       "      <td>0.089074</td>\n",
       "      <td>0.197019</td>\n",
       "      <td>0.011845</td>\n",
       "      <td>0.043921</td>\n",
       "      <td>0.023684</td>\n",
       "      <td>1</td>\n",
       "    </tr>\n",
       "    <tr>\n",
       "      <th>GSM928421</th>\n",
       "      <td>0.817144</td>\n",
       "      <td>0.093566</td>\n",
       "      <td>0.119262</td>\n",
       "      <td>0.794505</td>\n",
       "      <td>0.022453</td>\n",
       "      <td>0.231460</td>\n",
       "      <td>0.982106</td>\n",
       "      <td>0.031482</td>\n",
       "      <td>0.013398</td>\n",
       "      <td>0.573627</td>\n",
       "      <td>...</td>\n",
       "      <td>0.022869</td>\n",
       "      <td>0.814041</td>\n",
       "      <td>0.067122</td>\n",
       "      <td>0.098457</td>\n",
       "      <td>0.108308</td>\n",
       "      <td>0.441892</td>\n",
       "      <td>0.012345</td>\n",
       "      <td>0.028432</td>\n",
       "      <td>0.019375</td>\n",
       "      <td>1</td>\n",
       "    </tr>\n",
       "    <tr>\n",
       "      <th>GSM928422</th>\n",
       "      <td>0.409728</td>\n",
       "      <td>0.093750</td>\n",
       "      <td>0.088316</td>\n",
       "      <td>0.805207</td>\n",
       "      <td>0.015399</td>\n",
       "      <td>0.108503</td>\n",
       "      <td>0.978841</td>\n",
       "      <td>0.026527</td>\n",
       "      <td>0.016016</td>\n",
       "      <td>0.512338</td>\n",
       "      <td>...</td>\n",
       "      <td>0.030848</td>\n",
       "      <td>0.775920</td>\n",
       "      <td>0.037135</td>\n",
       "      <td>0.220788</td>\n",
       "      <td>0.039122</td>\n",
       "      <td>0.444259</td>\n",
       "      <td>0.008334</td>\n",
       "      <td>0.017998</td>\n",
       "      <td>0.022897</td>\n",
       "      <td>1</td>\n",
       "    </tr>\n",
       "    <tr>\n",
       "      <th>GSM928423</th>\n",
       "      <td>0.543978</td>\n",
       "      <td>0.189580</td>\n",
       "      <td>0.109502</td>\n",
       "      <td>0.705171</td>\n",
       "      <td>0.033869</td>\n",
       "      <td>0.220051</td>\n",
       "      <td>0.976979</td>\n",
       "      <td>0.023748</td>\n",
       "      <td>0.011903</td>\n",
       "      <td>0.613839</td>\n",
       "      <td>...</td>\n",
       "      <td>0.043739</td>\n",
       "      <td>0.802150</td>\n",
       "      <td>0.046229</td>\n",
       "      <td>0.228942</td>\n",
       "      <td>0.097392</td>\n",
       "      <td>0.400422</td>\n",
       "      <td>0.014450</td>\n",
       "      <td>0.020787</td>\n",
       "      <td>0.030505</td>\n",
       "      <td>1</td>\n",
       "    </tr>\n",
       "    <tr>\n",
       "      <th>GSM928424</th>\n",
       "      <td>0.832374</td>\n",
       "      <td>0.129283</td>\n",
       "      <td>0.031621</td>\n",
       "      <td>0.798701</td>\n",
       "      <td>0.018344</td>\n",
       "      <td>0.089821</td>\n",
       "      <td>0.980335</td>\n",
       "      <td>0.022257</td>\n",
       "      <td>0.009273</td>\n",
       "      <td>0.518569</td>\n",
       "      <td>...</td>\n",
       "      <td>0.038415</td>\n",
       "      <td>0.821270</td>\n",
       "      <td>0.040871</td>\n",
       "      <td>0.208011</td>\n",
       "      <td>0.056141</td>\n",
       "      <td>0.457269</td>\n",
       "      <td>0.008398</td>\n",
       "      <td>0.014626</td>\n",
       "      <td>0.027354</td>\n",
       "      <td>1</td>\n",
       "    </tr>\n",
       "    <tr>\n",
       "      <th>GSM928425</th>\n",
       "      <td>0.815578</td>\n",
       "      <td>0.315857</td>\n",
       "      <td>0.046209</td>\n",
       "      <td>0.871397</td>\n",
       "      <td>0.018025</td>\n",
       "      <td>0.070097</td>\n",
       "      <td>0.981824</td>\n",
       "      <td>0.025346</td>\n",
       "      <td>0.009612</td>\n",
       "      <td>0.579383</td>\n",
       "      <td>...</td>\n",
       "      <td>0.019224</td>\n",
       "      <td>0.835004</td>\n",
       "      <td>0.039021</td>\n",
       "      <td>0.230470</td>\n",
       "      <td>0.043544</td>\n",
       "      <td>0.490924</td>\n",
       "      <td>0.004595</td>\n",
       "      <td>0.012720</td>\n",
       "      <td>0.021632</td>\n",
       "      <td>1</td>\n",
       "    </tr>\n",
       "    <tr>\n",
       "      <th>GSM928426</th>\n",
       "      <td>0.418700</td>\n",
       "      <td>0.074661</td>\n",
       "      <td>0.040767</td>\n",
       "      <td>0.823890</td>\n",
       "      <td>0.015405</td>\n",
       "      <td>0.054142</td>\n",
       "      <td>0.982683</td>\n",
       "      <td>0.024076</td>\n",
       "      <td>0.009506</td>\n",
       "      <td>0.470287</td>\n",
       "      <td>...</td>\n",
       "      <td>0.020391</td>\n",
       "      <td>0.786767</td>\n",
       "      <td>0.041685</td>\n",
       "      <td>0.220786</td>\n",
       "      <td>0.038490</td>\n",
       "      <td>0.290588</td>\n",
       "      <td>0.006284</td>\n",
       "      <td>0.011045</td>\n",
       "      <td>0.031467</td>\n",
       "      <td>1</td>\n",
       "    </tr>\n",
       "    <tr>\n",
       "      <th>GSM928427</th>\n",
       "      <td>0.750107</td>\n",
       "      <td>0.308633</td>\n",
       "      <td>0.022222</td>\n",
       "      <td>0.841576</td>\n",
       "      <td>0.014033</td>\n",
       "      <td>0.037842</td>\n",
       "      <td>0.986313</td>\n",
       "      <td>0.021968</td>\n",
       "      <td>0.009482</td>\n",
       "      <td>0.573926</td>\n",
       "      <td>...</td>\n",
       "      <td>0.021235</td>\n",
       "      <td>0.826842</td>\n",
       "      <td>0.038056</td>\n",
       "      <td>0.234247</td>\n",
       "      <td>0.044426</td>\n",
       "      <td>0.244766</td>\n",
       "      <td>0.008227</td>\n",
       "      <td>0.014047</td>\n",
       "      <td>0.026652</td>\n",
       "      <td>1</td>\n",
       "    </tr>\n",
       "    <tr>\n",
       "      <th>GSM928428</th>\n",
       "      <td>0.733186</td>\n",
       "      <td>0.130307</td>\n",
       "      <td>0.042095</td>\n",
       "      <td>0.802706</td>\n",
       "      <td>0.015738</td>\n",
       "      <td>0.071776</td>\n",
       "      <td>0.979202</td>\n",
       "      <td>0.019832</td>\n",
       "      <td>0.010430</td>\n",
       "      <td>0.534893</td>\n",
       "      <td>...</td>\n",
       "      <td>0.022399</td>\n",
       "      <td>0.815613</td>\n",
       "      <td>0.038222</td>\n",
       "      <td>0.214632</td>\n",
       "      <td>0.048707</td>\n",
       "      <td>0.452354</td>\n",
       "      <td>0.007390</td>\n",
       "      <td>0.016975</td>\n",
       "      <td>0.031851</td>\n",
       "      <td>1</td>\n",
       "    </tr>\n",
       "    <tr>\n",
       "      <th>GSM928429</th>\n",
       "      <td>0.604937</td>\n",
       "      <td>0.100124</td>\n",
       "      <td>0.033127</td>\n",
       "      <td>0.841069</td>\n",
       "      <td>0.018455</td>\n",
       "      <td>0.052406</td>\n",
       "      <td>0.977567</td>\n",
       "      <td>0.023292</td>\n",
       "      <td>0.013491</td>\n",
       "      <td>0.562744</td>\n",
       "      <td>...</td>\n",
       "      <td>0.021738</td>\n",
       "      <td>0.832677</td>\n",
       "      <td>0.044160</td>\n",
       "      <td>0.226783</td>\n",
       "      <td>0.041601</td>\n",
       "      <td>0.437928</td>\n",
       "      <td>0.006207</td>\n",
       "      <td>0.012716</td>\n",
       "      <td>0.023372</td>\n",
       "      <td>1</td>\n",
       "    </tr>\n",
       "    <tr>\n",
       "      <th>GSM928430</th>\n",
       "      <td>0.437868</td>\n",
       "      <td>0.140084</td>\n",
       "      <td>0.519438</td>\n",
       "      <td>0.684985</td>\n",
       "      <td>0.016173</td>\n",
       "      <td>0.076557</td>\n",
       "      <td>0.978034</td>\n",
       "      <td>0.023050</td>\n",
       "      <td>0.011165</td>\n",
       "      <td>0.481810</td>\n",
       "      <td>...</td>\n",
       "      <td>0.042978</td>\n",
       "      <td>0.518412</td>\n",
       "      <td>0.039403</td>\n",
       "      <td>0.202873</td>\n",
       "      <td>0.051938</td>\n",
       "      <td>0.181139</td>\n",
       "      <td>0.007631</td>\n",
       "      <td>0.019301</td>\n",
       "      <td>0.025718</td>\n",
       "      <td>1</td>\n",
       "    </tr>\n",
       "    <tr>\n",
       "      <th>GSM928431</th>\n",
       "      <td>0.298159</td>\n",
       "      <td>0.138758</td>\n",
       "      <td>0.058877</td>\n",
       "      <td>0.752970</td>\n",
       "      <td>0.024597</td>\n",
       "      <td>0.052569</td>\n",
       "      <td>0.984636</td>\n",
       "      <td>0.024411</td>\n",
       "      <td>0.012639</td>\n",
       "      <td>0.462050</td>\n",
       "      <td>...</td>\n",
       "      <td>0.025951</td>\n",
       "      <td>0.793100</td>\n",
       "      <td>0.039064</td>\n",
       "      <td>0.186543</td>\n",
       "      <td>0.039786</td>\n",
       "      <td>0.177563</td>\n",
       "      <td>0.005621</td>\n",
       "      <td>0.013725</td>\n",
       "      <td>0.022572</td>\n",
       "      <td>1</td>\n",
       "    </tr>\n",
       "    <tr>\n",
       "      <th>GSM928432</th>\n",
       "      <td>0.328170</td>\n",
       "      <td>0.076230</td>\n",
       "      <td>0.345729</td>\n",
       "      <td>0.778197</td>\n",
       "      <td>0.025442</td>\n",
       "      <td>0.065034</td>\n",
       "      <td>0.976318</td>\n",
       "      <td>0.022026</td>\n",
       "      <td>0.015277</td>\n",
       "      <td>0.549231</td>\n",
       "      <td>...</td>\n",
       "      <td>0.016248</td>\n",
       "      <td>0.747001</td>\n",
       "      <td>0.035090</td>\n",
       "      <td>0.207020</td>\n",
       "      <td>0.031336</td>\n",
       "      <td>0.299431</td>\n",
       "      <td>0.006948</td>\n",
       "      <td>0.272705</td>\n",
       "      <td>0.024050</td>\n",
       "      <td>1</td>\n",
       "    </tr>\n",
       "    <tr>\n",
       "      <th>GSM928433</th>\n",
       "      <td>0.184375</td>\n",
       "      <td>0.109300</td>\n",
       "      <td>0.026707</td>\n",
       "      <td>0.839303</td>\n",
       "      <td>0.018748</td>\n",
       "      <td>0.086138</td>\n",
       "      <td>0.984204</td>\n",
       "      <td>0.015195</td>\n",
       "      <td>0.006160</td>\n",
       "      <td>0.437519</td>\n",
       "      <td>...</td>\n",
       "      <td>0.026670</td>\n",
       "      <td>0.155150</td>\n",
       "      <td>0.031642</td>\n",
       "      <td>0.155018</td>\n",
       "      <td>0.058125</td>\n",
       "      <td>0.434324</td>\n",
       "      <td>0.008526</td>\n",
       "      <td>0.025031</td>\n",
       "      <td>0.015152</td>\n",
       "      <td>1</td>\n",
       "    </tr>\n",
       "  </tbody>\n",
       "</table>\n",
       "<p>24 rows × 27552 columns</p>\n",
       "</div>"
      ],
      "text/plain": [
       "             ATP2A1     SLMAP     MEOX2     HOXD3    ZNF398     PANX1  \\\n",
       "GSM928410  0.663336  0.529598  0.162563  0.383908  0.096852  0.137029   \n",
       "GSM928411  0.732851  0.637804  0.087245  0.364565  0.100989  0.104867   \n",
       "GSM928412  0.731909  0.467229  0.151392  0.410514  0.105380  0.118404   \n",
       "GSM928413  0.756482  0.712974  0.125020  0.438931  0.072189  0.117990   \n",
       "GSM928414  0.627336  0.374188  0.072009  0.564686  0.083819  0.094375   \n",
       "GSM928415  0.668793  0.394460  0.122008  0.392940  0.084649  0.105771   \n",
       "GSM928416  0.426092  0.256789  0.158605  0.744571  0.093180  0.117594   \n",
       "GSM928417  0.543068  0.161934  0.095487  0.781442  0.045247  0.119621   \n",
       "GSM928418  0.806099  0.783551  0.182352  0.764526  0.086602  0.122421   \n",
       "GSM928419  0.535368  0.125626  0.101444  0.811086  0.027037  0.069629   \n",
       "GSM928420  0.703619  0.676400  0.111034  0.846040  0.037037  0.118240   \n",
       "GSM928421  0.817144  0.093566  0.119262  0.794505  0.022453  0.231460   \n",
       "GSM928422  0.409728  0.093750  0.088316  0.805207  0.015399  0.108503   \n",
       "GSM928423  0.543978  0.189580  0.109502  0.705171  0.033869  0.220051   \n",
       "GSM928424  0.832374  0.129283  0.031621  0.798701  0.018344  0.089821   \n",
       "GSM928425  0.815578  0.315857  0.046209  0.871397  0.018025  0.070097   \n",
       "GSM928426  0.418700  0.074661  0.040767  0.823890  0.015405  0.054142   \n",
       "GSM928427  0.750107  0.308633  0.022222  0.841576  0.014033  0.037842   \n",
       "GSM928428  0.733186  0.130307  0.042095  0.802706  0.015738  0.071776   \n",
       "GSM928429  0.604937  0.100124  0.033127  0.841069  0.018455  0.052406   \n",
       "GSM928430  0.437868  0.140084  0.519438  0.684985  0.016173  0.076557   \n",
       "GSM928431  0.298159  0.138758  0.058877  0.752970  0.024597  0.052569   \n",
       "GSM928432  0.328170  0.076230  0.345729  0.778197  0.025442  0.065034   \n",
       "GSM928433  0.184375  0.109300  0.026707  0.839303  0.018748  0.086138   \n",
       "\n",
       "              COX8C     IMPA2      TTC8  FLJ35816  ...    ZFP2.1   CST9L.1  \\\n",
       "GSM928410  0.971139  0.039016  0.029115  0.530092  ...  0.174781  0.759511   \n",
       "GSM928411  0.968545  0.046063  0.035143  0.592064  ...  0.094503  0.747333   \n",
       "GSM928412  0.961028  0.043965  0.031300  0.554694  ...  0.110763  0.764336   \n",
       "GSM928413  0.971448  0.044214  0.031502  0.587456  ...  0.052426  0.775798   \n",
       "GSM928414  0.968190  0.028884  0.018645  0.596519  ...  0.043576  0.792672   \n",
       "GSM928415  0.973028  0.041213  0.023148  0.579087  ...  0.113668  0.757963   \n",
       "GSM928416  0.971882  0.050376  0.049978  0.508073  ...  0.052173  0.777005   \n",
       "GSM928417  0.964217  0.040574  0.030213  0.378127  ...  0.051021  0.745892   \n",
       "GSM928418  0.963932  0.043778  0.030160  0.501038  ...  0.060801  0.801456   \n",
       "GSM928419  0.970158  0.032499  0.022672  0.557364  ...  0.042587  0.790621   \n",
       "GSM928420  0.978038  0.029411  0.024753  0.489507  ...  0.031715  0.524165   \n",
       "GSM928421  0.982106  0.031482  0.013398  0.573627  ...  0.022869  0.814041   \n",
       "GSM928422  0.978841  0.026527  0.016016  0.512338  ...  0.030848  0.775920   \n",
       "GSM928423  0.976979  0.023748  0.011903  0.613839  ...  0.043739  0.802150   \n",
       "GSM928424  0.980335  0.022257  0.009273  0.518569  ...  0.038415  0.821270   \n",
       "GSM928425  0.981824  0.025346  0.009612  0.579383  ...  0.019224  0.835004   \n",
       "GSM928426  0.982683  0.024076  0.009506  0.470287  ...  0.020391  0.786767   \n",
       "GSM928427  0.986313  0.021968  0.009482  0.573926  ...  0.021235  0.826842   \n",
       "GSM928428  0.979202  0.019832  0.010430  0.534893  ...  0.022399  0.815613   \n",
       "GSM928429  0.977567  0.023292  0.013491  0.562744  ...  0.021738  0.832677   \n",
       "GSM928430  0.978034  0.023050  0.011165  0.481810  ...  0.042978  0.518412   \n",
       "GSM928431  0.984636  0.024411  0.012639  0.462050  ...  0.025951  0.793100   \n",
       "GSM928432  0.976318  0.022026  0.015277  0.549231  ...  0.016248  0.747001   \n",
       "GSM928433  0.984204  0.015195  0.006160  0.437519  ...  0.026670  0.155150   \n",
       "\n",
       "           C11orf24.1    QPRT.1  LEPRE1.1   GNAS.29    RPN1.1   CYB5A.1  \\\n",
       "GSM928410    0.103661  0.200964  0.200289  0.397994  0.031667  0.116547   \n",
       "GSM928411    0.085542  0.224168  0.103062  0.376746  0.028174  0.069490   \n",
       "GSM928412    0.102852  0.236077  0.155706  0.383049  0.019629  0.077901   \n",
       "GSM928413    0.109610  0.217205  0.176550  0.412991  0.034196  0.062415   \n",
       "GSM928414    0.094405  0.219325  0.125886  0.396564  0.021866  0.046562   \n",
       "GSM928415    0.079168  0.245785  0.117861  0.300823  0.027338  0.049083   \n",
       "GSM928416    0.084534  0.231139  0.226753  0.396463  0.028637  0.082773   \n",
       "GSM928417    0.098363  0.204016  0.191636  0.173303  0.014033  0.053147   \n",
       "GSM928418    0.091301  0.217928  0.198903  0.358943  0.028659  0.058941   \n",
       "GSM928419    0.065476  0.230631  0.131507  0.407219  0.016708  0.056320   \n",
       "GSM928420    0.073408  0.158885  0.089074  0.197019  0.011845  0.043921   \n",
       "GSM928421    0.067122  0.098457  0.108308  0.441892  0.012345  0.028432   \n",
       "GSM928422    0.037135  0.220788  0.039122  0.444259  0.008334  0.017998   \n",
       "GSM928423    0.046229  0.228942  0.097392  0.400422  0.014450  0.020787   \n",
       "GSM928424    0.040871  0.208011  0.056141  0.457269  0.008398  0.014626   \n",
       "GSM928425    0.039021  0.230470  0.043544  0.490924  0.004595  0.012720   \n",
       "GSM928426    0.041685  0.220786  0.038490  0.290588  0.006284  0.011045   \n",
       "GSM928427    0.038056  0.234247  0.044426  0.244766  0.008227  0.014047   \n",
       "GSM928428    0.038222  0.214632  0.048707  0.452354  0.007390  0.016975   \n",
       "GSM928429    0.044160  0.226783  0.041601  0.437928  0.006207  0.012716   \n",
       "GSM928430    0.039403  0.202873  0.051938  0.181139  0.007631  0.019301   \n",
       "GSM928431    0.039064  0.186543  0.039786  0.177563  0.005621  0.013725   \n",
       "GSM928432    0.035090  0.207020  0.031336  0.299431  0.006948  0.272705   \n",
       "GSM928433    0.031642  0.155018  0.058125  0.434324  0.008526  0.025031   \n",
       "\n",
       "            AP1S1.1  Target  \n",
       "GSM928410  0.061299       0  \n",
       "GSM928411  0.101310       0  \n",
       "GSM928412  0.089061       0  \n",
       "GSM928413  0.061597       0  \n",
       "GSM928414  0.043234       0  \n",
       "GSM928415  0.084346       0  \n",
       "GSM928416  0.045241       1  \n",
       "GSM928417  0.035183       1  \n",
       "GSM928418  0.042113       1  \n",
       "GSM928419  0.027419       1  \n",
       "GSM928420  0.023684       1  \n",
       "GSM928421  0.019375       1  \n",
       "GSM928422  0.022897       1  \n",
       "GSM928423  0.030505       1  \n",
       "GSM928424  0.027354       1  \n",
       "GSM928425  0.021632       1  \n",
       "GSM928426  0.031467       1  \n",
       "GSM928427  0.026652       1  \n",
       "GSM928428  0.031851       1  \n",
       "GSM928429  0.023372       1  \n",
       "GSM928430  0.025718       1  \n",
       "GSM928431  0.022572       1  \n",
       "GSM928432  0.024050       1  \n",
       "GSM928433  0.015152       1  \n",
       "\n",
       "[24 rows x 27552 columns]"
      ]
     },
     "execution_count": 15,
     "metadata": {},
     "output_type": "execute_result"
    }
   ],
   "source": [
    "import pandas as pd\n",
    "\n",
    "expr = pd.read_csv(expr_filename, index_col = 0)\n",
    "expr"
   ]
  },
  {
   "cell_type": "code",
   "execution_count": 16,
   "metadata": {
    "colab": {
     "base_uri": "https://localhost:8080/",
     "height": 833
    },
    "executionInfo": {
     "elapsed": 10,
     "status": "ok",
     "timestamp": 1726489130731,
     "user": {
      "displayName": "Ugo Lomoio",
      "userId": "00301874906270436685"
     },
     "user_tz": -120
    },
    "id": "e-wUqBx8oZW1",
    "outputId": "8d9f9640-4b19-4afd-d5fa-2fce952d5fbe"
   },
   "outputs": [
    {
     "data": {
      "text/html": [
       "<div>\n",
       "<style scoped>\n",
       "    .dataframe tbody tr th:only-of-type {\n",
       "        vertical-align: middle;\n",
       "    }\n",
       "\n",
       "    .dataframe tbody tr th {\n",
       "        vertical-align: top;\n",
       "    }\n",
       "\n",
       "    .dataframe thead th {\n",
       "        text-align: right;\n",
       "    }\n",
       "</style>\n",
       "<table border=\"1\" class=\"dataframe\">\n",
       "  <thead>\n",
       "    <tr style=\"text-align: right;\">\n",
       "      <th></th>\n",
       "      <th>Target</th>\n",
       "    </tr>\n",
       "  </thead>\n",
       "  <tbody>\n",
       "    <tr>\n",
       "      <th>GSM928410</th>\n",
       "      <td>0</td>\n",
       "    </tr>\n",
       "    <tr>\n",
       "      <th>GSM928411</th>\n",
       "      <td>0</td>\n",
       "    </tr>\n",
       "    <tr>\n",
       "      <th>GSM928412</th>\n",
       "      <td>0</td>\n",
       "    </tr>\n",
       "    <tr>\n",
       "      <th>GSM928413</th>\n",
       "      <td>0</td>\n",
       "    </tr>\n",
       "    <tr>\n",
       "      <th>GSM928414</th>\n",
       "      <td>0</td>\n",
       "    </tr>\n",
       "    <tr>\n",
       "      <th>GSM928415</th>\n",
       "      <td>0</td>\n",
       "    </tr>\n",
       "    <tr>\n",
       "      <th>GSM928416</th>\n",
       "      <td>1</td>\n",
       "    </tr>\n",
       "    <tr>\n",
       "      <th>GSM928417</th>\n",
       "      <td>1</td>\n",
       "    </tr>\n",
       "    <tr>\n",
       "      <th>GSM928418</th>\n",
       "      <td>1</td>\n",
       "    </tr>\n",
       "    <tr>\n",
       "      <th>GSM928419</th>\n",
       "      <td>1</td>\n",
       "    </tr>\n",
       "    <tr>\n",
       "      <th>GSM928420</th>\n",
       "      <td>1</td>\n",
       "    </tr>\n",
       "    <tr>\n",
       "      <th>GSM928421</th>\n",
       "      <td>1</td>\n",
       "    </tr>\n",
       "    <tr>\n",
       "      <th>GSM928422</th>\n",
       "      <td>1</td>\n",
       "    </tr>\n",
       "    <tr>\n",
       "      <th>GSM928423</th>\n",
       "      <td>1</td>\n",
       "    </tr>\n",
       "    <tr>\n",
       "      <th>GSM928424</th>\n",
       "      <td>1</td>\n",
       "    </tr>\n",
       "    <tr>\n",
       "      <th>GSM928425</th>\n",
       "      <td>1</td>\n",
       "    </tr>\n",
       "    <tr>\n",
       "      <th>GSM928426</th>\n",
       "      <td>1</td>\n",
       "    </tr>\n",
       "    <tr>\n",
       "      <th>GSM928427</th>\n",
       "      <td>1</td>\n",
       "    </tr>\n",
       "    <tr>\n",
       "      <th>GSM928428</th>\n",
       "      <td>1</td>\n",
       "    </tr>\n",
       "    <tr>\n",
       "      <th>GSM928429</th>\n",
       "      <td>1</td>\n",
       "    </tr>\n",
       "    <tr>\n",
       "      <th>GSM928430</th>\n",
       "      <td>1</td>\n",
       "    </tr>\n",
       "    <tr>\n",
       "      <th>GSM928431</th>\n",
       "      <td>1</td>\n",
       "    </tr>\n",
       "    <tr>\n",
       "      <th>GSM928432</th>\n",
       "      <td>1</td>\n",
       "    </tr>\n",
       "    <tr>\n",
       "      <th>GSM928433</th>\n",
       "      <td>1</td>\n",
       "    </tr>\n",
       "  </tbody>\n",
       "</table>\n",
       "</div>"
      ],
      "text/plain": [
       "           Target\n",
       "GSM928410       0\n",
       "GSM928411       0\n",
       "GSM928412       0\n",
       "GSM928413       0\n",
       "GSM928414       0\n",
       "GSM928415       0\n",
       "GSM928416       1\n",
       "GSM928417       1\n",
       "GSM928418       1\n",
       "GSM928419       1\n",
       "GSM928420       1\n",
       "GSM928421       1\n",
       "GSM928422       1\n",
       "GSM928423       1\n",
       "GSM928424       1\n",
       "GSM928425       1\n",
       "GSM928426       1\n",
       "GSM928427       1\n",
       "GSM928428       1\n",
       "GSM928429       1\n",
       "GSM928430       1\n",
       "GSM928431       1\n",
       "GSM928432       1\n",
       "GSM928433       1"
      ]
     },
     "execution_count": 16,
     "metadata": {},
     "output_type": "execute_result"
    }
   ],
   "source": [
    "clinic = pd.DataFrame(expr[\"Target\"])\n",
    "clinic"
   ]
  },
  {
   "cell_type": "code",
   "execution_count": 17,
   "metadata": {
    "scrolled": true
   },
   "outputs": [
    {
     "data": {
      "text/html": [
       "<div>\n",
       "<style scoped>\n",
       "    .dataframe tbody tr th:only-of-type {\n",
       "        vertical-align: middle;\n",
       "    }\n",
       "\n",
       "    .dataframe tbody tr th {\n",
       "        vertical-align: top;\n",
       "    }\n",
       "\n",
       "    .dataframe thead th {\n",
       "        text-align: right;\n",
       "    }\n",
       "</style>\n",
       "<table border=\"1\" class=\"dataframe\">\n",
       "  <thead>\n",
       "    <tr style=\"text-align: right;\">\n",
       "      <th></th>\n",
       "      <th>ATP2A1</th>\n",
       "      <th>SLMAP</th>\n",
       "      <th>MEOX2</th>\n",
       "      <th>HOXD3</th>\n",
       "      <th>ZNF398</th>\n",
       "      <th>PANX1</th>\n",
       "      <th>COX8C</th>\n",
       "      <th>IMPA2</th>\n",
       "      <th>TTC8</th>\n",
       "      <th>FLJ35816</th>\n",
       "      <th>...</th>\n",
       "      <th>A2ML1.1</th>\n",
       "      <th>ZFP2.1</th>\n",
       "      <th>CST9L.1</th>\n",
       "      <th>C11orf24.1</th>\n",
       "      <th>QPRT.1</th>\n",
       "      <th>LEPRE1.1</th>\n",
       "      <th>GNAS.29</th>\n",
       "      <th>RPN1.1</th>\n",
       "      <th>CYB5A.1</th>\n",
       "      <th>AP1S1.1</th>\n",
       "    </tr>\n",
       "  </thead>\n",
       "  <tbody>\n",
       "    <tr>\n",
       "      <th>GSM928410</th>\n",
       "      <td>0.663336</td>\n",
       "      <td>0.529598</td>\n",
       "      <td>0.162563</td>\n",
       "      <td>0.383908</td>\n",
       "      <td>0.096852</td>\n",
       "      <td>0.137029</td>\n",
       "      <td>0.971139</td>\n",
       "      <td>0.039016</td>\n",
       "      <td>0.029115</td>\n",
       "      <td>0.530092</td>\n",
       "      <td>...</td>\n",
       "      <td>0.626678</td>\n",
       "      <td>0.174781</td>\n",
       "      <td>0.759511</td>\n",
       "      <td>0.103661</td>\n",
       "      <td>0.200964</td>\n",
       "      <td>0.200289</td>\n",
       "      <td>0.397994</td>\n",
       "      <td>0.031667</td>\n",
       "      <td>0.116547</td>\n",
       "      <td>0.061299</td>\n",
       "    </tr>\n",
       "    <tr>\n",
       "      <th>GSM928411</th>\n",
       "      <td>0.732851</td>\n",
       "      <td>0.637804</td>\n",
       "      <td>0.087245</td>\n",
       "      <td>0.364565</td>\n",
       "      <td>0.100989</td>\n",
       "      <td>0.104867</td>\n",
       "      <td>0.968545</td>\n",
       "      <td>0.046063</td>\n",
       "      <td>0.035143</td>\n",
       "      <td>0.592064</td>\n",
       "      <td>...</td>\n",
       "      <td>0.671998</td>\n",
       "      <td>0.094503</td>\n",
       "      <td>0.747333</td>\n",
       "      <td>0.085542</td>\n",
       "      <td>0.224168</td>\n",
       "      <td>0.103062</td>\n",
       "      <td>0.376746</td>\n",
       "      <td>0.028174</td>\n",
       "      <td>0.069490</td>\n",
       "      <td>0.101310</td>\n",
       "    </tr>\n",
       "    <tr>\n",
       "      <th>GSM928412</th>\n",
       "      <td>0.731909</td>\n",
       "      <td>0.467229</td>\n",
       "      <td>0.151392</td>\n",
       "      <td>0.410514</td>\n",
       "      <td>0.105380</td>\n",
       "      <td>0.118404</td>\n",
       "      <td>0.961028</td>\n",
       "      <td>0.043965</td>\n",
       "      <td>0.031300</td>\n",
       "      <td>0.554694</td>\n",
       "      <td>...</td>\n",
       "      <td>0.602572</td>\n",
       "      <td>0.110763</td>\n",
       "      <td>0.764336</td>\n",
       "      <td>0.102852</td>\n",
       "      <td>0.236077</td>\n",
       "      <td>0.155706</td>\n",
       "      <td>0.383049</td>\n",
       "      <td>0.019629</td>\n",
       "      <td>0.077901</td>\n",
       "      <td>0.089061</td>\n",
       "    </tr>\n",
       "    <tr>\n",
       "      <th>GSM928413</th>\n",
       "      <td>0.756482</td>\n",
       "      <td>0.712974</td>\n",
       "      <td>0.125020</td>\n",
       "      <td>0.438931</td>\n",
       "      <td>0.072189</td>\n",
       "      <td>0.117990</td>\n",
       "      <td>0.971448</td>\n",
       "      <td>0.044214</td>\n",
       "      <td>0.031502</td>\n",
       "      <td>0.587456</td>\n",
       "      <td>...</td>\n",
       "      <td>0.627324</td>\n",
       "      <td>0.052426</td>\n",
       "      <td>0.775798</td>\n",
       "      <td>0.109610</td>\n",
       "      <td>0.217205</td>\n",
       "      <td>0.176550</td>\n",
       "      <td>0.412991</td>\n",
       "      <td>0.034196</td>\n",
       "      <td>0.062415</td>\n",
       "      <td>0.061597</td>\n",
       "    </tr>\n",
       "    <tr>\n",
       "      <th>GSM928414</th>\n",
       "      <td>0.627336</td>\n",
       "      <td>0.374188</td>\n",
       "      <td>0.072009</td>\n",
       "      <td>0.564686</td>\n",
       "      <td>0.083819</td>\n",
       "      <td>0.094375</td>\n",
       "      <td>0.968190</td>\n",
       "      <td>0.028884</td>\n",
       "      <td>0.018645</td>\n",
       "      <td>0.596519</td>\n",
       "      <td>...</td>\n",
       "      <td>0.710886</td>\n",
       "      <td>0.043576</td>\n",
       "      <td>0.792672</td>\n",
       "      <td>0.094405</td>\n",
       "      <td>0.219325</td>\n",
       "      <td>0.125886</td>\n",
       "      <td>0.396564</td>\n",
       "      <td>0.021866</td>\n",
       "      <td>0.046562</td>\n",
       "      <td>0.043234</td>\n",
       "    </tr>\n",
       "    <tr>\n",
       "      <th>GSM928415</th>\n",
       "      <td>0.668793</td>\n",
       "      <td>0.394460</td>\n",
       "      <td>0.122008</td>\n",
       "      <td>0.392940</td>\n",
       "      <td>0.084649</td>\n",
       "      <td>0.105771</td>\n",
       "      <td>0.973028</td>\n",
       "      <td>0.041213</td>\n",
       "      <td>0.023148</td>\n",
       "      <td>0.579087</td>\n",
       "      <td>...</td>\n",
       "      <td>0.658017</td>\n",
       "      <td>0.113668</td>\n",
       "      <td>0.757963</td>\n",
       "      <td>0.079168</td>\n",
       "      <td>0.245785</td>\n",
       "      <td>0.117861</td>\n",
       "      <td>0.300823</td>\n",
       "      <td>0.027338</td>\n",
       "      <td>0.049083</td>\n",
       "      <td>0.084346</td>\n",
       "    </tr>\n",
       "    <tr>\n",
       "      <th>GSM928416</th>\n",
       "      <td>0.426092</td>\n",
       "      <td>0.256789</td>\n",
       "      <td>0.158605</td>\n",
       "      <td>0.744571</td>\n",
       "      <td>0.093180</td>\n",
       "      <td>0.117594</td>\n",
       "      <td>0.971882</td>\n",
       "      <td>0.050376</td>\n",
       "      <td>0.049978</td>\n",
       "      <td>0.508073</td>\n",
       "      <td>...</td>\n",
       "      <td>0.221204</td>\n",
       "      <td>0.052173</td>\n",
       "      <td>0.777005</td>\n",
       "      <td>0.084534</td>\n",
       "      <td>0.231139</td>\n",
       "      <td>0.226753</td>\n",
       "      <td>0.396463</td>\n",
       "      <td>0.028637</td>\n",
       "      <td>0.082773</td>\n",
       "      <td>0.045241</td>\n",
       "    </tr>\n",
       "    <tr>\n",
       "      <th>GSM928417</th>\n",
       "      <td>0.543068</td>\n",
       "      <td>0.161934</td>\n",
       "      <td>0.095487</td>\n",
       "      <td>0.781442</td>\n",
       "      <td>0.045247</td>\n",
       "      <td>0.119621</td>\n",
       "      <td>0.964217</td>\n",
       "      <td>0.040574</td>\n",
       "      <td>0.030213</td>\n",
       "      <td>0.378127</td>\n",
       "      <td>...</td>\n",
       "      <td>0.268238</td>\n",
       "      <td>0.051021</td>\n",
       "      <td>0.745892</td>\n",
       "      <td>0.098363</td>\n",
       "      <td>0.204016</td>\n",
       "      <td>0.191636</td>\n",
       "      <td>0.173303</td>\n",
       "      <td>0.014033</td>\n",
       "      <td>0.053147</td>\n",
       "      <td>0.035183</td>\n",
       "    </tr>\n",
       "    <tr>\n",
       "      <th>GSM928418</th>\n",
       "      <td>0.806099</td>\n",
       "      <td>0.783551</td>\n",
       "      <td>0.182352</td>\n",
       "      <td>0.764526</td>\n",
       "      <td>0.086602</td>\n",
       "      <td>0.122421</td>\n",
       "      <td>0.963932</td>\n",
       "      <td>0.043778</td>\n",
       "      <td>0.030160</td>\n",
       "      <td>0.501038</td>\n",
       "      <td>...</td>\n",
       "      <td>0.265713</td>\n",
       "      <td>0.060801</td>\n",
       "      <td>0.801456</td>\n",
       "      <td>0.091301</td>\n",
       "      <td>0.217928</td>\n",
       "      <td>0.198903</td>\n",
       "      <td>0.358943</td>\n",
       "      <td>0.028659</td>\n",
       "      <td>0.058941</td>\n",
       "      <td>0.042113</td>\n",
       "    </tr>\n",
       "    <tr>\n",
       "      <th>GSM928419</th>\n",
       "      <td>0.535368</td>\n",
       "      <td>0.125626</td>\n",
       "      <td>0.101444</td>\n",
       "      <td>0.811086</td>\n",
       "      <td>0.027037</td>\n",
       "      <td>0.069629</td>\n",
       "      <td>0.970158</td>\n",
       "      <td>0.032499</td>\n",
       "      <td>0.022672</td>\n",
       "      <td>0.557364</td>\n",
       "      <td>...</td>\n",
       "      <td>0.141304</td>\n",
       "      <td>0.042587</td>\n",
       "      <td>0.790621</td>\n",
       "      <td>0.065476</td>\n",
       "      <td>0.230631</td>\n",
       "      <td>0.131507</td>\n",
       "      <td>0.407219</td>\n",
       "      <td>0.016708</td>\n",
       "      <td>0.056320</td>\n",
       "      <td>0.027419</td>\n",
       "    </tr>\n",
       "    <tr>\n",
       "      <th>GSM928420</th>\n",
       "      <td>0.703619</td>\n",
       "      <td>0.676400</td>\n",
       "      <td>0.111034</td>\n",
       "      <td>0.846040</td>\n",
       "      <td>0.037037</td>\n",
       "      <td>0.118240</td>\n",
       "      <td>0.978038</td>\n",
       "      <td>0.029411</td>\n",
       "      <td>0.024753</td>\n",
       "      <td>0.489507</td>\n",
       "      <td>...</td>\n",
       "      <td>0.163198</td>\n",
       "      <td>0.031715</td>\n",
       "      <td>0.524165</td>\n",
       "      <td>0.073408</td>\n",
       "      <td>0.158885</td>\n",
       "      <td>0.089074</td>\n",
       "      <td>0.197019</td>\n",
       "      <td>0.011845</td>\n",
       "      <td>0.043921</td>\n",
       "      <td>0.023684</td>\n",
       "    </tr>\n",
       "    <tr>\n",
       "      <th>GSM928421</th>\n",
       "      <td>0.817144</td>\n",
       "      <td>0.093566</td>\n",
       "      <td>0.119262</td>\n",
       "      <td>0.794505</td>\n",
       "      <td>0.022453</td>\n",
       "      <td>0.231460</td>\n",
       "      <td>0.982106</td>\n",
       "      <td>0.031482</td>\n",
       "      <td>0.013398</td>\n",
       "      <td>0.573627</td>\n",
       "      <td>...</td>\n",
       "      <td>0.151882</td>\n",
       "      <td>0.022869</td>\n",
       "      <td>0.814041</td>\n",
       "      <td>0.067122</td>\n",
       "      <td>0.098457</td>\n",
       "      <td>0.108308</td>\n",
       "      <td>0.441892</td>\n",
       "      <td>0.012345</td>\n",
       "      <td>0.028432</td>\n",
       "      <td>0.019375</td>\n",
       "    </tr>\n",
       "    <tr>\n",
       "      <th>GSM928422</th>\n",
       "      <td>0.409728</td>\n",
       "      <td>0.093750</td>\n",
       "      <td>0.088316</td>\n",
       "      <td>0.805207</td>\n",
       "      <td>0.015399</td>\n",
       "      <td>0.108503</td>\n",
       "      <td>0.978841</td>\n",
       "      <td>0.026527</td>\n",
       "      <td>0.016016</td>\n",
       "      <td>0.512338</td>\n",
       "      <td>...</td>\n",
       "      <td>0.227843</td>\n",
       "      <td>0.030848</td>\n",
       "      <td>0.775920</td>\n",
       "      <td>0.037135</td>\n",
       "      <td>0.220788</td>\n",
       "      <td>0.039122</td>\n",
       "      <td>0.444259</td>\n",
       "      <td>0.008334</td>\n",
       "      <td>0.017998</td>\n",
       "      <td>0.022897</td>\n",
       "    </tr>\n",
       "    <tr>\n",
       "      <th>GSM928423</th>\n",
       "      <td>0.543978</td>\n",
       "      <td>0.189580</td>\n",
       "      <td>0.109502</td>\n",
       "      <td>0.705171</td>\n",
       "      <td>0.033869</td>\n",
       "      <td>0.220051</td>\n",
       "      <td>0.976979</td>\n",
       "      <td>0.023748</td>\n",
       "      <td>0.011903</td>\n",
       "      <td>0.613839</td>\n",
       "      <td>...</td>\n",
       "      <td>0.227618</td>\n",
       "      <td>0.043739</td>\n",
       "      <td>0.802150</td>\n",
       "      <td>0.046229</td>\n",
       "      <td>0.228942</td>\n",
       "      <td>0.097392</td>\n",
       "      <td>0.400422</td>\n",
       "      <td>0.014450</td>\n",
       "      <td>0.020787</td>\n",
       "      <td>0.030505</td>\n",
       "    </tr>\n",
       "    <tr>\n",
       "      <th>GSM928424</th>\n",
       "      <td>0.832374</td>\n",
       "      <td>0.129283</td>\n",
       "      <td>0.031621</td>\n",
       "      <td>0.798701</td>\n",
       "      <td>0.018344</td>\n",
       "      <td>0.089821</td>\n",
       "      <td>0.980335</td>\n",
       "      <td>0.022257</td>\n",
       "      <td>0.009273</td>\n",
       "      <td>0.518569</td>\n",
       "      <td>...</td>\n",
       "      <td>0.132613</td>\n",
       "      <td>0.038415</td>\n",
       "      <td>0.821270</td>\n",
       "      <td>0.040871</td>\n",
       "      <td>0.208011</td>\n",
       "      <td>0.056141</td>\n",
       "      <td>0.457269</td>\n",
       "      <td>0.008398</td>\n",
       "      <td>0.014626</td>\n",
       "      <td>0.027354</td>\n",
       "    </tr>\n",
       "    <tr>\n",
       "      <th>GSM928425</th>\n",
       "      <td>0.815578</td>\n",
       "      <td>0.315857</td>\n",
       "      <td>0.046209</td>\n",
       "      <td>0.871397</td>\n",
       "      <td>0.018025</td>\n",
       "      <td>0.070097</td>\n",
       "      <td>0.981824</td>\n",
       "      <td>0.025346</td>\n",
       "      <td>0.009612</td>\n",
       "      <td>0.579383</td>\n",
       "      <td>...</td>\n",
       "      <td>0.316190</td>\n",
       "      <td>0.019224</td>\n",
       "      <td>0.835004</td>\n",
       "      <td>0.039021</td>\n",
       "      <td>0.230470</td>\n",
       "      <td>0.043544</td>\n",
       "      <td>0.490924</td>\n",
       "      <td>0.004595</td>\n",
       "      <td>0.012720</td>\n",
       "      <td>0.021632</td>\n",
       "    </tr>\n",
       "    <tr>\n",
       "      <th>GSM928426</th>\n",
       "      <td>0.418700</td>\n",
       "      <td>0.074661</td>\n",
       "      <td>0.040767</td>\n",
       "      <td>0.823890</td>\n",
       "      <td>0.015405</td>\n",
       "      <td>0.054142</td>\n",
       "      <td>0.982683</td>\n",
       "      <td>0.024076</td>\n",
       "      <td>0.009506</td>\n",
       "      <td>0.470287</td>\n",
       "      <td>...</td>\n",
       "      <td>0.140426</td>\n",
       "      <td>0.020391</td>\n",
       "      <td>0.786767</td>\n",
       "      <td>0.041685</td>\n",
       "      <td>0.220786</td>\n",
       "      <td>0.038490</td>\n",
       "      <td>0.290588</td>\n",
       "      <td>0.006284</td>\n",
       "      <td>0.011045</td>\n",
       "      <td>0.031467</td>\n",
       "    </tr>\n",
       "    <tr>\n",
       "      <th>GSM928427</th>\n",
       "      <td>0.750107</td>\n",
       "      <td>0.308633</td>\n",
       "      <td>0.022222</td>\n",
       "      <td>0.841576</td>\n",
       "      <td>0.014033</td>\n",
       "      <td>0.037842</td>\n",
       "      <td>0.986313</td>\n",
       "      <td>0.021968</td>\n",
       "      <td>0.009482</td>\n",
       "      <td>0.573926</td>\n",
       "      <td>...</td>\n",
       "      <td>0.145121</td>\n",
       "      <td>0.021235</td>\n",
       "      <td>0.826842</td>\n",
       "      <td>0.038056</td>\n",
       "      <td>0.234247</td>\n",
       "      <td>0.044426</td>\n",
       "      <td>0.244766</td>\n",
       "      <td>0.008227</td>\n",
       "      <td>0.014047</td>\n",
       "      <td>0.026652</td>\n",
       "    </tr>\n",
       "    <tr>\n",
       "      <th>GSM928428</th>\n",
       "      <td>0.733186</td>\n",
       "      <td>0.130307</td>\n",
       "      <td>0.042095</td>\n",
       "      <td>0.802706</td>\n",
       "      <td>0.015738</td>\n",
       "      <td>0.071776</td>\n",
       "      <td>0.979202</td>\n",
       "      <td>0.019832</td>\n",
       "      <td>0.010430</td>\n",
       "      <td>0.534893</td>\n",
       "      <td>...</td>\n",
       "      <td>0.201235</td>\n",
       "      <td>0.022399</td>\n",
       "      <td>0.815613</td>\n",
       "      <td>0.038222</td>\n",
       "      <td>0.214632</td>\n",
       "      <td>0.048707</td>\n",
       "      <td>0.452354</td>\n",
       "      <td>0.007390</td>\n",
       "      <td>0.016975</td>\n",
       "      <td>0.031851</td>\n",
       "    </tr>\n",
       "    <tr>\n",
       "      <th>GSM928429</th>\n",
       "      <td>0.604937</td>\n",
       "      <td>0.100124</td>\n",
       "      <td>0.033127</td>\n",
       "      <td>0.841069</td>\n",
       "      <td>0.018455</td>\n",
       "      <td>0.052406</td>\n",
       "      <td>0.977567</td>\n",
       "      <td>0.023292</td>\n",
       "      <td>0.013491</td>\n",
       "      <td>0.562744</td>\n",
       "      <td>...</td>\n",
       "      <td>0.111266</td>\n",
       "      <td>0.021738</td>\n",
       "      <td>0.832677</td>\n",
       "      <td>0.044160</td>\n",
       "      <td>0.226783</td>\n",
       "      <td>0.041601</td>\n",
       "      <td>0.437928</td>\n",
       "      <td>0.006207</td>\n",
       "      <td>0.012716</td>\n",
       "      <td>0.023372</td>\n",
       "    </tr>\n",
       "    <tr>\n",
       "      <th>GSM928430</th>\n",
       "      <td>0.437868</td>\n",
       "      <td>0.140084</td>\n",
       "      <td>0.519438</td>\n",
       "      <td>0.684985</td>\n",
       "      <td>0.016173</td>\n",
       "      <td>0.076557</td>\n",
       "      <td>0.978034</td>\n",
       "      <td>0.023050</td>\n",
       "      <td>0.011165</td>\n",
       "      <td>0.481810</td>\n",
       "      <td>...</td>\n",
       "      <td>0.161789</td>\n",
       "      <td>0.042978</td>\n",
       "      <td>0.518412</td>\n",
       "      <td>0.039403</td>\n",
       "      <td>0.202873</td>\n",
       "      <td>0.051938</td>\n",
       "      <td>0.181139</td>\n",
       "      <td>0.007631</td>\n",
       "      <td>0.019301</td>\n",
       "      <td>0.025718</td>\n",
       "    </tr>\n",
       "    <tr>\n",
       "      <th>GSM928431</th>\n",
       "      <td>0.298159</td>\n",
       "      <td>0.138758</td>\n",
       "      <td>0.058877</td>\n",
       "      <td>0.752970</td>\n",
       "      <td>0.024597</td>\n",
       "      <td>0.052569</td>\n",
       "      <td>0.984636</td>\n",
       "      <td>0.024411</td>\n",
       "      <td>0.012639</td>\n",
       "      <td>0.462050</td>\n",
       "      <td>...</td>\n",
       "      <td>0.201561</td>\n",
       "      <td>0.025951</td>\n",
       "      <td>0.793100</td>\n",
       "      <td>0.039064</td>\n",
       "      <td>0.186543</td>\n",
       "      <td>0.039786</td>\n",
       "      <td>0.177563</td>\n",
       "      <td>0.005621</td>\n",
       "      <td>0.013725</td>\n",
       "      <td>0.022572</td>\n",
       "    </tr>\n",
       "    <tr>\n",
       "      <th>GSM928432</th>\n",
       "      <td>0.328170</td>\n",
       "      <td>0.076230</td>\n",
       "      <td>0.345729</td>\n",
       "      <td>0.778197</td>\n",
       "      <td>0.025442</td>\n",
       "      <td>0.065034</td>\n",
       "      <td>0.976318</td>\n",
       "      <td>0.022026</td>\n",
       "      <td>0.015277</td>\n",
       "      <td>0.549231</td>\n",
       "      <td>...</td>\n",
       "      <td>0.132105</td>\n",
       "      <td>0.016248</td>\n",
       "      <td>0.747001</td>\n",
       "      <td>0.035090</td>\n",
       "      <td>0.207020</td>\n",
       "      <td>0.031336</td>\n",
       "      <td>0.299431</td>\n",
       "      <td>0.006948</td>\n",
       "      <td>0.272705</td>\n",
       "      <td>0.024050</td>\n",
       "    </tr>\n",
       "    <tr>\n",
       "      <th>GSM928433</th>\n",
       "      <td>0.184375</td>\n",
       "      <td>0.109300</td>\n",
       "      <td>0.026707</td>\n",
       "      <td>0.839303</td>\n",
       "      <td>0.018748</td>\n",
       "      <td>0.086138</td>\n",
       "      <td>0.984204</td>\n",
       "      <td>0.015195</td>\n",
       "      <td>0.006160</td>\n",
       "      <td>0.437519</td>\n",
       "      <td>...</td>\n",
       "      <td>0.149824</td>\n",
       "      <td>0.026670</td>\n",
       "      <td>0.155150</td>\n",
       "      <td>0.031642</td>\n",
       "      <td>0.155018</td>\n",
       "      <td>0.058125</td>\n",
       "      <td>0.434324</td>\n",
       "      <td>0.008526</td>\n",
       "      <td>0.025031</td>\n",
       "      <td>0.015152</td>\n",
       "    </tr>\n",
       "  </tbody>\n",
       "</table>\n",
       "<p>24 rows × 27551 columns</p>\n",
       "</div>"
      ],
      "text/plain": [
       "             ATP2A1     SLMAP     MEOX2     HOXD3    ZNF398     PANX1  \\\n",
       "GSM928410  0.663336  0.529598  0.162563  0.383908  0.096852  0.137029   \n",
       "GSM928411  0.732851  0.637804  0.087245  0.364565  0.100989  0.104867   \n",
       "GSM928412  0.731909  0.467229  0.151392  0.410514  0.105380  0.118404   \n",
       "GSM928413  0.756482  0.712974  0.125020  0.438931  0.072189  0.117990   \n",
       "GSM928414  0.627336  0.374188  0.072009  0.564686  0.083819  0.094375   \n",
       "GSM928415  0.668793  0.394460  0.122008  0.392940  0.084649  0.105771   \n",
       "GSM928416  0.426092  0.256789  0.158605  0.744571  0.093180  0.117594   \n",
       "GSM928417  0.543068  0.161934  0.095487  0.781442  0.045247  0.119621   \n",
       "GSM928418  0.806099  0.783551  0.182352  0.764526  0.086602  0.122421   \n",
       "GSM928419  0.535368  0.125626  0.101444  0.811086  0.027037  0.069629   \n",
       "GSM928420  0.703619  0.676400  0.111034  0.846040  0.037037  0.118240   \n",
       "GSM928421  0.817144  0.093566  0.119262  0.794505  0.022453  0.231460   \n",
       "GSM928422  0.409728  0.093750  0.088316  0.805207  0.015399  0.108503   \n",
       "GSM928423  0.543978  0.189580  0.109502  0.705171  0.033869  0.220051   \n",
       "GSM928424  0.832374  0.129283  0.031621  0.798701  0.018344  0.089821   \n",
       "GSM928425  0.815578  0.315857  0.046209  0.871397  0.018025  0.070097   \n",
       "GSM928426  0.418700  0.074661  0.040767  0.823890  0.015405  0.054142   \n",
       "GSM928427  0.750107  0.308633  0.022222  0.841576  0.014033  0.037842   \n",
       "GSM928428  0.733186  0.130307  0.042095  0.802706  0.015738  0.071776   \n",
       "GSM928429  0.604937  0.100124  0.033127  0.841069  0.018455  0.052406   \n",
       "GSM928430  0.437868  0.140084  0.519438  0.684985  0.016173  0.076557   \n",
       "GSM928431  0.298159  0.138758  0.058877  0.752970  0.024597  0.052569   \n",
       "GSM928432  0.328170  0.076230  0.345729  0.778197  0.025442  0.065034   \n",
       "GSM928433  0.184375  0.109300  0.026707  0.839303  0.018748  0.086138   \n",
       "\n",
       "              COX8C     IMPA2      TTC8  FLJ35816  ...   A2ML1.1    ZFP2.1  \\\n",
       "GSM928410  0.971139  0.039016  0.029115  0.530092  ...  0.626678  0.174781   \n",
       "GSM928411  0.968545  0.046063  0.035143  0.592064  ...  0.671998  0.094503   \n",
       "GSM928412  0.961028  0.043965  0.031300  0.554694  ...  0.602572  0.110763   \n",
       "GSM928413  0.971448  0.044214  0.031502  0.587456  ...  0.627324  0.052426   \n",
       "GSM928414  0.968190  0.028884  0.018645  0.596519  ...  0.710886  0.043576   \n",
       "GSM928415  0.973028  0.041213  0.023148  0.579087  ...  0.658017  0.113668   \n",
       "GSM928416  0.971882  0.050376  0.049978  0.508073  ...  0.221204  0.052173   \n",
       "GSM928417  0.964217  0.040574  0.030213  0.378127  ...  0.268238  0.051021   \n",
       "GSM928418  0.963932  0.043778  0.030160  0.501038  ...  0.265713  0.060801   \n",
       "GSM928419  0.970158  0.032499  0.022672  0.557364  ...  0.141304  0.042587   \n",
       "GSM928420  0.978038  0.029411  0.024753  0.489507  ...  0.163198  0.031715   \n",
       "GSM928421  0.982106  0.031482  0.013398  0.573627  ...  0.151882  0.022869   \n",
       "GSM928422  0.978841  0.026527  0.016016  0.512338  ...  0.227843  0.030848   \n",
       "GSM928423  0.976979  0.023748  0.011903  0.613839  ...  0.227618  0.043739   \n",
       "GSM928424  0.980335  0.022257  0.009273  0.518569  ...  0.132613  0.038415   \n",
       "GSM928425  0.981824  0.025346  0.009612  0.579383  ...  0.316190  0.019224   \n",
       "GSM928426  0.982683  0.024076  0.009506  0.470287  ...  0.140426  0.020391   \n",
       "GSM928427  0.986313  0.021968  0.009482  0.573926  ...  0.145121  0.021235   \n",
       "GSM928428  0.979202  0.019832  0.010430  0.534893  ...  0.201235  0.022399   \n",
       "GSM928429  0.977567  0.023292  0.013491  0.562744  ...  0.111266  0.021738   \n",
       "GSM928430  0.978034  0.023050  0.011165  0.481810  ...  0.161789  0.042978   \n",
       "GSM928431  0.984636  0.024411  0.012639  0.462050  ...  0.201561  0.025951   \n",
       "GSM928432  0.976318  0.022026  0.015277  0.549231  ...  0.132105  0.016248   \n",
       "GSM928433  0.984204  0.015195  0.006160  0.437519  ...  0.149824  0.026670   \n",
       "\n",
       "            CST9L.1  C11orf24.1    QPRT.1  LEPRE1.1   GNAS.29    RPN1.1  \\\n",
       "GSM928410  0.759511    0.103661  0.200964  0.200289  0.397994  0.031667   \n",
       "GSM928411  0.747333    0.085542  0.224168  0.103062  0.376746  0.028174   \n",
       "GSM928412  0.764336    0.102852  0.236077  0.155706  0.383049  0.019629   \n",
       "GSM928413  0.775798    0.109610  0.217205  0.176550  0.412991  0.034196   \n",
       "GSM928414  0.792672    0.094405  0.219325  0.125886  0.396564  0.021866   \n",
       "GSM928415  0.757963    0.079168  0.245785  0.117861  0.300823  0.027338   \n",
       "GSM928416  0.777005    0.084534  0.231139  0.226753  0.396463  0.028637   \n",
       "GSM928417  0.745892    0.098363  0.204016  0.191636  0.173303  0.014033   \n",
       "GSM928418  0.801456    0.091301  0.217928  0.198903  0.358943  0.028659   \n",
       "GSM928419  0.790621    0.065476  0.230631  0.131507  0.407219  0.016708   \n",
       "GSM928420  0.524165    0.073408  0.158885  0.089074  0.197019  0.011845   \n",
       "GSM928421  0.814041    0.067122  0.098457  0.108308  0.441892  0.012345   \n",
       "GSM928422  0.775920    0.037135  0.220788  0.039122  0.444259  0.008334   \n",
       "GSM928423  0.802150    0.046229  0.228942  0.097392  0.400422  0.014450   \n",
       "GSM928424  0.821270    0.040871  0.208011  0.056141  0.457269  0.008398   \n",
       "GSM928425  0.835004    0.039021  0.230470  0.043544  0.490924  0.004595   \n",
       "GSM928426  0.786767    0.041685  0.220786  0.038490  0.290588  0.006284   \n",
       "GSM928427  0.826842    0.038056  0.234247  0.044426  0.244766  0.008227   \n",
       "GSM928428  0.815613    0.038222  0.214632  0.048707  0.452354  0.007390   \n",
       "GSM928429  0.832677    0.044160  0.226783  0.041601  0.437928  0.006207   \n",
       "GSM928430  0.518412    0.039403  0.202873  0.051938  0.181139  0.007631   \n",
       "GSM928431  0.793100    0.039064  0.186543  0.039786  0.177563  0.005621   \n",
       "GSM928432  0.747001    0.035090  0.207020  0.031336  0.299431  0.006948   \n",
       "GSM928433  0.155150    0.031642  0.155018  0.058125  0.434324  0.008526   \n",
       "\n",
       "            CYB5A.1   AP1S1.1  \n",
       "GSM928410  0.116547  0.061299  \n",
       "GSM928411  0.069490  0.101310  \n",
       "GSM928412  0.077901  0.089061  \n",
       "GSM928413  0.062415  0.061597  \n",
       "GSM928414  0.046562  0.043234  \n",
       "GSM928415  0.049083  0.084346  \n",
       "GSM928416  0.082773  0.045241  \n",
       "GSM928417  0.053147  0.035183  \n",
       "GSM928418  0.058941  0.042113  \n",
       "GSM928419  0.056320  0.027419  \n",
       "GSM928420  0.043921  0.023684  \n",
       "GSM928421  0.028432  0.019375  \n",
       "GSM928422  0.017998  0.022897  \n",
       "GSM928423  0.020787  0.030505  \n",
       "GSM928424  0.014626  0.027354  \n",
       "GSM928425  0.012720  0.021632  \n",
       "GSM928426  0.011045  0.031467  \n",
       "GSM928427  0.014047  0.026652  \n",
       "GSM928428  0.016975  0.031851  \n",
       "GSM928429  0.012716  0.023372  \n",
       "GSM928430  0.019301  0.025718  \n",
       "GSM928431  0.013725  0.022572  \n",
       "GSM928432  0.272705  0.024050  \n",
       "GSM928433  0.025031  0.015152  \n",
       "\n",
       "[24 rows x 27551 columns]"
      ]
     },
     "execution_count": 17,
     "metadata": {},
     "output_type": "execute_result"
    }
   ],
   "source": [
    "expr = expr.drop(\"Target\", axis = 1)\n",
    "expr"
   ]
  },
  {
   "cell_type": "code",
   "execution_count": 18,
   "metadata": {
    "colab": {
     "base_uri": "https://localhost:8080/",
     "height": 36
    },
    "executionInfo": {
     "elapsed": 8,
     "status": "ok",
     "timestamp": 1726489130731,
     "user": {
      "displayName": "Ugo Lomoio",
      "userId": "00301874906270436685"
     },
     "user_tz": -120
    },
    "id": "m5KZ3xtumM8t",
    "outputId": "f3671272-f5e7-41ab-aa75-a642656e8732"
   },
   "outputs": [
    {
     "data": {
      "text/plain": [
       "'cuda:0'"
      ]
     },
     "execution_count": 18,
     "metadata": {},
     "output_type": "execute_result"
    }
   ],
   "source": [
    "import torch\n",
    "device = \"cuda:0\" if torch.cuda.is_available() else \"cpu\"\n",
    "device"
   ]
  },
  {
   "cell_type": "code",
   "execution_count": 19,
   "metadata": {
    "executionInfo": {
     "elapsed": 7,
     "status": "ok",
     "timestamp": 1726489130731,
     "user": {
      "displayName": "Ugo Lomoio",
      "userId": "00301874906270436685"
     },
     "user_tz": -120
    },
    "id": "ERJorMEAFeCb"
   },
   "outputs": [],
   "source": [
    "import torch\n",
    "import numpy as np\n",
    "\n",
    "def parse_edges(edge_list):\n",
    "    source_nodes = []\n",
    "    target_nodes = []\n",
    "    node_mapping = {}\n",
    "    next_index = 0\n",
    "\n",
    "    for edge in edge_list:\n",
    "        source, target = edge.split('_')\n",
    "        #if source == target:\n",
    "        #    continue\n",
    "        if source not in node_mapping:\n",
    "            node_mapping[source] = next_index\n",
    "            next_index += 1\n",
    "        if target not in node_mapping:\n",
    "            node_mapping[target] = next_index\n",
    "            next_index += 1\n",
    "\n",
    "        source_nodes.append(node_mapping[source])\n",
    "        target_nodes.append(node_mapping[target])\n",
    "\n",
    "    return source_nodes, target_nodes, node_mapping\n",
    "\n",
    "def create_edge_index(source_nodes, target_nodes):\n",
    "    edge_list = np.array([source_nodes, target_nodes], dtype=np.int64)\n",
    "    edge_index = torch.LongTensor(edge_list)\n",
    "    return edge_index"
   ]
  },
  {
   "cell_type": "code",
   "execution_count": 20,
   "metadata": {
    "colab": {
     "base_uri": "https://localhost:8080/"
    },
    "executionInfo": {
     "elapsed": 427,
     "status": "ok",
     "timestamp": 1726490644876,
     "user": {
      "displayName": "Ugo Lomoio",
      "userId": "00301874906270436685"
     },
     "user_tz": -120
    },
    "id": "HAyVlVmSlQNx",
    "outputId": "4fedbb27-5ed2-4132-dc90-9b631463a81a"
   },
   "outputs": [
    {
     "data": {
      "text/plain": [
       "torch.Size([24, 24])"
      ]
     },
     "execution_count": 20,
     "metadata": {},
     "output_type": "execute_result"
    }
   ],
   "source": [
    "exp_values = torch.tensor(expr.values).to(device)\n",
    "corr = torch.corrcoef(exp_values)\n",
    "corr.shape"
   ]
  },
  {
   "cell_type": "code",
   "execution_count": 21,
   "metadata": {
    "executionInfo": {
     "elapsed": 582,
     "status": "ok",
     "timestamp": 1726491135642,
     "user": {
      "displayName": "Ugo Lomoio",
      "userId": "00301874906270436685"
     },
     "user_tz": -120
    },
    "id": "Xcu85paK4vQ7"
   },
   "outputs": [],
   "source": [
    "from torch.nn.functional import cosine_similarity"
   ]
  },
  {
   "cell_type": "code",
   "execution_count": 22,
   "metadata": {},
   "outputs": [],
   "source": [
    "n = len(exp_values)\n",
    "sim_matrix = np.zeros((n, n))\n",
    "for i, elem1 in enumerate(exp_values):\n",
    "  for j, elem2 in enumerate(exp_values):\n",
    "    sim = cosine_similarity(elem1, elem2, dim = 0).item()\n",
    "    sim_matrix[i][j] = sim"
   ]
  },
  {
   "cell_type": "code",
   "execution_count": 23,
   "metadata": {},
   "outputs": [
    {
     "data": {
      "text/plain": [
       "array([[1.        , 0.98716688, 0.9877132 , 0.9790296 , 0.97098654,\n",
       "        0.98624697, 0.90942817, 0.89622349, 0.9241625 , 0.92965189,\n",
       "        0.86237835, 0.89938386, 0.91207667, 0.93741412, 0.93798899,\n",
       "        0.92412267, 0.8871658 , 0.91755491, 0.90285488, 0.90231683,\n",
       "        0.88125474, 0.90061897, 0.89006381, 0.83132263],\n",
       "       [0.98716688, 1.        , 0.99625498, 0.98652225, 0.98212716,\n",
       "        0.99610172, 0.91349558, 0.90190234, 0.92922251, 0.9403113 ,\n",
       "        0.8675916 , 0.90792097, 0.92240851, 0.9481358 , 0.93175163,\n",
       "        0.938474  , 0.89920756, 0.93238335, 0.91471117, 0.91473418,\n",
       "        0.88862206, 0.91007374, 0.89885913, 0.82738304],\n",
       "       [0.9877132 , 0.99625498, 1.        , 0.98507766, 0.9811248 ,\n",
       "        0.99578379, 0.9149563 , 0.90209161, 0.92978193, 0.94154521,\n",
       "        0.86732477, 0.90820676, 0.92195579, 0.94819425, 0.93196911,\n",
       "        0.93889082, 0.89862307, 0.93172695, 0.91363926, 0.91488155,\n",
       "        0.88806434, 0.90955826, 0.89935643, 0.82630883],\n",
       "       [0.9790296 , 0.98652225, 0.98507766, 1.        , 0.97483791,\n",
       "        0.9842334 , 0.90025234, 0.89211157, 0.91686761, 0.92224724,\n",
       "        0.8568946 , 0.89007854, 0.90908781, 0.93473703, 0.91629515,\n",
       "        0.91848373, 0.88495439, 0.91446211, 0.90347829, 0.89939349,\n",
       "        0.88056632, 0.90211306, 0.88499917, 0.81947906],\n",
       "       [0.97098654, 0.98212716, 0.9811248 , 0.97483791, 1.        ,\n",
       "        0.98201581, 0.88490879, 0.87626127, 0.90094921, 0.92151116,\n",
       "        0.83782218, 0.87812006, 0.89702687, 0.92698643, 0.91415142,\n",
       "        0.91791327, 0.87971817, 0.91332548, 0.89033039, 0.89336779,\n",
       "        0.86149437, 0.88749581, 0.87257549, 0.8064177 ],\n",
       "       [0.98624697, 0.99610172, 0.99578379, 0.9842334 , 0.98201581,\n",
       "        1.        , 0.91163658, 0.89946169, 0.92748219, 0.93893704,\n",
       "        0.86560915, 0.90648004, 0.92191722, 0.94717801, 0.9309564 ,\n",
       "        0.93771742, 0.89895508, 0.93125393, 0.91353922, 0.91386653,\n",
       "        0.88835486, 0.9098677 , 0.89929625, 0.82605523],\n",
       "       [0.90942817, 0.91349558, 0.9149563 , 0.90025234, 0.88490879,\n",
       "        0.91163658, 1.        , 0.90889466, 0.94498452, 0.92251589,\n",
       "        0.90394057, 0.92970242, 0.93840529, 0.93761808, 0.90213523,\n",
       "        0.91143132, 0.91657545, 0.91285404, 0.93369449, 0.91971255,\n",
       "        0.90934212, 0.93585964, 0.92457148, 0.84531224],\n",
       "       [0.89622349, 0.90190234, 0.90209161, 0.89211157, 0.87626127,\n",
       "        0.89946169, 0.90889466, 1.        , 0.92659341, 0.89290432,\n",
       "        0.89481178, 0.90077078, 0.91062578, 0.91287885, 0.87401031,\n",
       "        0.8742413 , 0.90309624, 0.88208825, 0.9071965 , 0.87039275,\n",
       "        0.89907186, 0.9185443 , 0.87898136, 0.8609537 ],\n",
       "       [0.9241625 , 0.92922251, 0.92978193, 0.91686761, 0.90094921,\n",
       "        0.92748219, 0.94498452, 0.92659341, 1.        , 0.92316327,\n",
       "        0.91234401, 0.93504312, 0.94187802, 0.94360783, 0.90533728,\n",
       "        0.91557431, 0.9133949 , 0.91634898, 0.93479382, 0.91769301,\n",
       "        0.9314372 , 0.93606315, 0.93403898, 0.85041793],\n",
       "       [0.92965189, 0.9403113 , 0.94154521, 0.92224724, 0.92151116,\n",
       "        0.93893704, 0.92251589, 0.89290432, 0.92316327, 1.        ,\n",
       "        0.8906397 , 0.92417314, 0.94847022, 0.95975281, 0.95720132,\n",
       "        0.95999849, 0.93664834, 0.96744592, 0.94095954, 0.94905782,\n",
       "        0.88865373, 0.93328792, 0.90872895, 0.85128341],\n",
       "       [0.86237835, 0.8675916 , 0.86732477, 0.8568946 , 0.83782218,\n",
       "        0.86560915, 0.90394057, 0.89481178, 0.91234401, 0.8906397 ,\n",
       "        1.        , 0.88919211, 0.91905573, 0.90293684, 0.86551965,\n",
       "        0.87543744, 0.90185589, 0.88226981, 0.91080216, 0.88426683,\n",
       "        0.88234693, 0.92181035, 0.87670366, 0.89176244],\n",
       "       [0.89938386, 0.90792097, 0.90820676, 0.89007854, 0.87812006,\n",
       "        0.90648004, 0.92970242, 0.90077078, 0.93504312, 0.92417314,\n",
       "        0.88919211, 1.        , 0.93441444, 0.94019149, 0.90506837,\n",
       "        0.91883743, 0.9186081 , 0.9194277 , 0.93097259, 0.91516999,\n",
       "        0.89892873, 0.91977851, 0.91781321, 0.83580356],\n",
       "       [0.91207667, 0.92240851, 0.92195579, 0.90908781, 0.89702687,\n",
       "        0.92191722, 0.93840529, 0.91062578, 0.94187802, 0.94847022,\n",
       "        0.91905573, 0.93441444, 1.        , 0.95878035, 0.93704227,\n",
       "        0.94762303, 0.94967993, 0.94883829, 0.95012784, 0.95459857,\n",
       "        0.91561814, 0.96019975, 0.9290171 , 0.8700528 ],\n",
       "       [0.93741412, 0.9481358 , 0.94819425, 0.93473703, 0.92698643,\n",
       "        0.94717801, 0.93761808, 0.91287885, 0.94360783, 0.95975281,\n",
       "        0.90293684, 0.94019149, 0.95878035, 1.        , 0.94459908,\n",
       "        0.95310752, 0.94341608, 0.95816492, 0.94542794, 0.94780479,\n",
       "        0.91288708, 0.94752485, 0.93000893, 0.85605412],\n",
       "       [0.93798899, 0.93175163, 0.93196911, 0.91629515, 0.91415142,\n",
       "        0.9309564 , 0.90213523, 0.87401031, 0.90533728, 0.95720132,\n",
       "        0.86551965, 0.90506837, 0.93704227, 0.94459908, 1.        ,\n",
       "        0.95116745, 0.92047426, 0.95248186, 0.92334359, 0.94153052,\n",
       "        0.87361986, 0.91817949, 0.89648259, 0.84690008],\n",
       "       [0.92412267, 0.938474  , 0.93889082, 0.91848373, 0.91791327,\n",
       "        0.93771742, 0.91143132, 0.8742413 , 0.91557431, 0.95999849,\n",
       "        0.87543744, 0.91883743, 0.94762303, 0.95310752, 0.95116745,\n",
       "        1.        , 0.91806269, 0.96318504, 0.92794472, 0.95768534,\n",
       "        0.88152142, 0.92015366, 0.91378687, 0.82801533],\n",
       "       [0.8871658 , 0.89920756, 0.89862307, 0.88495439, 0.87971817,\n",
       "        0.89895508, 0.91657545, 0.90309624, 0.9133949 , 0.93664834,\n",
       "        0.90185589, 0.9186081 , 0.94967993, 0.94341608, 0.92047426,\n",
       "        0.91806269, 1.        , 0.9336546 , 0.94225086, 0.92738513,\n",
       "        0.89438731, 0.95663211, 0.90024998, 0.87444173],\n",
       "       [0.91755491, 0.93238335, 0.93172695, 0.91446211, 0.91332548,\n",
       "        0.93125393, 0.91285404, 0.88208825, 0.91634898, 0.96744592,\n",
       "        0.88226981, 0.9194277 , 0.94883829, 0.95816492, 0.95248186,\n",
       "        0.96318504, 0.9336546 , 1.        , 0.94174272, 0.95276617,\n",
       "        0.88672948, 0.93133772, 0.91152542, 0.84314209],\n",
       "       [0.90285488, 0.91471117, 0.91363926, 0.90347829, 0.89033039,\n",
       "        0.91353922, 0.93369449, 0.9071965 , 0.93479382, 0.94095954,\n",
       "        0.91080216, 0.93097259, 0.95012784, 0.94542794, 0.92334359,\n",
       "        0.92794472, 0.94225086, 0.94174272, 1.        , 0.93358438,\n",
       "        0.90518857, 0.95018388, 0.91642899, 0.867071  ],\n",
       "       [0.90231683, 0.91473418, 0.91488155, 0.89939349, 0.89336779,\n",
       "        0.91386653, 0.91971255, 0.87039275, 0.91769301, 0.94905782,\n",
       "        0.88426683, 0.91516999, 0.95459857, 0.94780479, 0.94153052,\n",
       "        0.95768534, 0.92738513, 0.95276617, 0.93358438, 1.        ,\n",
       "        0.88691678, 0.93508502, 0.91868756, 0.83864394],\n",
       "       [0.88125474, 0.88862206, 0.88806434, 0.88056632, 0.86149437,\n",
       "        0.88835486, 0.90934212, 0.89907186, 0.9314372 , 0.88865373,\n",
       "        0.88234693, 0.89892873, 0.91561814, 0.91288708, 0.87361986,\n",
       "        0.88152142, 0.89438731, 0.88672948, 0.90518857, 0.88691678,\n",
       "        1.        , 0.91888483, 0.93434095, 0.82795796],\n",
       "       [0.90061897, 0.91007374, 0.90955826, 0.90211306, 0.88749581,\n",
       "        0.9098677 , 0.93585964, 0.9185443 , 0.93606315, 0.93328792,\n",
       "        0.92181035, 0.91977851, 0.96019975, 0.94752485, 0.91817949,\n",
       "        0.92015366, 0.95663211, 0.93133772, 0.95018388, 0.93508502,\n",
       "        0.91888483, 1.        , 0.92170223, 0.88337578],\n",
       "       [0.89006381, 0.89885913, 0.89935643, 0.88499917, 0.87257549,\n",
       "        0.89929625, 0.92457148, 0.87898136, 0.93403898, 0.90872895,\n",
       "        0.87670366, 0.91781321, 0.9290171 , 0.93000893, 0.89648259,\n",
       "        0.91378687, 0.90024998, 0.91152542, 0.91642899, 0.91868756,\n",
       "        0.93434095, 0.92170223, 1.        , 0.81570948],\n",
       "       [0.83132263, 0.82738304, 0.82630883, 0.81947906, 0.8064177 ,\n",
       "        0.82605523, 0.84531224, 0.8609537 , 0.85041793, 0.85128341,\n",
       "        0.89176244, 0.83580356, 0.8700528 , 0.85605412, 0.84690008,\n",
       "        0.82801533, 0.87444173, 0.84314209, 0.867071  , 0.83864394,\n",
       "        0.82795796, 0.88337578, 0.81570948, 1.        ]])"
      ]
     },
     "execution_count": 23,
     "metadata": {},
     "output_type": "execute_result"
    }
   ],
   "source": [
    "sim_matrix"
   ]
  },
  {
   "cell_type": "code",
   "execution_count": 24,
   "metadata": {},
   "outputs": [
    {
     "data": {
      "text/plain": [
       "tensor([[1.0000, 0.9747, 0.9752, 0.9596, 0.9494, 0.9742, 0.8160, 0.7989, 0.8444,\n",
       "         0.8819, 0.7522, 0.8200, 0.8528, 0.8893, 0.9070, 0.8823, 0.8273, 0.8767,\n",
       "         0.8445, 0.8476, 0.7832, 0.8364, 0.8053, 0.7432],\n",
       "        [0.9747, 1.0000, 0.9925, 0.9737, 0.9682, 0.9925, 0.8287, 0.8130, 0.8587,\n",
       "         0.8987, 0.7637, 0.8358, 0.8692, 0.9077, 0.8908, 0.9036, 0.8444, 0.8979,\n",
       "         0.8623, 0.8657, 0.7984, 0.8509, 0.8215, 0.7338],\n",
       "        [0.9752, 0.9925, 1.0000, 0.9709, 0.9668, 0.9921, 0.8305, 0.8126, 0.8588,\n",
       "         0.9016, 0.7627, 0.8363, 0.8688, 0.9081, 0.8920, 0.9053, 0.8442, 0.8978,\n",
       "         0.8611, 0.8668, 0.7970, 0.8505, 0.8224, 0.7323],\n",
       "        [0.9596, 0.9737, 0.9709, 1.0000, 0.9539, 0.9694, 0.8051, 0.7961, 0.8365,\n",
       "         0.8653, 0.7455, 0.8036, 0.8447, 0.8826, 0.8621, 0.8668, 0.8184, 0.8649,\n",
       "         0.8415, 0.8376, 0.7846, 0.8361, 0.7967, 0.7199],\n",
       "        [0.9494, 0.9682, 0.9668, 0.9539, 1.0000, 0.9673, 0.7839, 0.7731, 0.8135,\n",
       "         0.8645, 0.7166, 0.7856, 0.8243, 0.8701, 0.8576, 0.8647, 0.8084, 0.8609,\n",
       "         0.8185, 0.8264, 0.7549, 0.8111, 0.7779, 0.6989],\n",
       "        [0.9742, 0.9925, 0.9921, 0.9694, 0.9673, 1.0000, 0.8274, 0.8101, 0.8574,\n",
       "         0.8954, 0.7613, 0.8335, 0.8676, 0.9055, 0.8881, 0.9008, 0.8426, 0.8941,\n",
       "         0.8592, 0.8629, 0.7989, 0.8498, 0.8227, 0.7310],\n",
       "        [0.8160, 0.8287, 0.8305, 0.8051, 0.7839, 0.8274, 1.0000, 0.8271, 0.8910,\n",
       "         0.8659, 0.8306, 0.8759, 0.8976, 0.8879, 0.8374, 0.8548, 0.8738, 0.8627,\n",
       "         0.8954, 0.8738, 0.8371, 0.8965, 0.8686, 0.7639],\n",
       "        [0.7989, 0.8130, 0.8126, 0.7961, 0.7731, 0.8101, 0.8271, 1.0000, 0.8604,\n",
       "         0.8137, 0.8158, 0.8248, 0.8476, 0.8440, 0.7883, 0.7896, 0.8478, 0.8081,\n",
       "         0.8473, 0.7873, 0.8206, 0.8644, 0.7881, 0.7883],\n",
       "        [0.8444, 0.8587, 0.8588, 0.8365, 0.8135, 0.8574, 0.8910, 0.8604, 1.0000,\n",
       "         0.8674, 0.8460, 0.8860, 0.9046, 0.8992, 0.8435, 0.8628, 0.8693, 0.8697,\n",
       "         0.8983, 0.8711, 0.8780, 0.8977, 0.8862, 0.7733],\n",
       "        [0.8819, 0.8987, 0.9016, 0.8653, 0.8645, 0.8954, 0.8659, 0.8137, 0.8674,\n",
       "         1.0000, 0.8153, 0.8713, 0.9142, 0.9314, 0.9302, 0.9351, 0.9012, 0.9490,\n",
       "         0.9042, 0.9187, 0.8102, 0.8904, 0.8460, 0.7729],\n",
       "        [0.7522, 0.7637, 0.7627, 0.7455, 0.7166, 0.7613, 0.8306, 0.8158, 0.8460,\n",
       "         0.8153, 1.0000, 0.8110, 0.8648, 0.8330, 0.7786, 0.7956, 0.8452, 0.8104,\n",
       "         0.8546, 0.8130, 0.7985, 0.8712, 0.7911, 0.8365],\n",
       "        [0.8200, 0.8358, 0.8363, 0.8036, 0.7856, 0.8335, 0.8759, 0.8248, 0.8860,\n",
       "         0.8713, 0.8110, 1.0000, 0.8900, 0.8964, 0.8435, 0.8668, 0.8722, 0.8708,\n",
       "         0.8875, 0.8633, 0.8258, 0.8674, 0.8599, 0.7478],\n",
       "        [0.8528, 0.8692, 0.8688, 0.8447, 0.8243, 0.8676, 0.8976, 0.8476, 0.9046,\n",
       "         0.9142, 0.8648, 0.8900, 1.0000, 0.9310, 0.8975, 0.9151, 0.9218, 0.9188,\n",
       "         0.9195, 0.9277, 0.8580, 0.9351, 0.8815, 0.8027],\n",
       "        [0.8893, 0.9077, 0.9081, 0.8826, 0.8701, 0.9055, 0.8879, 0.8440, 0.8992,\n",
       "         0.9314, 0.8330, 0.8964, 0.9310, 1.0000, 0.9092, 0.9239, 0.9130, 0.9349,\n",
       "         0.9116, 0.9172, 0.8484, 0.9136, 0.8798, 0.7798],\n",
       "        [0.9070, 0.8908, 0.8920, 0.8621, 0.8576, 0.8881, 0.8374, 0.7883, 0.8435,\n",
       "         0.9302, 0.7786, 0.8435, 0.8975, 0.9092, 1.0000, 0.9216, 0.8759, 0.9249,\n",
       "         0.8772, 0.9072, 0.7906, 0.8679, 0.8299, 0.7678],\n",
       "        [0.8823, 0.9036, 0.9053, 0.8668, 0.8647, 0.9008, 0.8548, 0.7896, 0.8628,\n",
       "         0.9351, 0.7956, 0.8668, 0.9151, 0.9239, 0.9216, 1.0000, 0.8723, 0.9419,\n",
       "         0.8848, 0.9330, 0.8045, 0.8714, 0.8589, 0.7391],\n",
       "        [0.8273, 0.8444, 0.8442, 0.8184, 0.8084, 0.8426, 0.8738, 0.8478, 0.8693,\n",
       "         0.9012, 0.8452, 0.8722, 0.9218, 0.9130, 0.8759, 0.8723, 1.0000, 0.8974,\n",
       "         0.9103, 0.8876, 0.8328, 0.9327, 0.8426, 0.8125],\n",
       "        [0.8767, 0.8979, 0.8978, 0.8649, 0.8609, 0.8941, 0.8627, 0.8081, 0.8697,\n",
       "         0.9490, 0.8104, 0.8708, 0.9188, 0.9349, 0.9249, 0.9419, 0.8974, 1.0000,\n",
       "         0.9082, 0.9260, 0.8170, 0.8912, 0.8581, 0.7639],\n",
       "        [0.8445, 0.8623, 0.8611, 0.8415, 0.8185, 0.8592, 0.8954, 0.8473, 0.8983,\n",
       "         0.9042, 0.8546, 0.8875, 0.9195, 0.9116, 0.8772, 0.8848, 0.9103, 0.9082,\n",
       "         1.0000, 0.8950, 0.8446, 0.9201, 0.8639, 0.7992],\n",
       "        [0.8476, 0.8657, 0.8668, 0.8376, 0.8264, 0.8629, 0.8738, 0.7873, 0.8711,\n",
       "         0.9187, 0.8130, 0.8633, 0.9277, 0.9172, 0.9072, 0.9330, 0.8876, 0.9260,\n",
       "         0.8950, 1.0000, 0.8166, 0.8968, 0.8692, 0.7568],\n",
       "        [0.7832, 0.7984, 0.7970, 0.7846, 0.7549, 0.7989, 0.8371, 0.8206, 0.8780,\n",
       "         0.8102, 0.7985, 0.8258, 0.8580, 0.8484, 0.7906, 0.8045, 0.8328, 0.8170,\n",
       "         0.8446, 0.8166, 1.0000, 0.8657, 0.8877, 0.7351],\n",
       "        [0.8364, 0.8509, 0.8505, 0.8361, 0.8111, 0.8498, 0.8965, 0.8644, 0.8977,\n",
       "         0.8904, 0.8712, 0.8674, 0.9351, 0.9136, 0.8679, 0.8714, 0.9327, 0.8912,\n",
       "         0.9201, 0.8968, 0.8657, 1.0000, 0.8711, 0.8238],\n",
       "        [0.8053, 0.8215, 0.8224, 0.7967, 0.7779, 0.8227, 0.8686, 0.7881, 0.8862,\n",
       "         0.8460, 0.7911, 0.8599, 0.8815, 0.8798, 0.8299, 0.8589, 0.8426, 0.8581,\n",
       "         0.8639, 0.8692, 0.8877, 0.8711, 1.0000, 0.7166],\n",
       "        [0.7432, 0.7338, 0.7323, 0.7199, 0.6989, 0.7310, 0.7639, 0.7883, 0.7733,\n",
       "         0.7729, 0.8365, 0.7478, 0.8027, 0.7798, 0.7678, 0.7391, 0.8125, 0.7639,\n",
       "         0.7992, 0.7568, 0.7351, 0.8238, 0.7166, 1.0000]], device='cuda:0',\n",
       "       dtype=torch.float64)"
      ]
     },
     "execution_count": 24,
     "metadata": {},
     "output_type": "execute_result"
    }
   ],
   "source": [
    "corr"
   ]
  },
  {
   "cell_type": "code",
   "execution_count": 25,
   "metadata": {
    "executionInfo": {
     "elapsed": 7160,
     "status": "ok",
     "timestamp": 1726491393475,
     "user": {
      "displayName": "Ugo Lomoio",
      "userId": "00301874906270436685"
     },
     "user_tz": -120
    },
    "id": "LG9bnhfhlgDp"
   },
   "outputs": [],
   "source": [
    "edges_1 = []\n",
    "edge_list = []\n",
    "edge_weights = []\n",
    "\n",
    "#th = 0.999\n",
    "th = 0.92\n",
    "for i, elem1 in enumerate(exp_values):\n",
    "  for j, elem2 in enumerate(exp_values):\n",
    "    #sim = sim_matrix[i][i]\n",
    "    sim = corr[i, j]\n",
    "    if sim > th:\n",
    "      if f\"{expr.T.columns[i]}_{expr.T.columns[j]}\" not in edges_1:\n",
    "        edges_1.append(f\"{expr.T.columns[i]}_{expr.T.columns[j]}\")\n",
    "        edge_list.append((expr.T.columns[i], expr.T.columns[j]))\n",
    "        edge_weights.append(sim)\n",
    "    "
   ]
  },
  {
   "cell_type": "code",
   "execution_count": 26,
   "metadata": {
    "colab": {
     "base_uri": "https://localhost:8080/"
    },
    "executionInfo": {
     "elapsed": 2,
     "status": "ok",
     "timestamp": 1726491393475,
     "user": {
      "displayName": "Ugo Lomoio",
      "userId": "00301874906270436685"
     },
     "user_tz": -120
    },
    "id": "oc-1co7Alxow",
    "outputId": "531df576-2f1a-4f2f-c358-e826a1925007"
   },
   "outputs": [
    {
     "data": {
      "text/plain": [
       "88"
      ]
     },
     "execution_count": 26,
     "metadata": {},
     "output_type": "execute_result"
    }
   ],
   "source": [
    "len(edges_1)"
   ]
  },
  {
   "cell_type": "code",
   "execution_count": 27,
   "metadata": {
    "colab": {
     "base_uri": "https://localhost:8080/"
    },
    "executionInfo": {
     "elapsed": 379,
     "status": "ok",
     "timestamp": 1726491397715,
     "user": {
      "displayName": "Ugo Lomoio",
      "userId": "00301874906270436685"
     },
     "user_tz": -120
    },
    "id": "pr3W_wiXlFB_",
    "outputId": "5a0238de-9193-4ce1-c3ec-fa37ef802b33"
   },
   "outputs": [
    {
     "name": "stdout",
     "output_type": "stream",
     "text": [
      "Node Mapping: {'GSM928410': 0, 'GSM928411': 1, 'GSM928412': 2, 'GSM928413': 3, 'GSM928414': 4, 'GSM928415': 5, 'GSM928416': 6, 'GSM928417': 7, 'GSM928418': 8, 'GSM928419': 9, 'GSM928423': 10, 'GSM928424': 11, 'GSM928425': 12, 'GSM928427': 13, 'GSM928420': 14, 'GSM928421': 15, 'GSM928422': 16, 'GSM928426': 17, 'GSM928429': 18, 'GSM928431': 19, 'GSM928428': 20, 'GSM928430': 21, 'GSM928432': 22, 'GSM928433': 23}\n",
      "Edge Index Tensor:\n",
      "tensor([[ 0,  0,  0,  0,  0,  0,  1,  1,  1,  1,  1,  1,  2,  2,  2,  2,  2,  2,\n",
      "          3,  3,  3,  3,  3,  3,  4,  4,  4,  4,  4,  4,  5,  5,  5,  5,  5,  5,\n",
      "          6,  7,  8,  9,  9,  9,  9,  9, 14, 15, 16, 16, 16, 16, 16, 10, 10, 10,\n",
      "         10, 10, 11, 11, 11, 11, 12, 12, 12, 12, 12, 12, 17, 17, 17, 13, 13, 13,\n",
      "         13, 13, 13, 20, 20, 18, 18, 18, 18, 21, 19, 19, 19, 19, 22, 23],\n",
      "        [ 0,  1,  2,  3,  4,  5,  0,  1,  2,  3,  4,  5,  0,  1,  2,  3,  4,  5,\n",
      "          0,  1,  2,  3,  4,  5,  0,  1,  2,  3,  4,  5,  0,  1,  2,  3,  4,  5,\n",
      "          6,  7,  8,  9, 10, 11, 12, 13, 14, 15, 16, 10, 17, 18, 19,  9, 16, 10,\n",
      "         12, 13,  9, 11, 12, 13,  9, 10, 11, 12, 13, 18, 16, 17, 19,  9, 10, 11,\n",
      "         12, 13, 18, 20, 19, 16, 12, 13, 18, 21, 16, 17, 20, 19, 22, 23]])\n"
     ]
    }
   ],
   "source": [
    "# Parse the edges and create node mapping\n",
    "source_nodes, target_nodes, node_mapping = parse_edges(edges_1)\n",
    "\n",
    "# Print node mapping for reference\n",
    "print(\"Node Mapping:\", node_mapping)\n",
    "\n",
    "# Create edge_index tensor\n",
    "edge_index = create_edge_index(source_nodes, target_nodes)\n",
    "\n",
    "print(\"Edge Index Tensor:\")\n",
    "print(edge_index)"
   ]
  },
  {
   "cell_type": "code",
   "execution_count": 28,
   "metadata": {
    "colab": {
     "base_uri": "https://localhost:8080/"
    },
    "executionInfo": {
     "elapsed": 356,
     "status": "ok",
     "timestamp": 1726491403033,
     "user": {
      "displayName": "Ugo Lomoio",
      "userId": "00301874906270436685"
     },
     "user_tz": -120
    },
    "id": "3KDcgfLq_UW4",
    "outputId": "a994f1dc-8d81-40a2-c236-48d3276347ef"
   },
   "outputs": [
    {
     "data": {
      "text/plain": [
       "(24, 27551)"
      ]
     },
     "execution_count": 28,
     "metadata": {},
     "output_type": "execute_result"
    }
   ],
   "source": [
    "expr.values.shape"
   ]
  },
  {
   "cell_type": "code",
   "execution_count": 29,
   "metadata": {},
   "outputs": [
    {
     "data": {
      "text/plain": [
       "tensor([1.0000, 0.9747, 0.9752, 0.9596, 0.9494, 0.9742, 0.9747, 1.0000, 0.9925,\n",
       "        0.9737, 0.9682, 0.9925, 0.9752, 0.9925, 1.0000, 0.9709, 0.9668, 0.9921,\n",
       "        0.9596, 0.9737, 0.9709, 1.0000, 0.9539, 0.9694, 0.9494, 0.9682, 0.9668,\n",
       "        0.9539, 1.0000, 0.9673, 0.9742, 0.9925, 0.9921, 0.9694, 0.9673, 1.0000,\n",
       "        1.0000, 1.0000, 1.0000, 1.0000, 0.9314, 0.9302, 0.9351, 0.9490, 1.0000,\n",
       "        1.0000, 1.0000, 0.9310, 0.9218, 0.9277, 0.9351, 0.9314, 0.9310, 1.0000,\n",
       "        0.9239, 0.9349, 0.9302, 1.0000, 0.9216, 0.9249, 0.9351, 0.9239, 0.9216,\n",
       "        1.0000, 0.9419, 0.9330, 0.9218, 1.0000, 0.9327, 0.9490, 0.9349, 0.9249,\n",
       "        0.9419, 1.0000, 0.9260, 1.0000, 0.9201, 0.9277, 0.9330, 0.9260, 1.0000,\n",
       "        1.0000, 0.9351, 0.9327, 0.9201, 1.0000, 1.0000, 1.0000],\n",
       "       dtype=torch.float64)"
      ]
     },
     "execution_count": 29,
     "metadata": {},
     "output_type": "execute_result"
    }
   ],
   "source": [
    "edge_weights = torch.tensor(edge_weights)\n",
    "edge_weights"
   ]
  },
  {
   "cell_type": "code",
   "execution_count": 30,
   "metadata": {
    "colab": {
     "base_uri": "https://localhost:8080/"
    },
    "executionInfo": {
     "elapsed": 2,
     "status": "ok",
     "timestamp": 1726491403407,
     "user": {
      "displayName": "Ugo Lomoio",
      "userId": "00301874906270436685"
     },
     "user_tz": -120
    },
    "id": "v0hv97OCPIWU",
    "outputId": "48c01884-049c-439f-9c6f-8dee57cdb555"
   },
   "outputs": [
    {
     "data": {
      "text/plain": [
       "(torch.Size([24, 27551]), torch.Size([24]), torch.Size([2, 88]))"
      ]
     },
     "execution_count": 30,
     "metadata": {},
     "output_type": "execute_result"
    }
   ],
   "source": [
    "import pygod\n",
    "from pygod.utils import load_data\n",
    "\n",
    "x = torch.tensor(expr.values).to(device)\n",
    "y = torch.tensor(clinic.values).to(device).flatten()\n",
    "edge_index = edge_index.to(device)\n",
    "edge_weights = edge_weights.to(device)\n",
    "x.shape, y.shape, edge_index.shape"
   ]
  },
  {
   "cell_type": "code",
   "execution_count": 31,
   "metadata": {
    "executionInfo": {
     "elapsed": 1,
     "status": "ok",
     "timestamp": 1726491404789,
     "user": {
      "displayName": "Ugo Lomoio",
      "userId": "00301874906270436685"
     },
     "user_tz": -120
    },
    "id": "lPo4ve--bnKi"
   },
   "outputs": [],
   "source": [
    "def ensure_tensor(data, dtype):\n",
    "    if not isinstance(data, torch.Tensor):\n",
    "        data = torch.tensor(data, dtype=dtype)\n",
    "    elif data.dtype != dtype:\n",
    "        data = data.to(dtype)\n",
    "    return data"
   ]
  },
  {
   "cell_type": "code",
   "execution_count": 32,
   "metadata": {
    "colab": {
     "base_uri": "https://localhost:8080/"
    },
    "executionInfo": {
     "elapsed": 2,
     "status": "ok",
     "timestamp": 1726491405251,
     "user": {
      "displayName": "Ugo Lomoio",
      "userId": "00301874906270436685"
     },
     "user_tz": -120
    },
    "id": "Kho9RP7Db0wD",
    "outputId": "4aaabdcd-c1ba-4991-a768-ddbef5065005"
   },
   "outputs": [
    {
     "data": {
      "text/plain": [
       "tensor([[0.6633, 0.5296, 0.1626,  ..., 0.0317, 0.1165, 0.0613],\n",
       "        [0.7329, 0.6378, 0.0872,  ..., 0.0282, 0.0695, 0.1013],\n",
       "        [0.7319, 0.4672, 0.1514,  ..., 0.0196, 0.0779, 0.0891],\n",
       "        ...,\n",
       "        [0.2982, 0.1388, 0.0589,  ..., 0.0056, 0.0137, 0.0226],\n",
       "        [0.3282, 0.0762, 0.3457,  ..., 0.0069, 0.2727, 0.0240],\n",
       "        [0.1844, 0.1093, 0.0267,  ..., 0.0085, 0.0250, 0.0152]],\n",
       "       device='cuda:0')"
      ]
     },
     "execution_count": 32,
     "metadata": {},
     "output_type": "execute_result"
    }
   ],
   "source": [
    "x = ensure_tensor(x, dtype=torch.float)\n",
    "x"
   ]
  },
  {
   "cell_type": "code",
   "execution_count": 33,
   "metadata": {
    "colab": {
     "base_uri": "https://localhost:8080/"
    },
    "executionInfo": {
     "elapsed": 2,
     "status": "ok",
     "timestamp": 1726491406189,
     "user": {
      "displayName": "Ugo Lomoio",
      "userId": "00301874906270436685"
     },
     "user_tz": -120
    },
    "id": "ZQUl0fk5b3DO",
    "outputId": "e6bf6843-5d4a-47a8-a90a-826b811ac6aa"
   },
   "outputs": [
    {
     "data": {
      "text/plain": [
       "tensor([0, 0, 0, 0, 0, 0, 1, 1, 1, 1, 1, 1, 1, 1, 1, 1, 1, 1, 1, 1, 1, 1, 1, 1],\n",
       "       device='cuda:0')"
      ]
     },
     "execution_count": 33,
     "metadata": {},
     "output_type": "execute_result"
    }
   ],
   "source": [
    "y = ensure_tensor(y, dtype=torch.long)\n",
    "y"
   ]
  },
  {
   "cell_type": "code",
   "execution_count": 34,
   "metadata": {
    "colab": {
     "base_uri": "https://localhost:8080/"
    },
    "executionInfo": {
     "elapsed": 2,
     "status": "ok",
     "timestamp": 1726491406622,
     "user": {
      "displayName": "Ugo Lomoio",
      "userId": "00301874906270436685"
     },
     "user_tz": -120
    },
    "id": "GNUdF7dCb8RQ",
    "outputId": "b30eff9c-1446-4221-aad3-4fe4e6cae522"
   },
   "outputs": [
    {
     "data": {
      "text/plain": [
       "tensor([[ 0,  0,  0,  0,  0,  0,  1,  1,  1,  1,  1,  1,  2,  2,  2,  2,  2,  2,\n",
       "          3,  3,  3,  3,  3,  3,  4,  4,  4,  4,  4,  4,  5,  5,  5,  5,  5,  5,\n",
       "          6,  7,  8,  9,  9,  9,  9,  9, 14, 15, 16, 16, 16, 16, 16, 10, 10, 10,\n",
       "         10, 10, 11, 11, 11, 11, 12, 12, 12, 12, 12, 12, 17, 17, 17, 13, 13, 13,\n",
       "         13, 13, 13, 20, 20, 18, 18, 18, 18, 21, 19, 19, 19, 19, 22, 23],\n",
       "        [ 0,  1,  2,  3,  4,  5,  0,  1,  2,  3,  4,  5,  0,  1,  2,  3,  4,  5,\n",
       "          0,  1,  2,  3,  4,  5,  0,  1,  2,  3,  4,  5,  0,  1,  2,  3,  4,  5,\n",
       "          6,  7,  8,  9, 10, 11, 12, 13, 14, 15, 16, 10, 17, 18, 19,  9, 16, 10,\n",
       "         12, 13,  9, 11, 12, 13,  9, 10, 11, 12, 13, 18, 16, 17, 19,  9, 10, 11,\n",
       "         12, 13, 18, 20, 19, 16, 12, 13, 18, 21, 16, 17, 20, 19, 22, 23]],\n",
       "       device='cuda:0')"
      ]
     },
     "execution_count": 34,
     "metadata": {},
     "output_type": "execute_result"
    }
   ],
   "source": [
    "edge_index = ensure_tensor(edge_index, dtype=torch.long)\n",
    "edge_index"
   ]
  },
  {
   "cell_type": "code",
   "execution_count": 35,
   "metadata": {
    "colab": {
     "base_uri": "https://localhost:8080/"
    },
    "executionInfo": {
     "elapsed": 2,
     "status": "ok",
     "timestamp": 1726491407678,
     "user": {
      "displayName": "Ugo Lomoio",
      "userId": "00301874906270436685"
     },
     "user_tz": -120
    },
    "id": "QtwEgWnCl6Xj",
    "outputId": "1b04e7a2-9328-47bb-b0dd-43b870e2511f"
   },
   "outputs": [
    {
     "data": {
      "text/plain": [
       "Data(x=[24, 27551], edge_index=[2, 88], y=[24])"
      ]
     },
     "execution_count": 35,
     "metadata": {},
     "output_type": "execute_result"
    }
   ],
   "source": [
    "from torch_geometric.data import Data\n",
    "\n",
    "data = Data(x=x, edge_index = edge_index, y = y)\n",
    "data"
   ]
  },
  {
   "cell_type": "code",
   "execution_count": 36,
   "metadata": {
    "colab": {
     "base_uri": "https://localhost:8080/"
    },
    "executionInfo": {
     "elapsed": 2,
     "status": "ok",
     "timestamp": 1726491408022,
     "user": {
      "displayName": "Ugo Lomoio",
      "userId": "00301874906270436685"
     },
     "user_tz": -120
    },
    "id": "UvXOGcC4gv_9",
    "outputId": "05f815c5-623a-4231-9e26-a40ef6a87ec2"
   },
   "outputs": [
    {
     "name": "stdout",
     "output_type": "stream",
     "text": [
      "edge_index: tensor([[ 0,  0,  0,  0,  0,  0,  1,  1,  1,  1,  1,  1,  2,  2,  2,  2,  2,  2,\n",
      "          3,  3,  3,  3,  3,  3,  4,  4,  4,  4,  4,  4,  5,  5,  5,  5,  5,  5,\n",
      "          6,  7,  8,  9,  9,  9,  9,  9, 14, 15, 16, 16, 16, 16, 16, 10, 10, 10,\n",
      "         10, 10, 11, 11, 11, 11, 12, 12, 12, 12, 12, 12, 17, 17, 17, 13, 13, 13,\n",
      "         13, 13, 13, 20, 20, 18, 18, 18, 18, 21, 19, 19, 19, 19, 22, 23],\n",
      "        [ 0,  1,  2,  3,  4,  5,  0,  1,  2,  3,  4,  5,  0,  1,  2,  3,  4,  5,\n",
      "          0,  1,  2,  3,  4,  5,  0,  1,  2,  3,  4,  5,  0,  1,  2,  3,  4,  5,\n",
      "          6,  7,  8,  9, 10, 11, 12, 13, 14, 15, 16, 10, 17, 18, 19,  9, 16, 10,\n",
      "         12, 13,  9, 11, 12, 13,  9, 10, 11, 12, 13, 18, 16, 17, 19,  9, 10, 11,\n",
      "         12, 13, 18, 20, 19, 16, 12, 13, 18, 21, 16, 17, 20, 19, 22, 23]],\n",
      "       device='cuda:0')\n",
      "Max node index in edge_index: 23\n",
      "Min node index in edge_index: 0\n"
     ]
    }
   ],
   "source": [
    "print(\"edge_index:\", edge_index)\n",
    "print(f\"Max node index in edge_index: {edge_index.max()}\")\n",
    "print(f\"Min node index in edge_index: {edge_index.min()}\")\n",
    "\n",
    "# Check if any index is out of bounds\n",
    "if edge_index.max() >= 132 or edge_index.min() < 0:\n",
    "    raise ValueError(\"edge_index contains out-of-bounds indices\")"
   ]
  },
  {
   "cell_type": "code",
   "execution_count": 37,
   "metadata": {
    "executionInfo": {
     "elapsed": 1,
     "status": "ok",
     "timestamp": 1726491409272,
     "user": {
      "displayName": "Ugo Lomoio",
      "userId": "00301874906270436685"
     },
     "user_tz": -120
    },
    "id": "fs3FuDdbhHou"
   },
   "outputs": [],
   "source": [
    "# Check for NaNs and infinities\n",
    "assert not torch.isnan(x).any(), \"Found NaNs in x\"\n",
    "assert not torch.isnan(edge_index).any(), \"Found NaNs in edge_index\"\n",
    "assert not torch.isinf(edge_index).any(), \"Found Infs in edge_index\"\n",
    "assert not torch.isinf(x).any(), \"Found Infs in x\""
   ]
  },
  {
   "cell_type": "code",
   "execution_count": 38,
   "metadata": {},
   "outputs": [
    {
     "data": {
      "text/plain": [
       "tensor([0, 0, 0, 0, 0, 0, 1, 1, 1, 1, 1, 1, 1, 1, 1, 1, 1, 1, 1, 1, 1, 1, 1, 1],\n",
       "       device='cuda:0')"
      ]
     },
     "execution_count": 38,
     "metadata": {},
     "output_type": "execute_result"
    }
   ],
   "source": [
    "data.y"
   ]
  },
  {
   "cell_type": "code",
   "execution_count": 39,
   "metadata": {
    "executionInfo": {
     "elapsed": 1,
     "status": "ok",
     "timestamp": 1726491409705,
     "user": {
      "displayName": "Ugo Lomoio",
      "userId": "00301874906270436685"
     },
     "user_tz": -120
    },
    "id": "M94VRmT0a63o"
   },
   "outputs": [],
   "source": [
    "import torch\n",
    "from sklearn.model_selection import train_test_split\n",
    "\n",
    "# Assuming `data.y` contains the labels\n",
    "num_nodes = data.num_nodes\n",
    "train_size = 0.6  # 60% for training\n",
    "\n",
    "\n",
    "\n",
    "# Create a boolean mask for training nodes\n",
    "indices = torch.arange(num_nodes)\n",
    "train_indices, test_indices = train_test_split(indices, train_size=train_size, stratify=data.y.cpu())\n",
    "\n",
    "\n",
    "train_mask = torch.zeros(num_nodes, dtype=torch.bool).to(device)\n",
    "test_mask = torch.zeros(num_nodes, dtype=torch.bool).to(device)\n",
    "train_mask[train_indices] = True\n",
    "test_mask[test_indices] = True\n",
    "\n",
    "data.train_mask = train_mask\n",
    "data.test_mask = test_mask"
   ]
  },
  {
   "cell_type": "code",
   "execution_count": 40,
   "metadata": {
    "colab": {
     "base_uri": "https://localhost:8080/"
    },
    "executionInfo": {
     "elapsed": 1,
     "status": "ok",
     "timestamp": 1726491410689,
     "user": {
      "displayName": "Ugo Lomoio",
      "userId": "00301874906270436685"
     },
     "user_tz": -120
    },
    "id": "wdRdj5HStajV",
    "outputId": "0167d3aa-2d02-46a7-8a8d-81a1aa07bf3b"
   },
   "outputs": [
    {
     "data": {
      "text/plain": [
       "tensor([0, 0, 0, 0, 1, 1, 1, 1, 1, 1, 1, 1, 1, 1], device='cuda:0')"
      ]
     },
     "execution_count": 40,
     "metadata": {},
     "output_type": "execute_result"
    }
   ],
   "source": [
    "y[train_mask]"
   ]
  },
  {
   "cell_type": "code",
   "execution_count": 41,
   "metadata": {
    "colab": {
     "base_uri": "https://localhost:8080/"
    },
    "executionInfo": {
     "elapsed": 352,
     "status": "ok",
     "timestamp": 1726491411623,
     "user": {
      "displayName": "Ugo Lomoio",
      "userId": "00301874906270436685"
     },
     "user_tz": -120
    },
    "id": "xylIIByHtf9m",
    "outputId": "24c1fb38-ca37-4bcf-a1cb-5f21711de71d"
   },
   "outputs": [
    {
     "data": {
      "text/plain": [
       "tensor([0, 0, 1, 1, 1, 1, 1, 1, 1, 1], device='cuda:0')"
      ]
     },
     "execution_count": 41,
     "metadata": {},
     "output_type": "execute_result"
    }
   ],
   "source": [
    "y[test_mask]"
   ]
  },
  {
   "cell_type": "code",
   "execution_count": 42,
   "metadata": {
    "executionInfo": {
     "elapsed": 1,
     "status": "ok",
     "timestamp": 1726491412068,
     "user": {
      "displayName": "Ugo Lomoio",
      "userId": "00301874906270436685"
     },
     "user_tz": -120
    },
    "id": "VWhnxeNhyxV9"
   },
   "outputs": [],
   "source": [
    "import pandas as pd\n",
    "import torch"
   ]
  },
  {
   "cell_type": "code",
   "execution_count": 43,
   "metadata": {
    "executionInfo": {
     "elapsed": 1,
     "status": "ok",
     "timestamp": 1726491413444,
     "user": {
      "displayName": "Ugo Lomoio",
      "userId": "00301874906270436685"
     },
     "user_tz": -120
    },
    "id": "p_eDpmo808le"
   },
   "outputs": [],
   "source": [
    "from pygod.metric import eval_roc_auc, eval_f1, eval_average_precision, eval_recall_at_k, eval_precision_at_k\n",
    "scores = {\"ROC AUC\": eval_roc_auc, \"F1\": eval_f1, \"Average Precision\": eval_average_precision, \"Recall@k\": eval_recall_at_k, \"Precision@k\": eval_precision_at_k}"
   ]
  },
  {
   "cell_type": "code",
   "execution_count": 44,
   "metadata": {
    "colab": {
     "base_uri": "https://localhost:8080/"
    },
    "executionInfo": {
     "elapsed": 2,
     "status": "ok",
     "timestamp": 1726491416237,
     "user": {
      "displayName": "Ugo Lomoio",
      "userId": "00301874906270436685"
     },
     "user_tz": -120
    },
    "id": "jTLwP1LPa22I",
    "outputId": "b7726ae3-80f2-4aaa-e274-f78dc68f53b4"
   },
   "outputs": [
    {
     "name": "stdout",
     "output_type": "stream",
     "text": [
      "x shape: torch.Size([24, 27551])\n",
      "edge_index shape: torch.Size([2, 88])\n",
      "y shape: torch.Size([24])\n"
     ]
    }
   ],
   "source": [
    "print(f\"x shape: {x.shape}\")\n",
    "print(f\"edge_index shape: {edge_index.shape}\")\n",
    "print(f\"y shape: {y.shape}\")"
   ]
  },
  {
   "cell_type": "code",
   "execution_count": 45,
   "metadata": {},
   "outputs": [
    {
     "name": "stdout",
     "output_type": "stream",
     "text": [
      "torch.Size([24, 27551])\n",
      "torch.Size([2, 88])\n",
      "tensor(14, device='cuda:0') tensor(10, device='cuda:0')\n"
     ]
    }
   ],
   "source": [
    "print(data.x.shape)  # Should be [num_nodes, num_features]\n",
    "print(data.edge_index.shape)  # Should be [2, num_edges]\n",
    "print(data.train_mask.sum(), data.test_mask.sum())  # Should match the number of nodes selected for training and testing"
   ]
  },
  {
   "cell_type": "code",
   "execution_count": 46,
   "metadata": {},
   "outputs": [],
   "source": [
    "import gc\n",
    "gc.collect()\n",
    "torch.cuda.empty_cache()"
   ]
  },
  {
   "cell_type": "code",
   "execution_count": 47,
   "metadata": {},
   "outputs": [],
   "source": [
    "# Filter the edge_index and ensure all edges reference valid nodes in the mask\n",
    "def filter_edge_index(edge_index, mask):\n",
    "    # Get the indices of valid nodes according to the mask\n",
    "    idx_map = torch.nonzero(mask, as_tuple=True)[0]\n",
    "    \n",
    "    # Create a mapping from old indices to new indices\n",
    "    node_idx_map = {old_idx.item(): new_idx for new_idx, old_idx in enumerate(idx_map)}\n",
    "\n",
    "    # Filter edge_index to include only valid edges\n",
    "    mask_edge_index = (mask[edge_index[0]] & mask[edge_index[1]]).nonzero(as_tuple=False).squeeze()\n",
    "    \n",
    "    if mask_edge_index.numel() == 0:\n",
    "        return torch.empty((2, 0), dtype=torch.long)  # No valid edges\n",
    "\n",
    "    # Filter and remap edge_index\n",
    "    filtered_edge_index = edge_index[:, mask_edge_index]\n",
    "    filtered_edge_index = torch.tensor([[node_idx_map.get(int(i), -1) for i in edge] for edge in filtered_edge_index.t()], dtype=torch.long).t()\n",
    "\n",
    "    # Remove edges with -1 index due to remapping issues\n",
    "    valid_edges = filtered_edge_index.min(dim=0).values >= 0\n",
    "    filtered_edge_index = filtered_edge_index[:, valid_edges]\n",
    "\n",
    "    return filtered_edge_index"
   ]
  },
  {
   "cell_type": "code",
   "execution_count": 48,
   "metadata": {},
   "outputs": [
    {
     "data": {
      "text/plain": [
       "{0: 'GSM928410',\n",
       " 1: 'GSM928411',\n",
       " 2: 'GSM928412',\n",
       " 3: 'GSM928413',\n",
       " 4: 'GSM928414',\n",
       " 5: 'GSM928415',\n",
       " 6: 'GSM928416',\n",
       " 7: 'GSM928417',\n",
       " 8: 'GSM928418',\n",
       " 9: 'GSM928419',\n",
       " 10: 'GSM928423',\n",
       " 11: 'GSM928424',\n",
       " 12: 'GSM928425',\n",
       " 13: 'GSM928427',\n",
       " 14: 'GSM928420',\n",
       " 15: 'GSM928421',\n",
       " 16: 'GSM928422',\n",
       " 17: 'GSM928426',\n",
       " 18: 'GSM928429',\n",
       " 19: 'GSM928431',\n",
       " 20: 'GSM928428',\n",
       " 21: 'GSM928430',\n",
       " 22: 'GSM928432',\n",
       " 23: 'GSM928433'}"
      ]
     },
     "execution_count": 48,
     "metadata": {},
     "output_type": "execute_result"
    }
   ],
   "source": [
    "node_mapping_rev = {value: key for key, value in node_mapping.items()}\n",
    "node_mapping_rev"
   ]
  },
  {
   "cell_type": "code",
   "execution_count": 49,
   "metadata": {},
   "outputs": [
    {
     "data": {
      "text/plain": [
       "tensor([[ 0,  0,  0,  0,  1,  1,  1,  1,  2,  2,  2,  2,  3,  3,  3,  3,  4,  5,\n",
       "         10,  6,  6,  6,  7,  7,  7,  8,  8,  8,  8,  8,  9,  9,  9,  9,  9, 11,\n",
       "         11, 11, 12, 13],\n",
       "        [ 0,  1,  2,  3,  0,  1,  2,  3,  0,  1,  2,  3,  0,  1,  2,  3,  4,  5,\n",
       "         10,  6,  8,  9,  7,  8,  9,  6,  7,  8,  9, 11,  6,  7,  8,  9, 11,  8,\n",
       "          9, 11, 12, 13]])"
      ]
     },
     "execution_count": 49,
     "metadata": {},
     "output_type": "execute_result"
    }
   ],
   "source": [
    "train_edge_index = filter_edge_index(data.edge_index, data.train_mask)\n",
    "train_edge_index"
   ]
  },
  {
   "cell_type": "code",
   "execution_count": 50,
   "metadata": {},
   "outputs": [
    {
     "data": {
      "text/plain": [
       "tensor([[0, 0, 1, 1, 2, 3, 4, 5, 5, 6, 6, 7, 8, 9],\n",
       "        [0, 1, 0, 1, 2, 3, 4, 5, 6, 5, 6, 7, 8, 9]])"
      ]
     },
     "execution_count": 50,
     "metadata": {},
     "output_type": "execute_result"
    }
   ],
   "source": [
    "test_edge_index = filter_edge_index(data.edge_index, data.test_mask)\n",
    "test_edge_index"
   ]
  },
  {
   "cell_type": "code",
   "execution_count": 51,
   "metadata": {},
   "outputs": [],
   "source": [
    "train_data = Data(x=data.x[data.train_mask], edge_index=train_edge_index)\n",
    "y_test =  data.y[data.test_mask]\n",
    "test_data = Data(x=data.x[data.test_mask], edge_index=test_edge_index)"
   ]
  },
  {
   "cell_type": "code",
   "execution_count": 52,
   "metadata": {},
   "outputs": [
    {
     "data": {
      "text/plain": [
       "(array([0, 1]), array([2, 8]))"
      ]
     },
     "execution_count": 52,
     "metadata": {},
     "output_type": "execute_result"
    }
   ],
   "source": [
    "counts, uqs = np.unique(data.y[data.test_mask].cpu().detach().numpy(), return_counts = True)\n",
    "counts, uqs"
   ]
  },
  {
   "cell_type": "code",
   "execution_count": 53,
   "metadata": {},
   "outputs": [
    {
     "data": {
      "text/plain": [
       "np.float64(0.4)"
      ]
     },
     "execution_count": 53,
     "metadata": {},
     "output_type": "execute_result"
    }
   ],
   "source": [
    "contamination = (uqs[1]/(uqs[0]+uqs[1]))/2\n",
    "contamination"
   ]
  },
  {
   "cell_type": "code",
   "execution_count": 54,
   "metadata": {
    "colab": {
     "base_uri": "https://localhost:8080/",
     "height": 477
    },
    "executionInfo": {
     "elapsed": 3,
     "status": "error",
     "timestamp": 1726491420762,
     "user": {
      "displayName": "Ugo Lomoio",
      "userId": "00301874906270436685"
     },
     "user_tz": -120
    },
    "id": "--M8MJNbFIEc",
    "outputId": "1295a73d-239d-4017-f099-3b870a4888fe",
    "scrolled": true
   },
   "outputs": [
    {
     "name": "stdout",
     "output_type": "stream",
     "text": [
      "GAE\n",
      "Training\n"
     ]
    },
    {
     "name": "stderr",
     "output_type": "stream",
     "text": [
      "/home/ulomoio/miniforge3/envs/adin/lib/python3.10/site-packages/torch_geometric/sampler/neighbor_sampler.py:61: UserWarning: Using 'NeighborSampler' without a 'pyg-lib' installation is deprecated and will be removed soon. Please install 'pyg-lib' for accelerated neighborhood sampling\n",
      "  warnings.warn(f\"Using '{self.__class__.__name__}' without a \"\n"
     ]
    },
    {
     "name": "stdout",
     "output_type": "stream",
     "text": [
      "Epoch 0000: Loss 0.1473 | \n",
      "Epoch 0001: Loss 0.1459 | \n",
      "Epoch 0002: Loss 0.1454 | \n",
      "Epoch 0003: Loss 0.1451 | \n",
      "Epoch 0004: Loss 0.1446 | \n",
      "Epoch 0005: Loss 0.1439 | \n",
      "Epoch 0006: Loss 0.1430 | \n",
      "Epoch 0007: Loss 0.1420 | \n",
      "Epoch 0008: Loss 0.1407 | \n",
      "Epoch 0009: Loss 0.1393 | \n",
      "Epoch 0010: Loss 0.1376 | \n",
      "Epoch 0011: Loss 0.1358 | \n",
      "Epoch 0012: Loss 0.1336 | \n",
      "Epoch 0013: Loss 0.1313 | \n",
      "Epoch 0014: Loss 0.1287 | \n",
      "Epoch 0015: Loss 0.1258 | \n",
      "Epoch 0016: Loss 0.1227 | \n",
      "Epoch 0017: Loss 0.1194 | \n",
      "Epoch 0018: Loss 0.1159 | \n",
      "Epoch 0019: Loss 0.1121 | \n",
      "Epoch 0020: Loss 0.1082 | \n",
      "Epoch 0021: Loss 0.1041 | \n",
      "Epoch 0022: Loss 0.0999 | \n",
      "Epoch 0023: Loss 0.0956 | \n",
      "Epoch 0024: Loss 0.0913 | \n",
      "Epoch 0025: Loss 0.0869 | \n",
      "Epoch 0026: Loss 0.0826 | \n",
      "Epoch 0027: Loss 0.0784 | \n",
      "Epoch 0028: Loss 0.0742 | \n",
      "Epoch 0029: Loss 0.0701 | \n",
      "Epoch 0030: Loss 0.0661 | \n",
      "Epoch 0031: Loss 0.0623 | \n",
      "Epoch 0032: Loss 0.0587 | \n",
      "Epoch 0033: Loss 0.0552 | \n",
      "Epoch 0034: Loss 0.0519 | \n",
      "Epoch 0035: Loss 0.0488 | \n",
      "Epoch 0036: Loss 0.0459 | \n",
      "Epoch 0037: Loss 0.0432 | \n",
      "Epoch 0038: Loss 0.0406 | \n",
      "Epoch 0039: Loss 0.0383 | \n",
      "Epoch 0040: Loss 0.0361 | \n",
      "Epoch 0041: Loss 0.0340 | \n",
      "Epoch 0042: Loss 0.0321 | \n",
      "Epoch 0043: Loss 0.0304 | \n",
      "Epoch 0044: Loss 0.0288 | \n",
      "Epoch 0045: Loss 0.0273 | \n",
      "Epoch 0046: Loss 0.0260 | \n",
      "Epoch 0047: Loss 0.0248 | \n",
      "Epoch 0048: Loss 0.0237 | \n",
      "Epoch 0049: Loss 0.0226 | \n",
      "Epoch 0050: Loss 0.0217 | \n",
      "Epoch 0051: Loss 0.0208 | \n",
      "Epoch 0052: Loss 0.0201 | \n",
      "Epoch 0053: Loss 0.0194 | \n",
      "Epoch 0054: Loss 0.0187 | \n",
      "Epoch 0055: Loss 0.0182 | \n",
      "Epoch 0056: Loss 0.0176 | \n",
      "Epoch 0057: Loss 0.0172 | \n",
      "Epoch 0058: Loss 0.0167 | \n",
      "Epoch 0059: Loss 0.0163 | \n",
      "Epoch 0060: Loss 0.0160 | \n",
      "Epoch 0061: Loss 0.0156 | \n",
      "Epoch 0062: Loss 0.0153 | \n",
      "Epoch 0063: Loss 0.0151 | \n",
      "Epoch 0064: Loss 0.0148 | \n",
      "Epoch 0065: Loss 0.0146 | \n",
      "Epoch 0066: Loss 0.0144 | \n",
      "Epoch 0067: Loss 0.0142 | \n",
      "Epoch 0068: Loss 0.0140 | \n",
      "Epoch 0069: Loss 0.0139 | \n",
      "Epoch 0070: Loss 0.0137 | \n",
      "Epoch 0071: Loss 0.0136 | \n",
      "Epoch 0072: Loss 0.0135 | \n",
      "Epoch 0073: Loss 0.0134 | \n",
      "Epoch 0074: Loss 0.0133 | \n",
      "Epoch 0075: Loss 0.0132 | \n",
      "Epoch 0076: Loss 0.0131 | \n",
      "Epoch 0077: Loss 0.0131 | \n",
      "Epoch 0078: Loss 0.0130 | \n",
      "Epoch 0079: Loss 0.0129 | \n",
      "Epoch 0080: Loss 0.0129 | \n",
      "Epoch 0081: Loss 0.0128 | \n",
      "Epoch 0082: Loss 0.0128 | \n",
      "Epoch 0083: Loss 0.0127 | \n",
      "Epoch 0084: Loss 0.0127 | \n",
      "Epoch 0085: Loss 0.0127 | \n",
      "Epoch 0086: Loss 0.0126 | \n",
      "Epoch 0087: Loss 0.0126 | \n",
      "Epoch 0088: Loss 0.0126 | \n",
      "Epoch 0089: Loss 0.0125 | \n",
      "Epoch 0090: Loss 0.0125 | \n",
      "Epoch 0091: Loss 0.0125 | \n",
      "Epoch 0092: Loss 0.0125 | \n",
      "Epoch 0093: Loss 0.0125 | \n",
      "Epoch 0094: Loss 0.0125 | \n",
      "Epoch 0095: Loss 0.0124 | \n",
      "Epoch 0096: Loss 0.0124 | \n",
      "Epoch 0097: Loss 0.0124 | \n",
      "Epoch 0098: Loss 0.0124 | \n",
      "Epoch 0099: Loss 0.0124 | \n",
      "Epoch 0100: Loss 0.0124 | \n",
      "Epoch 0101: Loss 0.0124 | \n",
      "Epoch 0102: Loss 0.0124 | \n",
      "Epoch 0103: Loss 0.0124 | \n",
      "Epoch 0104: Loss 0.0124 | \n",
      "Epoch 0105: Loss 0.0124 | \n",
      "Epoch 0106: Loss 0.0124 | \n",
      "Epoch 0107: Loss 0.0124 | \n",
      "Epoch 0108: Loss 0.0123 | \n",
      "Epoch 0109: Loss 0.0123 | \n",
      "Epoch 0110: Loss 0.0123 | \n",
      "Epoch 0111: Loss 0.0123 | \n",
      "Epoch 0112: Loss 0.0123 | \n",
      "Epoch 0113: Loss 0.0123 | \n",
      "Epoch 0114: Loss 0.0123 | \n",
      "Epoch 0115: Loss 0.0123 | \n",
      "Epoch 0116: Loss 0.0123 | \n",
      "Epoch 0117: Loss 0.0123 | \n",
      "Epoch 0118: Loss 0.0123 | \n",
      "Epoch 0119: Loss 0.0123 | \n",
      "Epoch 0120: Loss 0.0123 | \n",
      "Epoch 0121: Loss 0.0123 | \n",
      "Epoch 0122: Loss 0.0123 | \n",
      "Epoch 0123: Loss 0.0123 | \n",
      "Epoch 0124: Loss 0.0123 | \n",
      "Epoch 0125: Loss 0.0123 | \n",
      "Epoch 0126: Loss 0.0123 | \n",
      "Epoch 0127: Loss 0.0123 | \n",
      "Epoch 0128: Loss 0.0123 | \n",
      "Epoch 0129: Loss 0.0123 | \n",
      "Epoch 0130: Loss 0.0123 | \n",
      "Epoch 0131: Loss 0.0123 | \n",
      "Epoch 0132: Loss 0.0123 | \n",
      "Epoch 0133: Loss 0.0123 | \n",
      "Epoch 0134: Loss 0.0123 | \n",
      "Epoch 0135: Loss 0.0123 | \n",
      "Epoch 0136: Loss 0.0123 | \n",
      "Epoch 0137: Loss 0.0123 | \n",
      "Epoch 0138: Loss 0.0123 | \n",
      "Epoch 0139: Loss 0.0123 | \n",
      "Epoch 0140: Loss 0.0123 | \n",
      "Epoch 0141: Loss 0.0123 | \n",
      "Epoch 0142: Loss 0.0123 | \n",
      "Epoch 0143: Loss 0.0123 | \n",
      "Epoch 0144: Loss 0.0123 | \n",
      "Epoch 0145: Loss 0.0123 | \n",
      "Epoch 0146: Loss 0.0123 | \n",
      "Epoch 0147: Loss 0.0122 | \n",
      "Epoch 0148: Loss 0.0122 | \n",
      "Epoch 0149: Loss 0.0122 | \n",
      "Epoch 0150: Loss 0.0122 | \n",
      "Epoch 0151: Loss 0.0122 | \n",
      "Epoch 0152: Loss 0.0122 | \n",
      "Epoch 0153: Loss 0.0122 | \n",
      "Epoch 0154: Loss 0.0122 | \n",
      "Epoch 0155: Loss 0.0122 | \n",
      "Epoch 0156: Loss 0.0122 | \n",
      "Epoch 0157: Loss 0.0122 | \n",
      "Epoch 0158: Loss 0.0122 | \n",
      "Epoch 0159: Loss 0.0122 | \n",
      "Epoch 0160: Loss 0.0122 | \n",
      "Epoch 0161: Loss 0.0122 | \n",
      "Epoch 0162: Loss 0.0122 | \n",
      "Epoch 0163: Loss 0.0122 | \n",
      "Epoch 0164: Loss 0.0122 | \n",
      "Epoch 0165: Loss 0.0122 | \n",
      "Epoch 0166: Loss 0.0122 | \n",
      "Epoch 0167: Loss 0.0122 | \n",
      "Epoch 0168: Loss 0.0122 | \n",
      "Epoch 0169: Loss 0.0122 | \n",
      "Epoch 0170: Loss 0.0122 | \n",
      "Epoch 0171: Loss 0.0121 | \n",
      "Epoch 0172: Loss 0.0121 | \n",
      "Epoch 0173: Loss 0.0121 | \n",
      "Epoch 0174: Loss 0.0121 | \n",
      "Epoch 0175: Loss 0.0121 | \n",
      "Epoch 0176: Loss 0.0121 | \n",
      "Epoch 0177: Loss 0.0121 | \n",
      "Epoch 0178: Loss 0.0121 | \n",
      "Epoch 0179: Loss 0.0121 | \n",
      "Epoch 0180: Loss 0.0121 | \n",
      "Epoch 0181: Loss 0.0121 | \n",
      "Epoch 0182: Loss 0.0121 | \n",
      "Epoch 0183: Loss 0.0121 | \n",
      "Epoch 0184: Loss 0.0120 | \n",
      "Epoch 0185: Loss 0.0120 | \n",
      "Epoch 0186: Loss 0.0120 | \n",
      "Epoch 0187: Loss 0.0120 | \n",
      "Epoch 0188: Loss 0.0120 | \n",
      "Epoch 0189: Loss 0.0120 | \n",
      "Epoch 0190: Loss 0.0120 | \n",
      "Epoch 0191: Loss 0.0120 | \n",
      "Epoch 0192: Loss 0.0119 | \n",
      "Epoch 0193: Loss 0.0119 | \n",
      "Epoch 0194: Loss 0.0119 | \n",
      "Epoch 0195: Loss 0.0119 | \n",
      "Epoch 0196: Loss 0.0119 | \n",
      "Epoch 0197: Loss 0.0119 | \n",
      "Epoch 0198: Loss 0.0119 | \n",
      "Epoch 0199: Loss 0.0118 | \n",
      "Predicting\n",
      "Test: Loss 0.0127 | \n",
      "Predicted labels:\n",
      "tensor([0, 0, 0, 0, 1, 0, 1, 1, 0, 1])\n",
      "True labels:\n",
      "tensor([0, 0, 1, 1, 1, 1, 1, 1, 1, 1])\n",
      "Raw scores:\n",
      "tensor([0.0069, 0.0074, 0.0118, 0.0089, 0.0136, 0.0111, 0.0142, 0.0233, 0.0090,\n",
      "        0.0212])\n",
      "Probability:\n",
      "tensor([0.0000, 0.0000, 0.0000, 0.0000, 0.3877, 0.0000, 0.4965, 0.9986, 0.0000,\n",
      "        0.9911])\n",
      "Confidence:\n",
      "tensor([1.0000, 1.0000, 0.9102, 0.9997, 0.7415, 0.9895, 0.7415, 0.9988, 0.9997,\n",
      "        0.9988])\n",
      "GAAN\n",
      "Training\n",
      "Epoch 0000: Loss I 0.6663 | Loss O 0.8214 | \n",
      "Epoch 0001: Loss I 0.8722 | Loss O 0.9652 | \n",
      "Epoch 0002: Loss I 0.8382 | Loss O 0.9184 | \n",
      "Epoch 0003: Loss I 0.5186 | Loss O 0.8795 | \n",
      "Epoch 0004: Loss I 0.5771 | Loss O 0.8809 | \n"
     ]
    },
    {
     "name": "stderr",
     "output_type": "stream",
     "text": [
      "/home/ulomoio/miniforge3/envs/adin/lib/python3.10/site-packages/torch_geometric/sampler/neighbor_sampler.py:61: UserWarning: Using 'NeighborSampler' without a 'pyg-lib' installation is deprecated and will be removed soon. Please install 'pyg-lib' for accelerated neighborhood sampling\n",
      "  warnings.warn(f\"Using '{self.__class__.__name__}' without a \"\n"
     ]
    },
    {
     "name": "stdout",
     "output_type": "stream",
     "text": [
      "Epoch 0005: Loss I 0.7721 | Loss O 0.8800 | \n",
      "Epoch 0006: Loss I 0.5511 | Loss O 0.8716 | \n",
      "Epoch 0007: Loss I 0.7189 | Loss O 0.9775 | \n",
      "Epoch 0008: Loss I 0.6023 | Loss O 0.8712 | \n",
      "Epoch 0009: Loss I 0.8084 | Loss O 0.9302 | \n",
      "Epoch 0010: Loss I 0.7286 | Loss O 0.7601 | \n",
      "Epoch 0011: Loss I 0.6391 | Loss O 0.7862 | \n",
      "Epoch 0012: Loss I 0.7102 | Loss O 0.6204 | \n",
      "Epoch 0013: Loss I 0.6881 | Loss O 0.7498 | \n",
      "Epoch 0014: Loss I 0.6015 | Loss O 0.7288 | \n",
      "Epoch 0015: Loss I 0.7086 | Loss O 0.8625 | \n",
      "Epoch 0016: Loss I 0.5856 | Loss O 0.8309 | \n",
      "Epoch 0017: Loss I 0.6227 | Loss O 0.7552 | \n",
      "Epoch 0018: Loss I 0.7380 | Loss O 0.6856 | \n",
      "Epoch 0019: Loss I 0.6000 | Loss O 0.6584 | \n",
      "Epoch 0020: Loss I 0.6135 | Loss O 0.6096 | \n",
      "Epoch 0021: Loss I 0.6407 | Loss O 0.6118 | \n",
      "Epoch 0022: Loss I 0.6404 | Loss O 0.6894 | \n",
      "Epoch 0023: Loss I 0.6526 | Loss O 0.6933 | \n",
      "Epoch 0024: Loss I 0.6422 | Loss O 0.6541 | \n",
      "Epoch 0025: Loss I 0.6066 | Loss O 0.6794 | \n",
      "Epoch 0026: Loss I 0.5922 | Loss O 0.7851 | \n",
      "Epoch 0027: Loss I 0.6787 | Loss O 0.7087 | \n",
      "Epoch 0028: Loss I 0.6743 | Loss O 0.6121 | \n",
      "Epoch 0029: Loss I 0.6237 | Loss O 0.5420 | \n",
      "Epoch 0030: Loss I 0.6277 | Loss O 0.6895 | \n",
      "Epoch 0031: Loss I 0.5989 | Loss O 0.6088 | \n",
      "Epoch 0032: Loss I 0.6188 | Loss O 0.5562 | \n",
      "Epoch 0033: Loss I 0.6945 | Loss O 0.5566 | \n",
      "Epoch 0034: Loss I 0.6206 | Loss O 0.5421 | \n",
      "Epoch 0035: Loss I 0.5984 | Loss O 0.5855 | \n",
      "Epoch 0036: Loss I 0.6758 | Loss O 0.5300 | \n",
      "Epoch 0037: Loss I 0.5930 | Loss O 0.5491 | \n",
      "Epoch 0038: Loss I 0.6174 | Loss O 0.5318 | \n",
      "Epoch 0039: Loss I 0.6331 | Loss O 0.5609 | \n",
      "Epoch 0040: Loss I 0.5652 | Loss O 0.5427 | \n",
      "Epoch 0041: Loss I 0.6098 | Loss O 0.5748 | \n",
      "Epoch 0042: Loss I 0.6126 | Loss O 0.5049 | \n",
      "Epoch 0043: Loss I 0.6448 | Loss O 0.5072 | \n",
      "Epoch 0044: Loss I 0.6247 | Loss O 0.5365 | \n",
      "Epoch 0045: Loss I 0.6116 | Loss O 0.4912 | \n",
      "Epoch 0046: Loss I 0.6428 | Loss O 0.5021 | \n",
      "Epoch 0047: Loss I 0.6721 | Loss O 0.4681 | \n",
      "Epoch 0048: Loss I 0.6163 | Loss O 0.4858 | \n",
      "Epoch 0049: Loss I 0.6565 | Loss O 0.4709 | \n",
      "Epoch 0050: Loss I 0.6268 | Loss O 0.4699 | \n",
      "Epoch 0051: Loss I 0.6041 | Loss O 0.4541 | \n",
      "Epoch 0052: Loss I 0.6330 | Loss O 0.4814 | \n",
      "Epoch 0053: Loss I 0.6387 | Loss O 0.4696 | \n",
      "Epoch 0054: Loss I 0.6678 | Loss O 0.4568 | \n",
      "Epoch 0055: Loss I 0.6317 | Loss O 0.4389 | \n",
      "Epoch 0056: Loss I 0.6200 | Loss O 0.4413 | \n",
      "Epoch 0057: Loss I 0.6095 | Loss O 0.4733 | \n",
      "Epoch 0058: Loss I 0.6470 | Loss O 0.4386 | \n",
      "Epoch 0059: Loss I 0.6536 | Loss O 0.4760 | \n",
      "Epoch 0060: Loss I 0.5456 | Loss O 0.5015 | \n",
      "Epoch 0061: Loss I 0.6265 | Loss O 0.4676 | \n",
      "Epoch 0062: Loss I 0.6103 | Loss O 0.4808 | \n",
      "Epoch 0063: Loss I 0.6274 | Loss O 0.4241 | \n",
      "Epoch 0064: Loss I 0.6392 | Loss O 0.4192 | \n",
      "Epoch 0065: Loss I 0.6712 | Loss O 0.4165 | \n",
      "Epoch 0066: Loss I 0.6646 | Loss O 0.4114 | \n",
      "Epoch 0067: Loss I 0.5219 | Loss O 0.5175 | \n",
      "Epoch 0068: Loss I 0.6118 | Loss O 0.4349 | \n",
      "Epoch 0069: Loss I 0.6512 | Loss O 0.4440 | \n",
      "Epoch 0070: Loss I 0.6237 | Loss O 0.4258 | \n",
      "Epoch 0071: Loss I 0.5793 | Loss O 0.4441 | \n",
      "Epoch 0072: Loss I 0.6234 | Loss O 0.4217 | \n",
      "Epoch 0073: Loss I 0.5991 | Loss O 0.4376 | \n",
      "Epoch 0074: Loss I 0.5944 | Loss O 0.4373 | \n",
      "Epoch 0075: Loss I 0.6552 | Loss O 0.4118 | \n",
      "Epoch 0076: Loss I 0.6141 | Loss O 0.4190 | \n",
      "Epoch 0077: Loss I 0.6421 | Loss O 0.4127 | \n",
      "Epoch 0078: Loss I 0.5998 | Loss O 0.4210 | \n",
      "Epoch 0079: Loss I 0.6350 | Loss O 0.4044 | \n",
      "Epoch 0080: Loss I 0.6446 | Loss O 0.4000 | \n",
      "Epoch 0081: Loss I 0.6250 | Loss O 0.4073 | \n",
      "Epoch 0082: Loss I 0.6114 | Loss O 0.4103 | \n",
      "Epoch 0083: Loss I 0.6212 | Loss O 0.4271 | \n",
      "Epoch 0084: Loss I 0.5954 | Loss O 0.4269 | \n",
      "Epoch 0085: Loss I 0.6450 | Loss O 0.3990 | \n",
      "Epoch 0086: Loss I 0.6317 | Loss O 0.3976 | \n",
      "Epoch 0087: Loss I 0.6584 | Loss O 0.3813 | \n",
      "Epoch 0088: Loss I 0.5935 | Loss O 0.4269 | \n",
      "Epoch 0089: Loss I 0.6461 | Loss O 0.3880 | \n",
      "Epoch 0090: Loss I 0.6436 | Loss O 0.3985 | \n",
      "Epoch 0091: Loss I 0.6234 | Loss O 0.4040 | \n",
      "Epoch 0092: Loss I 0.6533 | Loss O 0.3813 | \n",
      "Epoch 0093: Loss I 0.6395 | Loss O 0.3954 | \n",
      "Epoch 0094: Loss I 0.6730 | Loss O 0.3716 | \n",
      "Epoch 0095: Loss I 0.6545 | Loss O 0.3789 | \n",
      "Epoch 0096: Loss I 0.6567 | Loss O 0.3829 | \n",
      "Epoch 0097: Loss I 0.6593 | Loss O 0.3756 | \n",
      "Epoch 0098: Loss I 0.6497 | Loss O 0.3803 | \n",
      "Epoch 0099: Loss I 0.6501 | Loss O 0.3821 | \n",
      "Epoch 0100: Loss I 0.6126 | Loss O 0.4039 | \n",
      "Epoch 0101: Loss I 0.6430 | Loss O 0.3854 | \n",
      "Epoch 0102: Loss I 0.6543 | Loss O 0.3796 | \n",
      "Epoch 0103: Loss I 0.6658 | Loss O 0.3705 | \n",
      "Epoch 0104: Loss I 0.6449 | Loss O 0.3782 | \n",
      "Epoch 0105: Loss I 0.6498 | Loss O 0.3827 | \n",
      "Epoch 0106: Loss I 0.6420 | Loss O 0.3873 | \n",
      "Epoch 0107: Loss I 0.6353 | Loss O 0.3839 | \n",
      "Epoch 0108: Loss I 0.6525 | Loss O 0.3742 | \n",
      "Epoch 0109: Loss I 0.6663 | Loss O 0.3725 | \n",
      "Epoch 0110: Loss I 0.6466 | Loss O 0.3795 | \n",
      "Epoch 0111: Loss I 0.6599 | Loss O 0.3695 | \n",
      "Epoch 0112: Loss I 0.6681 | Loss O 0.3643 | \n",
      "Epoch 0113: Loss I 0.6469 | Loss O 0.3786 | \n",
      "Epoch 0114: Loss I 0.6603 | Loss O 0.3687 | \n",
      "Epoch 0115: Loss I 0.6611 | Loss O 0.3704 | \n",
      "Epoch 0116: Loss I 0.6680 | Loss O 0.3643 | \n",
      "Epoch 0117: Loss I 0.6533 | Loss O 0.3739 | \n",
      "Epoch 0118: Loss I 0.6771 | Loss O 0.3599 | \n",
      "Epoch 0119: Loss I 0.6696 | Loss O 0.3665 | \n",
      "Epoch 0120: Loss I 0.6691 | Loss O 0.3641 | \n",
      "Epoch 0121: Loss I 0.6595 | Loss O 0.3677 | \n",
      "Epoch 0122: Loss I 0.6639 | Loss O 0.3668 | \n",
      "Epoch 0123: Loss I 0.6489 | Loss O 0.3752 | \n",
      "Epoch 0124: Loss I 0.6558 | Loss O 0.3705 | \n",
      "Epoch 0125: Loss I 0.6606 | Loss O 0.3659 | \n",
      "Epoch 0126: Loss I 0.6798 | Loss O 0.3577 | \n",
      "Epoch 0127: Loss I 0.6785 | Loss O 0.3580 | \n",
      "Epoch 0128: Loss I 0.6749 | Loss O 0.3601 | \n",
      "Epoch 0129: Loss I 0.6685 | Loss O 0.3642 | \n",
      "Epoch 0130: Loss I 0.6540 | Loss O 0.3727 | \n",
      "Epoch 0131: Loss I 0.6713 | Loss O 0.3618 | \n",
      "Epoch 0132: Loss I 0.6735 | Loss O 0.3606 | \n",
      "Epoch 0133: Loss I 0.6728 | Loss O 0.3600 | \n",
      "Epoch 0134: Loss I 0.6766 | Loss O 0.3577 | \n",
      "Epoch 0135: Loss I 0.6626 | Loss O 0.3646 | \n",
      "Epoch 0136: Loss I 0.6747 | Loss O 0.3582 | \n",
      "Epoch 0137: Loss I 0.6780 | Loss O 0.3562 | \n",
      "Epoch 0138: Loss I 0.6828 | Loss O 0.3550 | \n",
      "Epoch 0139: Loss I 0.6774 | Loss O 0.3561 | \n",
      "Epoch 0140: Loss I 0.6735 | Loss O 0.3580 | \n",
      "Epoch 0141: Loss I 0.6709 | Loss O 0.3607 | \n",
      "Epoch 0142: Loss I 0.6640 | Loss O 0.3632 | \n",
      "Epoch 0143: Loss I 0.6735 | Loss O 0.3592 | \n",
      "Epoch 0144: Loss I 0.6659 | Loss O 0.3650 | \n",
      "Epoch 0145: Loss I 0.6769 | Loss O 0.3570 | \n",
      "Epoch 0146: Loss I 0.6643 | Loss O 0.3626 | \n",
      "Epoch 0147: Loss I 0.6774 | Loss O 0.3570 | \n",
      "Epoch 0148: Loss I 0.6810 | Loss O 0.3545 | \n",
      "Epoch 0149: Loss I 0.6687 | Loss O 0.3615 | \n",
      "Epoch 0150: Loss I 0.6727 | Loss O 0.3583 | \n",
      "Epoch 0151: Loss I 0.6708 | Loss O 0.3609 | \n",
      "Epoch 0152: Loss I 0.6704 | Loss O 0.3595 | \n",
      "Epoch 0153: Loss I 0.6655 | Loss O 0.3623 | \n",
      "Epoch 0154: Loss I 0.6766 | Loss O 0.3568 | \n",
      "Epoch 0155: Loss I 0.6752 | Loss O 0.3570 | \n",
      "Epoch 0156: Loss I 0.6812 | Loss O 0.3537 | \n",
      "Epoch 0157: Loss I 0.6849 | Loss O 0.3533 | \n",
      "Epoch 0158: Loss I 0.6767 | Loss O 0.3556 | \n",
      "Epoch 0159: Loss I 0.6810 | Loss O 0.3537 | \n",
      "Epoch 0160: Loss I 0.6835 | Loss O 0.3520 | \n",
      "Epoch 0161: Loss I 0.6830 | Loss O 0.3522 | \n",
      "Epoch 0162: Loss I 0.6749 | Loss O 0.3574 | \n",
      "Epoch 0163: Loss I 0.6801 | Loss O 0.3540 | \n",
      "Epoch 0164: Loss I 0.6844 | Loss O 0.3517 | \n",
      "Epoch 0165: Loss I 0.6769 | Loss O 0.3557 | \n",
      "Epoch 0166: Loss I 0.6803 | Loss O 0.3540 | \n",
      "Epoch 0167: Loss I 0.6865 | Loss O 0.3509 | \n",
      "Epoch 0168: Loss I 0.6836 | Loss O 0.3521 | \n",
      "Epoch 0169: Loss I 0.6786 | Loss O 0.3546 | \n",
      "Epoch 0170: Loss I 0.6776 | Loss O 0.3552 | \n",
      "Epoch 0171: Loss I 0.6790 | Loss O 0.3545 | \n",
      "Epoch 0172: Loss I 0.6810 | Loss O 0.3534 | \n",
      "Epoch 0173: Loss I 0.6810 | Loss O 0.3532 | \n",
      "Epoch 0174: Loss I 0.6783 | Loss O 0.3547 | \n",
      "Epoch 0175: Loss I 0.6814 | Loss O 0.3531 | \n",
      "Epoch 0176: Loss I 0.6810 | Loss O 0.3532 | \n",
      "Epoch 0177: Loss I 0.6803 | Loss O 0.3537 | \n",
      "Epoch 0178: Loss I 0.6797 | Loss O 0.3541 | \n",
      "Epoch 0179: Loss I 0.6843 | Loss O 0.3517 | \n",
      "Epoch 0180: Loss I 0.6794 | Loss O 0.3540 | \n",
      "Epoch 0181: Loss I 0.6818 | Loss O 0.3529 | \n",
      "Epoch 0182: Loss I 0.6841 | Loss O 0.3518 | \n",
      "Epoch 0183: Loss I 0.6817 | Loss O 0.3530 | \n",
      "Epoch 0184: Loss I 0.6833 | Loss O 0.3519 | \n",
      "Epoch 0185: Loss I 0.6878 | Loss O 0.3495 | \n",
      "Epoch 0186: Loss I 0.6844 | Loss O 0.3512 | \n",
      "Epoch 0187: Loss I 0.6872 | Loss O 0.3499 | \n",
      "Epoch 0188: Loss I 0.6791 | Loss O 0.3546 | \n",
      "Epoch 0189: Loss I 0.6864 | Loss O 0.3504 | \n",
      "Epoch 0190: Loss I 0.6876 | Loss O 0.3498 | \n",
      "Epoch 0191: Loss I 0.6846 | Loss O 0.3513 | \n",
      "Epoch 0192: Loss I 0.6866 | Loss O 0.3503 | \n",
      "Epoch 0193: Loss I 0.6843 | Loss O 0.3513 | \n",
      "Epoch 0194: Loss I 0.6840 | Loss O 0.3516 | \n",
      "Epoch 0195: Loss I 0.6873 | Loss O 0.3500 | \n",
      "Epoch 0196: Loss I 0.6866 | Loss O 0.3501 | \n",
      "Epoch 0197: Loss I 0.6809 | Loss O 0.3532 | \n",
      "Epoch 0198: Loss I 0.6861 | Loss O 0.3504 | \n",
      "Epoch 0199: Loss I 0.6889 | Loss O 0.3489 | \n",
      "Predicting\n",
      "Test: Loss I 1.6379 | Loss O 0.3569 | \n",
      "Predicted labels:\n",
      "tensor([1, 1, 1, 1, 1, 1, 0, 0, 1, 1])\n",
      "True labels:\n",
      "tensor([0, 0, 1, 1, 1, 1, 1, 1, 1, 1])\n",
      "Raw scores:\n",
      "tensor([111.5760, 113.7632, 117.3110, 110.3570, 114.4009, 130.2534,  87.5289,\n",
      "        106.6188, 140.8861, 122.4829])\n",
      "Probability:\n",
      "tensor([0.4147, 0.5656, 0.7558, 0.3212, 0.6050, 0.9896, 0.0000, 0.0085, 0.9998,\n",
      "        0.9151])\n",
      "Confidence:\n",
      "tensor([0.8955, 0.8955, 0.8955, 0.7415, 0.8955, 0.9988, 1.0000, 0.9895, 0.9988,\n",
      "        0.9770])\n"
     ]
    },
    {
     "data": {
      "text/html": [
       "<div>\n",
       "<style scoped>\n",
       "    .dataframe tbody tr th:only-of-type {\n",
       "        vertical-align: middle;\n",
       "    }\n",
       "\n",
       "    .dataframe tbody tr th {\n",
       "        vertical-align: top;\n",
       "    }\n",
       "\n",
       "    .dataframe thead th {\n",
       "        text-align: right;\n",
       "    }\n",
       "</style>\n",
       "<table border=\"1\" class=\"dataframe\">\n",
       "  <thead>\n",
       "    <tr style=\"text-align: right;\">\n",
       "      <th></th>\n",
       "      <th>Model name</th>\n",
       "      <th>ROC AUC</th>\n",
       "      <th>F1</th>\n",
       "      <th>Average Precision</th>\n",
       "      <th>Recall@k</th>\n",
       "      <th>Precision@k</th>\n",
       "    </tr>\n",
       "  </thead>\n",
       "  <tbody>\n",
       "    <tr>\n",
       "      <th>0</th>\n",
       "      <td>GAE</td>\n",
       "      <td>0.750</td>\n",
       "      <td>0.666667</td>\n",
       "      <td>0.9000</td>\n",
       "      <td>0.875</td>\n",
       "      <td>0.875</td>\n",
       "    </tr>\n",
       "    <tr>\n",
       "      <th>1</th>\n",
       "      <td>GAAN</td>\n",
       "      <td>0.375</td>\n",
       "      <td>0.750000</td>\n",
       "      <td>0.7625</td>\n",
       "      <td>0.750</td>\n",
       "      <td>0.750</td>\n",
       "    </tr>\n",
       "  </tbody>\n",
       "</table>\n",
       "</div>"
      ],
      "text/plain": [
       "  Model name  ROC AUC        F1  Average Precision  Recall@k  Precision@k\n",
       "0        GAE    0.750  0.666667             0.9000     0.875        0.875\n",
       "1       GAAN    0.375  0.750000             0.7625     0.750        0.750"
      ]
     },
     "execution_count": 54,
     "metadata": {},
     "output_type": "execute_result"
    }
   ],
   "source": [
    "import gc\n",
    "import warnings\n",
    "\n",
    "from pygod.detector import AdONE, ANOMALOUS, AnomalyDAE, CoLA, CONAD, DMGD, DOMINANT, DONE, GAAN, GADNR, GAE, GUIDE, OCGNN, ONE, Radar, SCAN\n",
    "\n",
    "epoch = 200\n",
    "verbose = 1\n",
    "dropout = 0.3\n",
    "gpu = -1 if device == \"cpu\" else 0 #-1 cpu\n",
    "num_layers = 2#3\n",
    "learning_rate = 0.00005#0.0001\n",
    "batch_size = 512\n",
    "h_dim = 64\n",
    "noise_dim = 16\n",
    "#contamination = 0.4\n",
    "weight_decay = 0.1\n",
    "weight = 1\n",
    "act = torch.nn.functional.relu\n",
    "\n",
    "detectors = {\n",
    "\n",
    "             #\"AnomalyDAE\": AnomalyDAE(epoch = epoch, lr=learning_rate, verbose = verbose, batch_size = batch_size, gpu=gpu, dropout=dropout, hid_dim = h_dim),\n",
    "             #\"CoLA\": CoLA(epoch = epoch, verbose = verbose, dropout = dropout, gpu=gpu, lr = learning_rate, num_layers=num_layers),\n",
    "             #\"DOMINANT\": DOMINANT(epoch = epoch, verbose = verbose, dropout = dropout, gpu=gpu, lr = learning_rate, num_layers=num_layers),\n",
    "             \"GAE\": GAE(epoch = epoch, act = act, verbose = verbose, dropout = dropout, gpu=gpu, lr = learning_rate, contamination=contamination, num_layers=num_layers, batch_size = batch_size),\n",
    "             \"GAAN\": GAAN(noise_dim=noise_dim, hid_dim=h_dim, num_layers=num_layers, batch_size = batch_size, act=act, dropout=dropout, gpu=gpu, backbone=None, weight = weight, contamination=contamination, lr=learning_rate, epoch=epoch, verbose=verbose, weight_decay=weight_decay)\n",
    "          \n",
    "            }\n",
    "\n",
    "columns = [\"Model name\"]\n",
    "[columns.append(elem) for elem in list(scores.keys())]\n",
    "df = pd.DataFrame(columns = columns)\n",
    "\n",
    "for i, (detector_name, detector) in enumerate(detectors.items()):\n",
    "\n",
    "    try:\n",
    "\n",
    "      gc.collect()\n",
    "      torch.cuda.empty_cache()\n",
    "    \n",
    "      print(detector_name)\n",
    "    \n",
    "    \n",
    "      print(\"Training\")\n",
    "      detector.fit(train_data, train_data.y)\n",
    "    \n",
    "      print(\"Predicting\")\n",
    "      detector.model.eval()\n",
    "      pred, score, prob, conf = detector.predict(test_data,\n",
    "                                                return_pred=True,\n",
    "                                                return_score=True,\n",
    "                                                return_prob=True,\n",
    "                                                return_conf=True,\n",
    "                                                prob_method='unify')\n",
    "    \n",
    "      print('Predicted labels:')\n",
    "      print(pred)\n",
    "    \n",
    "      print('True labels:')\n",
    "      print(y_test.cpu())\n",
    "    \n",
    "      print('Raw scores:')\n",
    "      print(score)\n",
    "    \n",
    "      print('Probability:')\n",
    "      print(prob)\n",
    "    \n",
    "      print('Confidence:')\n",
    "      print(conf)\n",
    "    \n",
    "      k = 5\n",
    "\n",
    "      temp = [detector_name]\n",
    "      for score_name, score_fun in scores.items():\n",
    "        if \"@\" in score_name:\n",
    "          score_val = score_fun(y_test.cpu(), pred.cpu()).item()\n",
    "          #print(\"{} SCORE: {}\".format(score_name, score_val))\n",
    "        else:\n",
    "          score_val = score_fun(y_test.cpu(), pred.cpu()).item()\n",
    "          #print(\"{} SCORE: {}\".format(score_name, score_val))\n",
    "        temp.append(score_val)\n",
    "      df.loc[i] = temp\n",
    "        \n",
    "    except Exception as e:\n",
    "        print(f\"Error occurred with {detector_name}: {e}\")\n",
    "df"
   ]
  },
  {
   "cell_type": "code",
   "execution_count": 55,
   "metadata": {},
   "outputs": [],
   "source": [
    "#torch.save(detector, \"gaan.pt\")"
   ]
  },
  {
   "cell_type": "code",
   "execution_count": 56,
   "metadata": {},
   "outputs": [],
   "source": [
    "#gaan = torch.load(\"gaan.pt\")\n",
    "#gaan"
   ]
  },
  {
   "cell_type": "code",
   "execution_count": 57,
   "metadata": {
    "executionInfo": {
     "elapsed": 16,
     "status": "ok",
     "timestamp": 1726489163403,
     "user": {
      "displayName": "Ugo Lomoio",
      "userId": "00301874906270436685"
     },
     "user_tz": -120
    },
    "id": "W8LbXACrRjK_"
   },
   "outputs": [],
   "source": [
    "from sklearn.manifold import TSNE\n",
    "from sklearn.decomposition import PCA\n",
    "import matplotlib.pyplot as plt\n",
    "from matplotlib.colors import ListedColormap\n",
    "\n",
    "def visualize_expr(expr, ys, method=\"PCA\"):\n",
    "\n",
    "  labels = {0: \"Normal\", 1: \"NMIBC\"}\n",
    "\n",
    "  #colors = ListedColormap(['r','b','g'])\n",
    "\n",
    "  methods = [\"PCA\", \"t-SNE\"]\n",
    "  if method not in methods:\n",
    "    raise Exception(f\"Invalid method. Must be one of {methods}\")\n",
    "  else:\n",
    "    plt.figure()\n",
    "    if method == \"PCA\":\n",
    "\n",
    "      pca = PCA(n_components=2)\n",
    "      expr = pca.fit_transform(expr)\n",
    "\n",
    "    else:\n",
    "\n",
    "      tsne = TSNE(n_components=2, perplexity = 2)\n",
    "      expr = tsne.fit_transform(expr)\n",
    "\n",
    "  unique_ys = np.unique(ys)\n",
    "  color = [\"purple\", \"orange\"]\n",
    "  for y in unique_ys:\n",
    "    print(y)\n",
    "    mask = ys == y\n",
    "    plt.scatter(expr[mask, 0], expr[mask, 1], c = color[y], label=labels[y])\n",
    "\n",
    "  plt.title(\"Expr - {}\".format(method))\n",
    "  plt.legend()"
   ]
  },
  {
   "cell_type": "code",
   "execution_count": 58,
   "metadata": {
    "colab": {
     "base_uri": "https://localhost:8080/",
     "height": 487
    },
    "executionInfo": {
     "elapsed": 1433,
     "status": "ok",
     "timestamp": 1726489164820,
     "user": {
      "displayName": "Ugo Lomoio",
      "userId": "00301874906270436685"
     },
     "user_tz": -120
    },
    "id": "hNrNR89NRkFt",
    "outputId": "1a7a5e60-0b97-44df-c3e3-f744fc5a6a64"
   },
   "outputs": [
    {
     "name": "stdout",
     "output_type": "stream",
     "text": [
      "0\n",
      "1\n"
     ]
    },
    {
     "data": {
      "image/png": "[encoded data removed]",
      "text/plain": [
       "<Figure size 640x480 with 1 Axes>"
      ]
     },
     "metadata": {},
     "output_type": "display_data"
    }
   ],
   "source": [
    "visualize_expr(expr.values, y.cpu().detach().numpy(), \"PCA\")"
   ]
  },
  {
   "cell_type": "code",
   "execution_count": 59,
   "metadata": {
    "colab": {
     "base_uri": "https://localhost:8080/",
     "height": 487
    },
    "executionInfo": {
     "elapsed": 1441,
     "status": "ok",
     "timestamp": 1726489166259,
     "user": {
      "displayName": "Ugo Lomoio",
      "userId": "00301874906270436685"
     },
     "user_tz": -120
    },
    "id": "XAOx32dsSpO0",
    "outputId": "8c5abc17-719c-4d12-c8d6-88b79e3359fd"
   },
   "outputs": [
    {
     "name": "stdout",
     "output_type": "stream",
     "text": [
      "0\n",
      "1\n"
     ]
    },
    {
     "data": {
      "image/png": "[encoded data removed]",
      "text/plain": [
       "<Figure size 640x480 with 1 Axes>"
      ]
     },
     "metadata": {},
     "output_type": "display_data"
    }
   ],
   "source": [
    "visualize_expr(expr.values, y.cpu().detach().numpy(), \"t-SNE\")"
   ]
  },
  {
   "cell_type": "code",
   "execution_count": 60,
   "metadata": {
    "executionInfo": {
     "elapsed": 17,
     "status": "ok",
     "timestamp": 1726489163403,
     "user": {
      "displayName": "Ugo Lomoio",
      "userId": "00301874906270436685"
     },
     "user_tz": -120
    },
    "id": "HYphc78Bh1ou"
   },
   "outputs": [],
   "source": [
    "from adin.gaan import *"
   ]
  },
  {
   "cell_type": "code",
   "execution_count": 61,
   "metadata": {
    "colab": {
     "base_uri": "https://localhost:8080/"
    },
    "executionInfo": {
     "elapsed": 5,
     "status": "ok",
     "timestamp": 1726489166260,
     "user": {
      "displayName": "Ugo Lomoio",
      "userId": "00301874906270436685"
     },
     "user_tz": -120
    },
    "id": "ty0RiCM1fvOc",
    "outputId": "dca90fc8-1643-4e30-d9a0-49b282089149"
   },
   "outputs": [
    {
     "data": {
      "text/plain": [
       "27551"
      ]
     },
     "execution_count": 61,
     "metadata": {},
     "output_type": "execute_result"
    }
   ],
   "source": [
    "in_dim = expr.shape[1]\n",
    "in_dim"
   ]
  },
  {
   "cell_type": "code",
   "execution_count": 62,
   "metadata": {
    "executionInfo": {
     "elapsed": 2,
     "status": "ok",
     "timestamp": 1726490128323,
     "user": {
      "displayName": "Ugo Lomoio",
      "userId": "00301874906270436685"
     },
     "user_tz": -120
    },
    "id": "2umIB4DK8GN4"
   },
   "outputs": [],
   "source": [
    "from sklearn.metrics import confusion_matrix, roc_auc_score, classification_report, accuracy_score, f1_score, recall_score, precision_score\n",
    "\n",
    "def plot_cm(classes, cm):\n",
    "\n",
    "    import matplotlib.pyplot as plt\n",
    "    import seaborn as sns\n",
    "    import pandas as pd\n",
    "    import numpy as np\n",
    "    import itertools\n",
    "\n",
    "    sns.set(style='white')\n",
    "    fig, ax = plt.subplots()\n",
    "    plt.imshow(cm, cmap = \"Blues\")\n",
    "    ax.xaxis.tick_top()\n",
    "    ax.xaxis.set_label_position('top')\n",
    "    ax.tick_params(labelsize=20, length=0)\n",
    "\n",
    "    ax.set_title('Confusion Matrix', size=24, pad=20)\n",
    "    ax.set_xlabel('Predicted', size=20)\n",
    "    ax.set_ylabel('Target', size=20)\n",
    "\n",
    "    nclasses = len(classes)\n",
    "    ticks = np.arange(0, nclasses, 1)\n",
    "    ax.set_xticks(ticks)\n",
    "    ax.set_yticks(ticks)\n",
    "    ax.set_xticklabels(classes)\n",
    "    ax.set_yticklabels(classes)\n",
    "\n",
    "    thresh = cm.max() / 2.\n",
    "    for i, j in itertools.product(range(cm.shape[0]), range(cm.shape[1])):\n",
    "        plt.text(j, i, cm[i, j],\n",
    "                 horizontalalignment=\"center\", size = 20,\n",
    "                 color=\"white\" if cm[i, j] > thresh else \"black\")\n",
    "\n",
    "    plt.tight_layout()\n",
    "    plt.show()\n",
    "\n",
    "def validate_model(y_trues, y_preds):\n",
    "\n",
    "    acc = accuracy_score(y_trues, y_preds)\n",
    "    f1 = f1_score(y_trues, y_preds)\n",
    "    specificity = recall_score(y_trues, y_preds, pos_label=0)\n",
    "    sensitivity = recall_score(y_trues, y_preds)\n",
    "    precision =  precision_score(y_trues, y_preds)\n",
    "    aucs = roc_auc_score(y_trues, y_preds)\n",
    "    auc = np.mean(aucs)\n",
    "\n",
    "\n",
    "    cr = classification_report(y_trues, y_preds)\n",
    "    cm = confusion_matrix(y_trues, y_preds)\n",
    "    metrics = {\n",
    "        \"accuracy\": acc,\n",
    "        \"f1\": f1,\n",
    "        \"cm\": cm,\n",
    "        \"sensitivity\": sensitivity,\n",
    "        \"specificity\": specificity,\n",
    "        \"auc_score\": auc,\n",
    "        \"precision\": precision,\n",
    "        \"report\": cr,\n",
    "        \"predictions\": y_preds,\n",
    "    }\n",
    "\n",
    "    classes = {\"Control\": 0, \"Cancer\": 1}\n",
    "    plot_cm(classes, cm)\n",
    "\n",
    "    return metrics, \"Accuracy: {} \\n F1 score: {} \\n Sensitivity: {} \\n Specificity: {} \\n ROC AUC score: {} \\n Confusion Matrix: \\n {} \\n Classification Report: \\n {} \\n\".format(acc, f1, sensitivity, specificity, auc, cm, cr)"
   ]
  },
  {
   "cell_type": "code",
   "execution_count": 63,
   "metadata": {
    "colab": {
     "base_uri": "https://localhost:8080/",
     "height": 660
    },
    "executionInfo": {
     "elapsed": 1266,
     "status": "ok",
     "timestamp": 1726490128323,
     "user": {
      "displayName": "Ugo Lomoio",
      "userId": "00301874906270436685"
     },
     "user_tz": -120
    },
    "id": "YOt0nHVk88Jm",
    "outputId": "9aa51973-27cd-4805-aded-cf28b2943e9a"
   },
   "outputs": [],
   "source": [
    "def roc_curve_gaan(gaan_exp, data, y_test):\n",
    "\n",
    "    from sklearn.metrics import roc_curve, auc\n",
    "    import matplotlib.pyplot as plt\n",
    "    import numpy as np\n",
    "    \n",
    "    fig, ax = plt.subplots(figsize=(6, 6))\n",
    "    \n",
    "    #gaan_exp.eval()\n",
    "    plt.plot([0, 1], [0, 1], color='red', lw=1, linestyle='--')  # Diagonal line\n",
    "    \n",
    "    preds, probs = gaan_exp.predict(data, return_pred=True, return_prob = True)\n",
    "    y_test = data.y.cpu().detach().numpy()\n",
    "    probs = probs.cpu().detach().numpy()\n",
    "    \n",
    "    fpr, tpr, thresholds = roc_curve(y_test, probs)\n",
    "    roc_auc = auc(fpr, tpr)\n",
    "    \n",
    "    # Plotting the ROC curve with precise data points\n",
    "    plt.plot(fpr, tpr, color=\"blue\", lw=2, label=f'ROC curve (area = {roc_auc:.5f})')\n",
    "    \n",
    "    plt.xlim([0.0, 1.0])\n",
    "    plt.ylim([0.0, 1.05])\n",
    "    plt.xlabel('False Positive Rate')\n",
    "    plt.ylabel('True Positive Rate')\n",
    "    plt.title('Receiver Operating Characteristic (ROC) Curve')\n",
    "    plt.legend(loc='lower right')\n",
    "    plt.grid(True)\n",
    "    \n",
    "    metrics, toprint = validate_model(y_test, preds)\n",
    "    print(toprint)\n"
   ]
  },
  {
   "cell_type": "code",
   "execution_count": 64,
   "metadata": {},
   "outputs": [
    {
     "data": {
      "text/html": [
       "<div>\n",
       "<style scoped>\n",
       "    .dataframe tbody tr th:only-of-type {\n",
       "        vertical-align: middle;\n",
       "    }\n",
       "\n",
       "    .dataframe tbody tr th {\n",
       "        vertical-align: top;\n",
       "    }\n",
       "\n",
       "    .dataframe thead th {\n",
       "        text-align: right;\n",
       "    }\n",
       "</style>\n",
       "<table border=\"1\" class=\"dataframe\">\n",
       "  <thead>\n",
       "    <tr style=\"text-align: right;\">\n",
       "      <th></th>\n",
       "      <th>Model name</th>\n",
       "      <th>ROC AUC</th>\n",
       "      <th>F1</th>\n",
       "      <th>Average Precision</th>\n",
       "      <th>Recall@k</th>\n",
       "      <th>Precision@k</th>\n",
       "    </tr>\n",
       "  </thead>\n",
       "  <tbody>\n",
       "    <tr>\n",
       "      <th>0</th>\n",
       "      <td>GAE</td>\n",
       "      <td>0.750</td>\n",
       "      <td>0.666667</td>\n",
       "      <td>0.9000</td>\n",
       "      <td>0.875</td>\n",
       "      <td>0.875</td>\n",
       "    </tr>\n",
       "    <tr>\n",
       "      <th>1</th>\n",
       "      <td>GAAN</td>\n",
       "      <td>0.375</td>\n",
       "      <td>0.750000</td>\n",
       "      <td>0.7625</td>\n",
       "      <td>0.750</td>\n",
       "      <td>0.750</td>\n",
       "    </tr>\n",
       "  </tbody>\n",
       "</table>\n",
       "</div>"
      ],
      "text/plain": [
       "  Model name  ROC AUC        F1  Average Precision  Recall@k  Precision@k\n",
       "0        GAE    0.750  0.666667             0.9000     0.875        0.875\n",
       "1       GAAN    0.375  0.750000             0.7625     0.750        0.750"
      ]
     },
     "execution_count": 64,
     "metadata": {},
     "output_type": "execute_result"
    }
   ],
   "source": [
    "df"
   ]
  },
  {
   "cell_type": "code",
   "execution_count": 108,
   "metadata": {},
   "outputs": [
    {
     "name": "stdout",
     "output_type": "stream",
     "text": [
      "Test: Loss I 15.1120 | Loss O 0.3500 | \n"
     ]
    },
    {
     "name": "stderr",
     "output_type": "stream",
     "text": [
      "/home/ulomoio/miniforge3/envs/adin/lib/python3.10/site-packages/torch_geometric/sampler/neighbor_sampler.py:61: UserWarning: Using 'NeighborSampler' without a 'pyg-lib' installation is deprecated and will be removed soon. Please install 'pyg-lib' for accelerated neighborhood sampling\n",
      "  warnings.warn(f\"Using '{self.__class__.__name__}' without a \"\n"
     ]
    },
    {
     "data": {
      "image/png": "[encoded data removed]",
      "text/plain": [
       "<Figure size 600x600 with 1 Axes>"
      ]
     },
     "metadata": {},
     "output_type": "display_data"
    },
    {
     "data": {
      "image/png": "[encoded data removed]",
      "text/plain": [
       "<Figure size 640x480 with 1 Axes>"
      ]
     },
     "metadata": {},
     "output_type": "display_data"
    },
    {
     "name": "stdout",
     "output_type": "stream",
     "text": [
      "Accuracy: 0.5 \n",
      " F1 score: 0.6470588235294118 \n",
      " Sensitivity: 0.6111111111111112 \n",
      " Specificity: 0.16666666666666666 \n",
      " ROC AUC score: 0.3888888888888889 \n",
      " Confusion Matrix: \n",
      " [[ 1  5]\n",
      " [ 7 11]] \n",
      " Classification Report: \n",
      "               precision    recall  f1-score   support\n",
      "\n",
      "           0       0.12      0.17      0.14         6\n",
      "           1       0.69      0.61      0.65        18\n",
      "\n",
      "    accuracy                           0.50        24\n",
      "   macro avg       0.41      0.39      0.39        24\n",
      "weighted avg       0.55      0.50      0.52        24\n",
      " \n",
      "\n"
     ]
    }
   ],
   "source": [
    "gaan = detectors[\"GAAN\"]\n",
    "gaan.model.eval()\n",
    "roc_curve_gaan(gaan, data, y_test)"
   ]
  },
  {
   "cell_type": "code",
   "execution_count": 222,
   "metadata": {},
   "outputs": [
    {
     "name": "stdout",
     "output_type": "stream",
     "text": [
      "Node Anomaly Detection task: expecting only one convergence/divergence graph\n",
      "GPU: 0\n",
      "Epoch 0000: Loss I 39.4716 | Loss O 0.9406 | \n",
      "Epoch 0001: Loss I 40.8188 | Loss O 0.8265 | \n",
      "Epoch 0002: Loss I 28.5036 | Loss O 0.7875 | \n",
      "Epoch 0003: Loss I 32.0325 | Loss O 0.8983 | \n",
      "Epoch 0004: Loss I 23.3400 | Loss O 0.7732 | \n",
      "Epoch 0005: Loss I 30.1024 | Loss O 0.7041 | \n",
      "Epoch 0006: Loss I 34.3872 | Loss O 0.9615 | \n",
      "Epoch 0007: Loss I 28.9396 | Loss O 0.8824 | \n",
      "Epoch 0008: Loss I 21.8086 | Loss O 0.8291 | \n"
     ]
    },
    {
     "name": "stderr",
     "output_type": "stream",
     "text": [
      "/home/ulomoio/miniforge3/envs/adin/lib/python3.10/site-packages/torch_geometric/sampler/neighbor_sampler.py:61: UserWarning:\n",
      "\n",
      "Using 'NeighborSampler' without a 'pyg-lib' installation is deprecated and will be removed soon. Please install 'pyg-lib' for accelerated neighborhood sampling\n",
      "\n"
     ]
    },
    {
     "name": "stdout",
     "output_type": "stream",
     "text": [
      "Epoch 0009: Loss I 31.4791 | Loss O 0.8019 | \n",
      "Epoch 0010: Loss I 26.2895 | Loss O 0.7278 | \n",
      "Epoch 0011: Loss I 25.5100 | Loss O 0.8810 | \n",
      "Epoch 0012: Loss I 25.1723 | Loss O 0.8262 | \n",
      "Epoch 0013: Loss I 24.5271 | Loss O 0.8504 | \n",
      "Epoch 0014: Loss I 34.3417 | Loss O 0.7038 | \n",
      "Epoch 0015: Loss I 22.7089 | Loss O 0.6498 | \n",
      "Epoch 0016: Loss I 25.8392 | Loss O 0.6270 | \n",
      "Epoch 0017: Loss I 21.8926 | Loss O 0.7797 | \n",
      "Epoch 0018: Loss I 25.1311 | Loss O 0.7457 | \n",
      "Epoch 0019: Loss I 23.3074 | Loss O 0.6392 | \n",
      "Epoch 0020: Loss I 27.0259 | Loss O 0.6143 | \n",
      "Epoch 0021: Loss I 28.8102 | Loss O 0.5768 | \n",
      "Epoch 0022: Loss I 28.9796 | Loss O 0.7388 | \n",
      "Epoch 0023: Loss I 26.5084 | Loss O 0.6431 | \n",
      "Epoch 0024: Loss I 25.2238 | Loss O 0.7270 | \n",
      "Epoch 0025: Loss I 24.2350 | Loss O 0.6054 | \n",
      "Epoch 0026: Loss I 22.7259 | Loss O 0.6527 | \n",
      "Epoch 0027: Loss I 28.2494 | Loss O 0.6816 | \n",
      "Epoch 0028: Loss I 20.6679 | Loss O 0.6054 | \n",
      "Epoch 0029: Loss I 24.5887 | Loss O 0.5807 | \n",
      "Epoch 0030: Loss I 21.4093 | Loss O 0.6436 | \n",
      "Epoch 0031: Loss I 24.3271 | Loss O 0.5855 | \n",
      "Epoch 0032: Loss I 23.4689 | Loss O 0.5998 | \n",
      "Epoch 0033: Loss I 20.7381 | Loss O 0.6091 | \n",
      "Epoch 0034: Loss I 21.4923 | Loss O 0.6002 | \n",
      "Epoch 0035: Loss I 24.0835 | Loss O 0.5234 | \n",
      "Epoch 0036: Loss I 23.7613 | Loss O 0.5495 | \n",
      "Epoch 0037: Loss I 21.8583 | Loss O 0.5711 | \n",
      "Epoch 0038: Loss I 25.6023 | Loss O 0.5661 | \n",
      "Epoch 0039: Loss I 23.8554 | Loss O 0.5434 | \n",
      "Epoch 0040: Loss I 23.6334 | Loss O 0.5754 | \n",
      "Epoch 0041: Loss I 20.4141 | Loss O 0.6794 | \n",
      "Epoch 0042: Loss I 23.4222 | Loss O 0.5730 | \n",
      "Epoch 0043: Loss I 22.3982 | Loss O 0.5294 | \n",
      "Epoch 0044: Loss I 27.3015 | Loss O 0.4864 | \n",
      "Epoch 0045: Loss I 23.1657 | Loss O 0.5446 | \n",
      "Epoch 0046: Loss I 23.7883 | Loss O 0.5029 | \n",
      "Epoch 0047: Loss I 25.8021 | Loss O 0.5064 | \n",
      "Epoch 0048: Loss I 20.9413 | Loss O 0.5921 | \n",
      "Epoch 0049: Loss I 25.6449 | Loss O 0.5081 | \n",
      "Epoch 0050: Loss I 22.1024 | Loss O 0.4906 | \n",
      "Epoch 0051: Loss I 18.2294 | Loss O 0.6575 | \n",
      "Epoch 0052: Loss I 22.4015 | Loss O 0.4712 | \n",
      "Epoch 0053: Loss I 23.1102 | Loss O 0.5315 | \n",
      "Epoch 0054: Loss I 23.8901 | Loss O 0.4416 | \n",
      "Epoch 0055: Loss I 22.1705 | Loss O 0.4837 | \n",
      "Epoch 0056: Loss I 24.4976 | Loss O 0.4779 | \n",
      "Epoch 0057: Loss I 24.2466 | Loss O 0.4548 | \n",
      "Epoch 0058: Loss I 23.6654 | Loss O 0.4784 | \n",
      "Epoch 0059: Loss I 19.9305 | Loss O 0.5060 | \n",
      "Epoch 0060: Loss I 22.2841 | Loss O 0.4660 | \n",
      "Epoch 0061: Loss I 24.2845 | Loss O 0.4309 | \n",
      "Epoch 0062: Loss I 22.1120 | Loss O 0.4778 | \n",
      "Epoch 0063: Loss I 23.2860 | Loss O 0.5108 | \n",
      "Epoch 0064: Loss I 21.6161 | Loss O 0.4715 | \n",
      "Epoch 0065: Loss I 24.4367 | Loss O 0.4666 | \n",
      "Epoch 0066: Loss I 21.9972 | Loss O 0.4502 | \n",
      "Epoch 0067: Loss I 23.1876 | Loss O 0.4290 | \n",
      "Epoch 0068: Loss I 24.2778 | Loss O 0.4566 | \n",
      "Epoch 0069: Loss I 25.2333 | Loss O 0.4015 | \n",
      "Epoch 0070: Loss I 23.3926 | Loss O 0.4259 | \n",
      "Epoch 0071: Loss I 22.0440 | Loss O 0.4670 | \n",
      "Epoch 0072: Loss I 24.2069 | Loss O 0.4146 | \n",
      "Epoch 0073: Loss I 22.1867 | Loss O 0.4364 | \n",
      "Epoch 0074: Loss I 23.3137 | Loss O 0.4532 | \n",
      "Epoch 0075: Loss I 21.6767 | Loss O 0.4465 | \n",
      "Epoch 0076: Loss I 23.3991 | Loss O 0.4216 | \n",
      "Epoch 0077: Loss I 22.8198 | Loss O 0.4300 | \n",
      "Epoch 0078: Loss I 24.5034 | Loss O 0.4231 | \n",
      "Epoch 0079: Loss I 21.6599 | Loss O 0.4533 | \n",
      "Epoch 0080: Loss I 23.1240 | Loss O 0.4183 | \n",
      "Epoch 0081: Loss I 23.6475 | Loss O 0.4194 | \n",
      "Epoch 0082: Loss I 22.0912 | Loss O 0.4165 | \n",
      "Epoch 0083: Loss I 23.3602 | Loss O 0.4239 | \n",
      "Epoch 0084: Loss I 22.4084 | Loss O 0.4345 | \n",
      "Epoch 0085: Loss I 22.6620 | Loss O 0.4110 | \n",
      "Epoch 0086: Loss I 20.9366 | Loss O 0.4463 | \n",
      "Epoch 0087: Loss I 23.0699 | Loss O 0.4240 | \n",
      "Epoch 0088: Loss I 21.4440 | Loss O 0.4336 | \n",
      "Epoch 0089: Loss I 23.0541 | Loss O 0.4102 | \n",
      "Epoch 0090: Loss I 22.7455 | Loss O 0.4145 | \n",
      "Epoch 0091: Loss I 21.0093 | Loss O 0.4324 | \n",
      "Epoch 0092: Loss I 22.9996 | Loss O 0.4077 | \n",
      "Epoch 0093: Loss I 23.2272 | Loss O 0.4089 | \n",
      "Epoch 0094: Loss I 24.8776 | Loss O 0.3952 | \n",
      "Epoch 0095: Loss I 23.6944 | Loss O 0.3926 | \n",
      "Epoch 0096: Loss I 22.9678 | Loss O 0.4051 | \n",
      "Epoch 0097: Loss I 24.3822 | Loss O 0.3803 | \n",
      "Epoch 0098: Loss I 23.1449 | Loss O 0.3975 | \n",
      "Epoch 0099: Loss I 22.7220 | Loss O 0.4124 | \n",
      "Epoch 0100: Loss I 23.6980 | Loss O 0.3891 | \n",
      "Epoch 0101: Loss I 22.3722 | Loss O 0.4061 | \n",
      "Epoch 0102: Loss I 23.0896 | Loss O 0.3947 | \n",
      "Epoch 0103: Loss I 24.0265 | Loss O 0.3746 | \n",
      "Epoch 0104: Loss I 24.1175 | Loss O 0.3764 | \n",
      "Epoch 0105: Loss I 23.7683 | Loss O 0.3833 | \n",
      "Epoch 0106: Loss I 23.1889 | Loss O 0.3901 | \n",
      "Epoch 0107: Loss I 24.3002 | Loss O 0.3720 | \n",
      "Epoch 0108: Loss I 23.6726 | Loss O 0.3781 | \n",
      "Epoch 0109: Loss I 24.3782 | Loss O 0.3742 | \n",
      "Epoch 0110: Loss I 23.9231 | Loss O 0.3810 | \n",
      "Epoch 0111: Loss I 24.3400 | Loss O 0.3818 | \n",
      "Epoch 0112: Loss I 22.0214 | Loss O 0.4074 | \n",
      "Epoch 0113: Loss I 23.1372 | Loss O 0.3880 | \n",
      "Epoch 0114: Loss I 24.0980 | Loss O 0.3749 | \n",
      "Epoch 0115: Loss I 24.2800 | Loss O 0.3757 | \n",
      "Epoch 0116: Loss I 23.6366 | Loss O 0.3813 | \n",
      "Epoch 0117: Loss I 23.0565 | Loss O 0.3887 | \n",
      "Epoch 0118: Loss I 23.6067 | Loss O 0.3785 | \n",
      "Epoch 0119: Loss I 24.4444 | Loss O 0.3651 | \n",
      "Epoch 0120: Loss I 23.9695 | Loss O 0.3794 | \n",
      "Epoch 0121: Loss I 23.2623 | Loss O 0.3833 | \n",
      "Epoch 0122: Loss I 23.9130 | Loss O 0.3742 | \n",
      "Epoch 0123: Loss I 23.4104 | Loss O 0.3816 | \n",
      "Epoch 0124: Loss I 23.6518 | Loss O 0.3789 | \n",
      "Epoch 0125: Loss I 24.2329 | Loss O 0.3673 | \n",
      "Epoch 0126: Loss I 24.5829 | Loss O 0.3638 | \n",
      "Epoch 0127: Loss I 24.5273 | Loss O 0.3689 | \n",
      "Epoch 0128: Loss I 24.3763 | Loss O 0.3656 | \n",
      "Epoch 0129: Loss I 24.0236 | Loss O 0.3752 | \n",
      "Epoch 0130: Loss I 23.7884 | Loss O 0.3756 | \n",
      "Epoch 0131: Loss I 24.0775 | Loss O 0.3695 | \n",
      "Epoch 0132: Loss I 23.6344 | Loss O 0.3771 | \n",
      "Epoch 0133: Loss I 24.2081 | Loss O 0.3670 | \n",
      "Epoch 0134: Loss I 24.0262 | Loss O 0.3707 | \n",
      "Epoch 0135: Loss I 24.0936 | Loss O 0.3692 | \n",
      "Epoch 0136: Loss I 24.3361 | Loss O 0.3689 | \n",
      "Epoch 0137: Loss I 24.7160 | Loss O 0.3585 | \n",
      "Epoch 0138: Loss I 24.6094 | Loss O 0.3622 | \n",
      "Epoch 0139: Loss I 24.3586 | Loss O 0.3648 | \n",
      "Epoch 0140: Loss I 23.9218 | Loss O 0.3707 | \n",
      "Epoch 0141: Loss I 24.1560 | Loss O 0.3661 | \n",
      "Epoch 0142: Loss I 24.6579 | Loss O 0.3601 | \n",
      "Epoch 0143: Loss I 24.6534 | Loss O 0.3595 | \n",
      "Epoch 0144: Loss I 24.7817 | Loss O 0.3571 | \n",
      "Epoch 0145: Loss I 24.4323 | Loss O 0.3634 | \n",
      "Epoch 0146: Loss I 24.3377 | Loss O 0.3635 | \n",
      "Epoch 0147: Loss I 24.5031 | Loss O 0.3605 | \n",
      "Epoch 0148: Loss I 24.4226 | Loss O 0.3630 | \n",
      "Epoch 0149: Loss I 24.6498 | Loss O 0.3579 | \n",
      "Epoch 0150: Loss I 24.5018 | Loss O 0.3618 | \n",
      "Epoch 0151: Loss I 24.2202 | Loss O 0.3658 | \n",
      "Epoch 0152: Loss I 24.3504 | Loss O 0.3633 | \n",
      "Epoch 0153: Loss I 24.5296 | Loss O 0.3595 | \n",
      "Epoch 0154: Loss I 24.7165 | Loss O 0.3570 | \n",
      "Epoch 0155: Loss I 24.6177 | Loss O 0.3588 | \n",
      "Epoch 0156: Loss I 24.5453 | Loss O 0.3607 | \n",
      "Epoch 0157: Loss I 23.7073 | Loss O 0.3740 | \n",
      "Epoch 0158: Loss I 24.2788 | Loss O 0.3631 | \n",
      "Epoch 0159: Loss I 24.5415 | Loss O 0.3609 | \n",
      "Epoch 0160: Loss I 24.2947 | Loss O 0.3643 | \n",
      "Epoch 0161: Loss I 24.5448 | Loss O 0.3590 | \n",
      "Epoch 0162: Loss I 24.9010 | Loss O 0.3546 | \n",
      "Epoch 0163: Loss I 24.7558 | Loss O 0.3556 | \n",
      "Epoch 0164: Loss I 24.5794 | Loss O 0.3592 | \n",
      "Epoch 0165: Loss I 24.7472 | Loss O 0.3561 | \n",
      "Epoch 0166: Loss I 24.6643 | Loss O 0.3573 | \n",
      "Epoch 0167: Loss I 24.4275 | Loss O 0.3607 | \n",
      "Epoch 0168: Loss I 24.8810 | Loss O 0.3552 | \n",
      "Epoch 0169: Loss I 24.8242 | Loss O 0.3558 | \n",
      "Epoch 0170: Loss I 24.5171 | Loss O 0.3595 | \n",
      "Epoch 0171: Loss I 24.9438 | Loss O 0.3534 | \n",
      "Epoch 0172: Loss I 24.5804 | Loss O 0.3586 | \n",
      "Epoch 0173: Loss I 24.4351 | Loss O 0.3616 | \n",
      "Epoch 0174: Loss I 25.0555 | Loss O 0.3530 | \n",
      "Epoch 0175: Loss I 24.4859 | Loss O 0.3605 | \n",
      "Epoch 0176: Loss I 24.2657 | Loss O 0.3636 | \n",
      "Epoch 0177: Loss I 24.5209 | Loss O 0.3589 | \n",
      "Epoch 0178: Loss I 24.7616 | Loss O 0.3556 | \n",
      "Epoch 0179: Loss I 24.9469 | Loss O 0.3532 | \n",
      "Epoch 0180: Loss I 25.0699 | Loss O 0.3511 | \n",
      "Epoch 0181: Loss I 24.5049 | Loss O 0.3601 | \n",
      "Epoch 0182: Loss I 25.0186 | Loss O 0.3520 | \n",
      "Epoch 0183: Loss I 24.8658 | Loss O 0.3537 | \n",
      "Epoch 0184: Loss I 24.6830 | Loss O 0.3571 | \n",
      "Epoch 0185: Loss I 24.6698 | Loss O 0.3575 | \n",
      "Epoch 0186: Loss I 24.6705 | Loss O 0.3567 | \n",
      "Epoch 0187: Loss I 24.9922 | Loss O 0.3521 | \n",
      "Epoch 0188: Loss I 24.7414 | Loss O 0.3567 | \n",
      "Epoch 0189: Loss I 24.9910 | Loss O 0.3522 | \n",
      "Epoch 0190: Loss I 24.5432 | Loss O 0.3591 | \n",
      "Epoch 0191: Loss I 24.9647 | Loss O 0.3526 | \n",
      "Epoch 0192: Loss I 25.0222 | Loss O 0.3519 | \n",
      "Epoch 0193: Loss I 24.8097 | Loss O 0.3551 | \n",
      "Epoch 0194: Loss I 25.1184 | Loss O 0.3506 | \n",
      "Epoch 0195: Loss I 24.9741 | Loss O 0.3524 | \n",
      "Epoch 0196: Loss I 25.0378 | Loss O 0.3522 | \n",
      "Epoch 0197: Loss I 24.5530 | Loss O 0.3585 | \n",
      "Epoch 0198: Loss I 24.9316 | Loss O 0.3528 | \n",
      "Epoch 0199: Loss I 24.8842 | Loss O 0.3536 | \n",
      "Test: Loss I 28.9344 | Loss O 7.5921 | \n"
     ]
    },
    {
     "data": {
      "image/png": "[encoded data removed]",
      "text/plain": [
       "<Figure size 600x600 with 1 Axes>"
      ]
     },
     "metadata": {},
     "output_type": "display_data"
    },
    {
     "data": {
      "image/png": "[encoded data removed]",
      "text/plain": [
       "<Figure size 640x480 with 1 Axes>"
      ]
     },
     "metadata": {},
     "output_type": "display_data"
    },
    {
     "name": "stdout",
     "output_type": "stream",
     "text": [
      "Accuracy: 0.4583333333333333 \n",
      " F1 score: 0.5185185185185185 \n",
      " Sensitivity: 0.3888888888888889 \n",
      " Specificity: 0.6666666666666666 \n",
      " ROC AUC score: 0.5277777777777778 \n",
      " Confusion Matrix: \n",
      " [[ 4  2]\n",
      " [11  7]] \n",
      " Classification Report: \n",
      "               precision    recall  f1-score   support\n",
      "\n",
      "           0       0.27      0.67      0.38         6\n",
      "           1       0.78      0.39      0.52        18\n",
      "\n",
      "    accuracy                           0.46        24\n",
      "   macro avg       0.52      0.53      0.45        24\n",
      "weighted avg       0.65      0.46      0.48        24\n",
      " \n",
      "\n"
     ]
    }
   ],
   "source": [
    "class GAAN_Explainable(torch.nn.Module):\n",
    "    \"\"\"\n",
    "    Generative Adversarial Attributed Network Anomaly Detection\n",
    "\n",
    "    GAAN is a generative adversarial attribute network anomaly\n",
    "    detection framework, including a generator module, an encoder\n",
    "    module, a discriminator module, and uses anomaly evaluation\n",
    "    measures that consider sample reconstruction error and real sample\n",
    "    recognition confidence to make predictions. This model is\n",
    "    transductive only.\n",
    "\n",
    "    See :cite:`chen2020generative` for details.\n",
    "\n",
    "    Parameters\n",
    "    ----------\n",
    "    noise_dim :  int, optional\n",
    "        Input dimension of the Gaussian random noise. Defaults: ``16``.\n",
    "    hid_dim :  int, optional\n",
    "        Hidden dimension of model. Default: ``64``.\n",
    "    num_layers : int, optional\n",
    "       Total number of layers in model. A half (floor) of the layers\n",
    "       are for the generator, the other half (ceil) of the layers are\n",
    "       for encoder. Default: ``4``.\n",
    "    dropout : float, optional\n",
    "        Dropout rate. Default: ``0.``.\n",
    "    weight_decay : float, optional\n",
    "        Weight decay (L2 penalty). Default: ``0.``.\n",
    "    act : callable activation function or None, optional\n",
    "        Activation function if not None.\n",
    "        Default: ``torch.nn.functional.relu``.\n",
    "    backbone : torch.nn.Module\n",
    "        The backbone of GAAN is fixed to be MLP. Changing of this\n",
    "        parameter will not affect the model. Default: ``None``.\n",
    "    contamination : float, optional\n",
    "        The amount of contamination of the dataset in (0., 0.5], i.e.,\n",
    "        the proportion of outliers in the dataset. Used when fitting to\n",
    "        define the threshold on the decision function. Default: ``0.1``.\n",
    "    lr : float, optional\n",
    "        Learning rate. Default: ``0.004``.\n",
    "    epoch : int, optional\n",
    "        Maximum number of training epoch. Default: ``100``.\n",
    "    device : str or torch.device, optional\n",
    "        \"cuda:i\" where i is the gpu Index, or \"cpu\" using CPU. Default: ``cpu``.\n",
    "    batch_size : int, optional\n",
    "        Minibatch size, 0 for full batch training. Default: ``0``.\n",
    "    num_neigh : int, optional\n",
    "        Number of neighbors in sampling, -1 for all neighbors.\n",
    "        Default: ``-1``.\n",
    "    weight : float, optional\n",
    "        Weight between reconstruction of node feature and structure.\n",
    "        Default: ``0.5``.\n",
    "    verbose : int, optional\n",
    "        Verbosity mode. Range in [0, 3]. Larger value for printing out\n",
    "        more log information. Default: ``0``.\n",
    "    save_emb : bool, optional\n",
    "        Whether to save the embedding. Default: ``False``.\n",
    "    compile_model : bool, optional\n",
    "        Whether to compile the model with ``torch_geometric.compile``.\n",
    "        Default: ``False``.\n",
    "\n",
    "    isn: bool, optional\n",
    "        Whether take in input multiple Individual Specialized Networks (ISNs) rather than one convergence/divergence network.\n",
    "        Using ISNs we aim to identify anomalous graphs (graph anomaly detection), while using convergence/divergence network is used to identify anomalous nodes in the graph (node anomaly detection). \n",
    "        Default: ``False``.\n",
    "        \n",
    "    **kwargs\n",
    "        Other parameters for the backbone.\n",
    "\n",
    "    Attributes\n",
    "    ----------\n",
    "    decision_score_ : torch.Tensor\n",
    "        The outlier scores of the training data. Outliers tend to have\n",
    "        higher scores. This value is available once the detector is\n",
    "        fitted.\n",
    "    threshold_ : float\n",
    "        The threshold is based on ``contamination``. It is the\n",
    "        :math:`N \\\\times` ``contamination`` most abnormal samples in\n",
    "        ``decision_score_``. The threshold is calculated for generating\n",
    "        binary outlier labels.\n",
    "    label_ : torch.Tensor\n",
    "        The binary labels of the training data. 0 stands for inliers\n",
    "        and 1 for outliers. It is generated by applying\n",
    "        ``threshold_`` on ``decision_score_``.\n",
    "    emb : torch.Tensor or tuple of torch.Tensor or None\n",
    "        The learned node hidden embeddings of shape\n",
    "        :math:`N \\\\times` ``hid_dim``. Only available when ``save_emb``\n",
    "        is ``True``. When the detector has not been fitted, ``emb`` is\n",
    "        ``None``. When the detector has multiple embeddings,\n",
    "        ``emb`` is a tuple of torch.Tensor.\n",
    "    \"\"\"\n",
    "\n",
    "    def __init__(self,\n",
    "                 in_dim,\n",
    "                 noise_dim=16,\n",
    "                 hid_dim=64,\n",
    "                 num_layers=4,\n",
    "                 dropout=0.,\n",
    "                 weight_decay=0.,\n",
    "                 act=F.relu,\n",
    "                 backbone=None,\n",
    "                 contamination=0.1,\n",
    "                 lr=4e-3,\n",
    "                 epoch=100,\n",
    "                 device=\"cpu\",\n",
    "                 batch_size=0,\n",
    "                 num_neigh=-1,\n",
    "                 weight=0.5,\n",
    "                 verbose=0,\n",
    "                 save_emb=False,\n",
    "                 compile_model=False,\n",
    "                 isn = False,\n",
    "                 **kwargs):\n",
    "\n",
    "\n",
    "        self.noise_dim = noise_dim\n",
    "        self.weight = weight\n",
    "\n",
    "        # self.num_layers is 1 for sample one hop neighbors\n",
    "        # In GAAN_Explainable, self.model_layers is for model layers\n",
    "        self.model_layers = num_layers\n",
    "\n",
    "        self.isn = isn \n",
    "        if self.isn:\n",
    "            print(\"Graph Anomaly Detection task: expecting multiple ISNs\")\n",
    "        else:\n",
    "            print(\"Node Anomaly Detection task: expecting only one convergence/divergence graph\")\n",
    "            \n",
    "        if backbone is not None:\n",
    "            warnings.warn('GAAN_Explainable can only use MLP as the backbone.')\n",
    "\n",
    "        super(GAAN_Explainable, self).__init__()\n",
    "\n",
    "         # split the number of layers for the encoder and decoders\n",
    "        assert num_layers >= 2, \\\n",
    "            \"Number of layers must be greater than or equal to 2.\"\n",
    "        generator_layers = math.floor(num_layers / 2)\n",
    "        encoder_layers = math.ceil(num_layers / 2)\n",
    "\n",
    "        self.generator = MLP(in_channels=noise_dim,\n",
    "                             hidden_channels=hid_dim,\n",
    "                             out_channels=in_dim,\n",
    "                             num_layers=generator_layers,\n",
    "                             dropout=dropout,\n",
    "                             act=act,\n",
    "                             **kwargs).to(device)\n",
    "\n",
    "        self.discriminator = MLP(in_channels=in_dim,\n",
    "                                 hidden_channels=hid_dim,\n",
    "                                 out_channels=hid_dim,\n",
    "                                 num_layers=encoder_layers,\n",
    "                                 dropout=dropout,\n",
    "                                 act=act,\n",
    "                                 **kwargs).to(device)\n",
    "        self.emb = None\n",
    "        self.score_func = double_recon_loss\n",
    "        self.noise_dim = noise_dim\n",
    "        self.device = device\n",
    "        self.gpu = -1 if self.device == \"cpu\" else int(self.device[-1])\n",
    "        self.inner = self.generator\n",
    "        self.outer = self.discriminator\n",
    "        self.num_layers = num_layers\n",
    "        print(\"GPU: {}\".format(self.gpu))\n",
    "        if not (0. < contamination <= 0.5):\n",
    "            raise ValueError(\"contamination must be in (0, 0.5], \"\n",
    "                             \"got: %f\" % contamination)\n",
    "\n",
    "        self.contamination = contamination\n",
    "        self.verbose = verbose\n",
    "        self.decision_score_ = None\n",
    "\n",
    "        self.weight_decay = weight_decay\n",
    "\n",
    "        self.lr = lr\n",
    "        self.epoch = epoch\n",
    "        self.batch_size = batch_size\n",
    "        self.gan = True\n",
    "        if type(num_neigh) is int:\n",
    "            self.num_neigh = [num_neigh] * self.num_layers\n",
    "        elif type(num_neigh) is list:\n",
    "            if len(num_neigh) != self.num_layers:\n",
    "                raise ValueError('Number of neighbors should have the '\n",
    "                                 'same length as hidden layers dimension or'\n",
    "                                 'the number of layers.')\n",
    "            self.num_neigh = num_neigh\n",
    "        else:\n",
    "            raise ValueError('Number of neighbors must be int or list of int')\n",
    "\n",
    "        # other param\n",
    "        self.model = None\n",
    "        self.save_emb = save_emb\n",
    "        if save_emb:\n",
    "            self.emb = None\n",
    "        self.compile_model = compile_model\n",
    "\n",
    "\n",
    "    def process_graph(self, data):\n",
    "        \"\"\"\n",
    "        Obtain the dense adjacency matrix of the graph.\n",
    "\n",
    "        Parameters\n",
    "        ----------\n",
    "        data : torch_geometric.data.Data\n",
    "            Input graph.\n",
    "        \"\"\"\n",
    "        data.s = to_dense_adj(data.edge_index)[0]\n",
    "\n",
    "    def forward(self, x):\n",
    "        \"\"\"\n",
    "        Forward computation.\n",
    "\n",
    "        Parameters\n",
    "        ----------\n",
    "        x : torch.Tensor\n",
    "            Input attribute embeddings.\n",
    "\n",
    "        Returns\n",
    "        -------\n",
    "        x_ : torch.Tensor\n",
    "            Reconstructed node features.\n",
    "        a : torch.Tensor\n",
    "            Reconstructed adjacency matrix from real samples.\n",
    "        a_ : torch.Tensor\n",
    "            Reconstructed adjacency matrix from fake samples.\n",
    "        \"\"\"\n",
    "\n",
    "        #print(\"base forward\")\n",
    "\n",
    "        \n",
    "        noise = torch.randn(x.shape[0], self.noise_dim).to(self.device)\n",
    "        x_ = self.generator(noise)\n",
    "\n",
    "        self.emb = self.discriminator(x)\n",
    "        z_ = self.discriminator(x_)\n",
    "\n",
    "        a = torch.sigmoid((self.emb @ self.emb.T))\n",
    "        a_ = torch.sigmoid((z_ @ z_.T))\n",
    "        #print(\"end base forward\")\n",
    "        return x_, a, a_\n",
    "\n",
    "    @staticmethod\n",
    "    def loss_func_g(a_):\n",
    "        loss_g = F.binary_cross_entropy(a_, torch.ones_like(a_))\n",
    "        return loss_g\n",
    "\n",
    "    @staticmethod\n",
    "    def loss_func_ed(a, a_):\n",
    "        loss_r = F.binary_cross_entropy(a, torch.ones_like(a))\n",
    "        loss_f = F.binary_cross_entropy(a_, torch.zeros_like(a_))\n",
    "        return (loss_f + loss_r) / 2\n",
    "\n",
    "\n",
    "    def forward_model(self, data):\n",
    "\n",
    "        #print(\"model forward\")\n",
    "\n",
    "\n",
    "        data.batch_size = self.batch_size\n",
    "\n",
    "        if hasattr(data, 'n_id'):\n",
    "          node_idx = data.n_id\n",
    "        else:\n",
    "          node_idx = torch.arange(len(data.x))\n",
    "\n",
    "        data.n_id  = node_idx\n",
    "\n",
    "        x = data.x.to(self.device)\n",
    "\n",
    "        if hasattr(data, 's'):\n",
    "          s = data.s.to(self.device)\n",
    "        else:\n",
    "          s = to_dense_adj(data.edge_index)[0]\n",
    "          data.s = s\n",
    "\n",
    "        edge_index = data.edge_index.to(self.device)\n",
    "\n",
    "        x_, a, a_ = self.forward(x)\n",
    "\n",
    "        loss_g = self.loss_func_g(a_[edge_index])\n",
    "        loss_g.requires_grad_(True)\n",
    "        self.opt_in.zero_grad()\n",
    "        loss_g.backward()\n",
    "        self.opt_in.step()\n",
    "\n",
    "        self.epoch_loss_in += loss_g.item() * self.batch_size\n",
    "        \n",
    "        loss = self.loss_func_ed(a[edge_index],\n",
    "                                       a_[edge_index].detach())\n",
    "\n",
    "        score = self.score_func(x=x[:self.batch_size],\n",
    "                                      x_=x_[:self.batch_size],\n",
    "                                      s=s[:self.batch_size, node_idx],\n",
    "                                      s_=a[:self.batch_size],\n",
    "                                      weight=self.weight,\n",
    "                                      pos_weight_s=1,\n",
    "                                      bce_s=True)\n",
    "\n",
    "        #print(\"end model forward\")\n",
    "\n",
    "        return loss, score.detach().cpu()\n",
    "\n",
    "    def __call__(self, *args, **kwargs):\n",
    "        \"\"\"Make the class instance callable.\"\"\"\n",
    "\n",
    "        #print(\"CALL\")\n",
    "        x = args[0]\n",
    "        edge_index = args[1]\n",
    "        \n",
    "        if self.isn:\n",
    "            if len(args) >= 2:\n",
    "                batch = args[2]\n",
    "        data = Data(x=x, edge_index = edge_index, y = y)\n",
    "        #self.eval()\n",
    "        #pred, probs = self.predict(data, return_prob=True)\n",
    "        loss, score = self.forward_model(data)\n",
    "        #print(\"ENDCALL \", probs)\n",
    "        score.requires_grad = True\n",
    "        return score\n",
    "\n",
    "\n",
    "    def fit(self, data, label=None):\n",
    "\n",
    "        self.process_graph(data)\n",
    "        self.num_nodes, self.in_dim = data.x.shape\n",
    "        if self.batch_size == 0:\n",
    "            self.batch_size = data.x.shape[0]\n",
    "        loader = NeighborLoader(data,\n",
    "                                self.num_neigh,\n",
    "                                batch_size=self.batch_size)\n",
    "\n",
    "        if not self.gan:\n",
    "            optimizer = torch.optim.Adam(self.parameters(),\n",
    "                                         lr=self.lr,\n",
    "                                         weight_decay=self.weight_decay)\n",
    "        else:\n",
    "            self.opt_in = torch.optim.Adam(self.inner.parameters(),\n",
    "                                           lr=self.lr,\n",
    "                                           weight_decay=self.weight_decay)\n",
    "            optimizer = torch.optim.Adam(self.outer.parameters(),\n",
    "                                         lr=self.lr,\n",
    "                                         weight_decay=self.weight_decay)\n",
    "\n",
    "        self.train()\n",
    "        self.decision_score_ = torch.zeros(data.x.shape[0])\n",
    "        for epoch in range(self.epoch):\n",
    "            start_time = time.time()\n",
    "            epoch_loss = 0\n",
    "            if self.gan:\n",
    "                self.epoch_loss_in = 0\n",
    "            for sampled_data in loader:\n",
    "                batch_size = sampled_data.batch_size\n",
    "                node_idx = sampled_data.n_id\n",
    "\n",
    "                loss, score = self.forward_model(sampled_data)\n",
    "                epoch_loss += loss.item() * batch_size\n",
    "                if self.save_emb:\n",
    "                    if type(self.emb) is tuple:\n",
    "                        self.emb[0][node_idx[:batch_size]] = \\\n",
    "                            self.emb[0][:batch_size].cpu()\n",
    "                        self.emb[1][node_idx[:batch_size]] = \\\n",
    "                            self.emb[1][:batch_size].cpu()\n",
    "                    else:\n",
    "                        self.emb[node_idx[:batch_size]] = \\\n",
    "                            self.emb[:batch_size].cpu()\n",
    "                self.decision_score_[node_idx[:batch_size]] = score\n",
    "\n",
    "                optimizer.zero_grad()\n",
    "                loss.backward()\n",
    "                optimizer.step()\n",
    "\n",
    "            loss_value = epoch_loss / data.x.shape[0]\n",
    "            if self.gan:\n",
    "                loss_value = (self.epoch_loss_in / data.x.shape[0], loss_value)\n",
    "            logger(epoch=epoch,\n",
    "                   loss=loss_value,\n",
    "                   score=self.decision_score_,\n",
    "                   target=label,\n",
    "                   time=time.time() - start_time,\n",
    "                   verbose=self.verbose,\n",
    "                   train=True)\n",
    "\n",
    "        self._process_decision_score()\n",
    "        return self\n",
    "\n",
    "    def decision_function(self, data, label=None):\n",
    "\n",
    "        self.process_graph(data)\n",
    "        loader = NeighborLoader(data,\n",
    "                                self.num_neigh,\n",
    "                                batch_size=self.batch_size)\n",
    "\n",
    "        self.eval()\n",
    "        outlier_score = torch.zeros(data.x.shape[0])\n",
    "        if self.save_emb:\n",
    "            if type(self.hid_dim) is tuple:\n",
    "                self.emb = (torch.zeros(data.x.shape[0], self.hid_dim[0]),\n",
    "                            torch.zeros(data.x.shape[0], self.hid_dim[1]))\n",
    "            else:\n",
    "                self.emb = torch.zeros(data.x.shape[0], self.hid_dim)\n",
    "        start_time = time.time()\n",
    "        test_loss = 0\n",
    "        for sampled_data in loader:\n",
    "            loss, score = self.forward_model(sampled_data)\n",
    "            batch_size = sampled_data.batch_size\n",
    "            node_idx = sampled_data.n_id\n",
    "            if self.save_emb:\n",
    "                if type(self.hid_dim) is tuple:\n",
    "                    self.emb[0][node_idx[:batch_size]] = \\\n",
    "                        self.emb[0][:batch_size].cpu()\n",
    "                    self.emb[1][node_idx[:batch_size]] = \\\n",
    "                        self.emb[1][:batch_size].cpu()\n",
    "                else:\n",
    "                    self.emb[node_idx[:batch_size]] = \\\n",
    "                        self.emb[:batch_size].cpu()\n",
    "\n",
    "            test_loss = loss.item() * batch_size\n",
    "            outlier_score[node_idx[:batch_size]] = score\n",
    "\n",
    "        loss_value = test_loss / data.x.shape[0]\n",
    "        if self.gan:\n",
    "            loss_value = (self.epoch_loss_in / data.x.shape[0], loss_value)\n",
    "\n",
    "        logger(loss=loss_value,\n",
    "               score=outlier_score,\n",
    "               target=label,\n",
    "               time=time.time() - start_time,\n",
    "               verbose=self.verbose,\n",
    "               train=False)\n",
    "        return outlier_score\n",
    "\n",
    "    def predict(self,\n",
    "                data=None,\n",
    "                label=None,\n",
    "                return_pred=True,\n",
    "                return_score=False,\n",
    "                return_prob=False,\n",
    "                prob_method='linear',\n",
    "                return_conf=False):\n",
    "        \"\"\"Prediction for testing data using the fitted detector.\n",
    "        Return predicted labels by default.\n",
    "\n",
    "        Parameters\n",
    "        ----------\n",
    "        data : torch_geometric.data.Data, optional\n",
    "            The testing graph. If ``None``, the training data is used.\n",
    "            Default: ``None``.\n",
    "        label : torch.Tensor, optional\n",
    "            The optional outlier ground truth labels used for testing.\n",
    "            Default: ``None``.\n",
    "        return_pred : bool, optional\n",
    "            Whether to return the predicted binary labels. The labels\n",
    "            are determined by the outlier contamination on the raw\n",
    "            outlier scores. Default: ``True``.\n",
    "        return_score : bool, optional\n",
    "            Whether to return the raw outlier scores.\n",
    "            Default: ``False``.\n",
    "        return_prob : bool, optional\n",
    "            Whether to return the outlier probabilities.\n",
    "            Default: ``False``.\n",
    "        prob_method : str, optional\n",
    "            The method to convert the outlier scores to probabilities.\n",
    "            Two approaches are possible:\n",
    "\n",
    "            1. ``'linear'``: simply use min-max conversion to linearly\n",
    "            transform the outlier scores into the range of\n",
    "            [0,1]. The model must be fitted first.\n",
    "\n",
    "            2. ``'unify'``: use unifying scores,\n",
    "            see :cite:`kriegel2011interpreting`.\n",
    "\n",
    "            Default: ``'linear'``.\n",
    "        return_conf : boolean, optional\n",
    "            Whether to return the model's confidence in making the same\n",
    "            prediction under slightly different training sets.\n",
    "            See :cite:`perini2020quantifying`. Default: ``False``.\n",
    "\n",
    "        Returns\n",
    "        -------\n",
    "        pred : torch.Tensor\n",
    "            The predicted binary outlier labels of shape :math:`N`.\n",
    "            0 stands for inliers and 1 for outliers.\n",
    "            Only available when ``return_label=True``.\n",
    "        score : torch.Tensor\n",
    "            The raw outlier scores of shape :math:`N`.\n",
    "            Only available when ``return_score=True``.\n",
    "        prob : torch.Tensor\n",
    "            The outlier probabilities of shape :math:`N`.\n",
    "            Only available when ``return_prob=True``.\n",
    "        conf : torch.Tensor\n",
    "            The prediction confidence of shape :math:`N`.\n",
    "            Only available when ``return_conf=True``.\n",
    "        \"\"\"\n",
    "\n",
    "        is_fitted(self, ['decision_score_', 'threshold_', 'label_'])\n",
    "\n",
    "        output = ()\n",
    "        if data is None:\n",
    "            score = self.decision_score_\n",
    "            logger(score=self.decision_score_,\n",
    "                   target=label,\n",
    "                   verbose=self.verbose,\n",
    "                   train=False)\n",
    "        else:\n",
    "            score = self.decision_function(data, label)\n",
    "        if return_pred:\n",
    "            pred = (score > self.threshold_).long()\n",
    "            output += (pred,)\n",
    "        if return_score:\n",
    "            output += (score,)\n",
    "        if return_prob:\n",
    "            prob = self._predict_prob(score, prob_method)\n",
    "            output += (prob,)\n",
    "        if return_conf:\n",
    "            conf = self._predict_conf(score)\n",
    "            output += (conf,)\n",
    "\n",
    "        if len(output) == 1:\n",
    "            return output[0]\n",
    "        else:\n",
    "            return output\n",
    "\n",
    "\n",
    "\n",
    "    def _predict_prob(self, score, method='linear'):\n",
    "        \"\"\"Predict the probabilities of being outliers. Two approaches\n",
    "        are possible:\n",
    "\n",
    "        'linear': simply use min-max conversion to linearly\n",
    "                  transform the outlier scores into the range of\n",
    "                  [0,1]. The model must be fitted first.\n",
    "\n",
    "        'unify': use unifying scores,\n",
    "                 see :cite:`kriegel2011interpreting`.\n",
    "\n",
    "        Parameters\n",
    "        ----------\n",
    "        score : torch.Tensor\n",
    "            The outlier scores of shape :math:`N`.\n",
    "\n",
    "        method : str\n",
    "            probability conversion method. It must be one of\n",
    "            'linear' or 'unify'. Default: ``linear``.\n",
    "\n",
    "        Returns\n",
    "        -------\n",
    "        prob : torch.Tensor\n",
    "            The outlier probabilities of shape :math:`N`.\n",
    "        \"\"\"\n",
    "\n",
    "        if method == 'linear':\n",
    "            train_score = self.decision_score_\n",
    "            prob = score - train_score.min()\n",
    "            prob /= train_score.max() - train_score.min()\n",
    "            prob = prob.clamp(0, 1)\n",
    "        elif method == 'unify':\n",
    "            mu = torch.mean(self.decision_score_)\n",
    "            sigma = torch.std(self.decision_score_)\n",
    "            pre_erf_score = (score - mu) / (sigma * np.sqrt(2))\n",
    "            erf_score = erf(pre_erf_score)\n",
    "            prob = erf_score.clamp(0, 1)\n",
    "        else:\n",
    "            raise ValueError(method,\n",
    "                             'is not a valid probability conversion method')\n",
    "        return prob\n",
    "\n",
    "    def _predict_conf(self, score):\n",
    "        \"\"\"Predict the model's confidence in making the same prediction\n",
    "        under slightly different training sets.\n",
    "        See :cite:`perini2020quantifying`.\n",
    "\n",
    "        Parameters\n",
    "        ----------\n",
    "        score : torch.Tensor\n",
    "            The outlier score of shape :math:`N`.\n",
    "\n",
    "        Returns\n",
    "        -------\n",
    "        conf : torch.Tensor\n",
    "            The prediction confidence of shape :math:`N`.\n",
    "        \"\"\"\n",
    "\n",
    "        n = len(self.decision_score_)\n",
    "        k = n - int(n * self.contamination)\n",
    "\n",
    "        n_ins = (self.decision_score_.view(n, 1) <= score).count_nonzero(dim=0)\n",
    "\n",
    "        # Derive the outlier probability using Bayesian approach\n",
    "        post_prob = (1 + n_ins) / (2 + n)\n",
    "\n",
    "        # Transform the outlier probability into a confidence value\n",
    "        conf = torch.Tensor(1 - binom.cdf(k, n, post_prob))\n",
    "\n",
    "        pred = (score > self.threshold_).long()\n",
    "        conf = torch.where(pred == 0, 1 - conf, conf)\n",
    "        return conf\n",
    "\n",
    "    def _process_decision_score(self):\n",
    "        \"\"\"Internal function to calculate key attributes:\n",
    "        - threshold_: used to decide the binary label\n",
    "        - label_: binary labels of training data\n",
    "        \"\"\"\n",
    "\n",
    "        self.threshold_ = np.percentile(self.decision_score_,\n",
    "                                        100 * (1 - self.contamination))\n",
    "        self.label_ = (self.decision_score_ > self.threshold_).long()\n",
    "\n",
    "    def __repr__(self):\n",
    "\n",
    "        class_name = self.__class__.__name__\n",
    "        init_signature = signature(self.__init__)\n",
    "        parameters = [p for p in init_signature.parameters.values()\n",
    "                      if p.name != 'self' and p.kind != p.VAR_KEYWORD]\n",
    "        params = {}\n",
    "        for key in sorted([p.name for p in parameters]):\n",
    "            params[key] = getattr(self, key, None)\n",
    "        return '%s(%s)' % (class_name, pprint(params, offset=len(class_name)))\n",
    "\n",
    "gaan_exp = GAAN_Explainable(in_dim, noise_dim=noise_dim, hid_dim=h_dim, num_layers=num_layers, batch_size = batch_size, dropout=dropout, device=\"cuda:0\", backbone=None, contamination=contamination, lr=learning_rate, epoch=epoch, verbose=verbose, act=act, weight = weight, weight_decay=weight_decay)\n",
    "gaan_exp.fit(train_data)\n",
    "roc_curve_gaan(gaan_exp, data, y_test)"
   ]
  },
  {
   "cell_type": "code",
   "execution_count": 223,
   "metadata": {},
   "outputs": [
    {
     "name": "stdout",
     "output_type": "stream",
     "text": [
      "True\n"
     ]
    }
   ],
   "source": [
    "output = gaan_exp(data.x, data.edge_index)\n",
    "print(output.requires_grad)  # Should be True"
   ]
  },
  {
   "cell_type": "code",
   "execution_count": 225,
   "metadata": {
    "colab": {
     "base_uri": "https://localhost:8080/"
    },
    "executionInfo": {
     "elapsed": 1360,
     "status": "ok",
     "timestamp": 1726490127058,
     "user": {
      "displayName": "Ugo Lomoio",
      "userId": "00301874906270436685"
     },
     "user_tz": -120
    },
    "id": "LPRkhws2d2PU",
    "outputId": "b0a1e5ba-8e5f-474d-df30-ce0d767590ff",
    "scrolled": true
   },
   "outputs": [
    {
     "ename": "ValueError",
     "evalue": "Could not compute gradients for node features. Please make sure that node features are used inside the model or disable it via `node_mask_type=None`.",
     "output_type": "error",
     "traceback": [
      "\u001b[0;31m---------------------------------------------------------------------------\u001b[0m",
      "\u001b[0;31mValueError\u001b[0m                                Traceback (most recent call last)",
      "Cell \u001b[0;32mIn[225], line 16\u001b[0m\n\u001b[1;32m      1\u001b[0m \u001b[38;5;28;01mfrom\u001b[39;00m \u001b[38;5;21;01mtorch_geometric\u001b[39;00m\u001b[38;5;21;01m.\u001b[39;00m\u001b[38;5;21;01mexplain\u001b[39;00m \u001b[38;5;28;01mimport\u001b[39;00m Explainer, GNNExplainer\n\u001b[1;32m      3\u001b[0m explainer \u001b[38;5;241m=\u001b[39m Explainer(\n\u001b[1;32m      4\u001b[0m     model\u001b[38;5;241m=\u001b[39mgaan_exp,\n\u001b[1;32m      5\u001b[0m     algorithm\u001b[38;5;241m=\u001b[39mGNNExplainer(epochs\u001b[38;5;241m=\u001b[39m\u001b[38;5;241m100\u001b[39m, lr \u001b[38;5;241m=\u001b[39m \u001b[38;5;241m0.0001\u001b[39m),\n\u001b[0;32m   (...)\u001b[0m\n\u001b[1;32m     13\u001b[0m     ),\n\u001b[1;32m     14\u001b[0m )\n\u001b[0;32m---> 16\u001b[0m explanation \u001b[38;5;241m=\u001b[39m \u001b[43mexplainer\u001b[49m\u001b[43m(\u001b[49m\u001b[43mdata\u001b[49m\u001b[38;5;241;43m.\u001b[39;49m\u001b[43mx\u001b[49m\u001b[43m,\u001b[49m\u001b[43m \u001b[49m\u001b[43mdata\u001b[49m\u001b[38;5;241;43m.\u001b[39;49m\u001b[43medge_index\u001b[49m\u001b[43m,\u001b[49m\u001b[43m \u001b[49m\u001b[43mindex\u001b[49m\u001b[43m \u001b[49m\u001b[38;5;241;43m=\u001b[39;49m\u001b[43m \u001b[49m\u001b[38;5;241;43m0\u001b[39;49m\u001b[43m)\u001b[49m\n\u001b[1;32m     17\u001b[0m \u001b[38;5;28mprint\u001b[39m(\u001b[38;5;124mf\u001b[39m\u001b[38;5;124m'\u001b[39m\u001b[38;5;124mGenerated explanations in \u001b[39m\u001b[38;5;132;01m{\u001b[39;00mexplanation\u001b[38;5;241m.\u001b[39mavailable_explanations\u001b[38;5;132;01m}\u001b[39;00m\u001b[38;5;124m'\u001b[39m)\n\u001b[1;32m     19\u001b[0m path \u001b[38;5;241m=\u001b[39m \u001b[38;5;124m'\u001b[39m\u001b[38;5;124mfeature_importance.png\u001b[39m\u001b[38;5;124m'\u001b[39m\n",
      "File \u001b[0;32m~/miniforge3/envs/adin/lib/python3.10/site-packages/torch_geometric/explain/explainer.py:205\u001b[0m, in \u001b[0;36mExplainer.__call__\u001b[0;34m(self, x, edge_index, target, index, **kwargs)\u001b[0m\n\u001b[1;32m    202\u001b[0m training \u001b[38;5;241m=\u001b[39m \u001b[38;5;28mself\u001b[39m\u001b[38;5;241m.\u001b[39mmodel\u001b[38;5;241m.\u001b[39mtraining\n\u001b[1;32m    203\u001b[0m \u001b[38;5;28mself\u001b[39m\u001b[38;5;241m.\u001b[39mmodel\u001b[38;5;241m.\u001b[39meval()\n\u001b[0;32m--> 205\u001b[0m explanation \u001b[38;5;241m=\u001b[39m \u001b[38;5;28;43mself\u001b[39;49m\u001b[38;5;241;43m.\u001b[39;49m\u001b[43malgorithm\u001b[49m\u001b[43m(\u001b[49m\n\u001b[1;32m    206\u001b[0m \u001b[43m    \u001b[49m\u001b[38;5;28;43mself\u001b[39;49m\u001b[38;5;241;43m.\u001b[39;49m\u001b[43mmodel\u001b[49m\u001b[43m,\u001b[49m\n\u001b[1;32m    207\u001b[0m \u001b[43m    \u001b[49m\u001b[43mx\u001b[49m\u001b[43m,\u001b[49m\n\u001b[1;32m    208\u001b[0m \u001b[43m    \u001b[49m\u001b[43medge_index\u001b[49m\u001b[43m,\u001b[49m\n\u001b[1;32m    209\u001b[0m \u001b[43m    \u001b[49m\u001b[43mtarget\u001b[49m\u001b[38;5;241;43m=\u001b[39;49m\u001b[43mtarget\u001b[49m\u001b[43m,\u001b[49m\n\u001b[1;32m    210\u001b[0m \u001b[43m    \u001b[49m\u001b[43mindex\u001b[49m\u001b[38;5;241;43m=\u001b[39;49m\u001b[43mindex\u001b[49m\u001b[43m,\u001b[49m\n\u001b[1;32m    211\u001b[0m \u001b[43m    \u001b[49m\u001b[38;5;241;43m*\u001b[39;49m\u001b[38;5;241;43m*\u001b[39;49m\u001b[43mkwargs\u001b[49m\u001b[43m,\u001b[49m\n\u001b[1;32m    212\u001b[0m \u001b[43m\u001b[49m\u001b[43m)\u001b[49m\n\u001b[1;32m    214\u001b[0m \u001b[38;5;28mself\u001b[39m\u001b[38;5;241m.\u001b[39mmodel\u001b[38;5;241m.\u001b[39mtrain(training)\n\u001b[1;32m    216\u001b[0m \u001b[38;5;66;03m# Add explainer objectives to the `Explanation` object:\u001b[39;00m\n",
      "File \u001b[0;32m~/miniforge3/envs/adin/lib/python3.10/site-packages/torch/nn/modules/module.py:1553\u001b[0m, in \u001b[0;36mModule._wrapped_call_impl\u001b[0;34m(self, *args, **kwargs)\u001b[0m\n\u001b[1;32m   1551\u001b[0m     \u001b[38;5;28;01mreturn\u001b[39;00m \u001b[38;5;28mself\u001b[39m\u001b[38;5;241m.\u001b[39m_compiled_call_impl(\u001b[38;5;241m*\u001b[39margs, \u001b[38;5;241m*\u001b[39m\u001b[38;5;241m*\u001b[39mkwargs)  \u001b[38;5;66;03m# type: ignore[misc]\u001b[39;00m\n\u001b[1;32m   1552\u001b[0m \u001b[38;5;28;01melse\u001b[39;00m:\n\u001b[0;32m-> 1553\u001b[0m     \u001b[38;5;28;01mreturn\u001b[39;00m \u001b[38;5;28;43mself\u001b[39;49m\u001b[38;5;241;43m.\u001b[39;49m\u001b[43m_call_impl\u001b[49m\u001b[43m(\u001b[49m\u001b[38;5;241;43m*\u001b[39;49m\u001b[43margs\u001b[49m\u001b[43m,\u001b[49m\u001b[43m \u001b[49m\u001b[38;5;241;43m*\u001b[39;49m\u001b[38;5;241;43m*\u001b[39;49m\u001b[43mkwargs\u001b[49m\u001b[43m)\u001b[49m\n",
      "File \u001b[0;32m~/miniforge3/envs/adin/lib/python3.10/site-packages/torch/nn/modules/module.py:1562\u001b[0m, in \u001b[0;36mModule._call_impl\u001b[0;34m(self, *args, **kwargs)\u001b[0m\n\u001b[1;32m   1557\u001b[0m \u001b[38;5;66;03m# If we don't have any hooks, we want to skip the rest of the logic in\u001b[39;00m\n\u001b[1;32m   1558\u001b[0m \u001b[38;5;66;03m# this function, and just call forward.\u001b[39;00m\n\u001b[1;32m   1559\u001b[0m \u001b[38;5;28;01mif\u001b[39;00m \u001b[38;5;129;01mnot\u001b[39;00m (\u001b[38;5;28mself\u001b[39m\u001b[38;5;241m.\u001b[39m_backward_hooks \u001b[38;5;129;01mor\u001b[39;00m \u001b[38;5;28mself\u001b[39m\u001b[38;5;241m.\u001b[39m_backward_pre_hooks \u001b[38;5;129;01mor\u001b[39;00m \u001b[38;5;28mself\u001b[39m\u001b[38;5;241m.\u001b[39m_forward_hooks \u001b[38;5;129;01mor\u001b[39;00m \u001b[38;5;28mself\u001b[39m\u001b[38;5;241m.\u001b[39m_forward_pre_hooks\n\u001b[1;32m   1560\u001b[0m         \u001b[38;5;129;01mor\u001b[39;00m _global_backward_pre_hooks \u001b[38;5;129;01mor\u001b[39;00m _global_backward_hooks\n\u001b[1;32m   1561\u001b[0m         \u001b[38;5;129;01mor\u001b[39;00m _global_forward_hooks \u001b[38;5;129;01mor\u001b[39;00m _global_forward_pre_hooks):\n\u001b[0;32m-> 1562\u001b[0m     \u001b[38;5;28;01mreturn\u001b[39;00m \u001b[43mforward_call\u001b[49m\u001b[43m(\u001b[49m\u001b[38;5;241;43m*\u001b[39;49m\u001b[43margs\u001b[49m\u001b[43m,\u001b[49m\u001b[43m \u001b[49m\u001b[38;5;241;43m*\u001b[39;49m\u001b[38;5;241;43m*\u001b[39;49m\u001b[43mkwargs\u001b[49m\u001b[43m)\u001b[49m\n\u001b[1;32m   1564\u001b[0m \u001b[38;5;28;01mtry\u001b[39;00m:\n\u001b[1;32m   1565\u001b[0m     result \u001b[38;5;241m=\u001b[39m \u001b[38;5;28;01mNone\u001b[39;00m\n",
      "File \u001b[0;32m~/miniforge3/envs/adin/lib/python3.10/site-packages/torch_geometric/explain/algorithm/gnn_explainer.py:87\u001b[0m, in \u001b[0;36mGNNExplainer.forward\u001b[0;34m(self, model, x, edge_index, target, index, **kwargs)\u001b[0m\n\u001b[1;32m     83\u001b[0m \u001b[38;5;28;01mif\u001b[39;00m \u001b[38;5;28misinstance\u001b[39m(x, \u001b[38;5;28mdict\u001b[39m) \u001b[38;5;129;01mor\u001b[39;00m \u001b[38;5;28misinstance\u001b[39m(edge_index, \u001b[38;5;28mdict\u001b[39m):\n\u001b[1;32m     84\u001b[0m     \u001b[38;5;28;01mraise\u001b[39;00m \u001b[38;5;167;01mValueError\u001b[39;00m(\u001b[38;5;124mf\u001b[39m\u001b[38;5;124m\"\u001b[39m\u001b[38;5;124mHeterogeneous graphs not yet supported in \u001b[39m\u001b[38;5;124m\"\u001b[39m\n\u001b[1;32m     85\u001b[0m                      \u001b[38;5;124mf\u001b[39m\u001b[38;5;124m\"\u001b[39m\u001b[38;5;124m'\u001b[39m\u001b[38;5;132;01m{\u001b[39;00m\u001b[38;5;28mself\u001b[39m\u001b[38;5;241m.\u001b[39m\u001b[38;5;18m__class__\u001b[39m\u001b[38;5;241m.\u001b[39m\u001b[38;5;18m__name__\u001b[39m\u001b[38;5;132;01m}\u001b[39;00m\u001b[38;5;124m'\u001b[39m\u001b[38;5;124m\"\u001b[39m)\n\u001b[0;32m---> 87\u001b[0m \u001b[38;5;28;43mself\u001b[39;49m\u001b[38;5;241;43m.\u001b[39;49m\u001b[43m_train\u001b[49m\u001b[43m(\u001b[49m\u001b[43mmodel\u001b[49m\u001b[43m,\u001b[49m\u001b[43m \u001b[49m\u001b[43mx\u001b[49m\u001b[43m,\u001b[49m\u001b[43m \u001b[49m\u001b[43medge_index\u001b[49m\u001b[43m,\u001b[49m\u001b[43m \u001b[49m\u001b[43mtarget\u001b[49m\u001b[38;5;241;43m=\u001b[39;49m\u001b[43mtarget\u001b[49m\u001b[43m,\u001b[49m\u001b[43m \u001b[49m\u001b[43mindex\u001b[49m\u001b[38;5;241;43m=\u001b[39;49m\u001b[43mindex\u001b[49m\u001b[43m,\u001b[49m\u001b[43m \u001b[49m\u001b[38;5;241;43m*\u001b[39;49m\u001b[38;5;241;43m*\u001b[39;49m\u001b[43mkwargs\u001b[49m\u001b[43m)\u001b[49m\n\u001b[1;32m     89\u001b[0m node_mask \u001b[38;5;241m=\u001b[39m \u001b[38;5;28mself\u001b[39m\u001b[38;5;241m.\u001b[39m_post_process_mask(\n\u001b[1;32m     90\u001b[0m     \u001b[38;5;28mself\u001b[39m\u001b[38;5;241m.\u001b[39mnode_mask,\n\u001b[1;32m     91\u001b[0m     \u001b[38;5;28mself\u001b[39m\u001b[38;5;241m.\u001b[39mhard_node_mask,\n\u001b[1;32m     92\u001b[0m     apply_sigmoid\u001b[38;5;241m=\u001b[39m\u001b[38;5;28;01mTrue\u001b[39;00m,\n\u001b[1;32m     93\u001b[0m )\n\u001b[1;32m     94\u001b[0m edge_mask \u001b[38;5;241m=\u001b[39m \u001b[38;5;28mself\u001b[39m\u001b[38;5;241m.\u001b[39m_post_process_mask(\n\u001b[1;32m     95\u001b[0m     \u001b[38;5;28mself\u001b[39m\u001b[38;5;241m.\u001b[39medge_mask,\n\u001b[1;32m     96\u001b[0m     \u001b[38;5;28mself\u001b[39m\u001b[38;5;241m.\u001b[39mhard_edge_mask,\n\u001b[1;32m     97\u001b[0m     apply_sigmoid\u001b[38;5;241m=\u001b[39m\u001b[38;5;28;01mTrue\u001b[39;00m,\n\u001b[1;32m     98\u001b[0m )\n",
      "File \u001b[0;32m~/miniforge3/envs/adin/lib/python3.10/site-packages/torch_geometric/explain/algorithm/gnn_explainer.py:147\u001b[0m, in \u001b[0;36mGNNExplainer._train\u001b[0;34m(self, model, x, edge_index, target, index, **kwargs)\u001b[0m\n\u001b[1;32m    145\u001b[0m \u001b[38;5;28;01mif\u001b[39;00m i \u001b[38;5;241m==\u001b[39m \u001b[38;5;241m0\u001b[39m \u001b[38;5;129;01mand\u001b[39;00m \u001b[38;5;28mself\u001b[39m\u001b[38;5;241m.\u001b[39mnode_mask \u001b[38;5;129;01mis\u001b[39;00m \u001b[38;5;129;01mnot\u001b[39;00m \u001b[38;5;28;01mNone\u001b[39;00m:\n\u001b[1;32m    146\u001b[0m     \u001b[38;5;28;01mif\u001b[39;00m \u001b[38;5;28mself\u001b[39m\u001b[38;5;241m.\u001b[39mnode_mask\u001b[38;5;241m.\u001b[39mgrad \u001b[38;5;129;01mis\u001b[39;00m \u001b[38;5;28;01mNone\u001b[39;00m:\n\u001b[0;32m--> 147\u001b[0m         \u001b[38;5;28;01mraise\u001b[39;00m \u001b[38;5;167;01mValueError\u001b[39;00m(\u001b[38;5;124m\"\u001b[39m\u001b[38;5;124mCould not compute gradients for node \u001b[39m\u001b[38;5;124m\"\u001b[39m\n\u001b[1;32m    148\u001b[0m                          \u001b[38;5;124m\"\u001b[39m\u001b[38;5;124mfeatures. Please make sure that node \u001b[39m\u001b[38;5;124m\"\u001b[39m\n\u001b[1;32m    149\u001b[0m                          \u001b[38;5;124m\"\u001b[39m\u001b[38;5;124mfeatures are used inside the model or \u001b[39m\u001b[38;5;124m\"\u001b[39m\n\u001b[1;32m    150\u001b[0m                          \u001b[38;5;124m\"\u001b[39m\u001b[38;5;124mdisable it via `node_mask_type=None`.\u001b[39m\u001b[38;5;124m\"\u001b[39m)\n\u001b[1;32m    151\u001b[0m     \u001b[38;5;28mself\u001b[39m\u001b[38;5;241m.\u001b[39mhard_node_mask \u001b[38;5;241m=\u001b[39m \u001b[38;5;28mself\u001b[39m\u001b[38;5;241m.\u001b[39mnode_mask\u001b[38;5;241m.\u001b[39mgrad \u001b[38;5;241m!=\u001b[39m \u001b[38;5;241m0.0\u001b[39m\n\u001b[1;32m    152\u001b[0m \u001b[38;5;28;01mif\u001b[39;00m i \u001b[38;5;241m==\u001b[39m \u001b[38;5;241m0\u001b[39m \u001b[38;5;129;01mand\u001b[39;00m \u001b[38;5;28mself\u001b[39m\u001b[38;5;241m.\u001b[39medge_mask \u001b[38;5;129;01mis\u001b[39;00m \u001b[38;5;129;01mnot\u001b[39;00m \u001b[38;5;28;01mNone\u001b[39;00m:\n",
      "\u001b[0;31mValueError\u001b[0m: Could not compute gradients for node features. Please make sure that node features are used inside the model or disable it via `node_mask_type=None`."
     ]
    }
   ],
   "source": [
    "from torch_geometric.explain import Explainer, GNNExplainer\n",
    "\n",
    "explainer = Explainer(\n",
    "    model=gaan_exp,\n",
    "    algorithm=GNNExplainer(epochs=100, lr = 0.0001),\n",
    "    explanation_type='model',\n",
    "    node_mask_type='attributes',\n",
    "    edge_mask_type='object',\n",
    "    model_config=dict(\n",
    "        mode='binary_classification',\n",
    "        task_level='node',\n",
    "        return_type='raw',\n",
    "    ),\n",
    ")\n",
    "\n",
    "explanation = explainer(data.x, data.edge_index, index = 0)\n",
    "print(f'Generated explanations in {explanation.available_explanations}')\n",
    "\n",
    "path = 'feature_importance.png'\n",
    "explanation.visualize_feature_importance(path, top_k=10, feat_labels = expr.columns)\n",
    "print(f\"Feature importance plot has been saved to '{path}'\")\n",
    "\n",
    "path = 'subgraph.pdf'\n",
    "explanation.visualize_graph(path, node_labels= expr.index)\n",
    "print(f\"Subgraph visualization plot has been saved to '{path}'\")"
   ]
  },
  {
   "cell_type": "code",
   "execution_count": 140,
   "metadata": {
    "colab": {
     "base_uri": "https://localhost:8080/"
    },
    "executionInfo": {
     "elapsed": 781,
     "status": "ok",
     "timestamp": 1726490125157,
     "user": {
      "displayName": "Ugo Lomoio",
      "userId": "00301874906270436685"
     },
     "user_tz": -120
    },
    "id": "NddrFLaARvYG",
    "outputId": "281721f5-37a8-438d-f96b-df916492ef84",
    "scrolled": true
   },
   "outputs": [
    {
     "name": "stdout",
     "output_type": "stream",
     "text": [
      "Test: Loss I 363.3764 | Loss O 7.5231 | \n"
     ]
    },
    {
     "name": "stderr",
     "output_type": "stream",
     "text": [
      "/home/ulomoio/miniforge3/envs/adin/lib/python3.10/site-packages/torch_geometric/sampler/neighbor_sampler.py:61: UserWarning: Using 'NeighborSampler' without a 'pyg-lib' installation is deprecated and will be removed soon. Please install 'pyg-lib' for accelerated neighborhood sampling\n",
      "  warnings.warn(f\"Using '{self.__class__.__name__}' without a \"\n"
     ]
    }
   ],
   "source": [
    "preds = gaan_exp.predict(data)"
   ]
  },
  {
   "cell_type": "code",
   "execution_count": 141,
   "metadata": {
    "executionInfo": {
     "elapsed": 1,
     "status": "ok",
     "timestamp": 1726490125157,
     "user": {
      "displayName": "Ugo Lomoio",
      "userId": "00301874906270436685"
     },
     "user_tz": -120
    },
    "id": "ARdN645o7l6p"
   },
   "outputs": [],
   "source": [
    "from sklearn.metrics import roc_auc_score"
   ]
  },
  {
   "cell_type": "code",
   "execution_count": 142,
   "metadata": {
    "scrolled": true
   },
   "outputs": [
    {
     "data": {
      "text/plain": [
       "['ATP2A1',\n",
       " 'SLMAP',\n",
       " 'MEOX2',\n",
       " 'HOXD3',\n",
       " 'ZNF398',\n",
       " 'PANX1',\n",
       " 'COX8C',\n",
       " 'IMPA2',\n",
       " 'TTC8',\n",
       " 'FLJ35816']"
      ]
     },
     "execution_count": 142,
     "metadata": {},
     "output_type": "execute_result"
    }
   ],
   "source": [
    "genes = list(expr.columns)\n",
    "genes[:10]"
   ]
  },
  {
   "cell_type": "code",
   "execution_count": 143,
   "metadata": {},
   "outputs": [],
   "source": [
    "#!pip install nbformat>=4.2.0"
   ]
  },
  {
   "cell_type": "code",
   "execution_count": 144,
   "metadata": {},
   "outputs": [],
   "source": [
    "import plotly.graph_objects as go\n",
    "import plotly.express as px \n",
    "\n",
    "def plotly_featureimportance_from_gnnexplainer(node_id, genes, top_k = 10):\n",
    "\n",
    "    explanation = explainer(data.x, data.edge_index, index = node_id)\n",
    "    \n",
    "    node_mask = explanation.get('node_mask')\n",
    "    if node_mask is None:\n",
    "        raise ValueError(f\"The attribute 'node_mask' is not available \"\n",
    "                                 f\"in '{explanation.__class__.__name__}' \"\n",
    "                                 f\"(got {explanation.available_explanations})\")\n",
    "    if node_mask.dim() != 2 or node_mask.size(1) <= 1:\n",
    "                raise ValueError(f\"Cannot compute feature importance for \"\n",
    "                                 f\"object-level 'node_mask' \"\n",
    "                                 f\"(got shape {node_mask.size()})\")\n",
    "    \n",
    "    importances = node_mask.sum(dim=0).cpu().detach().numpy()\n",
    "\n",
    "    # Create a DataFrame for gene importances\n",
    "    feature_importances = pd.DataFrame({\n",
    "        'Gene': genes,\n",
    "        'Importance': importances\n",
    "    }).sort_values(by='Importance', ascending=False)\n",
    "\n",
    "    # Select the top 10 most important genes\n",
    "    top_genes = feature_importances.head(top_k)\n",
    "\n",
    "    # Create an interactive bar plot using Plotly Express\n",
    "    fig = px.bar(top_genes, x='Importance', y='Gene', \n",
    "                 orientation='h',  # Horizontal bar plot\n",
    "                 title='Top 10 Most Important Genes',\n",
    "                 labels={'Importance': 'Importance Score', 'Gene': 'Gene'},\n",
    "                 color='Importance',\n",
    "                 color_continuous_scale='viridis')\n",
    "\n",
    "    # Update layout for better presentation\n",
    "    fig.update_layout(\n",
    "        xaxis_title=\"Importance Score\",\n",
    "        yaxis_title=\"Gene\",\n",
    "        width=800,\n",
    "        height=400,\n",
    "        template='plotly_white'\n",
    "    )\n",
    "\n",
    "    return fig"
   ]
  },
  {
   "cell_type": "code",
   "execution_count": 204,
   "metadata": {
    "scrolled": true
   },
   "outputs": [
    {
     "data": {
      "application/vnd.plotly.v1+json": {
       "config": {
        "plotlyServerURL": "https://plot.ly"
       },
       "data": [
        {
         "alignmentgroup": "True",
         "hovertemplate": "Importance Score=%{marker.color}<br>Gene=%{y}<extra></extra>",
         "legendgroup": "",
         "marker": {
          "color": [
           12.505594253540039,
           12.463274955749512,
           12.431381225585938,
           12.426156044006348,
           12.415079116821289,
           12.414715766906738,
           12.413989067077637,
           12.41264820098877,
           12.410856246948242,
           12.410382270812988
          ],
          "coloraxis": "coloraxis",
          "pattern": {
           "shape": ""
          }
         },
         "name": "",
         "offsetgroup": "",
         "orientation": "h",
         "showlegend": false,
         "textposition": "auto",
         "type": "bar",
         "x": [
          12.505594253540039,
          12.463274955749512,
          12.431381225585938,
          12.426156044006348,
          12.415079116821289,
          12.414715766906738,
          12.413989067077637,
          12.41264820098877,
          12.410856246948242,
          12.410382270812988
         ],
         "xaxis": "x",
         "y": [
          "AGMAT",
          "IL1F7.1",
          "NEK4",
          "MX2.1",
          "RNF8",
          "CDH7",
          "RCBTB1.1",
          "H2AFY.1",
          "SPAST.1",
          "CIC"
         ],
         "yaxis": "y"
        }
       ],
       "layout": {
        "barmode": "relative",
        "coloraxis": {
         "colorbar": {
          "title": {
           "text": "Importance Score"
          }
         },
         "colorscale": [
          [
           0,
           "#440154"
          ],
          [
           0.1111111111111111,
           "#482878"
          ],
          [
           0.2222222222222222,
           "#3e4989"
          ],
          [
           0.3333333333333333,
           "#31688e"
          ],
          [
           0.4444444444444444,
           "#26828e"
          ],
          [
           0.5555555555555556,
           "#1f9e89"
          ],
          [
           0.6666666666666666,
           "#35b779"
          ],
          [
           0.7777777777777778,
           "#6ece58"
          ],
          [
           0.8888888888888888,
           "#b5de2b"
          ],
          [
           1,
           "#fde725"
          ]
         ]
        },
        "height": 400,
        "legend": {
         "tracegroupgap": 0
        },
        "template": {
         "data": {
          "bar": [
           {
            "error_x": {
             "color": "#2a3f5f"
            },
            "error_y": {
             "color": "#2a3f5f"
            },
            "marker": {
             "line": {
              "color": "white",
              "width": 0.5
             },
             "pattern": {
              "fillmode": "overlay",
              "size": 10,
              "solidity": 0.2
             }
            },
            "type": "bar"
           }
          ],
          "barpolar": [
           {
            "marker": {
             "line": {
              "color": "white",
              "width": 0.5
             },
             "pattern": {
              "fillmode": "overlay",
              "size": 10,
              "solidity": 0.2
             }
            },
            "type": "barpolar"
           }
          ],
          "carpet": [
           {
            "aaxis": {
             "endlinecolor": "#2a3f5f",
             "gridcolor": "#C8D4E3",
             "linecolor": "#C8D4E3",
             "minorgridcolor": "#C8D4E3",
             "startlinecolor": "#2a3f5f"
            },
            "baxis": {
             "endlinecolor": "#2a3f5f",
             "gridcolor": "#C8D4E3",
             "linecolor": "#C8D4E3",
             "minorgridcolor": "#C8D4E3",
             "startlinecolor": "#2a3f5f"
            },
            "type": "carpet"
           }
          ],
          "choropleth": [
           {
            "colorbar": {
             "outlinewidth": 0,
             "ticks": ""
            },
            "type": "choropleth"
           }
          ],
          "contour": [
           {
            "colorbar": {
             "outlinewidth": 0,
             "ticks": ""
            },
            "colorscale": [
             [
              0,
              "#0d0887"
             ],
             [
              0.1111111111111111,
              "#46039f"
             ],
             [
              0.2222222222222222,
              "#7201a8"
             ],
             [
              0.3333333333333333,
              "#9c179e"
             ],
             [
              0.4444444444444444,
              "#bd3786"
             ],
             [
              0.5555555555555556,
              "#d8576b"
             ],
             [
              0.6666666666666666,
              "#ed7953"
             ],
             [
              0.7777777777777778,
              "#fb9f3a"
             ],
             [
              0.8888888888888888,
              "#fdca26"
             ],
             [
              1,
              "#f0f921"
             ]
            ],
            "type": "contour"
           }
          ],
          "contourcarpet": [
           {
            "colorbar": {
             "outlinewidth": 0,
             "ticks": ""
            },
            "type": "contourcarpet"
           }
          ],
          "heatmap": [
           {
            "colorbar": {
             "outlinewidth": 0,
             "ticks": ""
            },
            "colorscale": [
             [
              0,
              "#0d0887"
             ],
             [
              0.1111111111111111,
              "#46039f"
             ],
             [
              0.2222222222222222,
              "#7201a8"
             ],
             [
              0.3333333333333333,
              "#9c179e"
             ],
             [
              0.4444444444444444,
              "#bd3786"
             ],
             [
              0.5555555555555556,
              "#d8576b"
             ],
             [
              0.6666666666666666,
              "#ed7953"
             ],
             [
              0.7777777777777778,
              "#fb9f3a"
             ],
             [
              0.8888888888888888,
              "#fdca26"
             ],
             [
              1,
              "#f0f921"
             ]
            ],
            "type": "heatmap"
           }
          ],
          "heatmapgl": [
           {
            "colorbar": {
             "outlinewidth": 0,
             "ticks": ""
            },
            "colorscale": [
             [
              0,
              "#0d0887"
             ],
             [
              0.1111111111111111,
              "#46039f"
             ],
             [
              0.2222222222222222,
              "#7201a8"
             ],
             [
              0.3333333333333333,
              "#9c179e"
             ],
             [
              0.4444444444444444,
              "#bd3786"
             ],
             [
              0.5555555555555556,
              "#d8576b"
             ],
             [
              0.6666666666666666,
              "#ed7953"
             ],
             [
              0.7777777777777778,
              "#fb9f3a"
             ],
             [
              0.8888888888888888,
              "#fdca26"
             ],
             [
              1,
              "#f0f921"
             ]
            ],
            "type": "heatmapgl"
           }
          ],
          "histogram": [
           {
            "marker": {
             "pattern": {
              "fillmode": "overlay",
              "size": 10,
              "solidity": 0.2
             }
            },
            "type": "histogram"
           }
          ],
          "histogram2d": [
           {
            "colorbar": {
             "outlinewidth": 0,
             "ticks": ""
            },
            "colorscale": [
             [
              0,
              "#0d0887"
             ],
             [
              0.1111111111111111,
              "#46039f"
             ],
             [
              0.2222222222222222,
              "#7201a8"
             ],
             [
              0.3333333333333333,
              "#9c179e"
             ],
             [
              0.4444444444444444,
              "#bd3786"
             ],
             [
              0.5555555555555556,
              "#d8576b"
             ],
             [
              0.6666666666666666,
              "#ed7953"
             ],
             [
              0.7777777777777778,
              "#fb9f3a"
             ],
             [
              0.8888888888888888,
              "#fdca26"
             ],
             [
              1,
              "#f0f921"
             ]
            ],
            "type": "histogram2d"
           }
          ],
          "histogram2dcontour": [
           {
            "colorbar": {
             "outlinewidth": 0,
             "ticks": ""
            },
            "colorscale": [
             [
              0,
              "#0d0887"
             ],
             [
              0.1111111111111111,
              "#46039f"
             ],
             [
              0.2222222222222222,
              "#7201a8"
             ],
             [
              0.3333333333333333,
              "#9c179e"
             ],
             [
              0.4444444444444444,
              "#bd3786"
             ],
             [
              0.5555555555555556,
              "#d8576b"
             ],
             [
              0.6666666666666666,
              "#ed7953"
             ],
             [
              0.7777777777777778,
              "#fb9f3a"
             ],
             [
              0.8888888888888888,
              "#fdca26"
             ],
             [
              1,
              "#f0f921"
             ]
            ],
            "type": "histogram2dcontour"
           }
          ],
          "mesh3d": [
           {
            "colorbar": {
             "outlinewidth": 0,
             "ticks": ""
            },
            "type": "mesh3d"
           }
          ],
          "parcoords": [
           {
            "line": {
             "colorbar": {
              "outlinewidth": 0,
              "ticks": ""
             }
            },
            "type": "parcoords"
           }
          ],
          "pie": [
           {
            "automargin": true,
            "type": "pie"
           }
          ],
          "scatter": [
           {
            "fillpattern": {
             "fillmode": "overlay",
             "size": 10,
             "solidity": 0.2
            },
            "type": "scatter"
           }
          ],
          "scatter3d": [
           {
            "line": {
             "colorbar": {
              "outlinewidth": 0,
              "ticks": ""
             }
            },
            "marker": {
             "colorbar": {
              "outlinewidth": 0,
              "ticks": ""
             }
            },
            "type": "scatter3d"
           }
          ],
          "scattercarpet": [
           {
            "marker": {
             "colorbar": {
              "outlinewidth": 0,
              "ticks": ""
             }
            },
            "type": "scattercarpet"
           }
          ],
          "scattergeo": [
           {
            "marker": {
             "colorbar": {
              "outlinewidth": 0,
              "ticks": ""
             }
            },
            "type": "scattergeo"
           }
          ],
          "scattergl": [
           {
            "marker": {
             "colorbar": {
              "outlinewidth": 0,
              "ticks": ""
             }
            },
            "type": "scattergl"
           }
          ],
          "scattermapbox": [
           {
            "marker": {
             "colorbar": {
              "outlinewidth": 0,
              "ticks": ""
             }
            },
            "type": "scattermapbox"
           }
          ],
          "scatterpolar": [
           {
            "marker": {
             "colorbar": {
              "outlinewidth": 0,
              "ticks": ""
             }
            },
            "type": "scatterpolar"
           }
          ],
          "scatterpolargl": [
           {
            "marker": {
             "colorbar": {
              "outlinewidth": 0,
              "ticks": ""
             }
            },
            "type": "scatterpolargl"
           }
          ],
          "scatterternary": [
           {
            "marker": {
             "colorbar": {
              "outlinewidth": 0,
              "ticks": ""
             }
            },
            "type": "scatterternary"
           }
          ],
          "surface": [
           {
            "colorbar": {
             "outlinewidth": 0,
             "ticks": ""
            },
            "colorscale": [
             [
              0,
              "#0d0887"
             ],
             [
              0.1111111111111111,
              "#46039f"
             ],
             [
              0.2222222222222222,
              "#7201a8"
             ],
             [
              0.3333333333333333,
              "#9c179e"
             ],
             [
              0.4444444444444444,
              "#bd3786"
             ],
             [
              0.5555555555555556,
              "#d8576b"
             ],
             [
              0.6666666666666666,
              "#ed7953"
             ],
             [
              0.7777777777777778,
              "#fb9f3a"
             ],
             [
              0.8888888888888888,
              "#fdca26"
             ],
             [
              1,
              "#f0f921"
             ]
            ],
            "type": "surface"
           }
          ],
          "table": [
           {
            "cells": {
             "fill": {
              "color": "#EBF0F8"
             },
             "line": {
              "color": "white"
             }
            },
            "header": {
             "fill": {
              "color": "#C8D4E3"
             },
             "line": {
              "color": "white"
             }
            },
            "type": "table"
           }
          ]
         },
         "layout": {
          "annotationdefaults": {
           "arrowcolor": "#2a3f5f",
           "arrowhead": 0,
           "arrowwidth": 1
          },
          "autotypenumbers": "strict",
          "coloraxis": {
           "colorbar": {
            "outlinewidth": 0,
            "ticks": ""
           }
          },
          "colorscale": {
           "diverging": [
            [
             0,
             "#8e0152"
            ],
            [
             0.1,
             "#c51b7d"
            ],
            [
             0.2,
             "#de77ae"
            ],
            [
             0.3,
             "#f1b6da"
            ],
            [
             0.4,
             "#fde0ef"
            ],
            [
             0.5,
             "#f7f7f7"
            ],
            [
             0.6,
             "#e6f5d0"
            ],
            [
             0.7,
             "#b8e186"
            ],
            [
             0.8,
             "#7fbc41"
            ],
            [
             0.9,
             "#4d9221"
            ],
            [
             1,
             "#276419"
            ]
           ],
           "sequential": [
            [
             0,
             "#0d0887"
            ],
            [
             0.1111111111111111,
             "#46039f"
            ],
            [
             0.2222222222222222,
             "#7201a8"
            ],
            [
             0.3333333333333333,
             "#9c179e"
            ],
            [
             0.4444444444444444,
             "#bd3786"
            ],
            [
             0.5555555555555556,
             "#d8576b"
            ],
            [
             0.6666666666666666,
             "#ed7953"
            ],
            [
             0.7777777777777778,
             "#fb9f3a"
            ],
            [
             0.8888888888888888,
             "#fdca26"
            ],
            [
             1,
             "#f0f921"
            ]
           ],
           "sequentialminus": [
            [
             0,
             "#0d0887"
            ],
            [
             0.1111111111111111,
             "#46039f"
            ],
            [
             0.2222222222222222,
             "#7201a8"
            ],
            [
             0.3333333333333333,
             "#9c179e"
            ],
            [
             0.4444444444444444,
             "#bd3786"
            ],
            [
             0.5555555555555556,
             "#d8576b"
            ],
            [
             0.6666666666666666,
             "#ed7953"
            ],
            [
             0.7777777777777778,
             "#fb9f3a"
            ],
            [
             0.8888888888888888,
             "#fdca26"
            ],
            [
             1,
             "#f0f921"
            ]
           ]
          },
          "colorway": [
           "#636efa",
           "#EF553B",
           "#00cc96",
           "#ab63fa",
           "#FFA15A",
           "#19d3f3",
           "#FF6692",
           "#B6E880",
           "#FF97FF",
           "#FECB52"
          ],
          "font": {
           "color": "#2a3f5f"
          },
          "geo": {
           "bgcolor": "white",
           "lakecolor": "white",
           "landcolor": "white",
           "showlakes": true,
           "showland": true,
           "subunitcolor": "#C8D4E3"
          },
          "hoverlabel": {
           "align": "left"
          },
          "hovermode": "closest",
          "mapbox": {
           "style": "light"
          },
          "paper_bgcolor": "white",
          "plot_bgcolor": "white",
          "polar": {
           "angularaxis": {
            "gridcolor": "#EBF0F8",
            "linecolor": "#EBF0F8",
            "ticks": ""
           },
           "bgcolor": "white",
           "radialaxis": {
            "gridcolor": "#EBF0F8",
            "linecolor": "#EBF0F8",
            "ticks": ""
           }
          },
          "scene": {
           "xaxis": {
            "backgroundcolor": "white",
            "gridcolor": "#DFE8F3",
            "gridwidth": 2,
            "linecolor": "#EBF0F8",
            "showbackground": true,
            "ticks": "",
            "zerolinecolor": "#EBF0F8"
           },
           "yaxis": {
            "backgroundcolor": "white",
            "gridcolor": "#DFE8F3",
            "gridwidth": 2,
            "linecolor": "#EBF0F8",
            "showbackground": true,
            "ticks": "",
            "zerolinecolor": "#EBF0F8"
           },
           "zaxis": {
            "backgroundcolor": "white",
            "gridcolor": "#DFE8F3",
            "gridwidth": 2,
            "linecolor": "#EBF0F8",
            "showbackground": true,
            "ticks": "",
            "zerolinecolor": "#EBF0F8"
           }
          },
          "shapedefaults": {
           "line": {
            "color": "#2a3f5f"
           }
          },
          "ternary": {
           "aaxis": {
            "gridcolor": "#DFE8F3",
            "linecolor": "#A2B1C6",
            "ticks": ""
           },
           "baxis": {
            "gridcolor": "#DFE8F3",
            "linecolor": "#A2B1C6",
            "ticks": ""
           },
           "bgcolor": "white",
           "caxis": {
            "gridcolor": "#DFE8F3",
            "linecolor": "#A2B1C6",
            "ticks": ""
           }
          },
          "title": {
           "x": 0.05
          },
          "xaxis": {
           "automargin": true,
           "gridcolor": "#EBF0F8",
           "linecolor": "#EBF0F8",
           "ticks": "",
           "title": {
            "standoff": 15
           },
           "zerolinecolor": "#EBF0F8",
           "zerolinewidth": 2
          },
          "yaxis": {
           "automargin": true,
           "gridcolor": "#EBF0F8",
           "linecolor": "#EBF0F8",
           "ticks": "",
           "title": {
            "standoff": 15
           },
           "zerolinecolor": "#EBF0F8",
           "zerolinewidth": 2
          }
         }
        },
        "title": {
         "text": "Top 10 Most Important Genes"
        },
        "width": 800,
        "xaxis": {
         "anchor": "y",
         "autorange": true,
         "domain": [
          0,
          1
         ],
         "range": [
          0,
          13.16378342477899
         ],
         "title": {
          "text": "Importance Score"
         },
         "type": "linear"
        },
        "yaxis": {
         "anchor": "x",
         "autorange": true,
         "domain": [
          0,
          1
         ],
         "range": [
          -0.5,
          9.5
         ],
         "title": {
          "text": "Gene"
         },
         "type": "category"
        }
       }
      },
      "image/png": "[encoded data removed]",
      "text/html": [
       "<div>                            <div id=\"80e9675d-999a-478d-ad2d-799fe71914d6\" class=\"plotly-graph-div\" style=\"height:400px; width:800px;\"></div>            <script type=\"text/javascript\">                require([\"plotly\"], function(Plotly) {                    window.PLOTLYENV=window.PLOTLYENV || {};                                    if (document.getElementById(\"80e9675d-999a-478d-ad2d-799fe71914d6\")) {                    Plotly.newPlot(                        \"80e9675d-999a-478d-ad2d-799fe71914d6\",                        [{\"alignmentgroup\":\"True\",\"hovertemplate\":\"Importance Score=%{marker.color}\\u003cbr\\u003eGene=%{y}\\u003cextra\\u003e\\u003c\\u002fextra\\u003e\",\"legendgroup\":\"\",\"marker\":{\"color\":[12.505594253540039,12.463274955749512,12.431381225585938,12.426156044006348,12.415079116821289,12.414715766906738,12.413989067077637,12.41264820098877,12.410856246948242,12.410382270812988],\"coloraxis\":\"coloraxis\",\"pattern\":{\"shape\":\"\"}},\"name\":\"\",\"offsetgroup\":\"\",\"orientation\":\"h\",\"showlegend\":false,\"textposition\":\"auto\",\"x\":[12.505594253540039,12.463274955749512,12.431381225585938,12.426156044006348,12.415079116821289,12.414715766906738,12.413989067077637,12.41264820098877,12.410856246948242,12.410382270812988],\"xaxis\":\"x\",\"y\":[\"AGMAT\",\"IL1F7.1\",\"NEK4\",\"MX2.1\",\"RNF8\",\"CDH7\",\"RCBTB1.1\",\"H2AFY.1\",\"SPAST.1\",\"CIC\"],\"yaxis\":\"y\",\"type\":\"bar\"}],                        {\"template\":{\"data\":{\"barpolar\":[{\"marker\":{\"line\":{\"color\":\"white\",\"width\":0.5},\"pattern\":{\"fillmode\":\"overlay\",\"size\":10,\"solidity\":0.2}},\"type\":\"barpolar\"}],\"bar\":[{\"error_x\":{\"color\":\"#2a3f5f\"},\"error_y\":{\"color\":\"#2a3f5f\"},\"marker\":{\"line\":{\"color\":\"white\",\"width\":0.5},\"pattern\":{\"fillmode\":\"overlay\",\"size\":10,\"solidity\":0.2}},\"type\":\"bar\"}],\"carpet\":[{\"aaxis\":{\"endlinecolor\":\"#2a3f5f\",\"gridcolor\":\"#C8D4E3\",\"linecolor\":\"#C8D4E3\",\"minorgridcolor\":\"#C8D4E3\",\"startlinecolor\":\"#2a3f5f\"},\"baxis\":{\"endlinecolor\":\"#2a3f5f\",\"gridcolor\":\"#C8D4E3\",\"linecolor\":\"#C8D4E3\",\"minorgridcolor\":\"#C8D4E3\",\"startlinecolor\":\"#2a3f5f\"},\"type\":\"carpet\"}],\"choropleth\":[{\"colorbar\":{\"outlinewidth\":0,\"ticks\":\"\"},\"type\":\"choropleth\"}],\"contourcarpet\":[{\"colorbar\":{\"outlinewidth\":0,\"ticks\":\"\"},\"type\":\"contourcarpet\"}],\"contour\":[{\"colorbar\":{\"outlinewidth\":0,\"ticks\":\"\"},\"colorscale\":[[0.0,\"#0d0887\"],[0.1111111111111111,\"#46039f\"],[0.2222222222222222,\"#7201a8\"],[0.3333333333333333,\"#9c179e\"],[0.4444444444444444,\"#bd3786\"],[0.5555555555555556,\"#d8576b\"],[0.6666666666666666,\"#ed7953\"],[0.7777777777777778,\"#fb9f3a\"],[0.8888888888888888,\"#fdca26\"],[1.0,\"#f0f921\"]],\"type\":\"contour\"}],\"heatmapgl\":[{\"colorbar\":{\"outlinewidth\":0,\"ticks\":\"\"},\"colorscale\":[[0.0,\"#0d0887\"],[0.1111111111111111,\"#46039f\"],[0.2222222222222222,\"#7201a8\"],[0.3333333333333333,\"#9c179e\"],[0.4444444444444444,\"#bd3786\"],[0.5555555555555556,\"#d8576b\"],[0.6666666666666666,\"#ed7953\"],[0.7777777777777778,\"#fb9f3a\"],[0.8888888888888888,\"#fdca26\"],[1.0,\"#f0f921\"]],\"type\":\"heatmapgl\"}],\"heatmap\":[{\"colorbar\":{\"outlinewidth\":0,\"ticks\":\"\"},\"colorscale\":[[0.0,\"#0d0887\"],[0.1111111111111111,\"#46039f\"],[0.2222222222222222,\"#7201a8\"],[0.3333333333333333,\"#9c179e\"],[0.4444444444444444,\"#bd3786\"],[0.5555555555555556,\"#d8576b\"],[0.6666666666666666,\"#ed7953\"],[0.7777777777777778,\"#fb9f3a\"],[0.8888888888888888,\"#fdca26\"],[1.0,\"#f0f921\"]],\"type\":\"heatmap\"}],\"histogram2dcontour\":[{\"colorbar\":{\"outlinewidth\":0,\"ticks\":\"\"},\"colorscale\":[[0.0,\"#0d0887\"],[0.1111111111111111,\"#46039f\"],[0.2222222222222222,\"#7201a8\"],[0.3333333333333333,\"#9c179e\"],[0.4444444444444444,\"#bd3786\"],[0.5555555555555556,\"#d8576b\"],[0.6666666666666666,\"#ed7953\"],[0.7777777777777778,\"#fb9f3a\"],[0.8888888888888888,\"#fdca26\"],[1.0,\"#f0f921\"]],\"type\":\"histogram2dcontour\"}],\"histogram2d\":[{\"colorbar\":{\"outlinewidth\":0,\"ticks\":\"\"},\"colorscale\":[[0.0,\"#0d0887\"],[0.1111111111111111,\"#46039f\"],[0.2222222222222222,\"#7201a8\"],[0.3333333333333333,\"#9c179e\"],[0.4444444444444444,\"#bd3786\"],[0.5555555555555556,\"#d8576b\"],[0.6666666666666666,\"#ed7953\"],[0.7777777777777778,\"#fb9f3a\"],[0.8888888888888888,\"#fdca26\"],[1.0,\"#f0f921\"]],\"type\":\"histogram2d\"}],\"histogram\":[{\"marker\":{\"pattern\":{\"fillmode\":\"overlay\",\"size\":10,\"solidity\":0.2}},\"type\":\"histogram\"}],\"mesh3d\":[{\"colorbar\":{\"outlinewidth\":0,\"ticks\":\"\"},\"type\":\"mesh3d\"}],\"parcoords\":[{\"line\":{\"colorbar\":{\"outlinewidth\":0,\"ticks\":\"\"}},\"type\":\"parcoords\"}],\"pie\":[{\"automargin\":true,\"type\":\"pie\"}],\"scatter3d\":[{\"line\":{\"colorbar\":{\"outlinewidth\":0,\"ticks\":\"\"}},\"marker\":{\"colorbar\":{\"outlinewidth\":0,\"ticks\":\"\"}},\"type\":\"scatter3d\"}],\"scattercarpet\":[{\"marker\":{\"colorbar\":{\"outlinewidth\":0,\"ticks\":\"\"}},\"type\":\"scattercarpet\"}],\"scattergeo\":[{\"marker\":{\"colorbar\":{\"outlinewidth\":0,\"ticks\":\"\"}},\"type\":\"scattergeo\"}],\"scattergl\":[{\"marker\":{\"colorbar\":{\"outlinewidth\":0,\"ticks\":\"\"}},\"type\":\"scattergl\"}],\"scattermapbox\":[{\"marker\":{\"colorbar\":{\"outlinewidth\":0,\"ticks\":\"\"}},\"type\":\"scattermapbox\"}],\"scatterpolargl\":[{\"marker\":{\"colorbar\":{\"outlinewidth\":0,\"ticks\":\"\"}},\"type\":\"scatterpolargl\"}],\"scatterpolar\":[{\"marker\":{\"colorbar\":{\"outlinewidth\":0,\"ticks\":\"\"}},\"type\":\"scatterpolar\"}],\"scatter\":[{\"fillpattern\":{\"fillmode\":\"overlay\",\"size\":10,\"solidity\":0.2},\"type\":\"scatter\"}],\"scatterternary\":[{\"marker\":{\"colorbar\":{\"outlinewidth\":0,\"ticks\":\"\"}},\"type\":\"scatterternary\"}],\"surface\":[{\"colorbar\":{\"outlinewidth\":0,\"ticks\":\"\"},\"colorscale\":[[0.0,\"#0d0887\"],[0.1111111111111111,\"#46039f\"],[0.2222222222222222,\"#7201a8\"],[0.3333333333333333,\"#9c179e\"],[0.4444444444444444,\"#bd3786\"],[0.5555555555555556,\"#d8576b\"],[0.6666666666666666,\"#ed7953\"],[0.7777777777777778,\"#fb9f3a\"],[0.8888888888888888,\"#fdca26\"],[1.0,\"#f0f921\"]],\"type\":\"surface\"}],\"table\":[{\"cells\":{\"fill\":{\"color\":\"#EBF0F8\"},\"line\":{\"color\":\"white\"}},\"header\":{\"fill\":{\"color\":\"#C8D4E3\"},\"line\":{\"color\":\"white\"}},\"type\":\"table\"}]},\"layout\":{\"annotationdefaults\":{\"arrowcolor\":\"#2a3f5f\",\"arrowhead\":0,\"arrowwidth\":1},\"autotypenumbers\":\"strict\",\"coloraxis\":{\"colorbar\":{\"outlinewidth\":0,\"ticks\":\"\"}},\"colorscale\":{\"diverging\":[[0,\"#8e0152\"],[0.1,\"#c51b7d\"],[0.2,\"#de77ae\"],[0.3,\"#f1b6da\"],[0.4,\"#fde0ef\"],[0.5,\"#f7f7f7\"],[0.6,\"#e6f5d0\"],[0.7,\"#b8e186\"],[0.8,\"#7fbc41\"],[0.9,\"#4d9221\"],[1,\"#276419\"]],\"sequential\":[[0.0,\"#0d0887\"],[0.1111111111111111,\"#46039f\"],[0.2222222222222222,\"#7201a8\"],[0.3333333333333333,\"#9c179e\"],[0.4444444444444444,\"#bd3786\"],[0.5555555555555556,\"#d8576b\"],[0.6666666666666666,\"#ed7953\"],[0.7777777777777778,\"#fb9f3a\"],[0.8888888888888888,\"#fdca26\"],[1.0,\"#f0f921\"]],\"sequentialminus\":[[0.0,\"#0d0887\"],[0.1111111111111111,\"#46039f\"],[0.2222222222222222,\"#7201a8\"],[0.3333333333333333,\"#9c179e\"],[0.4444444444444444,\"#bd3786\"],[0.5555555555555556,\"#d8576b\"],[0.6666666666666666,\"#ed7953\"],[0.7777777777777778,\"#fb9f3a\"],[0.8888888888888888,\"#fdca26\"],[1.0,\"#f0f921\"]]},\"colorway\":[\"#636efa\",\"#EF553B\",\"#00cc96\",\"#ab63fa\",\"#FFA15A\",\"#19d3f3\",\"#FF6692\",\"#B6E880\",\"#FF97FF\",\"#FECB52\"],\"font\":{\"color\":\"#2a3f5f\"},\"geo\":{\"bgcolor\":\"white\",\"lakecolor\":\"white\",\"landcolor\":\"white\",\"showlakes\":true,\"showland\":true,\"subunitcolor\":\"#C8D4E3\"},\"hoverlabel\":{\"align\":\"left\"},\"hovermode\":\"closest\",\"mapbox\":{\"style\":\"light\"},\"paper_bgcolor\":\"white\",\"plot_bgcolor\":\"white\",\"polar\":{\"angularaxis\":{\"gridcolor\":\"#EBF0F8\",\"linecolor\":\"#EBF0F8\",\"ticks\":\"\"},\"bgcolor\":\"white\",\"radialaxis\":{\"gridcolor\":\"#EBF0F8\",\"linecolor\":\"#EBF0F8\",\"ticks\":\"\"}},\"scene\":{\"xaxis\":{\"backgroundcolor\":\"white\",\"gridcolor\":\"#DFE8F3\",\"gridwidth\":2,\"linecolor\":\"#EBF0F8\",\"showbackground\":true,\"ticks\":\"\",\"zerolinecolor\":\"#EBF0F8\"},\"yaxis\":{\"backgroundcolor\":\"white\",\"gridcolor\":\"#DFE8F3\",\"gridwidth\":2,\"linecolor\":\"#EBF0F8\",\"showbackground\":true,\"ticks\":\"\",\"zerolinecolor\":\"#EBF0F8\"},\"zaxis\":{\"backgroundcolor\":\"white\",\"gridcolor\":\"#DFE8F3\",\"gridwidth\":2,\"linecolor\":\"#EBF0F8\",\"showbackground\":true,\"ticks\":\"\",\"zerolinecolor\":\"#EBF0F8\"}},\"shapedefaults\":{\"line\":{\"color\":\"#2a3f5f\"}},\"ternary\":{\"aaxis\":{\"gridcolor\":\"#DFE8F3\",\"linecolor\":\"#A2B1C6\",\"ticks\":\"\"},\"baxis\":{\"gridcolor\":\"#DFE8F3\",\"linecolor\":\"#A2B1C6\",\"ticks\":\"\"},\"bgcolor\":\"white\",\"caxis\":{\"gridcolor\":\"#DFE8F3\",\"linecolor\":\"#A2B1C6\",\"ticks\":\"\"}},\"title\":{\"x\":0.05},\"xaxis\":{\"automargin\":true,\"gridcolor\":\"#EBF0F8\",\"linecolor\":\"#EBF0F8\",\"ticks\":\"\",\"title\":{\"standoff\":15},\"zerolinecolor\":\"#EBF0F8\",\"zerolinewidth\":2},\"yaxis\":{\"automargin\":true,\"gridcolor\":\"#EBF0F8\",\"linecolor\":\"#EBF0F8\",\"ticks\":\"\",\"title\":{\"standoff\":15},\"zerolinecolor\":\"#EBF0F8\",\"zerolinewidth\":2}}},\"xaxis\":{\"anchor\":\"y\",\"domain\":[0.0,1.0],\"title\":{\"text\":\"Importance Score\"}},\"yaxis\":{\"anchor\":\"x\",\"domain\":[0.0,1.0],\"title\":{\"text\":\"Gene\"}},\"coloraxis\":{\"colorbar\":{\"title\":{\"text\":\"Importance Score\"}},\"colorscale\":[[0.0,\"#440154\"],[0.1111111111111111,\"#482878\"],[0.2222222222222222,\"#3e4989\"],[0.3333333333333333,\"#31688e\"],[0.4444444444444444,\"#26828e\"],[0.5555555555555556,\"#1f9e89\"],[0.6666666666666666,\"#35b779\"],[0.7777777777777778,\"#6ece58\"],[0.8888888888888888,\"#b5de2b\"],[1.0,\"#fde725\"]]},\"legend\":{\"tracegroupgap\":0},\"title\":{\"text\":\"Top 10 Most Important Genes\"},\"barmode\":\"relative\",\"width\":800,\"height\":400},                        {\"responsive\": true}                    ).then(function(){\n",
       "                            \n",
       "var gd = document.getElementById('80e9675d-999a-478d-ad2d-799fe71914d6');\n",
       "var x = new MutationObserver(function (mutations, observer) {{\n",
       "        var display = window.getComputedStyle(gd).display;\n",
       "        if (!display || display === 'none') {{\n",
       "            console.log([gd, 'removed!']);\n",
       "            Plotly.purge(gd);\n",
       "            observer.disconnect();\n",
       "        }}\n",
       "}});\n",
       "\n",
       "// Listen for the removal of the full notebook cells\n",
       "var notebookContainer = gd.closest('#notebook-container');\n",
       "if (notebookContainer) {{\n",
       "    x.observe(notebookContainer, {childList: true});\n",
       "}}\n",
       "\n",
       "// Listen for the clearing of the current output cell\n",
       "var outputEl = gd.closest('.output');\n",
       "if (outputEl) {{\n",
       "    x.observe(outputEl, {childList: true});\n",
       "}}\n",
       "\n",
       "                        })                };                });            </script>        </div>"
      ]
     },
     "metadata": {},
     "output_type": "display_data"
    }
   ],
   "source": [
    "fig_expnode = plotly_featureimportance_from_gnnexplainer(explanation, genes, top_k = 10)\n",
    "fig_expnode"
   ]
  },
  {
   "cell_type": "code",
   "execution_count": null,
   "metadata": {},
   "outputs": [],
   "source": []
  },
  {
   "cell_type": "code",
   "execution_count": null,
   "metadata": {},
   "outputs": [],
   "source": []
  },
  {
   "cell_type": "code",
   "execution_count": 400,
   "metadata": {},
   "outputs": [],
   "source": [
    "#!pip install dash_cytoscape"
   ]
  },
  {
   "cell_type": "code",
   "execution_count": 252,
   "metadata": {
    "scrolled": true
   },
   "outputs": [
    {
     "data": {
      "text/plain": [
       "['GSM928410',\n",
       " 'GSM928411',\n",
       " 'GSM928412',\n",
       " 'GSM928413',\n",
       " 'GSM928414',\n",
       " 'GSM928415',\n",
       " 'GSM928416',\n",
       " 'GSM928417',\n",
       " 'GSM928418',\n",
       " 'GSM928419',\n",
       " 'GSM928420',\n",
       " 'GSM928421',\n",
       " 'GSM928422',\n",
       " 'GSM928423',\n",
       " 'GSM928424',\n",
       " 'GSM928425',\n",
       " 'GSM928426',\n",
       " 'GSM928427',\n",
       " 'GSM928428',\n",
       " 'GSM928429',\n",
       " 'GSM928430',\n",
       " 'GSM928431',\n",
       " 'GSM928432',\n",
       " 'GSM928433']"
      ]
     },
     "execution_count": 252,
     "metadata": {},
     "output_type": "execute_result"
    }
   ],
   "source": [
    "import json \n",
    "patients = list(expr.index)\n",
    "patients "
   ]
  },
  {
   "cell_type": "code",
   "execution_count": 253,
   "metadata": {},
   "outputs": [],
   "source": [
    "map_final = {0: \"Control\", 1: \"Anomalous\"}"
   ]
  },
  {
   "cell_type": "code",
   "execution_count": 254,
   "metadata": {},
   "outputs": [
    {
     "data": {
      "text/plain": [
       "[{'data': {'id': 'GSM928410',\n",
       "   'label': 'GSM928410',\n",
       "   'prediction': 'Control',\n",
       "   'classes': 'Control'},\n",
       "  'classes': 'Control'},\n",
       " {'data': {'id': 'GSM928411',\n",
       "   'label': 'GSM928411',\n",
       "   'prediction': 'Control',\n",
       "   'classes': 'Control'},\n",
       "  'classes': 'Control'},\n",
       " {'data': {'id': 'GSM928412',\n",
       "   'label': 'GSM928412',\n",
       "   'prediction': 'Anomalous',\n",
       "   'classes': 'Control'},\n",
       "  'classes': 'Control'},\n",
       " {'data': {'id': 'GSM928413',\n",
       "   'label': 'GSM928413',\n",
       "   'prediction': 'Control',\n",
       "   'classes': 'Control'},\n",
       "  'classes': 'Control'},\n",
       " {'data': {'id': 'GSM928414',\n",
       "   'label': 'GSM928414',\n",
       "   'prediction': 'Anomalous',\n",
       "   'classes': 'Control'},\n",
       "  'classes': 'Control'}]"
      ]
     },
     "execution_count": 254,
     "metadata": {},
     "output_type": "execute_result"
    }
   ],
   "source": [
    "nodes = []\n",
    "for i, patient in enumerate(patients):\n",
    "    target = map_final[y[i].item()]\n",
    "    pred = map_final[preds[i].item()]  \n",
    "    nodes.append({'data': {'id': patient, 'label': patient, 'prediction': pred, 'classes': target}, 'classes': target})\n",
    "nodes[:5]"
   ]
  },
  {
   "cell_type": "code",
   "execution_count": 255,
   "metadata": {},
   "outputs": [
    {
     "data": {
      "text/plain": [
       "[('GSM928410', 'GSM928410'),\n",
       " ('GSM928410', 'GSM928411'),\n",
       " ('GSM928410', 'GSM928412'),\n",
       " ('GSM928410', 'GSM928413'),\n",
       " ('GSM928410', 'GSM928414')]"
      ]
     },
     "execution_count": 255,
     "metadata": {},
     "output_type": "execute_result"
    }
   ],
   "source": [
    "edge_list[:5]"
   ]
  },
  {
   "cell_type": "code",
   "execution_count": 256,
   "metadata": {},
   "outputs": [
    {
     "data": {
      "text/plain": [
       "[{'data': {'source': 'GSM928431',\n",
       "   'target': 'GSM928428',\n",
       "   'weight': 0.9501838684082031}},\n",
       " {'data': {'source': 'GSM928431',\n",
       "   'target': 'GSM928429',\n",
       "   'weight': 0.9350849986076355}},\n",
       " {'data': {'source': 'GSM928432',\n",
       "   'target': 'GSM928418',\n",
       "   'weight': 0.9340389966964722}},\n",
       " {'data': {'source': 'GSM928432',\n",
       "   'target': 'GSM928423',\n",
       "   'weight': 0.9300089478492737}},\n",
       " {'data': {'source': 'GSM928432',\n",
       "   'target': 'GSM928430',\n",
       "   'weight': 0.9343409538269043}}]"
      ]
     },
     "execution_count": 256,
     "metadata": {},
     "output_type": "execute_result"
    }
   ],
   "source": [
    "edges = []\n",
    "for i, edge in enumerate(edge_list):\n",
    "    patient1, patient2 = edge\n",
    "    weight = edge_weights[i]\n",
    "    if patient1 != patient2:\n",
    "        edges.append({'data': {'source': patient1, 'target': patient2, 'weight': weight.item()}})\n",
    "edges[-5:]"
   ]
  },
  {
   "cell_type": "code",
   "execution_count": 315,
   "metadata": {
    "scrolled": true
   },
   "outputs": [],
   "source": [
    "import dash_cytoscape as cyto\n",
    "from dash import Dash, html, Input, Output, State, callback, dcc\n",
    "\n",
    "app = Dash(__name__)\n",
    "\n",
    "default_stylesheet = [\n",
    "    {\n",
    "        'selector': 'node',\n",
    "        'style': {\n",
    "            'content': 'data(label)'\n",
    "         }\n",
    "    },\n",
    "    {\n",
    "        'selector': 'edge',\n",
    "        'style': {\n",
    "            'line-color': '#A3C4BC'\n",
    "        }\n",
    "    },\n",
    "      # Class selectors\n",
    "    {\n",
    "        'selector': '.Anomalous',\n",
    "            'style': {\n",
    "                'background-color': 'red',\n",
    "            }\n",
    "        },\n",
    "        {\n",
    "            'selector': '.Control',\n",
    "                'style': {\n",
    "                    'background-color': 'green',\n",
    "            }\n",
    "        }\n",
    "]\n",
    "\n",
    "styles = {\n",
    "    'pre': {\n",
    "        'border': 'thin lightgrey solid',\n",
    "        'overflowX': 'scroll'\n",
    "    }\n",
    "}\n",
    "\n",
    "@callback(Output('network', 'layout'),\n",
    "              Input('dropdown-update-layout', 'value'))\n",
    "def update_layout(layout):\n",
    "    return {\n",
    "        'name': layout,\n",
    "        'animate': True\n",
    "    }\n",
    "\n",
    "@callback(Output('network', 'elements'),\n",
    "         Input('btn-add-node', 'n_clicks_timestamp'),\n",
    "         Input('btn-remove-node', 'n_clicks_timestamp'),\n",
    "         State('network', 'elements'),\n",
    "         prevent_initial_call = True)\n",
    "def update_elements(btn_add, btn_remove, elements):\n",
    "    current_nodes, deleted_nodes = get_current_and_deleted_nodes(elements)\n",
    "    # If the add button was clicked most recently and there are nodes to add\n",
    "    if int(btn_add) > int(btn_remove) and len(deleted_nodes):\n",
    "\n",
    "        # We pop one node from deleted nodes and append it to nodes list.\n",
    "        current_nodes.append(deleted_nodes.pop())\n",
    "        # Get valid edges -- both source and target nodes are in the current graph\n",
    "        cy_edges = get_current_valid_edges(current_nodes, edges)\n",
    "        return cy_edges + current_nodes\n",
    "\n",
    "    # If the remove button was clicked most recently and there are nodes to remove\n",
    "    elif int(btn_remove) > int(btn_add) and len(current_nodes):\n",
    "            current_nodes.pop()\n",
    "            cy_edges = get_current_valid_edges(current_nodes, edges)\n",
    "            return cy_edges + current_nodes\n",
    "\n",
    "    # Neither have been clicked yet (or fallback condition)\n",
    "    return elements\n",
    "\n",
    "def get_current_valid_edges(current_nodes, all_edges):\n",
    "    \"\"\"Returns edges that are present in Cytoscape:\n",
    "    its source and target nodes are still present in the graph.\n",
    "    \"\"\"\n",
    "    valid_edges = []\n",
    "    node_ids = {n['data']['id'] for n in current_nodes}\n",
    "\n",
    "    for e in all_edges:\n",
    "        if e['data']['source'] in node_ids and e['data']['target'] in node_ids:\n",
    "            valid_edges.append(e)\n",
    "    return valid_edges\n",
    "\n",
    "def get_current_and_deleted_nodes(elements):\n",
    "    \"\"\"Returns nodes that are present in Cytoscape and the deleted nodes\n",
    "    \"\"\"\n",
    "    current_nodes = []\n",
    "    deleted_nodes = []\n",
    "\n",
    "    # get current graph nodes\n",
    "    for ele in elements:\n",
    "        # if the element is a node\n",
    "        if 'source' not in ele['data']:\n",
    "            current_nodes.append(ele)\n",
    "\n",
    "    # get deleted nodes\n",
    "    node_ids = {n['data']['id'] for n in current_nodes}\n",
    "    for n in nodes:\n",
    "        if n['data']['id'] not in node_ids:\n",
    "            deleted_nodes.append(n)\n",
    "\n",
    "    return current_nodes, deleted_nodes\n",
    "\n",
    "\n",
    "@callback(Output('cytoscape-tapEdgeData-json', 'children'),\n",
    "          Input('network', 'tapEdgeData'),\n",
    "          prevent_initial_call = True)\n",
    "def displayTapEdgeData(data):\n",
    "    if data:\n",
    "        return \"You recently clicked/tapped the edge between \" + \\\n",
    "               data['source'].upper() + \" and \" + data['target'].upper() + \" with weight: \" + str(data['weight'])\n",
    "    else:\n",
    "        return \"Click one edge to visualize its information\""
   ]
  },
  {
   "cell_type": "code",
   "execution_count": 316,
   "metadata": {},
   "outputs": [],
   "source": [
    "#on click node: show explainability results\n",
    "app.layout = html.Div([\n",
    "    dcc.Dropdown(\n",
    "        id='dropdown-update-layout',\n",
    "        value='grid',\n",
    "        clearable=False,\n",
    "        options=[\n",
    "            {'label': name.capitalize(), 'value': name}\n",
    "            for name in ['grid', 'random', 'circle', 'cose', 'concentric', 'breadthfirst']\n",
    "        ]\n",
    "    ),\n",
    "    html.Div([\n",
    "        html.Button('Add Node', id='btn-add-node', n_clicks_timestamp=0),\n",
    "        html.Button('Remove Node', id='btn-remove-node', n_clicks_timestamp=0)\n",
    "    ]),\n",
    "    html.P(\"Network:\"),\n",
    "    cyto.Cytoscape(\n",
    "        id='network',\n",
    "        elements=edges+nodes,\n",
    "        layout={'name': 'breadthfirst'},\n",
    "        style={'width': '800px', 'height': '300px'},\n",
    "        stylesheet=default_stylesheet,\n",
    "        responsive=True\n",
    "    ),\n",
    "    html.Pre(id='cytoscape-tapNodeData-json', children = \"Click one node get more information\", style=styles['pre']),\n",
    "    html.Pre(id='cytoscape-tapEdgeData-json', children = \"Click one edge to visualize its information\", style=styles['pre']),\n",
    "    dcc.Graph(\n",
    "            id='exp-node', \n",
    "    ),\n",
    "    html.P(\"Subgraph:\"),\n",
    "    cyto.Cytoscape(\n",
    "        id='subnetwork',\n",
    "        elements=edges+nodes,\n",
    "        layout={'name': 'breadthfirst'},\n",
    "        style={'width': '400px', 'height': '400px'},\n",
    "        stylesheet=default_stylesheet,\n",
    "        responsive=True\n",
    "    ),\n",
    "])"
   ]
  },
  {
   "cell_type": "code",
   "execution_count": 317,
   "metadata": {},
   "outputs": [],
   "source": [
    "def get_subgraph(node_data, nodes, edges):\n",
    "    node = node_data[\"id\"]\n",
    "    nodes_adj = [{\"data\": node_data}]\n",
    "    edges_adj = []\n",
    "    nodes_idxs = [node[\"data\"][\"id\"] for node in nodes]\n",
    "    nodes_idxs = np.array(nodes_idxs)\n",
    "        \n",
    "    for i, edge in enumerate(edges):\n",
    "        #print(i+1, \"/\", len(edges), end = \"\\r\")\n",
    "        node1 = edge[\"data\"][\"source\"]\n",
    "        node2 = edge[\"data\"][\"target\"]\n",
    "        if node1 == node or node2 == node:\n",
    "            edges_adj.append(edge)\n",
    "\n",
    "    for i, edge in enumerate(edges_adj):\n",
    "        #print(i+1, \"/\", len(edges_adj), end = \"\\r\")\n",
    "        node1 = edge[\"data\"][\"source\"]\n",
    "        node2 = edge[\"data\"][\"target\"]\n",
    "        if node1 != node:\n",
    "            node1_idx = np.argwhere(nodes_idxs == node1)[0][0]\n",
    "            node1_data = nodes[node1_idx]\n",
    "            nodes_adj.append(node1_data)\n",
    "        elif node2 != node:\n",
    "            node2_idx = np.argwhere(nodes_idxs == node2)[0][0]\n",
    "            node2_data = nodes[node2_idx]\n",
    "            nodes_adj.append(node2_data)\n",
    "\n",
    "    print(len(nodes_adj), len(nodes))\n",
    "    print(len(edges_adj), len(edges))\n",
    "    elements = nodes_adj + edges_adj \n",
    "    return elements"
   ]
  },
  {
   "cell_type": "code",
   "execution_count": 318,
   "metadata": {},
   "outputs": [
    {
     "name": "stdout",
     "output_type": "stream",
     "text": [
      "11 24\n",
      "10 176\n"
     ]
    },
    {
     "data": {
      "text/plain": [
       "[{'data': {'id': 'GSM928414',\n",
       "   'label': 'GSM928414',\n",
       "   'prediction': 'Anomalous',\n",
       "   'classes': 'Control'}},\n",
       " {'data': {'id': 'GSM928410',\n",
       "   'label': 'GSM928410',\n",
       "   'prediction': 'Control',\n",
       "   'classes': 'Control'},\n",
       "  'classes': 'Control'},\n",
       " {'data': {'id': 'GSM928411',\n",
       "   'label': 'GSM928411',\n",
       "   'prediction': 'Control',\n",
       "   'classes': 'Control'},\n",
       "  'classes': 'Control'},\n",
       " {'data': {'id': 'GSM928412',\n",
       "   'label': 'GSM928412',\n",
       "   'prediction': 'Anomalous',\n",
       "   'classes': 'Control'},\n",
       "  'classes': 'Control'},\n",
       " {'data': {'id': 'GSM928413',\n",
       "   'label': 'GSM928413',\n",
       "   'prediction': 'Control',\n",
       "   'classes': 'Control'},\n",
       "  'classes': 'Control'},\n",
       " {'data': {'id': 'GSM928410',\n",
       "   'label': 'GSM928410',\n",
       "   'prediction': 'Control',\n",
       "   'classes': 'Control'},\n",
       "  'classes': 'Control'},\n",
       " {'data': {'id': 'GSM928411',\n",
       "   'label': 'GSM928411',\n",
       "   'prediction': 'Control',\n",
       "   'classes': 'Control'},\n",
       "  'classes': 'Control'},\n",
       " {'data': {'id': 'GSM928412',\n",
       "   'label': 'GSM928412',\n",
       "   'prediction': 'Anomalous',\n",
       "   'classes': 'Control'},\n",
       "  'classes': 'Control'},\n",
       " {'data': {'id': 'GSM928413',\n",
       "   'label': 'GSM928413',\n",
       "   'prediction': 'Control',\n",
       "   'classes': 'Control'},\n",
       "  'classes': 'Control'},\n",
       " {'data': {'id': 'GSM928415',\n",
       "   'label': 'GSM928415',\n",
       "   'prediction': 'Anomalous',\n",
       "   'classes': 'Control'},\n",
       "  'classes': 'Control'},\n",
       " {'data': {'id': 'GSM928415',\n",
       "   'label': 'GSM928415',\n",
       "   'prediction': 'Anomalous',\n",
       "   'classes': 'Control'},\n",
       "  'classes': 'Control'},\n",
       " {'data': {'source': 'GSM928410',\n",
       "   'target': 'GSM928414',\n",
       "   'weight': 0.970986545085907}},\n",
       " {'data': {'source': 'GSM928411',\n",
       "   'target': 'GSM928414',\n",
       "   'weight': 0.9821271896362305}},\n",
       " {'data': {'source': 'GSM928412',\n",
       "   'target': 'GSM928414',\n",
       "   'weight': 0.9811248183250427}},\n",
       " {'data': {'source': 'GSM928413',\n",
       "   'target': 'GSM928414',\n",
       "   'weight': 0.9748378992080688}},\n",
       " {'data': {'source': 'GSM928414',\n",
       "   'target': 'GSM928410',\n",
       "   'weight': 0.970986545085907}},\n",
       " {'data': {'source': 'GSM928414',\n",
       "   'target': 'GSM928411',\n",
       "   'weight': 0.9821271896362305}},\n",
       " {'data': {'source': 'GSM928414',\n",
       "   'target': 'GSM928412',\n",
       "   'weight': 0.9811248183250427}},\n",
       " {'data': {'source': 'GSM928414',\n",
       "   'target': 'GSM928413',\n",
       "   'weight': 0.9748378992080688}},\n",
       " {'data': {'source': 'GSM928414',\n",
       "   'target': 'GSM928415',\n",
       "   'weight': 0.9820157885551453}},\n",
       " {'data': {'source': 'GSM928415',\n",
       "   'target': 'GSM928414',\n",
       "   'weight': 0.9820157885551453}}]"
      ]
     },
     "execution_count": 318,
     "metadata": {},
     "output_type": "execute_result"
    }
   ],
   "source": [
    "get_subgraph(nodes[4][\"data\"], nodes, edges)"
   ]
  },
  {
   "cell_type": "code",
   "execution_count": 319,
   "metadata": {},
   "outputs": [],
   "source": [
    "@callback(Output('exp-node', 'figure'),\n",
    "          Input('network', 'tapNodeData'),\n",
    "          prevent_initial_call = True\n",
    "          )\n",
    "def updateExpOnTapNode(node_data):\n",
    "\n",
    "    global edges \n",
    "    global nodes \n",
    "    global genes \n",
    "    global node_mapping \n",
    "    \n",
    "    if node_data:\n",
    "\n",
    "        node = node_data[\"id\"]\n",
    "        id = node_mapping[node]\n",
    "        fig = plotly_featureimportance_from_gnnexplainer(id, genes)\n",
    "        return fig\n",
    "\n",
    "@callback(\n",
    "          Output('subnetwork', 'elements'),\n",
    "          Input('network', 'tapNodeData'),\n",
    "          prevent_initial_call = True\n",
    "          )\n",
    "def updateSubgraphOnTapNode(node_data):\n",
    "\n",
    "    global edges \n",
    "    global nodes \n",
    "    global genes \n",
    "    global node_mapping \n",
    "    \n",
    "    if node_data:\n",
    "\n",
    "        node = node_data[\"id\"]\n",
    "        elements = get_subgraph(node_data, nodes, edges)\n",
    "        return elements\n",
    "\n",
    "@callback(Output('cytoscape-tapNodeData-json', 'children'),\n",
    "          Input('network', 'tapNodeData'),\n",
    "          prevent_initial_call = True\n",
    "          )\n",
    "def displayTextOnTapNode(node_data):\n",
    "    if node_data:\n",
    "        text = json.dumps(node_data, indent=2)\n",
    "    else:\n",
    "        text = json.dumps('Click a node to get more information')\n",
    "    return text"
   ]
  },
  {
   "cell_type": "code",
   "execution_count": 320,
   "metadata": {},
   "outputs": [
    {
     "data": {
      "text/html": [
       "\n",
       "        <iframe\n",
       "            width=\"100%\"\n",
       "            height=\"650\"\n",
       "            src=\"http://127.0.0.1:8050/\"\n",
       "            frameborder=\"0\"\n",
       "            allowfullscreen\n",
       "            \n",
       "        ></iframe>\n",
       "        "
      ],
      "text/plain": [
       "<IPython.lib.display.IFrame at 0x1e7498e0520>"
      ]
     },
     "metadata": {},
     "output_type": "display_data"
    },
    {
     "name": "stdout",
     "output_type": "stream",
     "text": [
      "CALL\n",
      "13 24\n",
      "12 176\n",
      "Test: Loss I 1374.9580 | Loss O 4.1667 | \n",
      "ENDCALL  tensor([1.0000, 1.0000, 1.0000, 1.0000, 1.0000, 1.0000, 1.0000, 1.0000, 1.0000,\n",
      "        1.0000, 1.0000, 0.2975, 1.0000, 1.0000, 1.0000, 1.0000, 1.0000, 1.0000,\n",
      "        1.0000, 1.0000, 1.0000, 1.0000, 1.0000, 1.0000])\n"
     ]
    }
   ],
   "source": [
    "app.run_server(debug=True)"
   ]
  },
  {
   "cell_type": "code",
   "execution_count": null,
   "metadata": {},
   "outputs": [],
   "source": []
  },
  {
   "cell_type": "code",
   "execution_count": 27,
   "metadata": {},
   "outputs": [],
   "source": [
    "def open_file_geo(filepath):\n",
    "    with open(filepath, 'r') as file:\n",
    "        lines = file.readlines()\n",
    "        skip_lines = None\n",
    "        for idx, line in enumerate(lines):\n",
    "            if line.split(\"\\t\")[0] == \"\\n\" and len(line.split(\"\\t\")) == 1:\n",
    "                skip_lines = idx\n",
    "                break\n",
    "    return skip_lines"
   ]
  },
  {
   "cell_type": "code",
   "execution_count": 31,
   "metadata": {},
   "outputs": [
    {
     "data": {
      "text/plain": [
       "28"
      ]
     },
     "execution_count": 31,
     "metadata": {},
     "output_type": "execute_result"
    }
   ],
   "source": [
    "open_file_geo('use_case/data/bladder_cancer/GSE37817-GPL8490_series_matrix.csv')"
   ]
  },
  {
   "cell_type": "code",
   "execution_count": 33,
   "metadata": {},
   "outputs": [
    {
     "data": {
      "text/plain": [
       "33"
      ]
     },
     "execution_count": 33,
     "metadata": {},
     "output_type": "execute_result"
    }
   ],
   "source": [
    "open_file_geo('use_case/data/celiac/GSE11501_series_matrix.txt')"
   ]
  },
  {
   "cell_type": "code",
   "execution_count": 35,
   "metadata": {},
   "outputs": [
    {
     "data": {
      "text/plain": [
       "30"
      ]
     },
     "execution_count": 35,
     "metadata": {},
     "output_type": "execute_result"
    }
   ],
   "source": [
    "open_file_geo('use_case/data/breast_cancer/GSE27562_series_matrix.txt')"
   ]
  }
 ],
 "metadata": {
  "accelerator": "GPU",
  "colab": {
   "gpuType": "T4",
   "provenance": []
  },
  "kernelspec": {
   "display_name": "Python 3 (ipykernel)",
   "language": "python",
   "name": "python3"
  },
  "language_info": {
   "codemirror_mode": {
    "name": "ipython",
    "version": 3
   },
   "file_extension": ".py",
   "mimetype": "text/x-python",
   "name": "python",
   "nbconvert_exporter": "python",
   "pygments_lexer": "ipython3",
   "version": "3.12.11"
  }
 },
 "nbformat": 4,
 "nbformat_minor": 4
}
