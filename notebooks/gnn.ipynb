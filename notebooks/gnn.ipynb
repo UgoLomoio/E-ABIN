{
 "cells": [
  {
   "cell_type": "code",
   "execution_count": 1,
   "metadata": {
    "colab": {
     "base_uri": "https://localhost:8080/"
    },
    "executionInfo": {
     "elapsed": 518,
     "status": "ok",
     "timestamp": 1726489091359,
     "user": {
      "displayName": "Ugo Lomoio",
      "userId": "00301874906270436685"
     },
     "user_tz": -120
    },
    "id": "fEpy-U1MleJp",
    "outputId": "51e3c2cd-0362-42ca-ee12-1f982c9a2f2f"
   },
   "outputs": [
    {
     "name": "stdout",
     "output_type": "stream",
     "text": [
      "Python 3.10.14\n"
     ]
    }
   ],
   "source": [
    "!python --version"
   ]
  },
  {
   "cell_type": "code",
   "execution_count": 2,
   "metadata": {},
   "outputs": [
    {
     "data": {
      "text/plain": [
       "0"
      ]
     },
     "execution_count": 2,
     "metadata": {},
     "output_type": "execute_result"
    }
   ],
   "source": [
    "import gc\n",
    "gc.collect()"
   ]
  },
  {
   "cell_type": "code",
   "execution_count": 3,
   "metadata": {
    "executionInfo": {
     "elapsed": 2,
     "status": "ok",
     "timestamp": 1726489091935,
     "user": {
      "displayName": "Ugo Lomoio",
      "userId": "00301874906270436685"
     },
     "user_tz": -120
    },
    "id": "bBHXxv9Pt5km"
   },
   "outputs": [],
   "source": [
    "in_colab = False"
   ]
  },
  {
   "cell_type": "code",
   "execution_count": 4,
   "metadata": {
    "colab": {
     "base_uri": "https://localhost:8080/"
    },
    "executionInfo": {
     "elapsed": 5059,
     "status": "ok",
     "timestamp": 1726489096992,
     "user": {
      "displayName": "Ugo Lomoio",
      "userId": "00301874906270436685"
     },
     "user_tz": -120
    },
    "id": "F-72JPpeuApI",
    "outputId": "39d6be49-2ab2-4b8c-eed0-178561feefbf"
   },
   "outputs": [],
   "source": [
    "if in_colab:\n",
    "\n",
    "  from google.colab import drive\n",
    "  drive.mount(\"/content/drive/\", force_remount = True)"
   ]
  },
  {
   "cell_type": "code",
   "execution_count": 5,
   "metadata": {
    "colab": {
     "base_uri": "https://localhost:8080/"
    },
    "executionInfo": {
     "elapsed": 5780,
     "status": "ok",
     "timestamp": 1726489102770,
     "user": {
      "displayName": "Ugo Lomoio",
      "userId": "00301874906270436685"
     },
     "user_tz": -120
    },
    "id": "LaUgwdEO7m2x",
    "outputId": "6c22ff76-7d72-4af8-c2dd-8b0fe8789bf8"
   },
   "outputs": [],
   "source": [
    "if in_colab:\n",
    "  !pip install torch==2.3.0 torchvision==0.18.0 torchaudio==2.3.0 #-f https://download.pytorch.org/whl/cu121"
   ]
  },
  {
   "cell_type": "code",
   "execution_count": 6,
   "metadata": {
    "colab": {
     "base_uri": "https://localhost:8080/"
    },
    "executionInfo": {
     "elapsed": 4557,
     "status": "ok",
     "timestamp": 1726489107318,
     "user": {
      "displayName": "Ugo Lomoio",
      "userId": "00301874906270436685"
     },
     "user_tz": -120
    },
    "id": "w3mBgxEEUybD",
    "outputId": "e42a02dc-9286-4063-8716-9adbecdc1582"
   },
   "outputs": [],
   "source": [
    "if in_colab:\n",
    "  !pip install pyg_lib torch_scatter torch_sparse torch_cluster torch_spline_conv -f https://data.pyg.org/whl/torch-2.3.0+cpu.html#torch-2.3.0+cu121.html"
   ]
  },
  {
   "cell_type": "code",
   "execution_count": 7,
   "metadata": {
    "colab": {
     "base_uri": "https://localhost:8080/"
    },
    "executionInfo": {
     "elapsed": 8140,
     "status": "ok",
     "timestamp": 1726489115450,
     "user": {
      "displayName": "Ugo Lomoio",
      "userId": "00301874906270436685"
     },
     "user_tz": -120
    },
    "id": "itdjbrRe8BXv",
    "outputId": "5bc2f9b5-75ee-4bb9-ad9c-6070abcf80dd"
   },
   "outputs": [],
   "source": [
    "if in_colab:\n",
    "  !pip install torch_geometric"
   ]
  },
  {
   "cell_type": "code",
   "execution_count": 8,
   "metadata": {
    "colab": {
     "base_uri": "https://localhost:8080/"
    },
    "executionInfo": {
     "elapsed": 4455,
     "status": "ok",
     "timestamp": 1726489119866,
     "user": {
      "displayName": "Ugo Lomoio",
      "userId": "00301874906270436685"
     },
     "user_tz": -120
    },
    "id": "LSAU75x8WVtl",
    "outputId": "e02693cf-f1e2-429f-b0e6-2d2c3fe4030f"
   },
   "outputs": [],
   "source": [
    "if in_colab:\n",
    "  import locale\n",
    "  def getpreferredencoding(do_setlocale = True):\n",
    "      return \"UTF-8\"\n",
    "  locale.getpreferredencoding = getpreferredencoding\n",
    "  !pip install pygod"
   ]
  },
  {
   "cell_type": "code",
   "execution_count": 9,
   "metadata": {
    "colab": {
     "base_uri": "https://localhost:8080/",
     "height": 36
    },
    "executionInfo": {
     "elapsed": 2211,
     "status": "ok",
     "timestamp": 1726489122074,
     "user": {
      "displayName": "Ugo Lomoio",
      "userId": "00301874906270436685"
     },
     "user_tz": -120
    },
    "id": "Qypthif66dRz",
    "outputId": "c1bab72a-70e2-42c4-d6ee-abe4c5779ee3"
   },
   "outputs": [
    {
     "data": {
      "text/plain": [
       "'2.4.0+cu121'"
      ]
     },
     "execution_count": 9,
     "metadata": {},
     "output_type": "execute_result"
    }
   ],
   "source": [
    "import torch\n",
    "torch.__version__"
   ]
  },
  {
   "cell_type": "code",
   "execution_count": 10,
   "metadata": {
    "colab": {
     "base_uri": "https://localhost:8080/"
    },
    "executionInfo": {
     "elapsed": 5535,
     "status": "ok",
     "timestamp": 1726489127606,
     "user": {
      "displayName": "Ugo Lomoio",
      "userId": "00301874906270436685"
     },
     "user_tz": -120
    },
    "id": "PkwPeSplR8Jx",
    "outputId": "d42cf8d1-5831-4952-dce0-085d6992f6e0"
   },
   "outputs": [
    {
     "name": "stdout",
     "output_type": "stream",
     "text": [
      "True\n"
     ]
    }
   ],
   "source": [
    "import torch_geometric\n",
    "print(torch_geometric.typing.WITH_PYG_LIB)"
   ]
  },
  {
   "cell_type": "code",
   "execution_count": 11,
   "metadata": {
    "colab": {
     "base_uri": "https://localhost:8080/"
    },
    "executionInfo": {
     "elapsed": 43,
     "status": "ok",
     "timestamp": 1726489127606,
     "user": {
      "displayName": "Ugo Lomoio",
      "userId": "00301874906270436685"
     },
     "user_tz": -120
    },
    "id": "u7tDFrcvuNau",
    "outputId": "3e8651a9-b28c-46d9-f77e-864209e6c922"
   },
   "outputs": [],
   "source": [
    "if in_colab:\n",
    "  %cd \"/content/drive/MyDrive/Colab Notebooks/GraphOutlierDetection\" #HERE CHANGE YOUR PATH"
   ]
  },
  {
   "cell_type": "code",
   "execution_count": 12,
   "metadata": {
    "colab": {
     "base_uri": "https://localhost:8080/"
    },
    "executionInfo": {
     "elapsed": 42,
     "status": "ok",
     "timestamp": 1726489127606,
     "user": {
      "displayName": "Ugo Lomoio",
      "userId": "00301874906270436685"
     },
     "user_tz": -120
    },
    "id": "w_26dN459uQ5",
    "outputId": "308a0a6c-8985-45d9-936f-65ff95bf2660"
   },
   "outputs": [
    {
     "name": "stdout",
     "output_type": "stream",
     "text": [
      " Il volume nell'unit… C Š Windows\n",
      " Numero di serie del volume: 123E-4DB7\n",
      "\n",
      " Directory di C:\\Users\\ugo-c\\Desktop\\ADIN\n",
      "\n",
      "13/11/2024  11:45    <DIR>          .\n",
      "13/11/2024  10:02    <DIR>          ..\n",
      "13/11/2024  11:15    <DIR>          .ipynb_checkpoints\n",
      "13/11/2024  11:56    <DIR>          .virtual_documents\n",
      "13/11/2024  11:56    <DIR>          .vs\n",
      "13/11/2024  11:49    <DIR>          adin\n",
      "17/10/2024  15:14    <DIR>          assets\n",
      "16/10/2024  14:20        10.037.628 gaan.pt\n",
      "13/11/2024  11:08         5.063.500 gnn.ipynb\n",
      "18/10/2024  19:15         5.063.500 god.ipynb\n",
      "21/10/2024  14:23           459.769 god_isn.ipynb\n",
      "26/09/2024  14:50             1.088 LICENSE\n",
      "13/11/2024  11:45            86.438 main.py\n",
      "30/09/2024  09:59             1.197 README.md\n",
      "30/09/2024  09:47               297 requirements.txt\n",
      "30/09/2024  09:47               297 requirementscuda.txt\n",
      "30/09/2024  09:47               152 requirementstorch.txt\n",
      "30/09/2024  09:47               145 requirementstorchcuda.txt\n",
      "13/11/2024  11:01    <DIR>          saved_models\n",
      "21/10/2024  14:25             7.586 trajectories.ipynb\n",
      "17/09/2024  09:15    <DIR>          use_case\n",
      "              12 File     20.721.597 byte\n",
      "               9 Directory  468.499.464.192 byte disponibili\n"
     ]
    }
   ],
   "source": [
    "!dir"
   ]
  },
  {
   "cell_type": "code",
   "execution_count": 13,
   "metadata": {
    "colab": {
     "base_uri": "https://localhost:8080/",
     "height": 36
    },
    "executionInfo": {
     "elapsed": 37,
     "status": "ok",
     "timestamp": 1726489127606,
     "user": {
      "displayName": "Ugo Lomoio",
      "userId": "00301874906270436685"
     },
     "user_tz": -120
    },
    "id": "vxPQnrvTt38b",
    "outputId": "0e71fe3c-711d-4a1a-d53e-a0e1c1f070f1"
   },
   "outputs": [
    {
     "data": {
      "text/plain": [
       "'C:\\\\Users\\\\ugo-c\\\\Desktop\\\\ADIN\\\\Dataset\\\\'"
      ]
     },
     "execution_count": 13,
     "metadata": {},
     "output_type": "execute_result"
    }
   ],
   "source": [
    "import os\n",
    "cwd = os.getcwd()\n",
    "sep = os.sep\n",
    "datapath = cwd + sep + \"Dataset\" + sep\n",
    "datapath"
   ]
  },
  {
   "cell_type": "code",
   "execution_count": 15,
   "metadata": {
    "executionInfo": {
     "elapsed": 32,
     "status": "ok",
     "timestamp": 1726489127606,
     "user": {
      "displayName": "Ugo Lomoio",
      "userId": "00301874906270436685"
     },
     "user_tz": -120
    },
    "id": "AU0f6v3hfdLO"
   },
   "outputs": [],
   "source": [
    "expr_filename = cwd + sep + \"use_case\"+sep+\"data\"+sep+\"bladder_cancer\"+sep+\"gene_expression_data_preprocessed.csv\"\n",
    "#expr_filename = cwd + sep + \"use_case\"+sep+\"data\"+sep+\"celiac\"+sep+\"preprocessed_data.csv\"\n",
    "output = cwd + sep + \"ouput.png\""
   ]
  },
  {
   "cell_type": "code",
   "execution_count": 16,
   "metadata": {
    "colab": {
     "base_uri": "https://localhost:8080/",
     "height": 851
    },
    "executionInfo": {
     "elapsed": 3156,
     "status": "ok",
     "timestamp": 1726489130731,
     "user": {
      "displayName": "Ugo Lomoio",
      "userId": "00301874906270436685"
     },
     "user_tz": -120
    },
    "id": "5S1HX5ACqC3N",
    "outputId": "284e6b66-d017-4345-d973-52e7ef425cde"
   },
   "outputs": [
    {
     "data": {
      "text/html": [
       "<div>\n",
       "<style scoped>\n",
       "    .dataframe tbody tr th:only-of-type {\n",
       "        vertical-align: middle;\n",
       "    }\n",
       "\n",
       "    .dataframe tbody tr th {\n",
       "        vertical-align: top;\n",
       "    }\n",
       "\n",
       "    .dataframe thead th {\n",
       "        text-align: right;\n",
       "    }\n",
       "</style>\n",
       "<table border=\"1\" class=\"dataframe\">\n",
       "  <thead>\n",
       "    <tr style=\"text-align: right;\">\n",
       "      <th></th>\n",
       "      <th>ATP2A1</th>\n",
       "      <th>SLMAP</th>\n",
       "      <th>MEOX2</th>\n",
       "      <th>HOXD3</th>\n",
       "      <th>ZNF398</th>\n",
       "      <th>PANX1</th>\n",
       "      <th>COX8C</th>\n",
       "      <th>IMPA2</th>\n",
       "      <th>TTC8</th>\n",
       "      <th>FLJ35816</th>\n",
       "      <th>...</th>\n",
       "      <th>ZFP2.1</th>\n",
       "      <th>CST9L.1</th>\n",
       "      <th>C11orf24.1</th>\n",
       "      <th>QPRT.1</th>\n",
       "      <th>LEPRE1.1</th>\n",
       "      <th>GNAS.29</th>\n",
       "      <th>RPN1.1</th>\n",
       "      <th>CYB5A.1</th>\n",
       "      <th>AP1S1.1</th>\n",
       "      <th>Target</th>\n",
       "    </tr>\n",
       "  </thead>\n",
       "  <tbody>\n",
       "    <tr>\n",
       "      <th>GSM928410</th>\n",
       "      <td>0.663336</td>\n",
       "      <td>0.529598</td>\n",
       "      <td>0.162563</td>\n",
       "      <td>0.383908</td>\n",
       "      <td>0.096852</td>\n",
       "      <td>0.137029</td>\n",
       "      <td>0.971139</td>\n",
       "      <td>0.039016</td>\n",
       "      <td>0.029115</td>\n",
       "      <td>0.530092</td>\n",
       "      <td>...</td>\n",
       "      <td>0.174781</td>\n",
       "      <td>0.759511</td>\n",
       "      <td>0.103661</td>\n",
       "      <td>0.200964</td>\n",
       "      <td>0.200289</td>\n",
       "      <td>0.397994</td>\n",
       "      <td>0.031667</td>\n",
       "      <td>0.116547</td>\n",
       "      <td>0.061299</td>\n",
       "      <td>0</td>\n",
       "    </tr>\n",
       "    <tr>\n",
       "      <th>GSM928411</th>\n",
       "      <td>0.732851</td>\n",
       "      <td>0.637804</td>\n",
       "      <td>0.087245</td>\n",
       "      <td>0.364565</td>\n",
       "      <td>0.100989</td>\n",
       "      <td>0.104867</td>\n",
       "      <td>0.968545</td>\n",
       "      <td>0.046063</td>\n",
       "      <td>0.035143</td>\n",
       "      <td>0.592064</td>\n",
       "      <td>...</td>\n",
       "      <td>0.094503</td>\n",
       "      <td>0.747333</td>\n",
       "      <td>0.085542</td>\n",
       "      <td>0.224168</td>\n",
       "      <td>0.103062</td>\n",
       "      <td>0.376746</td>\n",
       "      <td>0.028174</td>\n",
       "      <td>0.069490</td>\n",
       "      <td>0.101310</td>\n",
       "      <td>0</td>\n",
       "    </tr>\n",
       "    <tr>\n",
       "      <th>GSM928412</th>\n",
       "      <td>0.731909</td>\n",
       "      <td>0.467229</td>\n",
       "      <td>0.151392</td>\n",
       "      <td>0.410514</td>\n",
       "      <td>0.105380</td>\n",
       "      <td>0.118404</td>\n",
       "      <td>0.961028</td>\n",
       "      <td>0.043965</td>\n",
       "      <td>0.031300</td>\n",
       "      <td>0.554694</td>\n",
       "      <td>...</td>\n",
       "      <td>0.110763</td>\n",
       "      <td>0.764336</td>\n",
       "      <td>0.102852</td>\n",
       "      <td>0.236077</td>\n",
       "      <td>0.155706</td>\n",
       "      <td>0.383049</td>\n",
       "      <td>0.019629</td>\n",
       "      <td>0.077901</td>\n",
       "      <td>0.089061</td>\n",
       "      <td>0</td>\n",
       "    </tr>\n",
       "    <tr>\n",
       "      <th>GSM928413</th>\n",
       "      <td>0.756482</td>\n",
       "      <td>0.712974</td>\n",
       "      <td>0.125020</td>\n",
       "      <td>0.438931</td>\n",
       "      <td>0.072189</td>\n",
       "      <td>0.117990</td>\n",
       "      <td>0.971448</td>\n",
       "      <td>0.044214</td>\n",
       "      <td>0.031502</td>\n",
       "      <td>0.587456</td>\n",
       "      <td>...</td>\n",
       "      <td>0.052426</td>\n",
       "      <td>0.775798</td>\n",
       "      <td>0.109610</td>\n",
       "      <td>0.217205</td>\n",
       "      <td>0.176550</td>\n",
       "      <td>0.412991</td>\n",
       "      <td>0.034196</td>\n",
       "      <td>0.062415</td>\n",
       "      <td>0.061597</td>\n",
       "      <td>0</td>\n",
       "    </tr>\n",
       "    <tr>\n",
       "      <th>GSM928414</th>\n",
       "      <td>0.627336</td>\n",
       "      <td>0.374188</td>\n",
       "      <td>0.072009</td>\n",
       "      <td>0.564686</td>\n",
       "      <td>0.083819</td>\n",
       "      <td>0.094375</td>\n",
       "      <td>0.968190</td>\n",
       "      <td>0.028884</td>\n",
       "      <td>0.018645</td>\n",
       "      <td>0.596519</td>\n",
       "      <td>...</td>\n",
       "      <td>0.043576</td>\n",
       "      <td>0.792672</td>\n",
       "      <td>0.094405</td>\n",
       "      <td>0.219325</td>\n",
       "      <td>0.125886</td>\n",
       "      <td>0.396564</td>\n",
       "      <td>0.021866</td>\n",
       "      <td>0.046562</td>\n",
       "      <td>0.043234</td>\n",
       "      <td>0</td>\n",
       "    </tr>\n",
       "    <tr>\n",
       "      <th>GSM928415</th>\n",
       "      <td>0.668793</td>\n",
       "      <td>0.394460</td>\n",
       "      <td>0.122008</td>\n",
       "      <td>0.392940</td>\n",
       "      <td>0.084649</td>\n",
       "      <td>0.105771</td>\n",
       "      <td>0.973028</td>\n",
       "      <td>0.041213</td>\n",
       "      <td>0.023148</td>\n",
       "      <td>0.579087</td>\n",
       "      <td>...</td>\n",
       "      <td>0.113668</td>\n",
       "      <td>0.757963</td>\n",
       "      <td>0.079168</td>\n",
       "      <td>0.245785</td>\n",
       "      <td>0.117861</td>\n",
       "      <td>0.300823</td>\n",
       "      <td>0.027338</td>\n",
       "      <td>0.049083</td>\n",
       "      <td>0.084346</td>\n",
       "      <td>0</td>\n",
       "    </tr>\n",
       "    <tr>\n",
       "      <th>GSM928416</th>\n",
       "      <td>0.426092</td>\n",
       "      <td>0.256789</td>\n",
       "      <td>0.158605</td>\n",
       "      <td>0.744571</td>\n",
       "      <td>0.093180</td>\n",
       "      <td>0.117594</td>\n",
       "      <td>0.971882</td>\n",
       "      <td>0.050376</td>\n",
       "      <td>0.049978</td>\n",
       "      <td>0.508073</td>\n",
       "      <td>...</td>\n",
       "      <td>0.052173</td>\n",
       "      <td>0.777005</td>\n",
       "      <td>0.084534</td>\n",
       "      <td>0.231139</td>\n",
       "      <td>0.226753</td>\n",
       "      <td>0.396463</td>\n",
       "      <td>0.028637</td>\n",
       "      <td>0.082773</td>\n",
       "      <td>0.045241</td>\n",
       "      <td>1</td>\n",
       "    </tr>\n",
       "    <tr>\n",
       "      <th>GSM928417</th>\n",
       "      <td>0.543068</td>\n",
       "      <td>0.161934</td>\n",
       "      <td>0.095487</td>\n",
       "      <td>0.781442</td>\n",
       "      <td>0.045247</td>\n",
       "      <td>0.119621</td>\n",
       "      <td>0.964217</td>\n",
       "      <td>0.040574</td>\n",
       "      <td>0.030213</td>\n",
       "      <td>0.378127</td>\n",
       "      <td>...</td>\n",
       "      <td>0.051021</td>\n",
       "      <td>0.745892</td>\n",
       "      <td>0.098363</td>\n",
       "      <td>0.204016</td>\n",
       "      <td>0.191636</td>\n",
       "      <td>0.173303</td>\n",
       "      <td>0.014033</td>\n",
       "      <td>0.053147</td>\n",
       "      <td>0.035183</td>\n",
       "      <td>1</td>\n",
       "    </tr>\n",
       "    <tr>\n",
       "      <th>GSM928418</th>\n",
       "      <td>0.806099</td>\n",
       "      <td>0.783551</td>\n",
       "      <td>0.182352</td>\n",
       "      <td>0.764526</td>\n",
       "      <td>0.086602</td>\n",
       "      <td>0.122421</td>\n",
       "      <td>0.963932</td>\n",
       "      <td>0.043778</td>\n",
       "      <td>0.030160</td>\n",
       "      <td>0.501038</td>\n",
       "      <td>...</td>\n",
       "      <td>0.060801</td>\n",
       "      <td>0.801456</td>\n",
       "      <td>0.091301</td>\n",
       "      <td>0.217928</td>\n",
       "      <td>0.198903</td>\n",
       "      <td>0.358943</td>\n",
       "      <td>0.028659</td>\n",
       "      <td>0.058941</td>\n",
       "      <td>0.042113</td>\n",
       "      <td>1</td>\n",
       "    </tr>\n",
       "    <tr>\n",
       "      <th>GSM928419</th>\n",
       "      <td>0.535368</td>\n",
       "      <td>0.125626</td>\n",
       "      <td>0.101444</td>\n",
       "      <td>0.811086</td>\n",
       "      <td>0.027037</td>\n",
       "      <td>0.069629</td>\n",
       "      <td>0.970158</td>\n",
       "      <td>0.032499</td>\n",
       "      <td>0.022672</td>\n",
       "      <td>0.557364</td>\n",
       "      <td>...</td>\n",
       "      <td>0.042587</td>\n",
       "      <td>0.790621</td>\n",
       "      <td>0.065476</td>\n",
       "      <td>0.230631</td>\n",
       "      <td>0.131507</td>\n",
       "      <td>0.407219</td>\n",
       "      <td>0.016708</td>\n",
       "      <td>0.056320</td>\n",
       "      <td>0.027419</td>\n",
       "      <td>1</td>\n",
       "    </tr>\n",
       "    <tr>\n",
       "      <th>GSM928420</th>\n",
       "      <td>0.703619</td>\n",
       "      <td>0.676400</td>\n",
       "      <td>0.111034</td>\n",
       "      <td>0.846040</td>\n",
       "      <td>0.037037</td>\n",
       "      <td>0.118240</td>\n",
       "      <td>0.978038</td>\n",
       "      <td>0.029411</td>\n",
       "      <td>0.024753</td>\n",
       "      <td>0.489507</td>\n",
       "      <td>...</td>\n",
       "      <td>0.031715</td>\n",
       "      <td>0.524165</td>\n",
       "      <td>0.073408</td>\n",
       "      <td>0.158885</td>\n",
       "      <td>0.089074</td>\n",
       "      <td>0.197019</td>\n",
       "      <td>0.011845</td>\n",
       "      <td>0.043921</td>\n",
       "      <td>0.023684</td>\n",
       "      <td>1</td>\n",
       "    </tr>\n",
       "    <tr>\n",
       "      <th>GSM928421</th>\n",
       "      <td>0.817144</td>\n",
       "      <td>0.093566</td>\n",
       "      <td>0.119262</td>\n",
       "      <td>0.794505</td>\n",
       "      <td>0.022453</td>\n",
       "      <td>0.231460</td>\n",
       "      <td>0.982106</td>\n",
       "      <td>0.031482</td>\n",
       "      <td>0.013398</td>\n",
       "      <td>0.573627</td>\n",
       "      <td>...</td>\n",
       "      <td>0.022869</td>\n",
       "      <td>0.814041</td>\n",
       "      <td>0.067122</td>\n",
       "      <td>0.098457</td>\n",
       "      <td>0.108308</td>\n",
       "      <td>0.441892</td>\n",
       "      <td>0.012345</td>\n",
       "      <td>0.028432</td>\n",
       "      <td>0.019375</td>\n",
       "      <td>1</td>\n",
       "    </tr>\n",
       "    <tr>\n",
       "      <th>GSM928422</th>\n",
       "      <td>0.409728</td>\n",
       "      <td>0.093750</td>\n",
       "      <td>0.088316</td>\n",
       "      <td>0.805207</td>\n",
       "      <td>0.015399</td>\n",
       "      <td>0.108503</td>\n",
       "      <td>0.978841</td>\n",
       "      <td>0.026527</td>\n",
       "      <td>0.016016</td>\n",
       "      <td>0.512338</td>\n",
       "      <td>...</td>\n",
       "      <td>0.030848</td>\n",
       "      <td>0.775920</td>\n",
       "      <td>0.037135</td>\n",
       "      <td>0.220788</td>\n",
       "      <td>0.039122</td>\n",
       "      <td>0.444259</td>\n",
       "      <td>0.008334</td>\n",
       "      <td>0.017998</td>\n",
       "      <td>0.022897</td>\n",
       "      <td>1</td>\n",
       "    </tr>\n",
       "    <tr>\n",
       "      <th>GSM928423</th>\n",
       "      <td>0.543978</td>\n",
       "      <td>0.189580</td>\n",
       "      <td>0.109502</td>\n",
       "      <td>0.705171</td>\n",
       "      <td>0.033869</td>\n",
       "      <td>0.220051</td>\n",
       "      <td>0.976979</td>\n",
       "      <td>0.023748</td>\n",
       "      <td>0.011903</td>\n",
       "      <td>0.613839</td>\n",
       "      <td>...</td>\n",
       "      <td>0.043739</td>\n",
       "      <td>0.802150</td>\n",
       "      <td>0.046229</td>\n",
       "      <td>0.228942</td>\n",
       "      <td>0.097392</td>\n",
       "      <td>0.400422</td>\n",
       "      <td>0.014450</td>\n",
       "      <td>0.020787</td>\n",
       "      <td>0.030505</td>\n",
       "      <td>1</td>\n",
       "    </tr>\n",
       "    <tr>\n",
       "      <th>GSM928424</th>\n",
       "      <td>0.832374</td>\n",
       "      <td>0.129283</td>\n",
       "      <td>0.031621</td>\n",
       "      <td>0.798701</td>\n",
       "      <td>0.018344</td>\n",
       "      <td>0.089821</td>\n",
       "      <td>0.980335</td>\n",
       "      <td>0.022257</td>\n",
       "      <td>0.009273</td>\n",
       "      <td>0.518569</td>\n",
       "      <td>...</td>\n",
       "      <td>0.038415</td>\n",
       "      <td>0.821270</td>\n",
       "      <td>0.040871</td>\n",
       "      <td>0.208011</td>\n",
       "      <td>0.056141</td>\n",
       "      <td>0.457269</td>\n",
       "      <td>0.008398</td>\n",
       "      <td>0.014626</td>\n",
       "      <td>0.027354</td>\n",
       "      <td>1</td>\n",
       "    </tr>\n",
       "    <tr>\n",
       "      <th>GSM928425</th>\n",
       "      <td>0.815578</td>\n",
       "      <td>0.315857</td>\n",
       "      <td>0.046209</td>\n",
       "      <td>0.871397</td>\n",
       "      <td>0.018025</td>\n",
       "      <td>0.070097</td>\n",
       "      <td>0.981824</td>\n",
       "      <td>0.025346</td>\n",
       "      <td>0.009612</td>\n",
       "      <td>0.579383</td>\n",
       "      <td>...</td>\n",
       "      <td>0.019224</td>\n",
       "      <td>0.835004</td>\n",
       "      <td>0.039021</td>\n",
       "      <td>0.230470</td>\n",
       "      <td>0.043544</td>\n",
       "      <td>0.490924</td>\n",
       "      <td>0.004595</td>\n",
       "      <td>0.012720</td>\n",
       "      <td>0.021632</td>\n",
       "      <td>1</td>\n",
       "    </tr>\n",
       "    <tr>\n",
       "      <th>GSM928426</th>\n",
       "      <td>0.418700</td>\n",
       "      <td>0.074661</td>\n",
       "      <td>0.040767</td>\n",
       "      <td>0.823890</td>\n",
       "      <td>0.015405</td>\n",
       "      <td>0.054142</td>\n",
       "      <td>0.982683</td>\n",
       "      <td>0.024076</td>\n",
       "      <td>0.009506</td>\n",
       "      <td>0.470287</td>\n",
       "      <td>...</td>\n",
       "      <td>0.020391</td>\n",
       "      <td>0.786767</td>\n",
       "      <td>0.041685</td>\n",
       "      <td>0.220786</td>\n",
       "      <td>0.038490</td>\n",
       "      <td>0.290588</td>\n",
       "      <td>0.006284</td>\n",
       "      <td>0.011045</td>\n",
       "      <td>0.031467</td>\n",
       "      <td>1</td>\n",
       "    </tr>\n",
       "    <tr>\n",
       "      <th>GSM928427</th>\n",
       "      <td>0.750107</td>\n",
       "      <td>0.308633</td>\n",
       "      <td>0.022222</td>\n",
       "      <td>0.841576</td>\n",
       "      <td>0.014033</td>\n",
       "      <td>0.037842</td>\n",
       "      <td>0.986313</td>\n",
       "      <td>0.021968</td>\n",
       "      <td>0.009482</td>\n",
       "      <td>0.573926</td>\n",
       "      <td>...</td>\n",
       "      <td>0.021235</td>\n",
       "      <td>0.826842</td>\n",
       "      <td>0.038056</td>\n",
       "      <td>0.234247</td>\n",
       "      <td>0.044426</td>\n",
       "      <td>0.244766</td>\n",
       "      <td>0.008227</td>\n",
       "      <td>0.014047</td>\n",
       "      <td>0.026652</td>\n",
       "      <td>1</td>\n",
       "    </tr>\n",
       "    <tr>\n",
       "      <th>GSM928428</th>\n",
       "      <td>0.733186</td>\n",
       "      <td>0.130307</td>\n",
       "      <td>0.042095</td>\n",
       "      <td>0.802706</td>\n",
       "      <td>0.015738</td>\n",
       "      <td>0.071776</td>\n",
       "      <td>0.979202</td>\n",
       "      <td>0.019832</td>\n",
       "      <td>0.010430</td>\n",
       "      <td>0.534893</td>\n",
       "      <td>...</td>\n",
       "      <td>0.022399</td>\n",
       "      <td>0.815613</td>\n",
       "      <td>0.038222</td>\n",
       "      <td>0.214632</td>\n",
       "      <td>0.048707</td>\n",
       "      <td>0.452354</td>\n",
       "      <td>0.007390</td>\n",
       "      <td>0.016975</td>\n",
       "      <td>0.031851</td>\n",
       "      <td>1</td>\n",
       "    </tr>\n",
       "    <tr>\n",
       "      <th>GSM928429</th>\n",
       "      <td>0.604937</td>\n",
       "      <td>0.100124</td>\n",
       "      <td>0.033127</td>\n",
       "      <td>0.841069</td>\n",
       "      <td>0.018455</td>\n",
       "      <td>0.052406</td>\n",
       "      <td>0.977567</td>\n",
       "      <td>0.023292</td>\n",
       "      <td>0.013491</td>\n",
       "      <td>0.562744</td>\n",
       "      <td>...</td>\n",
       "      <td>0.021738</td>\n",
       "      <td>0.832677</td>\n",
       "      <td>0.044160</td>\n",
       "      <td>0.226783</td>\n",
       "      <td>0.041601</td>\n",
       "      <td>0.437928</td>\n",
       "      <td>0.006207</td>\n",
       "      <td>0.012716</td>\n",
       "      <td>0.023372</td>\n",
       "      <td>1</td>\n",
       "    </tr>\n",
       "    <tr>\n",
       "      <th>GSM928430</th>\n",
       "      <td>0.437868</td>\n",
       "      <td>0.140084</td>\n",
       "      <td>0.519438</td>\n",
       "      <td>0.684985</td>\n",
       "      <td>0.016173</td>\n",
       "      <td>0.076557</td>\n",
       "      <td>0.978034</td>\n",
       "      <td>0.023050</td>\n",
       "      <td>0.011165</td>\n",
       "      <td>0.481810</td>\n",
       "      <td>...</td>\n",
       "      <td>0.042978</td>\n",
       "      <td>0.518412</td>\n",
       "      <td>0.039403</td>\n",
       "      <td>0.202873</td>\n",
       "      <td>0.051938</td>\n",
       "      <td>0.181139</td>\n",
       "      <td>0.007631</td>\n",
       "      <td>0.019301</td>\n",
       "      <td>0.025718</td>\n",
       "      <td>1</td>\n",
       "    </tr>\n",
       "    <tr>\n",
       "      <th>GSM928431</th>\n",
       "      <td>0.298159</td>\n",
       "      <td>0.138758</td>\n",
       "      <td>0.058877</td>\n",
       "      <td>0.752970</td>\n",
       "      <td>0.024597</td>\n",
       "      <td>0.052569</td>\n",
       "      <td>0.984636</td>\n",
       "      <td>0.024411</td>\n",
       "      <td>0.012639</td>\n",
       "      <td>0.462050</td>\n",
       "      <td>...</td>\n",
       "      <td>0.025951</td>\n",
       "      <td>0.793100</td>\n",
       "      <td>0.039064</td>\n",
       "      <td>0.186543</td>\n",
       "      <td>0.039786</td>\n",
       "      <td>0.177563</td>\n",
       "      <td>0.005621</td>\n",
       "      <td>0.013725</td>\n",
       "      <td>0.022572</td>\n",
       "      <td>1</td>\n",
       "    </tr>\n",
       "    <tr>\n",
       "      <th>GSM928432</th>\n",
       "      <td>0.328170</td>\n",
       "      <td>0.076230</td>\n",
       "      <td>0.345729</td>\n",
       "      <td>0.778197</td>\n",
       "      <td>0.025442</td>\n",
       "      <td>0.065034</td>\n",
       "      <td>0.976318</td>\n",
       "      <td>0.022026</td>\n",
       "      <td>0.015277</td>\n",
       "      <td>0.549231</td>\n",
       "      <td>...</td>\n",
       "      <td>0.016248</td>\n",
       "      <td>0.747001</td>\n",
       "      <td>0.035090</td>\n",
       "      <td>0.207020</td>\n",
       "      <td>0.031336</td>\n",
       "      <td>0.299431</td>\n",
       "      <td>0.006948</td>\n",
       "      <td>0.272705</td>\n",
       "      <td>0.024050</td>\n",
       "      <td>1</td>\n",
       "    </tr>\n",
       "    <tr>\n",
       "      <th>GSM928433</th>\n",
       "      <td>0.184375</td>\n",
       "      <td>0.109300</td>\n",
       "      <td>0.026707</td>\n",
       "      <td>0.839303</td>\n",
       "      <td>0.018748</td>\n",
       "      <td>0.086138</td>\n",
       "      <td>0.984204</td>\n",
       "      <td>0.015195</td>\n",
       "      <td>0.006160</td>\n",
       "      <td>0.437519</td>\n",
       "      <td>...</td>\n",
       "      <td>0.026670</td>\n",
       "      <td>0.155150</td>\n",
       "      <td>0.031642</td>\n",
       "      <td>0.155018</td>\n",
       "      <td>0.058125</td>\n",
       "      <td>0.434324</td>\n",
       "      <td>0.008526</td>\n",
       "      <td>0.025031</td>\n",
       "      <td>0.015152</td>\n",
       "      <td>1</td>\n",
       "    </tr>\n",
       "  </tbody>\n",
       "</table>\n",
       "<p>24 rows × 27552 columns</p>\n",
       "</div>"
      ],
      "text/plain": [
       "             ATP2A1     SLMAP     MEOX2     HOXD3    ZNF398     PANX1  \\\n",
       "GSM928410  0.663336  0.529598  0.162563  0.383908  0.096852  0.137029   \n",
       "GSM928411  0.732851  0.637804  0.087245  0.364565  0.100989  0.104867   \n",
       "GSM928412  0.731909  0.467229  0.151392  0.410514  0.105380  0.118404   \n",
       "GSM928413  0.756482  0.712974  0.125020  0.438931  0.072189  0.117990   \n",
       "GSM928414  0.627336  0.374188  0.072009  0.564686  0.083819  0.094375   \n",
       "GSM928415  0.668793  0.394460  0.122008  0.392940  0.084649  0.105771   \n",
       "GSM928416  0.426092  0.256789  0.158605  0.744571  0.093180  0.117594   \n",
       "GSM928417  0.543068  0.161934  0.095487  0.781442  0.045247  0.119621   \n",
       "GSM928418  0.806099  0.783551  0.182352  0.764526  0.086602  0.122421   \n",
       "GSM928419  0.535368  0.125626  0.101444  0.811086  0.027037  0.069629   \n",
       "GSM928420  0.703619  0.676400  0.111034  0.846040  0.037037  0.118240   \n",
       "GSM928421  0.817144  0.093566  0.119262  0.794505  0.022453  0.231460   \n",
       "GSM928422  0.409728  0.093750  0.088316  0.805207  0.015399  0.108503   \n",
       "GSM928423  0.543978  0.189580  0.109502  0.705171  0.033869  0.220051   \n",
       "GSM928424  0.832374  0.129283  0.031621  0.798701  0.018344  0.089821   \n",
       "GSM928425  0.815578  0.315857  0.046209  0.871397  0.018025  0.070097   \n",
       "GSM928426  0.418700  0.074661  0.040767  0.823890  0.015405  0.054142   \n",
       "GSM928427  0.750107  0.308633  0.022222  0.841576  0.014033  0.037842   \n",
       "GSM928428  0.733186  0.130307  0.042095  0.802706  0.015738  0.071776   \n",
       "GSM928429  0.604937  0.100124  0.033127  0.841069  0.018455  0.052406   \n",
       "GSM928430  0.437868  0.140084  0.519438  0.684985  0.016173  0.076557   \n",
       "GSM928431  0.298159  0.138758  0.058877  0.752970  0.024597  0.052569   \n",
       "GSM928432  0.328170  0.076230  0.345729  0.778197  0.025442  0.065034   \n",
       "GSM928433  0.184375  0.109300  0.026707  0.839303  0.018748  0.086138   \n",
       "\n",
       "              COX8C     IMPA2      TTC8  FLJ35816  ...    ZFP2.1   CST9L.1  \\\n",
       "GSM928410  0.971139  0.039016  0.029115  0.530092  ...  0.174781  0.759511   \n",
       "GSM928411  0.968545  0.046063  0.035143  0.592064  ...  0.094503  0.747333   \n",
       "GSM928412  0.961028  0.043965  0.031300  0.554694  ...  0.110763  0.764336   \n",
       "GSM928413  0.971448  0.044214  0.031502  0.587456  ...  0.052426  0.775798   \n",
       "GSM928414  0.968190  0.028884  0.018645  0.596519  ...  0.043576  0.792672   \n",
       "GSM928415  0.973028  0.041213  0.023148  0.579087  ...  0.113668  0.757963   \n",
       "GSM928416  0.971882  0.050376  0.049978  0.508073  ...  0.052173  0.777005   \n",
       "GSM928417  0.964217  0.040574  0.030213  0.378127  ...  0.051021  0.745892   \n",
       "GSM928418  0.963932  0.043778  0.030160  0.501038  ...  0.060801  0.801456   \n",
       "GSM928419  0.970158  0.032499  0.022672  0.557364  ...  0.042587  0.790621   \n",
       "GSM928420  0.978038  0.029411  0.024753  0.489507  ...  0.031715  0.524165   \n",
       "GSM928421  0.982106  0.031482  0.013398  0.573627  ...  0.022869  0.814041   \n",
       "GSM928422  0.978841  0.026527  0.016016  0.512338  ...  0.030848  0.775920   \n",
       "GSM928423  0.976979  0.023748  0.011903  0.613839  ...  0.043739  0.802150   \n",
       "GSM928424  0.980335  0.022257  0.009273  0.518569  ...  0.038415  0.821270   \n",
       "GSM928425  0.981824  0.025346  0.009612  0.579383  ...  0.019224  0.835004   \n",
       "GSM928426  0.982683  0.024076  0.009506  0.470287  ...  0.020391  0.786767   \n",
       "GSM928427  0.986313  0.021968  0.009482  0.573926  ...  0.021235  0.826842   \n",
       "GSM928428  0.979202  0.019832  0.010430  0.534893  ...  0.022399  0.815613   \n",
       "GSM928429  0.977567  0.023292  0.013491  0.562744  ...  0.021738  0.832677   \n",
       "GSM928430  0.978034  0.023050  0.011165  0.481810  ...  0.042978  0.518412   \n",
       "GSM928431  0.984636  0.024411  0.012639  0.462050  ...  0.025951  0.793100   \n",
       "GSM928432  0.976318  0.022026  0.015277  0.549231  ...  0.016248  0.747001   \n",
       "GSM928433  0.984204  0.015195  0.006160  0.437519  ...  0.026670  0.155150   \n",
       "\n",
       "           C11orf24.1    QPRT.1  LEPRE1.1   GNAS.29    RPN1.1   CYB5A.1  \\\n",
       "GSM928410    0.103661  0.200964  0.200289  0.397994  0.031667  0.116547   \n",
       "GSM928411    0.085542  0.224168  0.103062  0.376746  0.028174  0.069490   \n",
       "GSM928412    0.102852  0.236077  0.155706  0.383049  0.019629  0.077901   \n",
       "GSM928413    0.109610  0.217205  0.176550  0.412991  0.034196  0.062415   \n",
       "GSM928414    0.094405  0.219325  0.125886  0.396564  0.021866  0.046562   \n",
       "GSM928415    0.079168  0.245785  0.117861  0.300823  0.027338  0.049083   \n",
       "GSM928416    0.084534  0.231139  0.226753  0.396463  0.028637  0.082773   \n",
       "GSM928417    0.098363  0.204016  0.191636  0.173303  0.014033  0.053147   \n",
       "GSM928418    0.091301  0.217928  0.198903  0.358943  0.028659  0.058941   \n",
       "GSM928419    0.065476  0.230631  0.131507  0.407219  0.016708  0.056320   \n",
       "GSM928420    0.073408  0.158885  0.089074  0.197019  0.011845  0.043921   \n",
       "GSM928421    0.067122  0.098457  0.108308  0.441892  0.012345  0.028432   \n",
       "GSM928422    0.037135  0.220788  0.039122  0.444259  0.008334  0.017998   \n",
       "GSM928423    0.046229  0.228942  0.097392  0.400422  0.014450  0.020787   \n",
       "GSM928424    0.040871  0.208011  0.056141  0.457269  0.008398  0.014626   \n",
       "GSM928425    0.039021  0.230470  0.043544  0.490924  0.004595  0.012720   \n",
       "GSM928426    0.041685  0.220786  0.038490  0.290588  0.006284  0.011045   \n",
       "GSM928427    0.038056  0.234247  0.044426  0.244766  0.008227  0.014047   \n",
       "GSM928428    0.038222  0.214632  0.048707  0.452354  0.007390  0.016975   \n",
       "GSM928429    0.044160  0.226783  0.041601  0.437928  0.006207  0.012716   \n",
       "GSM928430    0.039403  0.202873  0.051938  0.181139  0.007631  0.019301   \n",
       "GSM928431    0.039064  0.186543  0.039786  0.177563  0.005621  0.013725   \n",
       "GSM928432    0.035090  0.207020  0.031336  0.299431  0.006948  0.272705   \n",
       "GSM928433    0.031642  0.155018  0.058125  0.434324  0.008526  0.025031   \n",
       "\n",
       "            AP1S1.1  Target  \n",
       "GSM928410  0.061299       0  \n",
       "GSM928411  0.101310       0  \n",
       "GSM928412  0.089061       0  \n",
       "GSM928413  0.061597       0  \n",
       "GSM928414  0.043234       0  \n",
       "GSM928415  0.084346       0  \n",
       "GSM928416  0.045241       1  \n",
       "GSM928417  0.035183       1  \n",
       "GSM928418  0.042113       1  \n",
       "GSM928419  0.027419       1  \n",
       "GSM928420  0.023684       1  \n",
       "GSM928421  0.019375       1  \n",
       "GSM928422  0.022897       1  \n",
       "GSM928423  0.030505       1  \n",
       "GSM928424  0.027354       1  \n",
       "GSM928425  0.021632       1  \n",
       "GSM928426  0.031467       1  \n",
       "GSM928427  0.026652       1  \n",
       "GSM928428  0.031851       1  \n",
       "GSM928429  0.023372       1  \n",
       "GSM928430  0.025718       1  \n",
       "GSM928431  0.022572       1  \n",
       "GSM928432  0.024050       1  \n",
       "GSM928433  0.015152       1  \n",
       "\n",
       "[24 rows x 27552 columns]"
      ]
     },
     "execution_count": 16,
     "metadata": {},
     "output_type": "execute_result"
    }
   ],
   "source": [
    "import pandas as pd\n",
    "\n",
    "expr = pd.read_csv(expr_filename, index_col = 0)\n",
    "expr"
   ]
  },
  {
   "cell_type": "code",
   "execution_count": 17,
   "metadata": {
    "colab": {
     "base_uri": "https://localhost:8080/",
     "height": 833
    },
    "executionInfo": {
     "elapsed": 10,
     "status": "ok",
     "timestamp": 1726489130731,
     "user": {
      "displayName": "Ugo Lomoio",
      "userId": "00301874906270436685"
     },
     "user_tz": -120
    },
    "id": "e-wUqBx8oZW1",
    "outputId": "8d9f9640-4b19-4afd-d5fa-2fce952d5fbe"
   },
   "outputs": [
    {
     "data": {
      "text/html": [
       "<div>\n",
       "<style scoped>\n",
       "    .dataframe tbody tr th:only-of-type {\n",
       "        vertical-align: middle;\n",
       "    }\n",
       "\n",
       "    .dataframe tbody tr th {\n",
       "        vertical-align: top;\n",
       "    }\n",
       "\n",
       "    .dataframe thead th {\n",
       "        text-align: right;\n",
       "    }\n",
       "</style>\n",
       "<table border=\"1\" class=\"dataframe\">\n",
       "  <thead>\n",
       "    <tr style=\"text-align: right;\">\n",
       "      <th></th>\n",
       "      <th>Target</th>\n",
       "    </tr>\n",
       "  </thead>\n",
       "  <tbody>\n",
       "    <tr>\n",
       "      <th>GSM928410</th>\n",
       "      <td>0</td>\n",
       "    </tr>\n",
       "    <tr>\n",
       "      <th>GSM928411</th>\n",
       "      <td>0</td>\n",
       "    </tr>\n",
       "    <tr>\n",
       "      <th>GSM928412</th>\n",
       "      <td>0</td>\n",
       "    </tr>\n",
       "    <tr>\n",
       "      <th>GSM928413</th>\n",
       "      <td>0</td>\n",
       "    </tr>\n",
       "    <tr>\n",
       "      <th>GSM928414</th>\n",
       "      <td>0</td>\n",
       "    </tr>\n",
       "    <tr>\n",
       "      <th>GSM928415</th>\n",
       "      <td>0</td>\n",
       "    </tr>\n",
       "    <tr>\n",
       "      <th>GSM928416</th>\n",
       "      <td>1</td>\n",
       "    </tr>\n",
       "    <tr>\n",
       "      <th>GSM928417</th>\n",
       "      <td>1</td>\n",
       "    </tr>\n",
       "    <tr>\n",
       "      <th>GSM928418</th>\n",
       "      <td>1</td>\n",
       "    </tr>\n",
       "    <tr>\n",
       "      <th>GSM928419</th>\n",
       "      <td>1</td>\n",
       "    </tr>\n",
       "    <tr>\n",
       "      <th>GSM928420</th>\n",
       "      <td>1</td>\n",
       "    </tr>\n",
       "    <tr>\n",
       "      <th>GSM928421</th>\n",
       "      <td>1</td>\n",
       "    </tr>\n",
       "    <tr>\n",
       "      <th>GSM928422</th>\n",
       "      <td>1</td>\n",
       "    </tr>\n",
       "    <tr>\n",
       "      <th>GSM928423</th>\n",
       "      <td>1</td>\n",
       "    </tr>\n",
       "    <tr>\n",
       "      <th>GSM928424</th>\n",
       "      <td>1</td>\n",
       "    </tr>\n",
       "    <tr>\n",
       "      <th>GSM928425</th>\n",
       "      <td>1</td>\n",
       "    </tr>\n",
       "    <tr>\n",
       "      <th>GSM928426</th>\n",
       "      <td>1</td>\n",
       "    </tr>\n",
       "    <tr>\n",
       "      <th>GSM928427</th>\n",
       "      <td>1</td>\n",
       "    </tr>\n",
       "    <tr>\n",
       "      <th>GSM928428</th>\n",
       "      <td>1</td>\n",
       "    </tr>\n",
       "    <tr>\n",
       "      <th>GSM928429</th>\n",
       "      <td>1</td>\n",
       "    </tr>\n",
       "    <tr>\n",
       "      <th>GSM928430</th>\n",
       "      <td>1</td>\n",
       "    </tr>\n",
       "    <tr>\n",
       "      <th>GSM928431</th>\n",
       "      <td>1</td>\n",
       "    </tr>\n",
       "    <tr>\n",
       "      <th>GSM928432</th>\n",
       "      <td>1</td>\n",
       "    </tr>\n",
       "    <tr>\n",
       "      <th>GSM928433</th>\n",
       "      <td>1</td>\n",
       "    </tr>\n",
       "  </tbody>\n",
       "</table>\n",
       "</div>"
      ],
      "text/plain": [
       "           Target\n",
       "GSM928410       0\n",
       "GSM928411       0\n",
       "GSM928412       0\n",
       "GSM928413       0\n",
       "GSM928414       0\n",
       "GSM928415       0\n",
       "GSM928416       1\n",
       "GSM928417       1\n",
       "GSM928418       1\n",
       "GSM928419       1\n",
       "GSM928420       1\n",
       "GSM928421       1\n",
       "GSM928422       1\n",
       "GSM928423       1\n",
       "GSM928424       1\n",
       "GSM928425       1\n",
       "GSM928426       1\n",
       "GSM928427       1\n",
       "GSM928428       1\n",
       "GSM928429       1\n",
       "GSM928430       1\n",
       "GSM928431       1\n",
       "GSM928432       1\n",
       "GSM928433       1"
      ]
     },
     "execution_count": 17,
     "metadata": {},
     "output_type": "execute_result"
    }
   ],
   "source": [
    "clinic = pd.DataFrame(expr[\"Target\"])\n",
    "clinic"
   ]
  },
  {
   "cell_type": "code",
   "execution_count": 18,
   "metadata": {
    "scrolled": true
   },
   "outputs": [
    {
     "data": {
      "text/html": [
       "<div>\n",
       "<style scoped>\n",
       "    .dataframe tbody tr th:only-of-type {\n",
       "        vertical-align: middle;\n",
       "    }\n",
       "\n",
       "    .dataframe tbody tr th {\n",
       "        vertical-align: top;\n",
       "    }\n",
       "\n",
       "    .dataframe thead th {\n",
       "        text-align: right;\n",
       "    }\n",
       "</style>\n",
       "<table border=\"1\" class=\"dataframe\">\n",
       "  <thead>\n",
       "    <tr style=\"text-align: right;\">\n",
       "      <th></th>\n",
       "      <th>ATP2A1</th>\n",
       "      <th>SLMAP</th>\n",
       "      <th>MEOX2</th>\n",
       "      <th>HOXD3</th>\n",
       "      <th>ZNF398</th>\n",
       "      <th>PANX1</th>\n",
       "      <th>COX8C</th>\n",
       "      <th>IMPA2</th>\n",
       "      <th>TTC8</th>\n",
       "      <th>FLJ35816</th>\n",
       "      <th>...</th>\n",
       "      <th>A2ML1.1</th>\n",
       "      <th>ZFP2.1</th>\n",
       "      <th>CST9L.1</th>\n",
       "      <th>C11orf24.1</th>\n",
       "      <th>QPRT.1</th>\n",
       "      <th>LEPRE1.1</th>\n",
       "      <th>GNAS.29</th>\n",
       "      <th>RPN1.1</th>\n",
       "      <th>CYB5A.1</th>\n",
       "      <th>AP1S1.1</th>\n",
       "    </tr>\n",
       "  </thead>\n",
       "  <tbody>\n",
       "    <tr>\n",
       "      <th>GSM928410</th>\n",
       "      <td>0.663336</td>\n",
       "      <td>0.529598</td>\n",
       "      <td>0.162563</td>\n",
       "      <td>0.383908</td>\n",
       "      <td>0.096852</td>\n",
       "      <td>0.137029</td>\n",
       "      <td>0.971139</td>\n",
       "      <td>0.039016</td>\n",
       "      <td>0.029115</td>\n",
       "      <td>0.530092</td>\n",
       "      <td>...</td>\n",
       "      <td>0.626678</td>\n",
       "      <td>0.174781</td>\n",
       "      <td>0.759511</td>\n",
       "      <td>0.103661</td>\n",
       "      <td>0.200964</td>\n",
       "      <td>0.200289</td>\n",
       "      <td>0.397994</td>\n",
       "      <td>0.031667</td>\n",
       "      <td>0.116547</td>\n",
       "      <td>0.061299</td>\n",
       "    </tr>\n",
       "    <tr>\n",
       "      <th>GSM928411</th>\n",
       "      <td>0.732851</td>\n",
       "      <td>0.637804</td>\n",
       "      <td>0.087245</td>\n",
       "      <td>0.364565</td>\n",
       "      <td>0.100989</td>\n",
       "      <td>0.104867</td>\n",
       "      <td>0.968545</td>\n",
       "      <td>0.046063</td>\n",
       "      <td>0.035143</td>\n",
       "      <td>0.592064</td>\n",
       "      <td>...</td>\n",
       "      <td>0.671998</td>\n",
       "      <td>0.094503</td>\n",
       "      <td>0.747333</td>\n",
       "      <td>0.085542</td>\n",
       "      <td>0.224168</td>\n",
       "      <td>0.103062</td>\n",
       "      <td>0.376746</td>\n",
       "      <td>0.028174</td>\n",
       "      <td>0.069490</td>\n",
       "      <td>0.101310</td>\n",
       "    </tr>\n",
       "    <tr>\n",
       "      <th>GSM928412</th>\n",
       "      <td>0.731909</td>\n",
       "      <td>0.467229</td>\n",
       "      <td>0.151392</td>\n",
       "      <td>0.410514</td>\n",
       "      <td>0.105380</td>\n",
       "      <td>0.118404</td>\n",
       "      <td>0.961028</td>\n",
       "      <td>0.043965</td>\n",
       "      <td>0.031300</td>\n",
       "      <td>0.554694</td>\n",
       "      <td>...</td>\n",
       "      <td>0.602572</td>\n",
       "      <td>0.110763</td>\n",
       "      <td>0.764336</td>\n",
       "      <td>0.102852</td>\n",
       "      <td>0.236077</td>\n",
       "      <td>0.155706</td>\n",
       "      <td>0.383049</td>\n",
       "      <td>0.019629</td>\n",
       "      <td>0.077901</td>\n",
       "      <td>0.089061</td>\n",
       "    </tr>\n",
       "    <tr>\n",
       "      <th>GSM928413</th>\n",
       "      <td>0.756482</td>\n",
       "      <td>0.712974</td>\n",
       "      <td>0.125020</td>\n",
       "      <td>0.438931</td>\n",
       "      <td>0.072189</td>\n",
       "      <td>0.117990</td>\n",
       "      <td>0.971448</td>\n",
       "      <td>0.044214</td>\n",
       "      <td>0.031502</td>\n",
       "      <td>0.587456</td>\n",
       "      <td>...</td>\n",
       "      <td>0.627324</td>\n",
       "      <td>0.052426</td>\n",
       "      <td>0.775798</td>\n",
       "      <td>0.109610</td>\n",
       "      <td>0.217205</td>\n",
       "      <td>0.176550</td>\n",
       "      <td>0.412991</td>\n",
       "      <td>0.034196</td>\n",
       "      <td>0.062415</td>\n",
       "      <td>0.061597</td>\n",
       "    </tr>\n",
       "    <tr>\n",
       "      <th>GSM928414</th>\n",
       "      <td>0.627336</td>\n",
       "      <td>0.374188</td>\n",
       "      <td>0.072009</td>\n",
       "      <td>0.564686</td>\n",
       "      <td>0.083819</td>\n",
       "      <td>0.094375</td>\n",
       "      <td>0.968190</td>\n",
       "      <td>0.028884</td>\n",
       "      <td>0.018645</td>\n",
       "      <td>0.596519</td>\n",
       "      <td>...</td>\n",
       "      <td>0.710886</td>\n",
       "      <td>0.043576</td>\n",
       "      <td>0.792672</td>\n",
       "      <td>0.094405</td>\n",
       "      <td>0.219325</td>\n",
       "      <td>0.125886</td>\n",
       "      <td>0.396564</td>\n",
       "      <td>0.021866</td>\n",
       "      <td>0.046562</td>\n",
       "      <td>0.043234</td>\n",
       "    </tr>\n",
       "    <tr>\n",
       "      <th>GSM928415</th>\n",
       "      <td>0.668793</td>\n",
       "      <td>0.394460</td>\n",
       "      <td>0.122008</td>\n",
       "      <td>0.392940</td>\n",
       "      <td>0.084649</td>\n",
       "      <td>0.105771</td>\n",
       "      <td>0.973028</td>\n",
       "      <td>0.041213</td>\n",
       "      <td>0.023148</td>\n",
       "      <td>0.579087</td>\n",
       "      <td>...</td>\n",
       "      <td>0.658017</td>\n",
       "      <td>0.113668</td>\n",
       "      <td>0.757963</td>\n",
       "      <td>0.079168</td>\n",
       "      <td>0.245785</td>\n",
       "      <td>0.117861</td>\n",
       "      <td>0.300823</td>\n",
       "      <td>0.027338</td>\n",
       "      <td>0.049083</td>\n",
       "      <td>0.084346</td>\n",
       "    </tr>\n",
       "    <tr>\n",
       "      <th>GSM928416</th>\n",
       "      <td>0.426092</td>\n",
       "      <td>0.256789</td>\n",
       "      <td>0.158605</td>\n",
       "      <td>0.744571</td>\n",
       "      <td>0.093180</td>\n",
       "      <td>0.117594</td>\n",
       "      <td>0.971882</td>\n",
       "      <td>0.050376</td>\n",
       "      <td>0.049978</td>\n",
       "      <td>0.508073</td>\n",
       "      <td>...</td>\n",
       "      <td>0.221204</td>\n",
       "      <td>0.052173</td>\n",
       "      <td>0.777005</td>\n",
       "      <td>0.084534</td>\n",
       "      <td>0.231139</td>\n",
       "      <td>0.226753</td>\n",
       "      <td>0.396463</td>\n",
       "      <td>0.028637</td>\n",
       "      <td>0.082773</td>\n",
       "      <td>0.045241</td>\n",
       "    </tr>\n",
       "    <tr>\n",
       "      <th>GSM928417</th>\n",
       "      <td>0.543068</td>\n",
       "      <td>0.161934</td>\n",
       "      <td>0.095487</td>\n",
       "      <td>0.781442</td>\n",
       "      <td>0.045247</td>\n",
       "      <td>0.119621</td>\n",
       "      <td>0.964217</td>\n",
       "      <td>0.040574</td>\n",
       "      <td>0.030213</td>\n",
       "      <td>0.378127</td>\n",
       "      <td>...</td>\n",
       "      <td>0.268238</td>\n",
       "      <td>0.051021</td>\n",
       "      <td>0.745892</td>\n",
       "      <td>0.098363</td>\n",
       "      <td>0.204016</td>\n",
       "      <td>0.191636</td>\n",
       "      <td>0.173303</td>\n",
       "      <td>0.014033</td>\n",
       "      <td>0.053147</td>\n",
       "      <td>0.035183</td>\n",
       "    </tr>\n",
       "    <tr>\n",
       "      <th>GSM928418</th>\n",
       "      <td>0.806099</td>\n",
       "      <td>0.783551</td>\n",
       "      <td>0.182352</td>\n",
       "      <td>0.764526</td>\n",
       "      <td>0.086602</td>\n",
       "      <td>0.122421</td>\n",
       "      <td>0.963932</td>\n",
       "      <td>0.043778</td>\n",
       "      <td>0.030160</td>\n",
       "      <td>0.501038</td>\n",
       "      <td>...</td>\n",
       "      <td>0.265713</td>\n",
       "      <td>0.060801</td>\n",
       "      <td>0.801456</td>\n",
       "      <td>0.091301</td>\n",
       "      <td>0.217928</td>\n",
       "      <td>0.198903</td>\n",
       "      <td>0.358943</td>\n",
       "      <td>0.028659</td>\n",
       "      <td>0.058941</td>\n",
       "      <td>0.042113</td>\n",
       "    </tr>\n",
       "    <tr>\n",
       "      <th>GSM928419</th>\n",
       "      <td>0.535368</td>\n",
       "      <td>0.125626</td>\n",
       "      <td>0.101444</td>\n",
       "      <td>0.811086</td>\n",
       "      <td>0.027037</td>\n",
       "      <td>0.069629</td>\n",
       "      <td>0.970158</td>\n",
       "      <td>0.032499</td>\n",
       "      <td>0.022672</td>\n",
       "      <td>0.557364</td>\n",
       "      <td>...</td>\n",
       "      <td>0.141304</td>\n",
       "      <td>0.042587</td>\n",
       "      <td>0.790621</td>\n",
       "      <td>0.065476</td>\n",
       "      <td>0.230631</td>\n",
       "      <td>0.131507</td>\n",
       "      <td>0.407219</td>\n",
       "      <td>0.016708</td>\n",
       "      <td>0.056320</td>\n",
       "      <td>0.027419</td>\n",
       "    </tr>\n",
       "    <tr>\n",
       "      <th>GSM928420</th>\n",
       "      <td>0.703619</td>\n",
       "      <td>0.676400</td>\n",
       "      <td>0.111034</td>\n",
       "      <td>0.846040</td>\n",
       "      <td>0.037037</td>\n",
       "      <td>0.118240</td>\n",
       "      <td>0.978038</td>\n",
       "      <td>0.029411</td>\n",
       "      <td>0.024753</td>\n",
       "      <td>0.489507</td>\n",
       "      <td>...</td>\n",
       "      <td>0.163198</td>\n",
       "      <td>0.031715</td>\n",
       "      <td>0.524165</td>\n",
       "      <td>0.073408</td>\n",
       "      <td>0.158885</td>\n",
       "      <td>0.089074</td>\n",
       "      <td>0.197019</td>\n",
       "      <td>0.011845</td>\n",
       "      <td>0.043921</td>\n",
       "      <td>0.023684</td>\n",
       "    </tr>\n",
       "    <tr>\n",
       "      <th>GSM928421</th>\n",
       "      <td>0.817144</td>\n",
       "      <td>0.093566</td>\n",
       "      <td>0.119262</td>\n",
       "      <td>0.794505</td>\n",
       "      <td>0.022453</td>\n",
       "      <td>0.231460</td>\n",
       "      <td>0.982106</td>\n",
       "      <td>0.031482</td>\n",
       "      <td>0.013398</td>\n",
       "      <td>0.573627</td>\n",
       "      <td>...</td>\n",
       "      <td>0.151882</td>\n",
       "      <td>0.022869</td>\n",
       "      <td>0.814041</td>\n",
       "      <td>0.067122</td>\n",
       "      <td>0.098457</td>\n",
       "      <td>0.108308</td>\n",
       "      <td>0.441892</td>\n",
       "      <td>0.012345</td>\n",
       "      <td>0.028432</td>\n",
       "      <td>0.019375</td>\n",
       "    </tr>\n",
       "    <tr>\n",
       "      <th>GSM928422</th>\n",
       "      <td>0.409728</td>\n",
       "      <td>0.093750</td>\n",
       "      <td>0.088316</td>\n",
       "      <td>0.805207</td>\n",
       "      <td>0.015399</td>\n",
       "      <td>0.108503</td>\n",
       "      <td>0.978841</td>\n",
       "      <td>0.026527</td>\n",
       "      <td>0.016016</td>\n",
       "      <td>0.512338</td>\n",
       "      <td>...</td>\n",
       "      <td>0.227843</td>\n",
       "      <td>0.030848</td>\n",
       "      <td>0.775920</td>\n",
       "      <td>0.037135</td>\n",
       "      <td>0.220788</td>\n",
       "      <td>0.039122</td>\n",
       "      <td>0.444259</td>\n",
       "      <td>0.008334</td>\n",
       "      <td>0.017998</td>\n",
       "      <td>0.022897</td>\n",
       "    </tr>\n",
       "    <tr>\n",
       "      <th>GSM928423</th>\n",
       "      <td>0.543978</td>\n",
       "      <td>0.189580</td>\n",
       "      <td>0.109502</td>\n",
       "      <td>0.705171</td>\n",
       "      <td>0.033869</td>\n",
       "      <td>0.220051</td>\n",
       "      <td>0.976979</td>\n",
       "      <td>0.023748</td>\n",
       "      <td>0.011903</td>\n",
       "      <td>0.613839</td>\n",
       "      <td>...</td>\n",
       "      <td>0.227618</td>\n",
       "      <td>0.043739</td>\n",
       "      <td>0.802150</td>\n",
       "      <td>0.046229</td>\n",
       "      <td>0.228942</td>\n",
       "      <td>0.097392</td>\n",
       "      <td>0.400422</td>\n",
       "      <td>0.014450</td>\n",
       "      <td>0.020787</td>\n",
       "      <td>0.030505</td>\n",
       "    </tr>\n",
       "    <tr>\n",
       "      <th>GSM928424</th>\n",
       "      <td>0.832374</td>\n",
       "      <td>0.129283</td>\n",
       "      <td>0.031621</td>\n",
       "      <td>0.798701</td>\n",
       "      <td>0.018344</td>\n",
       "      <td>0.089821</td>\n",
       "      <td>0.980335</td>\n",
       "      <td>0.022257</td>\n",
       "      <td>0.009273</td>\n",
       "      <td>0.518569</td>\n",
       "      <td>...</td>\n",
       "      <td>0.132613</td>\n",
       "      <td>0.038415</td>\n",
       "      <td>0.821270</td>\n",
       "      <td>0.040871</td>\n",
       "      <td>0.208011</td>\n",
       "      <td>0.056141</td>\n",
       "      <td>0.457269</td>\n",
       "      <td>0.008398</td>\n",
       "      <td>0.014626</td>\n",
       "      <td>0.027354</td>\n",
       "    </tr>\n",
       "    <tr>\n",
       "      <th>GSM928425</th>\n",
       "      <td>0.815578</td>\n",
       "      <td>0.315857</td>\n",
       "      <td>0.046209</td>\n",
       "      <td>0.871397</td>\n",
       "      <td>0.018025</td>\n",
       "      <td>0.070097</td>\n",
       "      <td>0.981824</td>\n",
       "      <td>0.025346</td>\n",
       "      <td>0.009612</td>\n",
       "      <td>0.579383</td>\n",
       "      <td>...</td>\n",
       "      <td>0.316190</td>\n",
       "      <td>0.019224</td>\n",
       "      <td>0.835004</td>\n",
       "      <td>0.039021</td>\n",
       "      <td>0.230470</td>\n",
       "      <td>0.043544</td>\n",
       "      <td>0.490924</td>\n",
       "      <td>0.004595</td>\n",
       "      <td>0.012720</td>\n",
       "      <td>0.021632</td>\n",
       "    </tr>\n",
       "    <tr>\n",
       "      <th>GSM928426</th>\n",
       "      <td>0.418700</td>\n",
       "      <td>0.074661</td>\n",
       "      <td>0.040767</td>\n",
       "      <td>0.823890</td>\n",
       "      <td>0.015405</td>\n",
       "      <td>0.054142</td>\n",
       "      <td>0.982683</td>\n",
       "      <td>0.024076</td>\n",
       "      <td>0.009506</td>\n",
       "      <td>0.470287</td>\n",
       "      <td>...</td>\n",
       "      <td>0.140426</td>\n",
       "      <td>0.020391</td>\n",
       "      <td>0.786767</td>\n",
       "      <td>0.041685</td>\n",
       "      <td>0.220786</td>\n",
       "      <td>0.038490</td>\n",
       "      <td>0.290588</td>\n",
       "      <td>0.006284</td>\n",
       "      <td>0.011045</td>\n",
       "      <td>0.031467</td>\n",
       "    </tr>\n",
       "    <tr>\n",
       "      <th>GSM928427</th>\n",
       "      <td>0.750107</td>\n",
       "      <td>0.308633</td>\n",
       "      <td>0.022222</td>\n",
       "      <td>0.841576</td>\n",
       "      <td>0.014033</td>\n",
       "      <td>0.037842</td>\n",
       "      <td>0.986313</td>\n",
       "      <td>0.021968</td>\n",
       "      <td>0.009482</td>\n",
       "      <td>0.573926</td>\n",
       "      <td>...</td>\n",
       "      <td>0.145121</td>\n",
       "      <td>0.021235</td>\n",
       "      <td>0.826842</td>\n",
       "      <td>0.038056</td>\n",
       "      <td>0.234247</td>\n",
       "      <td>0.044426</td>\n",
       "      <td>0.244766</td>\n",
       "      <td>0.008227</td>\n",
       "      <td>0.014047</td>\n",
       "      <td>0.026652</td>\n",
       "    </tr>\n",
       "    <tr>\n",
       "      <th>GSM928428</th>\n",
       "      <td>0.733186</td>\n",
       "      <td>0.130307</td>\n",
       "      <td>0.042095</td>\n",
       "      <td>0.802706</td>\n",
       "      <td>0.015738</td>\n",
       "      <td>0.071776</td>\n",
       "      <td>0.979202</td>\n",
       "      <td>0.019832</td>\n",
       "      <td>0.010430</td>\n",
       "      <td>0.534893</td>\n",
       "      <td>...</td>\n",
       "      <td>0.201235</td>\n",
       "      <td>0.022399</td>\n",
       "      <td>0.815613</td>\n",
       "      <td>0.038222</td>\n",
       "      <td>0.214632</td>\n",
       "      <td>0.048707</td>\n",
       "      <td>0.452354</td>\n",
       "      <td>0.007390</td>\n",
       "      <td>0.016975</td>\n",
       "      <td>0.031851</td>\n",
       "    </tr>\n",
       "    <tr>\n",
       "      <th>GSM928429</th>\n",
       "      <td>0.604937</td>\n",
       "      <td>0.100124</td>\n",
       "      <td>0.033127</td>\n",
       "      <td>0.841069</td>\n",
       "      <td>0.018455</td>\n",
       "      <td>0.052406</td>\n",
       "      <td>0.977567</td>\n",
       "      <td>0.023292</td>\n",
       "      <td>0.013491</td>\n",
       "      <td>0.562744</td>\n",
       "      <td>...</td>\n",
       "      <td>0.111266</td>\n",
       "      <td>0.021738</td>\n",
       "      <td>0.832677</td>\n",
       "      <td>0.044160</td>\n",
       "      <td>0.226783</td>\n",
       "      <td>0.041601</td>\n",
       "      <td>0.437928</td>\n",
       "      <td>0.006207</td>\n",
       "      <td>0.012716</td>\n",
       "      <td>0.023372</td>\n",
       "    </tr>\n",
       "    <tr>\n",
       "      <th>GSM928430</th>\n",
       "      <td>0.437868</td>\n",
       "      <td>0.140084</td>\n",
       "      <td>0.519438</td>\n",
       "      <td>0.684985</td>\n",
       "      <td>0.016173</td>\n",
       "      <td>0.076557</td>\n",
       "      <td>0.978034</td>\n",
       "      <td>0.023050</td>\n",
       "      <td>0.011165</td>\n",
       "      <td>0.481810</td>\n",
       "      <td>...</td>\n",
       "      <td>0.161789</td>\n",
       "      <td>0.042978</td>\n",
       "      <td>0.518412</td>\n",
       "      <td>0.039403</td>\n",
       "      <td>0.202873</td>\n",
       "      <td>0.051938</td>\n",
       "      <td>0.181139</td>\n",
       "      <td>0.007631</td>\n",
       "      <td>0.019301</td>\n",
       "      <td>0.025718</td>\n",
       "    </tr>\n",
       "    <tr>\n",
       "      <th>GSM928431</th>\n",
       "      <td>0.298159</td>\n",
       "      <td>0.138758</td>\n",
       "      <td>0.058877</td>\n",
       "      <td>0.752970</td>\n",
       "      <td>0.024597</td>\n",
       "      <td>0.052569</td>\n",
       "      <td>0.984636</td>\n",
       "      <td>0.024411</td>\n",
       "      <td>0.012639</td>\n",
       "      <td>0.462050</td>\n",
       "      <td>...</td>\n",
       "      <td>0.201561</td>\n",
       "      <td>0.025951</td>\n",
       "      <td>0.793100</td>\n",
       "      <td>0.039064</td>\n",
       "      <td>0.186543</td>\n",
       "      <td>0.039786</td>\n",
       "      <td>0.177563</td>\n",
       "      <td>0.005621</td>\n",
       "      <td>0.013725</td>\n",
       "      <td>0.022572</td>\n",
       "    </tr>\n",
       "    <tr>\n",
       "      <th>GSM928432</th>\n",
       "      <td>0.328170</td>\n",
       "      <td>0.076230</td>\n",
       "      <td>0.345729</td>\n",
       "      <td>0.778197</td>\n",
       "      <td>0.025442</td>\n",
       "      <td>0.065034</td>\n",
       "      <td>0.976318</td>\n",
       "      <td>0.022026</td>\n",
       "      <td>0.015277</td>\n",
       "      <td>0.549231</td>\n",
       "      <td>...</td>\n",
       "      <td>0.132105</td>\n",
       "      <td>0.016248</td>\n",
       "      <td>0.747001</td>\n",
       "      <td>0.035090</td>\n",
       "      <td>0.207020</td>\n",
       "      <td>0.031336</td>\n",
       "      <td>0.299431</td>\n",
       "      <td>0.006948</td>\n",
       "      <td>0.272705</td>\n",
       "      <td>0.024050</td>\n",
       "    </tr>\n",
       "    <tr>\n",
       "      <th>GSM928433</th>\n",
       "      <td>0.184375</td>\n",
       "      <td>0.109300</td>\n",
       "      <td>0.026707</td>\n",
       "      <td>0.839303</td>\n",
       "      <td>0.018748</td>\n",
       "      <td>0.086138</td>\n",
       "      <td>0.984204</td>\n",
       "      <td>0.015195</td>\n",
       "      <td>0.006160</td>\n",
       "      <td>0.437519</td>\n",
       "      <td>...</td>\n",
       "      <td>0.149824</td>\n",
       "      <td>0.026670</td>\n",
       "      <td>0.155150</td>\n",
       "      <td>0.031642</td>\n",
       "      <td>0.155018</td>\n",
       "      <td>0.058125</td>\n",
       "      <td>0.434324</td>\n",
       "      <td>0.008526</td>\n",
       "      <td>0.025031</td>\n",
       "      <td>0.015152</td>\n",
       "    </tr>\n",
       "  </tbody>\n",
       "</table>\n",
       "<p>24 rows × 27551 columns</p>\n",
       "</div>"
      ],
      "text/plain": [
       "             ATP2A1     SLMAP     MEOX2     HOXD3    ZNF398     PANX1  \\\n",
       "GSM928410  0.663336  0.529598  0.162563  0.383908  0.096852  0.137029   \n",
       "GSM928411  0.732851  0.637804  0.087245  0.364565  0.100989  0.104867   \n",
       "GSM928412  0.731909  0.467229  0.151392  0.410514  0.105380  0.118404   \n",
       "GSM928413  0.756482  0.712974  0.125020  0.438931  0.072189  0.117990   \n",
       "GSM928414  0.627336  0.374188  0.072009  0.564686  0.083819  0.094375   \n",
       "GSM928415  0.668793  0.394460  0.122008  0.392940  0.084649  0.105771   \n",
       "GSM928416  0.426092  0.256789  0.158605  0.744571  0.093180  0.117594   \n",
       "GSM928417  0.543068  0.161934  0.095487  0.781442  0.045247  0.119621   \n",
       "GSM928418  0.806099  0.783551  0.182352  0.764526  0.086602  0.122421   \n",
       "GSM928419  0.535368  0.125626  0.101444  0.811086  0.027037  0.069629   \n",
       "GSM928420  0.703619  0.676400  0.111034  0.846040  0.037037  0.118240   \n",
       "GSM928421  0.817144  0.093566  0.119262  0.794505  0.022453  0.231460   \n",
       "GSM928422  0.409728  0.093750  0.088316  0.805207  0.015399  0.108503   \n",
       "GSM928423  0.543978  0.189580  0.109502  0.705171  0.033869  0.220051   \n",
       "GSM928424  0.832374  0.129283  0.031621  0.798701  0.018344  0.089821   \n",
       "GSM928425  0.815578  0.315857  0.046209  0.871397  0.018025  0.070097   \n",
       "GSM928426  0.418700  0.074661  0.040767  0.823890  0.015405  0.054142   \n",
       "GSM928427  0.750107  0.308633  0.022222  0.841576  0.014033  0.037842   \n",
       "GSM928428  0.733186  0.130307  0.042095  0.802706  0.015738  0.071776   \n",
       "GSM928429  0.604937  0.100124  0.033127  0.841069  0.018455  0.052406   \n",
       "GSM928430  0.437868  0.140084  0.519438  0.684985  0.016173  0.076557   \n",
       "GSM928431  0.298159  0.138758  0.058877  0.752970  0.024597  0.052569   \n",
       "GSM928432  0.328170  0.076230  0.345729  0.778197  0.025442  0.065034   \n",
       "GSM928433  0.184375  0.109300  0.026707  0.839303  0.018748  0.086138   \n",
       "\n",
       "              COX8C     IMPA2      TTC8  FLJ35816  ...   A2ML1.1    ZFP2.1  \\\n",
       "GSM928410  0.971139  0.039016  0.029115  0.530092  ...  0.626678  0.174781   \n",
       "GSM928411  0.968545  0.046063  0.035143  0.592064  ...  0.671998  0.094503   \n",
       "GSM928412  0.961028  0.043965  0.031300  0.554694  ...  0.602572  0.110763   \n",
       "GSM928413  0.971448  0.044214  0.031502  0.587456  ...  0.627324  0.052426   \n",
       "GSM928414  0.968190  0.028884  0.018645  0.596519  ...  0.710886  0.043576   \n",
       "GSM928415  0.973028  0.041213  0.023148  0.579087  ...  0.658017  0.113668   \n",
       "GSM928416  0.971882  0.050376  0.049978  0.508073  ...  0.221204  0.052173   \n",
       "GSM928417  0.964217  0.040574  0.030213  0.378127  ...  0.268238  0.051021   \n",
       "GSM928418  0.963932  0.043778  0.030160  0.501038  ...  0.265713  0.060801   \n",
       "GSM928419  0.970158  0.032499  0.022672  0.557364  ...  0.141304  0.042587   \n",
       "GSM928420  0.978038  0.029411  0.024753  0.489507  ...  0.163198  0.031715   \n",
       "GSM928421  0.982106  0.031482  0.013398  0.573627  ...  0.151882  0.022869   \n",
       "GSM928422  0.978841  0.026527  0.016016  0.512338  ...  0.227843  0.030848   \n",
       "GSM928423  0.976979  0.023748  0.011903  0.613839  ...  0.227618  0.043739   \n",
       "GSM928424  0.980335  0.022257  0.009273  0.518569  ...  0.132613  0.038415   \n",
       "GSM928425  0.981824  0.025346  0.009612  0.579383  ...  0.316190  0.019224   \n",
       "GSM928426  0.982683  0.024076  0.009506  0.470287  ...  0.140426  0.020391   \n",
       "GSM928427  0.986313  0.021968  0.009482  0.573926  ...  0.145121  0.021235   \n",
       "GSM928428  0.979202  0.019832  0.010430  0.534893  ...  0.201235  0.022399   \n",
       "GSM928429  0.977567  0.023292  0.013491  0.562744  ...  0.111266  0.021738   \n",
       "GSM928430  0.978034  0.023050  0.011165  0.481810  ...  0.161789  0.042978   \n",
       "GSM928431  0.984636  0.024411  0.012639  0.462050  ...  0.201561  0.025951   \n",
       "GSM928432  0.976318  0.022026  0.015277  0.549231  ...  0.132105  0.016248   \n",
       "GSM928433  0.984204  0.015195  0.006160  0.437519  ...  0.149824  0.026670   \n",
       "\n",
       "            CST9L.1  C11orf24.1    QPRT.1  LEPRE1.1   GNAS.29    RPN1.1  \\\n",
       "GSM928410  0.759511    0.103661  0.200964  0.200289  0.397994  0.031667   \n",
       "GSM928411  0.747333    0.085542  0.224168  0.103062  0.376746  0.028174   \n",
       "GSM928412  0.764336    0.102852  0.236077  0.155706  0.383049  0.019629   \n",
       "GSM928413  0.775798    0.109610  0.217205  0.176550  0.412991  0.034196   \n",
       "GSM928414  0.792672    0.094405  0.219325  0.125886  0.396564  0.021866   \n",
       "GSM928415  0.757963    0.079168  0.245785  0.117861  0.300823  0.027338   \n",
       "GSM928416  0.777005    0.084534  0.231139  0.226753  0.396463  0.028637   \n",
       "GSM928417  0.745892    0.098363  0.204016  0.191636  0.173303  0.014033   \n",
       "GSM928418  0.801456    0.091301  0.217928  0.198903  0.358943  0.028659   \n",
       "GSM928419  0.790621    0.065476  0.230631  0.131507  0.407219  0.016708   \n",
       "GSM928420  0.524165    0.073408  0.158885  0.089074  0.197019  0.011845   \n",
       "GSM928421  0.814041    0.067122  0.098457  0.108308  0.441892  0.012345   \n",
       "GSM928422  0.775920    0.037135  0.220788  0.039122  0.444259  0.008334   \n",
       "GSM928423  0.802150    0.046229  0.228942  0.097392  0.400422  0.014450   \n",
       "GSM928424  0.821270    0.040871  0.208011  0.056141  0.457269  0.008398   \n",
       "GSM928425  0.835004    0.039021  0.230470  0.043544  0.490924  0.004595   \n",
       "GSM928426  0.786767    0.041685  0.220786  0.038490  0.290588  0.006284   \n",
       "GSM928427  0.826842    0.038056  0.234247  0.044426  0.244766  0.008227   \n",
       "GSM928428  0.815613    0.038222  0.214632  0.048707  0.452354  0.007390   \n",
       "GSM928429  0.832677    0.044160  0.226783  0.041601  0.437928  0.006207   \n",
       "GSM928430  0.518412    0.039403  0.202873  0.051938  0.181139  0.007631   \n",
       "GSM928431  0.793100    0.039064  0.186543  0.039786  0.177563  0.005621   \n",
       "GSM928432  0.747001    0.035090  0.207020  0.031336  0.299431  0.006948   \n",
       "GSM928433  0.155150    0.031642  0.155018  0.058125  0.434324  0.008526   \n",
       "\n",
       "            CYB5A.1   AP1S1.1  \n",
       "GSM928410  0.116547  0.061299  \n",
       "GSM928411  0.069490  0.101310  \n",
       "GSM928412  0.077901  0.089061  \n",
       "GSM928413  0.062415  0.061597  \n",
       "GSM928414  0.046562  0.043234  \n",
       "GSM928415  0.049083  0.084346  \n",
       "GSM928416  0.082773  0.045241  \n",
       "GSM928417  0.053147  0.035183  \n",
       "GSM928418  0.058941  0.042113  \n",
       "GSM928419  0.056320  0.027419  \n",
       "GSM928420  0.043921  0.023684  \n",
       "GSM928421  0.028432  0.019375  \n",
       "GSM928422  0.017998  0.022897  \n",
       "GSM928423  0.020787  0.030505  \n",
       "GSM928424  0.014626  0.027354  \n",
       "GSM928425  0.012720  0.021632  \n",
       "GSM928426  0.011045  0.031467  \n",
       "GSM928427  0.014047  0.026652  \n",
       "GSM928428  0.016975  0.031851  \n",
       "GSM928429  0.012716  0.023372  \n",
       "GSM928430  0.019301  0.025718  \n",
       "GSM928431  0.013725  0.022572  \n",
       "GSM928432  0.272705  0.024050  \n",
       "GSM928433  0.025031  0.015152  \n",
       "\n",
       "[24 rows x 27551 columns]"
      ]
     },
     "execution_count": 18,
     "metadata": {},
     "output_type": "execute_result"
    }
   ],
   "source": [
    "expr = expr.drop(\"Target\", axis = 1)\n",
    "expr"
   ]
  },
  {
   "cell_type": "code",
   "execution_count": 19,
   "metadata": {
    "colab": {
     "base_uri": "https://localhost:8080/",
     "height": 36
    },
    "executionInfo": {
     "elapsed": 8,
     "status": "ok",
     "timestamp": 1726489130731,
     "user": {
      "displayName": "Ugo Lomoio",
      "userId": "00301874906270436685"
     },
     "user_tz": -120
    },
    "id": "m5KZ3xtumM8t",
    "outputId": "f3671272-f5e7-41ab-aa75-a642656e8732"
   },
   "outputs": [
    {
     "data": {
      "text/plain": [
       "'cuda:0'"
      ]
     },
     "execution_count": 19,
     "metadata": {},
     "output_type": "execute_result"
    }
   ],
   "source": [
    "import torch\n",
    "device = \"cuda:0\" if torch.cuda.is_available() else \"cpu\"\n",
    "device"
   ]
  },
  {
   "cell_type": "code",
   "execution_count": 20,
   "metadata": {
    "executionInfo": {
     "elapsed": 7,
     "status": "ok",
     "timestamp": 1726489130731,
     "user": {
      "displayName": "Ugo Lomoio",
      "userId": "00301874906270436685"
     },
     "user_tz": -120
    },
    "id": "ERJorMEAFeCb"
   },
   "outputs": [],
   "source": [
    "import torch\n",
    "import numpy as np\n",
    "\n",
    "def parse_edges(edge_list):\n",
    "    source_nodes = []\n",
    "    target_nodes = []\n",
    "    node_mapping = {}\n",
    "    next_index = 0\n",
    "\n",
    "    for edge in edge_list:\n",
    "        source, target = edge.split('_')\n",
    "        #if source == target:\n",
    "        #    continue\n",
    "        if source not in node_mapping:\n",
    "            node_mapping[source] = next_index\n",
    "            next_index += 1\n",
    "        if target not in node_mapping:\n",
    "            node_mapping[target] = next_index\n",
    "            next_index += 1\n",
    "\n",
    "        source_nodes.append(node_mapping[source])\n",
    "        target_nodes.append(node_mapping[target])\n",
    "\n",
    "    return source_nodes, target_nodes, node_mapping\n",
    "\n",
    "def create_edge_index(source_nodes, target_nodes):\n",
    "    edge_list = np.array([source_nodes, target_nodes], dtype=np.int64)\n",
    "    edge_index = torch.LongTensor(edge_list)\n",
    "    return edge_index"
   ]
  },
  {
   "cell_type": "code",
   "execution_count": 21,
   "metadata": {
    "colab": {
     "base_uri": "https://localhost:8080/"
    },
    "executionInfo": {
     "elapsed": 427,
     "status": "ok",
     "timestamp": 1726490644876,
     "user": {
      "displayName": "Ugo Lomoio",
      "userId": "00301874906270436685"
     },
     "user_tz": -120
    },
    "id": "HAyVlVmSlQNx",
    "outputId": "4fedbb27-5ed2-4132-dc90-9b631463a81a"
   },
   "outputs": [
    {
     "data": {
      "text/plain": [
       "torch.Size([24, 24])"
      ]
     },
     "execution_count": 21,
     "metadata": {},
     "output_type": "execute_result"
    }
   ],
   "source": [
    "exp_values = torch.tensor(expr.values).to(device)\n",
    "corr = torch.corrcoef(exp_values)\n",
    "corr.shape"
   ]
  },
  {
   "cell_type": "code",
   "execution_count": 22,
   "metadata": {
    "executionInfo": {
     "elapsed": 582,
     "status": "ok",
     "timestamp": 1726491135642,
     "user": {
      "displayName": "Ugo Lomoio",
      "userId": "00301874906270436685"
     },
     "user_tz": -120
    },
    "id": "Xcu85paK4vQ7"
   },
   "outputs": [],
   "source": [
    "from torch.nn.functional import cosine_similarity"
   ]
  },
  {
   "cell_type": "code",
   "execution_count": 23,
   "metadata": {},
   "outputs": [],
   "source": [
    "n = len(exp_values)\n",
    "sim_matrix = np.zeros((n, n))\n",
    "for i, elem1 in enumerate(exp_values):\n",
    "  for j, elem2 in enumerate(exp_values):\n",
    "    sim = cosine_similarity(elem1, elem2, dim = 0).item()\n",
    "    sim_matrix[i][j] = sim"
   ]
  },
  {
   "cell_type": "code",
   "execution_count": 24,
   "metadata": {},
   "outputs": [
    {
     "data": {
      "text/plain": [
       "array([[1.        , 0.98716688, 0.9877132 , 0.9790296 , 0.97098654,\n",
       "        0.98624697, 0.90942817, 0.89622349, 0.9241625 , 0.92965189,\n",
       "        0.86237835, 0.89938386, 0.91207667, 0.93741412, 0.93798899,\n",
       "        0.92412267, 0.8871658 , 0.91755491, 0.90285488, 0.90231683,\n",
       "        0.88125474, 0.90061897, 0.89006381, 0.83132263],\n",
       "       [0.98716688, 1.        , 0.99625498, 0.98652225, 0.98212716,\n",
       "        0.99610172, 0.91349558, 0.90190234, 0.92922251, 0.9403113 ,\n",
       "        0.8675916 , 0.90792097, 0.92240851, 0.9481358 , 0.93175163,\n",
       "        0.938474  , 0.89920756, 0.93238335, 0.91471117, 0.91473418,\n",
       "        0.88862206, 0.91007374, 0.89885913, 0.82738304],\n",
       "       [0.9877132 , 0.99625498, 1.        , 0.98507766, 0.9811248 ,\n",
       "        0.99578379, 0.9149563 , 0.90209161, 0.92978193, 0.94154521,\n",
       "        0.86732477, 0.90820676, 0.92195579, 0.94819425, 0.93196911,\n",
       "        0.93889082, 0.89862307, 0.93172695, 0.91363926, 0.91488155,\n",
       "        0.88806434, 0.90955826, 0.89935643, 0.82630883],\n",
       "       [0.9790296 , 0.98652225, 0.98507766, 1.        , 0.97483791,\n",
       "        0.9842334 , 0.90025234, 0.89211157, 0.91686761, 0.92224724,\n",
       "        0.8568946 , 0.89007854, 0.90908781, 0.93473703, 0.91629515,\n",
       "        0.91848373, 0.88495439, 0.91446211, 0.90347829, 0.89939349,\n",
       "        0.88056632, 0.90211306, 0.88499917, 0.81947906],\n",
       "       [0.97098654, 0.98212716, 0.9811248 , 0.97483791, 1.        ,\n",
       "        0.98201581, 0.88490879, 0.87626127, 0.90094921, 0.92151116,\n",
       "        0.83782218, 0.87812006, 0.89702687, 0.92698643, 0.91415142,\n",
       "        0.91791327, 0.87971817, 0.91332548, 0.89033039, 0.89336779,\n",
       "        0.86149437, 0.88749581, 0.87257549, 0.8064177 ],\n",
       "       [0.98624697, 0.99610172, 0.99578379, 0.9842334 , 0.98201581,\n",
       "        1.        , 0.91163658, 0.89946169, 0.92748219, 0.93893704,\n",
       "        0.86560915, 0.90648004, 0.92191722, 0.94717801, 0.9309564 ,\n",
       "        0.93771742, 0.89895508, 0.93125393, 0.91353922, 0.91386653,\n",
       "        0.88835486, 0.9098677 , 0.89929625, 0.82605523],\n",
       "       [0.90942817, 0.91349558, 0.9149563 , 0.90025234, 0.88490879,\n",
       "        0.91163658, 1.        , 0.90889466, 0.94498452, 0.92251589,\n",
       "        0.90394057, 0.92970242, 0.93840529, 0.93761808, 0.90213523,\n",
       "        0.91143132, 0.91657545, 0.91285404, 0.93369449, 0.91971255,\n",
       "        0.90934212, 0.93585964, 0.92457148, 0.84531224],\n",
       "       [0.89622349, 0.90190234, 0.90209161, 0.89211157, 0.87626127,\n",
       "        0.89946169, 0.90889466, 1.        , 0.92659341, 0.89290432,\n",
       "        0.89481178, 0.90077078, 0.91062578, 0.91287885, 0.87401031,\n",
       "        0.8742413 , 0.90309624, 0.88208825, 0.9071965 , 0.87039275,\n",
       "        0.89907186, 0.9185443 , 0.87898136, 0.8609537 ],\n",
       "       [0.9241625 , 0.92922251, 0.92978193, 0.91686761, 0.90094921,\n",
       "        0.92748219, 0.94498452, 0.92659341, 1.        , 0.92316327,\n",
       "        0.91234401, 0.93504312, 0.94187802, 0.94360783, 0.90533728,\n",
       "        0.91557431, 0.9133949 , 0.91634898, 0.93479382, 0.91769301,\n",
       "        0.9314372 , 0.93606315, 0.93403898, 0.85041793],\n",
       "       [0.92965189, 0.9403113 , 0.94154521, 0.92224724, 0.92151116,\n",
       "        0.93893704, 0.92251589, 0.89290432, 0.92316327, 1.        ,\n",
       "        0.8906397 , 0.92417314, 0.94847022, 0.95975281, 0.95720132,\n",
       "        0.95999849, 0.93664834, 0.96744592, 0.94095954, 0.94905782,\n",
       "        0.88865373, 0.93328792, 0.90872895, 0.85128341],\n",
       "       [0.86237835, 0.8675916 , 0.86732477, 0.8568946 , 0.83782218,\n",
       "        0.86560915, 0.90394057, 0.89481178, 0.91234401, 0.8906397 ,\n",
       "        1.        , 0.88919211, 0.91905573, 0.90293684, 0.86551965,\n",
       "        0.87543744, 0.90185589, 0.88226981, 0.91080216, 0.88426683,\n",
       "        0.88234693, 0.92181035, 0.87670366, 0.89176244],\n",
       "       [0.89938386, 0.90792097, 0.90820676, 0.89007854, 0.87812006,\n",
       "        0.90648004, 0.92970242, 0.90077078, 0.93504312, 0.92417314,\n",
       "        0.88919211, 1.        , 0.93441444, 0.94019149, 0.90506837,\n",
       "        0.91883743, 0.9186081 , 0.9194277 , 0.93097259, 0.91516999,\n",
       "        0.89892873, 0.91977851, 0.91781321, 0.83580356],\n",
       "       [0.91207667, 0.92240851, 0.92195579, 0.90908781, 0.89702687,\n",
       "        0.92191722, 0.93840529, 0.91062578, 0.94187802, 0.94847022,\n",
       "        0.91905573, 0.93441444, 1.        , 0.95878035, 0.93704227,\n",
       "        0.94762303, 0.94967993, 0.94883829, 0.95012784, 0.95459857,\n",
       "        0.91561814, 0.96019975, 0.9290171 , 0.8700528 ],\n",
       "       [0.93741412, 0.9481358 , 0.94819425, 0.93473703, 0.92698643,\n",
       "        0.94717801, 0.93761808, 0.91287885, 0.94360783, 0.95975281,\n",
       "        0.90293684, 0.94019149, 0.95878035, 1.        , 0.94459908,\n",
       "        0.95310752, 0.94341608, 0.95816492, 0.94542794, 0.94780479,\n",
       "        0.91288708, 0.94752485, 0.93000893, 0.85605412],\n",
       "       [0.93798899, 0.93175163, 0.93196911, 0.91629515, 0.91415142,\n",
       "        0.9309564 , 0.90213523, 0.87401031, 0.90533728, 0.95720132,\n",
       "        0.86551965, 0.90506837, 0.93704227, 0.94459908, 1.        ,\n",
       "        0.95116745, 0.92047426, 0.95248186, 0.92334359, 0.94153052,\n",
       "        0.87361986, 0.91817949, 0.89648259, 0.84690008],\n",
       "       [0.92412267, 0.938474  , 0.93889082, 0.91848373, 0.91791327,\n",
       "        0.93771742, 0.91143132, 0.8742413 , 0.91557431, 0.95999849,\n",
       "        0.87543744, 0.91883743, 0.94762303, 0.95310752, 0.95116745,\n",
       "        1.        , 0.91806269, 0.96318504, 0.92794472, 0.95768534,\n",
       "        0.88152142, 0.92015366, 0.91378687, 0.82801533],\n",
       "       [0.8871658 , 0.89920756, 0.89862307, 0.88495439, 0.87971817,\n",
       "        0.89895508, 0.91657545, 0.90309624, 0.9133949 , 0.93664834,\n",
       "        0.90185589, 0.9186081 , 0.94967993, 0.94341608, 0.92047426,\n",
       "        0.91806269, 1.        , 0.9336546 , 0.94225086, 0.92738513,\n",
       "        0.89438731, 0.95663211, 0.90024998, 0.87444173],\n",
       "       [0.91755491, 0.93238335, 0.93172695, 0.91446211, 0.91332548,\n",
       "        0.93125393, 0.91285404, 0.88208825, 0.91634898, 0.96744592,\n",
       "        0.88226981, 0.9194277 , 0.94883829, 0.95816492, 0.95248186,\n",
       "        0.96318504, 0.9336546 , 1.        , 0.94174272, 0.95276617,\n",
       "        0.88672948, 0.93133772, 0.91152542, 0.84314209],\n",
       "       [0.90285488, 0.91471117, 0.91363926, 0.90347829, 0.89033039,\n",
       "        0.91353922, 0.93369449, 0.9071965 , 0.93479382, 0.94095954,\n",
       "        0.91080216, 0.93097259, 0.95012784, 0.94542794, 0.92334359,\n",
       "        0.92794472, 0.94225086, 0.94174272, 1.        , 0.93358438,\n",
       "        0.90518857, 0.95018388, 0.91642899, 0.867071  ],\n",
       "       [0.90231683, 0.91473418, 0.91488155, 0.89939349, 0.89336779,\n",
       "        0.91386653, 0.91971255, 0.87039275, 0.91769301, 0.94905782,\n",
       "        0.88426683, 0.91516999, 0.95459857, 0.94780479, 0.94153052,\n",
       "        0.95768534, 0.92738513, 0.95276617, 0.93358438, 1.        ,\n",
       "        0.88691678, 0.93508502, 0.91868756, 0.83864394],\n",
       "       [0.88125474, 0.88862206, 0.88806434, 0.88056632, 0.86149437,\n",
       "        0.88835486, 0.90934212, 0.89907186, 0.9314372 , 0.88865373,\n",
       "        0.88234693, 0.89892873, 0.91561814, 0.91288708, 0.87361986,\n",
       "        0.88152142, 0.89438731, 0.88672948, 0.90518857, 0.88691678,\n",
       "        1.        , 0.91888483, 0.93434095, 0.82795796],\n",
       "       [0.90061897, 0.91007374, 0.90955826, 0.90211306, 0.88749581,\n",
       "        0.9098677 , 0.93585964, 0.9185443 , 0.93606315, 0.93328792,\n",
       "        0.92181035, 0.91977851, 0.96019975, 0.94752485, 0.91817949,\n",
       "        0.92015366, 0.95663211, 0.93133772, 0.95018388, 0.93508502,\n",
       "        0.91888483, 1.        , 0.92170223, 0.88337578],\n",
       "       [0.89006381, 0.89885913, 0.89935643, 0.88499917, 0.87257549,\n",
       "        0.89929625, 0.92457148, 0.87898136, 0.93403898, 0.90872895,\n",
       "        0.87670366, 0.91781321, 0.9290171 , 0.93000893, 0.89648259,\n",
       "        0.91378687, 0.90024998, 0.91152542, 0.91642899, 0.91868756,\n",
       "        0.93434095, 0.92170223, 1.        , 0.81570948],\n",
       "       [0.83132263, 0.82738304, 0.82630883, 0.81947906, 0.8064177 ,\n",
       "        0.82605523, 0.84531224, 0.8609537 , 0.85041793, 0.85128341,\n",
       "        0.89176244, 0.83580356, 0.8700528 , 0.85605412, 0.84690008,\n",
       "        0.82801533, 0.87444173, 0.84314209, 0.867071  , 0.83864394,\n",
       "        0.82795796, 0.88337578, 0.81570948, 1.        ]])"
      ]
     },
     "execution_count": 24,
     "metadata": {},
     "output_type": "execute_result"
    }
   ],
   "source": [
    "sim_matrix"
   ]
  },
  {
   "cell_type": "code",
   "execution_count": 25,
   "metadata": {},
   "outputs": [
    {
     "data": {
      "text/plain": [
       "tensor([[1.0000, 0.9747, 0.9752, 0.9596, 0.9494, 0.9742, 0.8160, 0.7989, 0.8444,\n",
       "         0.8819, 0.7522, 0.8200, 0.8528, 0.8893, 0.9070, 0.8823, 0.8273, 0.8767,\n",
       "         0.8445, 0.8476, 0.7832, 0.8364, 0.8053, 0.7432],\n",
       "        [0.9747, 1.0000, 0.9925, 0.9737, 0.9682, 0.9925, 0.8287, 0.8130, 0.8587,\n",
       "         0.8987, 0.7637, 0.8358, 0.8692, 0.9077, 0.8908, 0.9036, 0.8444, 0.8979,\n",
       "         0.8623, 0.8657, 0.7984, 0.8509, 0.8215, 0.7338],\n",
       "        [0.9752, 0.9925, 1.0000, 0.9709, 0.9668, 0.9921, 0.8305, 0.8126, 0.8588,\n",
       "         0.9016, 0.7627, 0.8363, 0.8688, 0.9081, 0.8920, 0.9053, 0.8442, 0.8978,\n",
       "         0.8611, 0.8668, 0.7970, 0.8505, 0.8224, 0.7323],\n",
       "        [0.9596, 0.9737, 0.9709, 1.0000, 0.9539, 0.9694, 0.8051, 0.7961, 0.8365,\n",
       "         0.8653, 0.7455, 0.8036, 0.8447, 0.8826, 0.8621, 0.8668, 0.8184, 0.8649,\n",
       "         0.8415, 0.8376, 0.7846, 0.8361, 0.7967, 0.7199],\n",
       "        [0.9494, 0.9682, 0.9668, 0.9539, 1.0000, 0.9673, 0.7839, 0.7731, 0.8135,\n",
       "         0.8645, 0.7166, 0.7856, 0.8243, 0.8701, 0.8576, 0.8647, 0.8084, 0.8609,\n",
       "         0.8185, 0.8264, 0.7549, 0.8111, 0.7779, 0.6989],\n",
       "        [0.9742, 0.9925, 0.9921, 0.9694, 0.9673, 1.0000, 0.8274, 0.8101, 0.8574,\n",
       "         0.8954, 0.7613, 0.8335, 0.8676, 0.9055, 0.8881, 0.9008, 0.8426, 0.8941,\n",
       "         0.8592, 0.8629, 0.7989, 0.8498, 0.8227, 0.7310],\n",
       "        [0.8160, 0.8287, 0.8305, 0.8051, 0.7839, 0.8274, 1.0000, 0.8271, 0.8910,\n",
       "         0.8659, 0.8306, 0.8759, 0.8976, 0.8879, 0.8374, 0.8548, 0.8738, 0.8627,\n",
       "         0.8954, 0.8738, 0.8371, 0.8965, 0.8686, 0.7639],\n",
       "        [0.7989, 0.8130, 0.8126, 0.7961, 0.7731, 0.8101, 0.8271, 1.0000, 0.8604,\n",
       "         0.8137, 0.8158, 0.8248, 0.8476, 0.8440, 0.7883, 0.7896, 0.8478, 0.8081,\n",
       "         0.8473, 0.7873, 0.8206, 0.8644, 0.7881, 0.7883],\n",
       "        [0.8444, 0.8587, 0.8588, 0.8365, 0.8135, 0.8574, 0.8910, 0.8604, 1.0000,\n",
       "         0.8674, 0.8460, 0.8860, 0.9046, 0.8992, 0.8435, 0.8628, 0.8693, 0.8697,\n",
       "         0.8983, 0.8711, 0.8780, 0.8977, 0.8862, 0.7733],\n",
       "        [0.8819, 0.8987, 0.9016, 0.8653, 0.8645, 0.8954, 0.8659, 0.8137, 0.8674,\n",
       "         1.0000, 0.8153, 0.8713, 0.9142, 0.9314, 0.9302, 0.9351, 0.9012, 0.9490,\n",
       "         0.9042, 0.9187, 0.8102, 0.8904, 0.8460, 0.7729],\n",
       "        [0.7522, 0.7637, 0.7627, 0.7455, 0.7166, 0.7613, 0.8306, 0.8158, 0.8460,\n",
       "         0.8153, 1.0000, 0.8110, 0.8648, 0.8330, 0.7786, 0.7956, 0.8452, 0.8104,\n",
       "         0.8546, 0.8130, 0.7985, 0.8712, 0.7911, 0.8365],\n",
       "        [0.8200, 0.8358, 0.8363, 0.8036, 0.7856, 0.8335, 0.8759, 0.8248, 0.8860,\n",
       "         0.8713, 0.8110, 1.0000, 0.8900, 0.8964, 0.8435, 0.8668, 0.8722, 0.8708,\n",
       "         0.8875, 0.8633, 0.8258, 0.8674, 0.8599, 0.7478],\n",
       "        [0.8528, 0.8692, 0.8688, 0.8447, 0.8243, 0.8676, 0.8976, 0.8476, 0.9046,\n",
       "         0.9142, 0.8648, 0.8900, 1.0000, 0.9310, 0.8975, 0.9151, 0.9218, 0.9188,\n",
       "         0.9195, 0.9277, 0.8580, 0.9351, 0.8815, 0.8027],\n",
       "        [0.8893, 0.9077, 0.9081, 0.8826, 0.8701, 0.9055, 0.8879, 0.8440, 0.8992,\n",
       "         0.9314, 0.8330, 0.8964, 0.9310, 1.0000, 0.9092, 0.9239, 0.9130, 0.9349,\n",
       "         0.9116, 0.9172, 0.8484, 0.9136, 0.8798, 0.7798],\n",
       "        [0.9070, 0.8908, 0.8920, 0.8621, 0.8576, 0.8881, 0.8374, 0.7883, 0.8435,\n",
       "         0.9302, 0.7786, 0.8435, 0.8975, 0.9092, 1.0000, 0.9216, 0.8759, 0.9249,\n",
       "         0.8772, 0.9072, 0.7906, 0.8679, 0.8299, 0.7678],\n",
       "        [0.8823, 0.9036, 0.9053, 0.8668, 0.8647, 0.9008, 0.8548, 0.7896, 0.8628,\n",
       "         0.9351, 0.7956, 0.8668, 0.9151, 0.9239, 0.9216, 1.0000, 0.8723, 0.9419,\n",
       "         0.8848, 0.9330, 0.8045, 0.8714, 0.8589, 0.7391],\n",
       "        [0.8273, 0.8444, 0.8442, 0.8184, 0.8084, 0.8426, 0.8738, 0.8478, 0.8693,\n",
       "         0.9012, 0.8452, 0.8722, 0.9218, 0.9130, 0.8759, 0.8723, 1.0000, 0.8974,\n",
       "         0.9103, 0.8876, 0.8328, 0.9327, 0.8426, 0.8125],\n",
       "        [0.8767, 0.8979, 0.8978, 0.8649, 0.8609, 0.8941, 0.8627, 0.8081, 0.8697,\n",
       "         0.9490, 0.8104, 0.8708, 0.9188, 0.9349, 0.9249, 0.9419, 0.8974, 1.0000,\n",
       "         0.9082, 0.9260, 0.8170, 0.8912, 0.8581, 0.7639],\n",
       "        [0.8445, 0.8623, 0.8611, 0.8415, 0.8185, 0.8592, 0.8954, 0.8473, 0.8983,\n",
       "         0.9042, 0.8546, 0.8875, 0.9195, 0.9116, 0.8772, 0.8848, 0.9103, 0.9082,\n",
       "         1.0000, 0.8950, 0.8446, 0.9201, 0.8639, 0.7992],\n",
       "        [0.8476, 0.8657, 0.8668, 0.8376, 0.8264, 0.8629, 0.8738, 0.7873, 0.8711,\n",
       "         0.9187, 0.8130, 0.8633, 0.9277, 0.9172, 0.9072, 0.9330, 0.8876, 0.9260,\n",
       "         0.8950, 1.0000, 0.8166, 0.8968, 0.8692, 0.7568],\n",
       "        [0.7832, 0.7984, 0.7970, 0.7846, 0.7549, 0.7989, 0.8371, 0.8206, 0.8780,\n",
       "         0.8102, 0.7985, 0.8258, 0.8580, 0.8484, 0.7906, 0.8045, 0.8328, 0.8170,\n",
       "         0.8446, 0.8166, 1.0000, 0.8657, 0.8877, 0.7351],\n",
       "        [0.8364, 0.8509, 0.8505, 0.8361, 0.8111, 0.8498, 0.8965, 0.8644, 0.8977,\n",
       "         0.8904, 0.8712, 0.8674, 0.9351, 0.9136, 0.8679, 0.8714, 0.9327, 0.8912,\n",
       "         0.9201, 0.8968, 0.8657, 1.0000, 0.8711, 0.8238],\n",
       "        [0.8053, 0.8215, 0.8224, 0.7967, 0.7779, 0.8227, 0.8686, 0.7881, 0.8862,\n",
       "         0.8460, 0.7911, 0.8599, 0.8815, 0.8798, 0.8299, 0.8589, 0.8426, 0.8581,\n",
       "         0.8639, 0.8692, 0.8877, 0.8711, 1.0000, 0.7166],\n",
       "        [0.7432, 0.7338, 0.7323, 0.7199, 0.6989, 0.7310, 0.7639, 0.7883, 0.7733,\n",
       "         0.7729, 0.8365, 0.7478, 0.8027, 0.7798, 0.7678, 0.7391, 0.8125, 0.7639,\n",
       "         0.7992, 0.7568, 0.7351, 0.8238, 0.7166, 1.0000]], device='cuda:0',\n",
       "       dtype=torch.float64)"
      ]
     },
     "execution_count": 25,
     "metadata": {},
     "output_type": "execute_result"
    }
   ],
   "source": [
    "corr"
   ]
  },
  {
   "cell_type": "code",
   "execution_count": 26,
   "metadata": {
    "executionInfo": {
     "elapsed": 7160,
     "status": "ok",
     "timestamp": 1726491393475,
     "user": {
      "displayName": "Ugo Lomoio",
      "userId": "00301874906270436685"
     },
     "user_tz": -120
    },
    "id": "LG9bnhfhlgDp"
   },
   "outputs": [],
   "source": [
    "edges_1 = []\n",
    "edge_list = []\n",
    "edge_weights = []\n",
    "\n",
    "#th = 0.999\n",
    "th = 0.92\n",
    "for i, elem1 in enumerate(exp_values):\n",
    "  for j, elem2 in enumerate(exp_values):\n",
    "    #sim = sim_matrix[i][i]\n",
    "    sim = corr[i, j]\n",
    "    if sim > th:\n",
    "      if f\"{expr.T.columns[i]}_{expr.T.columns[j]}\" not in edges_1:\n",
    "        edges_1.append(f\"{expr.T.columns[i]}_{expr.T.columns[j]}\")\n",
    "        edge_list.append((expr.T.columns[i], expr.T.columns[j]))\n",
    "        edge_weights.append(sim)\n",
    "    "
   ]
  },
  {
   "cell_type": "code",
   "execution_count": 27,
   "metadata": {
    "colab": {
     "base_uri": "https://localhost:8080/"
    },
    "executionInfo": {
     "elapsed": 2,
     "status": "ok",
     "timestamp": 1726491393475,
     "user": {
      "displayName": "Ugo Lomoio",
      "userId": "00301874906270436685"
     },
     "user_tz": -120
    },
    "id": "oc-1co7Alxow",
    "outputId": "531df576-2f1a-4f2f-c358-e826a1925007"
   },
   "outputs": [
    {
     "data": {
      "text/plain": [
       "88"
      ]
     },
     "execution_count": 27,
     "metadata": {},
     "output_type": "execute_result"
    }
   ],
   "source": [
    "len(edges_1)"
   ]
  },
  {
   "cell_type": "code",
   "execution_count": 28,
   "metadata": {
    "colab": {
     "base_uri": "https://localhost:8080/"
    },
    "executionInfo": {
     "elapsed": 379,
     "status": "ok",
     "timestamp": 1726491397715,
     "user": {
      "displayName": "Ugo Lomoio",
      "userId": "00301874906270436685"
     },
     "user_tz": -120
    },
    "id": "pr3W_wiXlFB_",
    "outputId": "5a0238de-9193-4ce1-c3ec-fa37ef802b33"
   },
   "outputs": [
    {
     "name": "stdout",
     "output_type": "stream",
     "text": [
      "Node Mapping: {'GSM928410': 0, 'GSM928411': 1, 'GSM928412': 2, 'GSM928413': 3, 'GSM928414': 4, 'GSM928415': 5, 'GSM928416': 6, 'GSM928417': 7, 'GSM928418': 8, 'GSM928419': 9, 'GSM928423': 10, 'GSM928424': 11, 'GSM928425': 12, 'GSM928427': 13, 'GSM928420': 14, 'GSM928421': 15, 'GSM928422': 16, 'GSM928426': 17, 'GSM928429': 18, 'GSM928431': 19, 'GSM928428': 20, 'GSM928430': 21, 'GSM928432': 22, 'GSM928433': 23}\n",
      "Edge Index Tensor:\n",
      "tensor([[ 0,  0,  0,  0,  0,  0,  1,  1,  1,  1,  1,  1,  2,  2,  2,  2,  2,  2,\n",
      "          3,  3,  3,  3,  3,  3,  4,  4,  4,  4,  4,  4,  5,  5,  5,  5,  5,  5,\n",
      "          6,  7,  8,  9,  9,  9,  9,  9, 14, 15, 16, 16, 16, 16, 16, 10, 10, 10,\n",
      "         10, 10, 11, 11, 11, 11, 12, 12, 12, 12, 12, 12, 17, 17, 17, 13, 13, 13,\n",
      "         13, 13, 13, 20, 20, 18, 18, 18, 18, 21, 19, 19, 19, 19, 22, 23],\n",
      "        [ 0,  1,  2,  3,  4,  5,  0,  1,  2,  3,  4,  5,  0,  1,  2,  3,  4,  5,\n",
      "          0,  1,  2,  3,  4,  5,  0,  1,  2,  3,  4,  5,  0,  1,  2,  3,  4,  5,\n",
      "          6,  7,  8,  9, 10, 11, 12, 13, 14, 15, 16, 10, 17, 18, 19,  9, 16, 10,\n",
      "         12, 13,  9, 11, 12, 13,  9, 10, 11, 12, 13, 18, 16, 17, 19,  9, 10, 11,\n",
      "         12, 13, 18, 20, 19, 16, 12, 13, 18, 21, 16, 17, 20, 19, 22, 23]])\n"
     ]
    }
   ],
   "source": [
    "# Parse the edges and create node mapping\n",
    "source_nodes, target_nodes, node_mapping = parse_edges(edges_1)\n",
    "\n",
    "# Print node mapping for reference\n",
    "print(\"Node Mapping:\", node_mapping)\n",
    "\n",
    "# Create edge_index tensor\n",
    "edge_index = create_edge_index(source_nodes, target_nodes)\n",
    "\n",
    "print(\"Edge Index Tensor:\")\n",
    "print(edge_index)"
   ]
  },
  {
   "cell_type": "code",
   "execution_count": 29,
   "metadata": {
    "colab": {
     "base_uri": "https://localhost:8080/"
    },
    "executionInfo": {
     "elapsed": 356,
     "status": "ok",
     "timestamp": 1726491403033,
     "user": {
      "displayName": "Ugo Lomoio",
      "userId": "00301874906270436685"
     },
     "user_tz": -120
    },
    "id": "3KDcgfLq_UW4",
    "outputId": "a994f1dc-8d81-40a2-c236-48d3276347ef"
   },
   "outputs": [
    {
     "data": {
      "text/plain": [
       "(24, 27551)"
      ]
     },
     "execution_count": 29,
     "metadata": {},
     "output_type": "execute_result"
    }
   ],
   "source": [
    "expr.values.shape"
   ]
  },
  {
   "cell_type": "code",
   "execution_count": 30,
   "metadata": {},
   "outputs": [
    {
     "data": {
      "text/plain": [
       "tensor([1.0000, 0.9747, 0.9752, 0.9596, 0.9494, 0.9742, 0.9747, 1.0000, 0.9925,\n",
       "        0.9737, 0.9682, 0.9925, 0.9752, 0.9925, 1.0000, 0.9709, 0.9668, 0.9921,\n",
       "        0.9596, 0.9737, 0.9709, 1.0000, 0.9539, 0.9694, 0.9494, 0.9682, 0.9668,\n",
       "        0.9539, 1.0000, 0.9673, 0.9742, 0.9925, 0.9921, 0.9694, 0.9673, 1.0000,\n",
       "        1.0000, 1.0000, 1.0000, 1.0000, 0.9314, 0.9302, 0.9351, 0.9490, 1.0000,\n",
       "        1.0000, 1.0000, 0.9310, 0.9218, 0.9277, 0.9351, 0.9314, 0.9310, 1.0000,\n",
       "        0.9239, 0.9349, 0.9302, 1.0000, 0.9216, 0.9249, 0.9351, 0.9239, 0.9216,\n",
       "        1.0000, 0.9419, 0.9330, 0.9218, 1.0000, 0.9327, 0.9490, 0.9349, 0.9249,\n",
       "        0.9419, 1.0000, 0.9260, 1.0000, 0.9201, 0.9277, 0.9330, 0.9260, 1.0000,\n",
       "        1.0000, 0.9351, 0.9327, 0.9201, 1.0000, 1.0000, 1.0000],\n",
       "       dtype=torch.float64)"
      ]
     },
     "execution_count": 30,
     "metadata": {},
     "output_type": "execute_result"
    }
   ],
   "source": [
    "edge_weights = torch.tensor(edge_weights)\n",
    "edge_weights"
   ]
  },
  {
   "cell_type": "code",
   "execution_count": 31,
   "metadata": {
    "colab": {
     "base_uri": "https://localhost:8080/"
    },
    "executionInfo": {
     "elapsed": 2,
     "status": "ok",
     "timestamp": 1726491403407,
     "user": {
      "displayName": "Ugo Lomoio",
      "userId": "00301874906270436685"
     },
     "user_tz": -120
    },
    "id": "v0hv97OCPIWU",
    "outputId": "48c01884-049c-439f-9c6f-8dee57cdb555"
   },
   "outputs": [
    {
     "data": {
      "text/plain": [
       "(torch.Size([24, 27551]), torch.Size([24]), torch.Size([2, 88]))"
      ]
     },
     "execution_count": 31,
     "metadata": {},
     "output_type": "execute_result"
    }
   ],
   "source": [
    "import pygod\n",
    "from pygod.utils import load_data\n",
    "\n",
    "x = torch.tensor(expr.values).to(device)\n",
    "y = torch.tensor(clinic.values).to(device).flatten()\n",
    "edge_index = edge_index.to(device)\n",
    "edge_weights = edge_weights.to(device)\n",
    "x.shape, y.shape, edge_index.shape"
   ]
  },
  {
   "cell_type": "code",
   "execution_count": 32,
   "metadata": {
    "executionInfo": {
     "elapsed": 1,
     "status": "ok",
     "timestamp": 1726491404789,
     "user": {
      "displayName": "Ugo Lomoio",
      "userId": "00301874906270436685"
     },
     "user_tz": -120
    },
    "id": "lPo4ve--bnKi"
   },
   "outputs": [],
   "source": [
    "def ensure_tensor(data, dtype):\n",
    "    if not isinstance(data, torch.Tensor):\n",
    "        data = torch.tensor(data, dtype=dtype)\n",
    "    elif data.dtype != dtype:\n",
    "        data = data.to(dtype)\n",
    "    return data"
   ]
  },
  {
   "cell_type": "code",
   "execution_count": 32,
   "metadata": {
    "colab": {
     "base_uri": "https://localhost:8080/"
    },
    "executionInfo": {
     "elapsed": 2,
     "status": "ok",
     "timestamp": 1726491405251,
     "user": {
      "displayName": "Ugo Lomoio",
      "userId": "00301874906270436685"
     },
     "user_tz": -120
    },
    "id": "Kho9RP7Db0wD",
    "outputId": "4aaabdcd-c1ba-4991-a768-ddbef5065005"
   },
   "outputs": [
    {
     "data": {
      "text/plain": [
       "tensor([[4.2296, 4.8021, 4.1456,  ..., 4.2563, 4.8218, 5.0056],\n",
       "        [4.1972, 4.8203, 4.1712,  ..., 4.3174, 4.5183, 4.3083],\n",
       "        [4.1315, 4.6408, 4.0758,  ..., 4.2419, 4.6804, 4.7810],\n",
       "        ...,\n",
       "        [4.2603, 4.6196, 4.1528,  ..., 4.1952, 4.6629, 4.7324],\n",
       "        [4.3019, 4.6804, 4.0996,  ..., 4.2827, 4.7398, 4.9293],\n",
       "        [4.3184, 4.1952, 4.2240,  ..., 4.3487, 4.5995, 4.6141]],\n",
       "       device='cuda:0')"
      ]
     },
     "execution_count": 32,
     "metadata": {},
     "output_type": "execute_result"
    }
   ],
   "source": [
    "x = ensure_tensor(x, dtype=torch.float)\n",
    "x"
   ]
  },
  {
   "cell_type": "code",
   "execution_count": 33,
   "metadata": {
    "colab": {
     "base_uri": "https://localhost:8080/"
    },
    "executionInfo": {
     "elapsed": 2,
     "status": "ok",
     "timestamp": 1726491406189,
     "user": {
      "displayName": "Ugo Lomoio",
      "userId": "00301874906270436685"
     },
     "user_tz": -120
    },
    "id": "ZQUl0fk5b3DO",
    "outputId": "e6bf6843-5d4a-47a8-a90a-826b811ac6aa"
   },
   "outputs": [
    {
     "data": {
      "text/plain": [
       "tensor([1, 1, 1, 1, 1, 1, 1, 1, 1, 1, 1, 1, 1, 1, 1, 1, 1, 1, 1, 1, 1, 1, 1, 1,\n",
       "        1, 1, 1, 1, 1, 1, 1, 1, 1, 1, 1, 1, 1, 1, 1, 1, 1, 1, 1, 1, 1, 1, 1, 1,\n",
       "        1, 1, 1, 1, 1, 1, 1, 1, 1, 1, 1, 1, 1, 1, 1, 1, 1, 1, 1, 1, 1, 1, 1, 1,\n",
       "        1, 1, 1, 1, 1, 1, 1, 1, 1, 1, 1, 1, 1, 1, 1, 1, 1, 1, 1, 1, 1, 1, 1, 1,\n",
       "        1, 1, 1, 1, 1, 1, 1, 1, 1, 1, 1, 1, 1, 1, 0, 0, 0, 0, 0, 0, 0, 0, 0, 0,\n",
       "        0, 0, 0, 0, 0, 0, 0, 0, 0, 0, 0, 0], device='cuda:0')"
      ]
     },
     "execution_count": 33,
     "metadata": {},
     "output_type": "execute_result"
    }
   ],
   "source": [
    "y = ensure_tensor(y, dtype=torch.long)\n",
    "y"
   ]
  },
  {
   "cell_type": "code",
   "execution_count": 34,
   "metadata": {
    "colab": {
     "base_uri": "https://localhost:8080/"
    },
    "executionInfo": {
     "elapsed": 2,
     "status": "ok",
     "timestamp": 1726491406622,
     "user": {
      "displayName": "Ugo Lomoio",
      "userId": "00301874906270436685"
     },
     "user_tz": -120
    },
    "id": "GNUdF7dCb8RQ",
    "outputId": "b30eff9c-1446-4221-aad3-4fe4e6cae522"
   },
   "outputs": [
    {
     "data": {
      "text/plain": [
       "tensor([[  0,   0,   0,  ..., 119, 119, 119],\n",
       "        [  0,   1,   2,  ..., 117, 118, 119]], device='cuda:0')"
      ]
     },
     "execution_count": 34,
     "metadata": {},
     "output_type": "execute_result"
    }
   ],
   "source": [
    "edge_index = ensure_tensor(edge_index, dtype=torch.long)\n",
    "edge_index"
   ]
  },
  {
   "cell_type": "code",
   "execution_count": 35,
   "metadata": {
    "colab": {
     "base_uri": "https://localhost:8080/"
    },
    "executionInfo": {
     "elapsed": 2,
     "status": "ok",
     "timestamp": 1726491407678,
     "user": {
      "displayName": "Ugo Lomoio",
      "userId": "00301874906270436685"
     },
     "user_tz": -120
    },
    "id": "QtwEgWnCl6Xj",
    "outputId": "1b04e7a2-9328-47bb-b0dd-43b870e2511f"
   },
   "outputs": [
    {
     "data": {
      "text/plain": [
       "Data(x=[132, 18981], edge_index=[2, 16096], y=[132])"
      ]
     },
     "execution_count": 35,
     "metadata": {},
     "output_type": "execute_result"
    }
   ],
   "source": [
    "from torch_geometric.data import Data\n",
    "\n",
    "data = Data(x=x, edge_index = edge_index, y = y)\n",
    "data"
   ]
  },
  {
   "cell_type": "code",
   "execution_count": 36,
   "metadata": {
    "colab": {
     "base_uri": "https://localhost:8080/"
    },
    "executionInfo": {
     "elapsed": 2,
     "status": "ok",
     "timestamp": 1726491408022,
     "user": {
      "displayName": "Ugo Lomoio",
      "userId": "00301874906270436685"
     },
     "user_tz": -120
    },
    "id": "UvXOGcC4gv_9",
    "outputId": "05f815c5-623a-4231-9e26-a40ef6a87ec2"
   },
   "outputs": [
    {
     "name": "stdout",
     "output_type": "stream",
     "text": [
      "edge_index: tensor([[  0,   0,   0,  ..., 119, 119, 119],\n",
      "        [  0,   1,   2,  ..., 117, 118, 119]], device='cuda:0')\n",
      "Max node index in edge_index: 131\n",
      "Min node index in edge_index: 0\n"
     ]
    }
   ],
   "source": [
    "print(\"edge_index:\", edge_index)\n",
    "print(f\"Max node index in edge_index: {edge_index.max()}\")\n",
    "print(f\"Min node index in edge_index: {edge_index.min()}\")\n",
    "\n",
    "# Check if any index is out of bounds\n",
    "if edge_index.max() >= 132 or edge_index.min() < 0:\n",
    "    raise ValueError(\"edge_index contains out-of-bounds indices\")"
   ]
  },
  {
   "cell_type": "code",
   "execution_count": 37,
   "metadata": {
    "executionInfo": {
     "elapsed": 1,
     "status": "ok",
     "timestamp": 1726491409272,
     "user": {
      "displayName": "Ugo Lomoio",
      "userId": "00301874906270436685"
     },
     "user_tz": -120
    },
    "id": "fs3FuDdbhHou"
   },
   "outputs": [],
   "source": [
    "# Check for NaNs and infinities\n",
    "assert not torch.isnan(x).any(), \"Found NaNs in x\"\n",
    "assert not torch.isnan(edge_index).any(), \"Found NaNs in edge_index\"\n",
    "assert not torch.isinf(edge_index).any(), \"Found Infs in edge_index\"\n",
    "assert not torch.isinf(x).any(), \"Found Infs in x\""
   ]
  },
  {
   "cell_type": "code",
   "execution_count": 38,
   "metadata": {},
   "outputs": [
    {
     "data": {
      "text/plain": [
       "tensor([1, 1, 1, 1, 1, 1, 1, 1, 1, 1, 1, 1, 1, 1, 1, 1, 1, 1, 1, 1, 1, 1, 1, 1,\n",
       "        1, 1, 1, 1, 1, 1, 1, 1, 1, 1, 1, 1, 1, 1, 1, 1, 1, 1, 1, 1, 1, 1, 1, 1,\n",
       "        1, 1, 1, 1, 1, 1, 1, 1, 1, 1, 1, 1, 1, 1, 1, 1, 1, 1, 1, 1, 1, 1, 1, 1,\n",
       "        1, 1, 1, 1, 1, 1, 1, 1, 1, 1, 1, 1, 1, 1, 1, 1, 1, 1, 1, 1, 1, 1, 1, 1,\n",
       "        1, 1, 1, 1, 1, 1, 1, 1, 1, 1, 1, 1, 1, 1, 0, 0, 0, 0, 0, 0, 0, 0, 0, 0,\n",
       "        0, 0, 0, 0, 0, 0, 0, 0, 0, 0, 0, 0], device='cuda:0')"
      ]
     },
     "execution_count": 38,
     "metadata": {},
     "output_type": "execute_result"
    }
   ],
   "source": [
    "data.y"
   ]
  },
  {
   "cell_type": "code",
   "execution_count": 39,
   "metadata": {
    "executionInfo": {
     "elapsed": 1,
     "status": "ok",
     "timestamp": 1726491409705,
     "user": {
      "displayName": "Ugo Lomoio",
      "userId": "00301874906270436685"
     },
     "user_tz": -120
    },
    "id": "M94VRmT0a63o"
   },
   "outputs": [],
   "source": [
    "import torch\n",
    "from sklearn.model_selection import train_test_split\n",
    "\n",
    "# Assuming `data.y` contains the labels\n",
    "num_nodes = data.num_nodes\n",
    "train_size = 0.6  # 60% for training\n",
    "\n",
    "\n",
    "\n",
    "# Create a boolean mask for training nodes\n",
    "indices = torch.arange(num_nodes)\n",
    "train_indices, test_indices = train_test_split(indices, train_size=train_size, stratify=data.y.cpu())\n",
    "\n",
    "\n",
    "train_mask = torch.zeros(num_nodes, dtype=torch.bool).to(device)\n",
    "test_mask = torch.zeros(num_nodes, dtype=torch.bool).to(device)\n",
    "train_mask[train_indices] = True\n",
    "test_mask[test_indices] = True\n",
    "\n",
    "data.train_mask = train_mask\n",
    "data.test_mask = test_mask"
   ]
  },
  {
   "cell_type": "code",
   "execution_count": 40,
   "metadata": {
    "colab": {
     "base_uri": "https://localhost:8080/"
    },
    "executionInfo": {
     "elapsed": 1,
     "status": "ok",
     "timestamp": 1726491410689,
     "user": {
      "displayName": "Ugo Lomoio",
      "userId": "00301874906270436685"
     },
     "user_tz": -120
    },
    "id": "wdRdj5HStajV",
    "outputId": "0167d3aa-2d02-46a7-8a8d-81a1aa07bf3b"
   },
   "outputs": [
    {
     "data": {
      "text/plain": [
       "tensor([1, 1, 1, 1, 1, 1, 1, 1, 1, 1, 1, 1, 1, 1, 1, 1, 1, 1, 1, 1, 1, 1, 1, 1,\n",
       "        1, 1, 1, 1, 1, 1, 1, 1, 1, 1, 1, 1, 1, 1, 1, 1, 1, 1, 1, 1, 1, 1, 1, 1,\n",
       "        1, 1, 1, 1, 1, 1, 1, 1, 1, 1, 1, 1, 1, 1, 1, 1, 1, 1, 0, 0, 0, 0, 0, 0,\n",
       "        0, 0, 0, 0, 0, 0, 0], device='cuda:0')"
      ]
     },
     "execution_count": 40,
     "metadata": {},
     "output_type": "execute_result"
    }
   ],
   "source": [
    "y[train_mask]"
   ]
  },
  {
   "cell_type": "code",
   "execution_count": 41,
   "metadata": {
    "colab": {
     "base_uri": "https://localhost:8080/"
    },
    "executionInfo": {
     "elapsed": 352,
     "status": "ok",
     "timestamp": 1726491411623,
     "user": {
      "displayName": "Ugo Lomoio",
      "userId": "00301874906270436685"
     },
     "user_tz": -120
    },
    "id": "xylIIByHtf9m",
    "outputId": "24c1fb38-ca37-4bcf-a1cb-5f21711de71d"
   },
   "outputs": [
    {
     "data": {
      "text/plain": [
       "tensor([1, 1, 1, 1, 1, 1, 1, 1, 1, 1, 1, 1, 1, 1, 1, 1, 1, 1, 1, 1, 1, 1, 1, 1,\n",
       "        1, 1, 1, 1, 1, 1, 1, 1, 1, 1, 1, 1, 1, 1, 1, 1, 1, 1, 1, 1, 0, 0, 0, 0,\n",
       "        0, 0, 0, 0, 0], device='cuda:0')"
      ]
     },
     "execution_count": 41,
     "metadata": {},
     "output_type": "execute_result"
    }
   ],
   "source": [
    "y[test_mask]"
   ]
  },
  {
   "cell_type": "code",
   "execution_count": 42,
   "metadata": {
    "executionInfo": {
     "elapsed": 1,
     "status": "ok",
     "timestamp": 1726491412068,
     "user": {
      "displayName": "Ugo Lomoio",
      "userId": "00301874906270436685"
     },
     "user_tz": -120
    },
    "id": "VWhnxeNhyxV9"
   },
   "outputs": [],
   "source": [
    "import pandas as pd\n",
    "import torch"
   ]
  }
 ],
 "metadata": {
  "accelerator": "GPU",
  "colab": {
   "gpuType": "T4",
   "provenance": []
  },
  "kernelspec": {
   "display_name": "adin",
   "language": "python",
   "name": "adin"
  },
  "language_info": {
   "codemirror_mode": {
    "name": "ipython",
    "version": 3
   },
   "file_extension": ".py",
   "mimetype": "text/x-python",
   "name": "python",
   "nbconvert_exporter": "python",
   "pygments_lexer": "ipython3",
   "version": "3.10.14"
  }
 },
 "nbformat": 4,
 "nbformat_minor": 4
}
